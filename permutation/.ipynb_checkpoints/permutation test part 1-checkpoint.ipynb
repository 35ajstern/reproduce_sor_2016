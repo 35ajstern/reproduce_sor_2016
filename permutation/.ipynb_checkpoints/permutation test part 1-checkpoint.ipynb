{
 "cells": [
  {
   "cell_type": "code",
   "execution_count": 141,
   "metadata": {
    "collapsed": false
   },
   "outputs": [],
   "source": [
    "from __future__ import division, generators, absolute_import, print_function\n",
    "\n",
    "import numpy as np\n",
    "import scipy.stats\n",
    "import pandas as pd\n",
    "from openpyxl import load_workbook\n",
    "import random\n",
    "data_dir = '../data/'"
   ]
  },
  {
   "cell_type": "markdown",
   "metadata": {},
   "source": [
    "# read data colony"
   ]
  },
  {
   "cell_type": "code",
   "execution_count": 324,
   "metadata": {
    "collapsed": true
   },
   "outputs": [],
   "source": [
    "# RTS colony data\n",
    "# code from Aaron\n",
    "\n",
    "DATA_DIR = '../data/'\n",
    "wb = load_workbook(DATA_DIR + 'Bishayee Colony Counts 10.27.97-3.8.01.xlsx') \n",
    "\n",
    "ws = wb.get_sheet_by_name('Sheet1')\n",
    "rts_colony = []\n",
    "\n",
    "for i in range(4, 1366):\n",
    "    for col in ['D','E','F']:\n",
    "        try:\n",
    "            rts_colony.append(float(ws[col + str(i)].value))\n",
    "        except:\n",
    "            pass"
   ]
  },
  {
   "cell_type": "code",
   "execution_count": 328,
   "metadata": {
    "collapsed": false
   },
   "outputs": [],
   "source": [
    "# other invectogators colony data\n",
    "# code from Aaron\n",
    "\n",
    "\n",
    "DATA_DIR = '../data/'\n",
    "wb = load_workbook(DATA_DIR + 'Other Investigators in Lab.Colony Counts.4.23.92-11.27.02.xlsx') \n",
    "\n",
    "ws = wb.get_sheet_by_name('Sheet1')\n",
    "inv_colony = []\n",
    "\n",
    "for i in range(3, 626):\n",
    "    for col in ['D','E','F']:\n",
    "        try:\n",
    "            inv_colony.append(float(ws[col + str(i)].value))\n",
    "        except:\n",
    "            pass"
   ]
  },
  {
   "cell_type": "code",
   "execution_count": 329,
   "metadata": {
    "collapsed": true
   },
   "outputs": [],
   "source": [
    "# other lab colony data\n",
    "# code from Aaron\n",
    "\n",
    "DATA_DIR = '../data/'\n",
    "wb = load_workbook(DATA_DIR + 'Outside Lab 3.Colony Counts.2.4.10-5.21.12.xlsx') \n",
    "\n",
    "ws = wb.get_sheet_by_name('Sheet1')\n",
    "lab_colony = []\n",
    "\n",
    "for i in range(3, 53):\n",
    "    for col in ['B','C','D']:\n",
    "        try:\n",
    "            lab_colony.append(float(ws[col + str(i)].value))\n",
    "        except:\n",
    "            pass"
   ]
  },
  {
   "cell_type": "markdown",
   "metadata": {},
   "source": [
    "# read data coulter"
   ]
  },
  {
   "cell_type": "code",
   "execution_count": 261,
   "metadata": {
    "collapsed": false
   },
   "outputs": [],
   "source": [
    "# RTS coulter data\n",
    "# code from Aaron\n",
    "\n",
    "DATA_DIR = '../data/'\n",
    "wb = load_workbook(DATA_DIR + 'Bishayee Coulter Counts.10.20.97-7.16.01.xlsx') \n",
    "\n",
    "ws = wb.get_sheet_by_name('Sheet1')\n",
    "rts_coulter = []\n",
    "\n",
    "for i in range(3, 1732):\n",
    "    for col in ['C','D','E']:\n",
    "        try:\n",
    "            rts_coulter.append(float(ws[col + str(i)].value))\n",
    "        except:\n",
    "            pass"
   ]
  },
  {
   "cell_type": "code",
   "execution_count": 262,
   "metadata": {
    "collapsed": false
   },
   "outputs": [],
   "source": [
    "# other investigator coulter data\n",
    "# code from Aaron\n",
    "\n",
    "wb = load_workbook(DATA_DIR + 'Other Investigators in Lab.Coulter Counts.4.15.92-5.21.05.xlsx') \n",
    "\n",
    "ws = wb.get_sheet_by_name('Sheet1')\n",
    "inv_coulter = []\n",
    "\n",
    "for i in range(3, 1010):\n",
    "    for col in ['C','D','E']:\n",
    "        try:\n",
    "            inv_coulter.append(float(ws[col + str(i)].value))\n",
    "        except:\n",
    "            pass"
   ]
  },
  {
   "cell_type": "code",
   "execution_count": 263,
   "metadata": {
    "collapsed": true
   },
   "outputs": [],
   "source": [
    "# other lab coulter data\n",
    "# code from Aaron\n",
    "\n",
    "wb = load_workbook(DATA_DIR + 'Outside Lab 1.Coulter Counts.6.7.91-4.9.99.xlsx') \n",
    "\n",
    "ws = wb.get_sheet_by_name('Sheet1')\n",
    "lab_coulter = []\n",
    "\n",
    "for i in range(2, 111):\n",
    "    for col in ['B','C','D']:\n",
    "        try:\n",
    "            lab_coulter.append(float(ws[col + str(i)].value))\n",
    "        except:\n",
    "            pass"
   ]
  },
  {
   "cell_type": "markdown",
   "metadata": {},
   "source": [
    "# Permutation test - One versus all"
   ]
  },
  {
   "cell_type": "markdown",
   "metadata": {},
   "source": [
    "## terminal digit analysis"
   ]
  },
  {
   "cell_type": "markdown",
   "metadata": {},
   "source": [
    "Use Chi-squared distance / Total Variation Distance for the measure between distributions."
   ]
  },
  {
   "cell_type": "code",
   "execution_count": 330,
   "metadata": {
    "collapsed": true
   },
   "outputs": [],
   "source": [
    "rts_colony_terminal = [np.mod(i, 10) \n",
    "                       for i in rts_colony]\n",
    "lab_colony_terminal = [np.mod(i, 10) \n",
    "                       for i in lab_colony]\n",
    "inv_colony_terminal = [np.mod(i, 10) \n",
    "                       for i in inv_colony]"
   ]
  },
  {
   "cell_type": "code",
   "execution_count": 310,
   "metadata": {
    "collapsed": true
   },
   "outputs": [],
   "source": [
    "def calc_distance(group1, group2):\n",
    "    group1_obs = [group1.count(i)/len(group1) for i in range(10)]\n",
    "    group2_obs = [group2.count(i)/len(group2) for i in range(10)]\n",
    "    tvd_obs = 0.5*sum([abs(a_i - b_i) \n",
    "                       for a_i, b_i in zip(group1_obs, group2_obs)])\n",
    "    chi_sq_obs = 0.5*sum([abs(a_i - b_i)**2/(a_i + b_i) \n",
    "                          for a_i, b_i in zip(group1_obs, group2_obs)])\n",
    "    return tvd_obs, chi_sq_obs"
   ]
  },
  {
   "cell_type": "code",
   "execution_count": 313,
   "metadata": {
    "collapsed": true
   },
   "outputs": [],
   "source": [
    "def terminal_permutation(group1, group2, replication):\n",
    "    tvd = []\n",
    "    chi_sq = []\n",
    "    for i in np.arange(replication):\n",
    "        shuffled = random.sample(group1 + group2, \n",
    "                                 len(group1 + group2))\n",
    "        tvd_shuffled, chi_sq_shuffled = calc_distance(shuffled[:len(group1)], \n",
    "                                                      shuffled[len(group1):])\n",
    "        tvd.append(tvd_shuffled)\n",
    "        chi_sq.append(chi_sq_shuffled)\n",
    "    return tvd, chi_sq"
   ]
  },
  {
   "cell_type": "markdown",
   "metadata": {},
   "source": [
    "permutation between RTS and other indivaduals"
   ]
  },
  {
   "cell_type": "code",
   "execution_count": 331,
   "metadata": {
    "collapsed": false
   },
   "outputs": [
    {
     "name": "stdout",
     "output_type": "stream",
     "text": [
      "tvd_obs 0.09260466984966408\n",
      "chi_sq_obs 0.011145925839597975\n"
     ]
    }
   ],
   "source": [
    "tvd_obs, chi_sq_obs = calc_distance(rts_colony_terminal, \n",
    "                                    inv_colony_terminal)\n",
    "print(\"tvd_obs\", tvd_obs)\n",
    "print(\"chi_sq_obs\", chi_sq_obs)"
   ]
  },
  {
   "cell_type": "code",
   "execution_count": 332,
   "metadata": {
    "collapsed": false
   },
   "outputs": [],
   "source": [
    "tvd, chi_sq = terminal_permutation(rts_colony_terminal, \n",
    "                                   inv_colony_terminal, \n",
    "                                   replication = 10000)"
   ]
  },
  {
   "cell_type": "code",
   "execution_count": 333,
   "metadata": {
    "collapsed": false
   },
   "outputs": [
    {
     "name": "stdout",
     "output_type": "stream",
     "text": [
      "tvd p-value:  0.0\n",
      "chi square p-value:  0.0\n"
     ]
    }
   ],
   "source": [
    "tvd_p_value = sum(np.array(tvd) > tvd_obs) / REPLICATION\n",
    "chi_sq_p_value = sum(np.array(chi_sq) > chi_sq_obs) / REPLICATION\n",
    "print(\"tvd p-value: \", tvd_p_value)\n",
    "print(\"chi square p-value: \", chi_sq_p_value)"
   ]
  },
  {
   "cell_type": "markdown",
   "metadata": {},
   "source": [
    "permutation between other lab and other indivaduals"
   ]
  },
  {
   "cell_type": "code",
   "execution_count": 334,
   "metadata": {
    "collapsed": false
   },
   "outputs": [
    {
     "name": "stdout",
     "output_type": "stream",
     "text": [
      "tvd_obs 0.12830243547800801\n",
      "chi_sq_obs 0.020362015799805375\n"
     ]
    }
   ],
   "source": [
    "tvd_obs, chi_sq_obs = calc_distance(inv_colony_terminal, \n",
    "                                    lab_colony_terminal)\n",
    "print(\"tvd_obs\", tvd_obs)\n",
    "print(\"chi_sq_obs\", chi_sq_obs)"
   ]
  },
  {
   "cell_type": "code",
   "execution_count": 335,
   "metadata": {
    "collapsed": true
   },
   "outputs": [],
   "source": [
    "tvd, chi_sq = terminal_permutation(inv_colony_terminal, \n",
    "                                   lab_colony_terminal, \n",
    "                                   replication = 10000)"
   ]
  },
  {
   "cell_type": "code",
   "execution_count": 336,
   "metadata": {
    "collapsed": false
   },
   "outputs": [
    {
     "name": "stdout",
     "output_type": "stream",
     "text": [
      "tvd p-value:  0.1419\n",
      "chi square p-value:  0.2685\n"
     ]
    }
   ],
   "source": [
    "tvd_p_value = sum(np.array(tvd) > tvd_obs) / REPLICATION\n",
    "chi_sq_p_value = sum(np.array(chi_sq) > chi_sq_obs) / REPLICATION\n",
    "print(\"tvd p-value: \", tvd_p_value)\n",
    "print(\"chi square p-value: \", chi_sq_p_value)"
   ]
  },
  {
   "cell_type": "markdown",
   "metadata": {},
   "source": [
    "## Equal digit analysis"
   ]
  },
  {
   "cell_type": "code",
   "execution_count": 275,
   "metadata": {
    "collapsed": false
   },
   "outputs": [],
   "source": [
    "def is_equal_digit(vec):\n",
    "    vec = [i for i in vec if i >= 100]\n",
    "    return [(count - count % 10)/10 % 10  == count % 10 for count in vec]"
   ]
  },
  {
   "cell_type": "code",
   "execution_count": 280,
   "metadata": {
    "collapsed": true
   },
   "outputs": [],
   "source": [
    "def binomial_stat(group1, group2):\n",
    "    prop1 = sum(group1) / len(group1)\n",
    "    prop2 = sum(group2) / len(group2)\n",
    "    return abs(prop1 - prop2) / np.sqrt(prop1*(1-prop1) / len(group1) + prop2*(1-prop2) / len(group2))"
   ]
  },
  {
   "cell_type": "code",
   "execution_count": 293,
   "metadata": {
    "collapsed": true
   },
   "outputs": [],
   "source": [
    "def binomial_permutation(group1, group2, replication):\n",
    "    stats = []\n",
    "    for i in np.arange(replication):\n",
    "        shuffled = random.sample(group1 + group2, \n",
    "                                 len(group1 + group2))\n",
    "        stat_shuffled = binomial_stat(shuffled[:len(group1)], shuffled[len(group1):])\n",
    "        stats.append(stat_shuffled)\n",
    "    return stats"
   ]
  },
  {
   "cell_type": "code",
   "execution_count": 276,
   "metadata": {
    "collapsed": false
   },
   "outputs": [],
   "source": [
    "rts_coulter_equal = is_equal_digit(rts_coulter)\n",
    "inv_coulter_equal = is_equal_digit(inv_coulter)\n",
    "lab_coulter_equal = is_equal_digit(lab_coulter)"
   ]
  },
  {
   "cell_type": "code",
   "execution_count": 296,
   "metadata": {
    "collapsed": false
   },
   "outputs": [],
   "source": [
    "# permutation between RTS and other indivaduals\n",
    "equal_digit_obs = binomial_stat(rts_coulter_equal, \n",
    "                                inv_coulter_equal)\n",
    "equal_digit_permute = binomial_permutation(rts_coulter_equal, \n",
    "                                           inv_coulter_equal, \n",
    "                                           replication = 10000)"
   ]
  },
  {
   "cell_type": "code",
   "execution_count": 298,
   "metadata": {
    "collapsed": false
   },
   "outputs": [
    {
     "data": {
      "text/plain": [
       "0.00040000000000000002"
      ]
     },
     "execution_count": 298,
     "metadata": {},
     "output_type": "execute_result"
    }
   ],
   "source": [
    "# pvalue of permutation test between RTS and other indivaduals\n",
    "rts_inv_p_value = sum(np.array(equal_digit_permute) > equal_digit_obs) / replication\n",
    "rts_inv_p_value"
   ]
  },
  {
   "cell_type": "code",
   "execution_count": 301,
   "metadata": {
    "collapsed": true
   },
   "outputs": [],
   "source": [
    "# permutation between other indivaduals and other labs\n",
    "equal_digit_obs = binomial_stat(inv_coulter_equal, \n",
    "                                lab_coulter_equal)\n",
    "equal_digit_permute = binomial_permutation(inv_coulter_equal, \n",
    "                                           lab_coulter_equal, \n",
    "                                           replication = 10000)"
   ]
  },
  {
   "cell_type": "code",
   "execution_count": 302,
   "metadata": {
    "collapsed": false
   },
   "outputs": [
    {
     "data": {
      "text/plain": [
       "0.76939999999999997"
      ]
     },
     "execution_count": 302,
     "metadata": {},
     "output_type": "execute_result"
    }
   ],
   "source": [
    "# pvalue of permutation test between other labs and other indivaduals\n",
    "inv_lab_p_value = sum(np.array(equal_digit_permute) > equal_digit_obs) / replication\n",
    "inv_lab_p_value"
   ]
  },
  {
   "cell_type": "code",
   "execution_count": null,
   "metadata": {
    "collapsed": true
   },
   "outputs": [],
   "source": []
  }
 ],
 "metadata": {
  "kernelspec": {
   "display_name": "Python 3",
   "language": "python",
   "name": "python3"
  },
  "language_info": {
   "codemirror_mode": {
    "name": "ipython",
    "version": 3
   },
   "file_extension": ".py",
   "mimetype": "text/x-python",
   "name": "python",
   "nbconvert_exporter": "python",
   "pygments_lexer": "ipython3",
   "version": "3.5.1"
  }
 },
 "nbformat": 4,
 "nbformat_minor": 1
}
