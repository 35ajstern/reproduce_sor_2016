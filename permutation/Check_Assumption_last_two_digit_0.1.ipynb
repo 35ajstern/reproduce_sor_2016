{
 "cells": [
  {
   "cell_type": "code",
   "execution_count": 1,
   "metadata": {
    "collapsed": true
   },
   "outputs": [],
   "source": [
    "from __future__ import division, generators, absolute_import, print_function\n",
    "import numpy as np\n",
    "from scipy.stats import binom\n",
    "from openpyxl import load_workbook"
   ]
  },
  {
   "cell_type": "markdown",
   "metadata": {},
   "source": [
    "## RTS Coulter v.s. Others Coulter\n",
    "### Check potentially wrong assumption about last two digit: proportion of certain pairs is near 0.1 \n",
    "#### specifically, we calculate the number among all high_digit (bigger than 2) numbers, that last digit is 1 smaller than 2-nd last digit,  i.e. x10, xx21, xx32, xx43, xx54, xx65, xx76, xx87, xx98, xx09"
   ]
  },
  {
   "cell_type": "code",
   "execution_count": 2,
   "metadata": {
    "collapsed": false
   },
   "outputs": [
    {
     "name": "stdout",
     "output_type": "stream",
     "text": [
      "E 542\n",
      "E 1252\n"
     ]
    }
   ],
   "source": [
    "DATA_DIR = '../data/'\n",
    "wb = load_workbook(DATA_DIR + 'Bishayee Coulter Counts.10.20.97-7.16.01.xlsx') \n",
    "\n",
    "ws = wb.get_sheet_by_name('Sheet1')\n",
    "rawData = []\n",
    "\n",
    "for i in range(3, 1732):\n",
    "    for col in ['C','D','E']:\n",
    "        try:\n",
    "            rawData.append(float(ws[col + str(i)].value))\n",
    "        except:\n",
    "            # if empty cell, report location in spreadsheet\n",
    "            print(col,i)"
   ]
  },
  {
   "cell_type": "code",
   "execution_count": 3,
   "metadata": {
    "collapsed": false
   },
   "outputs": [
    {
     "name": "stdout",
     "output_type": "stream",
     "text": [
      "5184\n",
      "560\n"
     ]
    }
   ],
   "source": [
    "# this calcualte the number of all high-digit (more than 3) numbers\n",
    "high_digit = [int(i) for i in rawData if i > 99]\n",
    "print(len(high_digit))\n",
    "# this calculate the number among all high_digit numbers, that last digit is 1 smaller than 2-nd last digit\n",
    "# i.e. x10, xx21, xx32, xx43, xx54, xx65, xx76, xx87, xx98, xx09\n",
    "interested_digit = [i for i in high_digit if int((i % 100) / 10) == ((i % 10 + 1) % 10)]\n",
    "print(len(interested_digit))"
   ]
  },
  {
   "cell_type": "code",
   "execution_count": 4,
   "metadata": {
    "collapsed": false
   },
   "outputs": [
    {
     "name": "stdout",
     "output_type": "stream",
     "text": [
      "proportion of such pairs in RTS Coulter\n",
      "0.10802469135802469\n",
      "p-values of such pairs in RTS Coulter\n",
      "0.0295641629338\n"
     ]
    }
   ],
   "source": [
    "print('proportion of such pairs in RTS Coulter')\n",
    "print(len(interested_digit)/len(high_digit))\n",
    "print('p-values of such pairs in RTS Coulter')\n",
    "print(1 - binom.cdf(k=len(interested_digit)-1, n=len(high_digit), p=0.1, loc=0))"
   ]
  },
  {
   "cell_type": "code",
   "execution_count": null,
   "metadata": {
    "collapsed": true
   },
   "outputs": [],
   "source": []
  },
  {
   "cell_type": "code",
   "execution_count": 5,
   "metadata": {
    "collapsed": false,
    "scrolled": true
   },
   "outputs": [
    {
     "name": "stdout",
     "output_type": "stream",
     "text": [
      "E 61\n",
      "E 62\n",
      "E 63\n",
      "E 64\n",
      "E 66\n",
      "E 67\n",
      "E 68\n",
      "E 69\n",
      "E 70\n",
      "E 71\n",
      "E 72\n",
      "E 73\n",
      "E 74\n",
      "E 75\n",
      "E 76\n",
      "E 77\n",
      "E 78\n",
      "E 79\n",
      "E 80\n",
      "E 81\n",
      "E 82\n",
      "E 83\n",
      "E 84\n",
      "E 85\n",
      "E 86\n",
      "E 87\n",
      "E 88\n",
      "E 99\n",
      "E 100\n",
      "E 101\n",
      "E 102\n",
      "E 103\n",
      "E 104\n",
      "E 105\n",
      "E 106\n",
      "E 107\n",
      "E 108\n",
      "E 109\n",
      "E 110\n",
      "E 111\n",
      "E 112\n",
      "E 113\n",
      "E 114\n",
      "E 115\n",
      "E 116\n",
      "E 117\n",
      "E 118\n",
      "E 133\n",
      "E 134\n",
      "E 135\n",
      "E 136\n",
      "E 137\n",
      "E 138\n",
      "E 314\n",
      "E 315\n",
      "E 316\n",
      "E 317\n",
      "E 318\n",
      "E 319\n",
      "E 323\n",
      "E 324\n",
      "E 325\n",
      "E 327\n",
      "E 463\n",
      "C 673\n",
      "E 696\n",
      "D 704\n",
      "E 704\n",
      "E 719\n",
      "E 724\n",
      "E 725\n",
      "E 726\n",
      "E 727\n",
      "E 728\n",
      "E 781\n",
      "E 814\n",
      "E 867\n",
      "E 970\n",
      "E 972\n"
     ]
    }
   ],
   "source": [
    "DATA_DIR = '../data/'\n",
    "wb = load_workbook(DATA_DIR + 'Other Investigators in Lab.Coulter Counts.4.15.92-5.21.05.xlsx') \n",
    "\n",
    "ws = wb.get_sheet_by_name('Sheet1')\n",
    "rawData = []\n",
    "\n",
    "for i in range(3, 1010):\n",
    "    for col in ['C','D','E']:\n",
    "        try:\n",
    "            rawData.append(float(ws[col + str(i)].value))\n",
    "        except:\n",
    "            # if empty cell, report location in spreadsheet\n",
    "            print(col,i)"
   ]
  },
  {
   "cell_type": "code",
   "execution_count": 6,
   "metadata": {
    "collapsed": false
   },
   "outputs": [
    {
     "name": "stdout",
     "output_type": "stream",
     "text": [
      "2887\n",
      "333\n"
     ]
    }
   ],
   "source": [
    "# this calcualte the number of all high-digit (more than 3) numbers\n",
    "high_digit = [int(i) for i in rawData if i > 99]\n",
    "print(len(high_digit))\n",
    "# this calculate the number among all high_digit numbers, that last digit is 1 smaller than 2-nd last digit\n",
    "# i.e. x10, xx21, xx32, xx43, xx54, xx65, xx76, xx87, xx98, xx09\n",
    "interested_digit = [i for i in high_digit if int((i % 100) / 10) == ((i % 10 + 1) % 10)]\n",
    "print(len(interested_digit))"
   ]
  },
  {
   "cell_type": "code",
   "execution_count": 7,
   "metadata": {
    "collapsed": false
   },
   "outputs": [
    {
     "name": "stdout",
     "output_type": "stream",
     "text": [
      "proportion of such pairs in Others Coulter\n",
      "0.11534464842396952\n",
      "p-values of such pairs in Others Coulter\n",
      "0.00381629191998\n"
     ]
    }
   ],
   "source": [
    "print('proportion of such pairs in Others Coulter')\n",
    "print(len(interested_digit)/len(high_digit))\n",
    "print('p-values of such pairs in Others Coulter')\n",
    "print(1 - binom.cdf(k=len(interested_digit)-1, n=len(high_digit), p=0.1, loc=0))"
   ]
  },
  {
   "cell_type": "code",
   "execution_count": null,
   "metadata": {
    "collapsed": true
   },
   "outputs": [],
   "source": []
  },
  {
   "cell_type": "markdown",
   "metadata": {},
   "source": [
    "## RTS Colony v.s. Others Colony\n",
    "### Potentially wrong assumption about last two digit: proportion of certain pairs is near 0.1 \n",
    "#### specifically, we calculate the number among all high_digit (bigger than 2) numbers, that last digit is 1 smaller than 2-nd last digit,  i.e. x10, xx21, xx32, xx43, xx54, xx65, xx76, xx87, xx98, xx09"
   ]
  },
  {
   "cell_type": "code",
   "execution_count": 8,
   "metadata": {
    "collapsed": false
   },
   "outputs": [
    {
     "name": "stdout",
     "output_type": "stream",
     "text": [
      "F 23\n"
     ]
    }
   ],
   "source": [
    "DATA_DIR = '../data/'\n",
    "wb = load_workbook(DATA_DIR + 'Bishayee Colony Counts 10.27.97-3.8.01.xlsx') \n",
    "ws = wb.get_sheet_by_name('Sheet1')\n",
    "rawData = []\n",
    "\n",
    "for i in range(4, 1366):\n",
    "    for col in ['D','E','F']:\n",
    "        try:\n",
    "            rawData.append(float(ws[col + str(i)].value))\n",
    "        except:\n",
    "            # if empty cell, report location in spreadsheet\n",
    "            print(col,i)"
   ]
  },
  {
   "cell_type": "code",
   "execution_count": 9,
   "metadata": {
    "collapsed": false
   },
   "outputs": [
    {
     "name": "stdout",
     "output_type": "stream",
     "text": [
      "1660\n",
      "166\n"
     ]
    }
   ],
   "source": [
    "# this calcualte the number of all high-digit (more than 3) numbers\n",
    "high_digit = [int(i) for i in rawData if i > 99]\n",
    "print(len(high_digit))\n",
    "# this calculate the number among all high_digit numbers, that last digit is 1 smaller than 2-nd last digit\n",
    "# i.e. x10, xx21, xx32, xx43, xx54, xx65, xx76, xx87, xx98, xx09\n",
    "interested_digit = [i for i in high_digit if int((i % 100) / 10) == ((i % 10 + 1) % 10)]\n",
    "print(len(interested_digit))"
   ]
  },
  {
   "cell_type": "code",
   "execution_count": 10,
   "metadata": {
    "collapsed": false
   },
   "outputs": [
    {
     "name": "stdout",
     "output_type": "stream",
     "text": [
      "proportion of such pairs in RTS Colony\n",
      "0.1\n",
      "p-values of such pairs in RTS Colony\n",
      "0.51196690866\n"
     ]
    }
   ],
   "source": [
    "print('proportion of such pairs in RTS Colony')\n",
    "print(len(interested_digit)/len(high_digit))\n",
    "print('p-values of such pairs in RTS Colony')\n",
    "print(1 - binom.cdf(k=len(interested_digit)-1, n=len(high_digit), p=0.1, loc=0))"
   ]
  },
  {
   "cell_type": "code",
   "execution_count": null,
   "metadata": {
    "collapsed": true
   },
   "outputs": [],
   "source": []
  },
  {
   "cell_type": "code",
   "execution_count": 11,
   "metadata": {
    "collapsed": false,
    "scrolled": true
   },
   "outputs": [
    {
     "name": "stdout",
     "output_type": "stream",
     "text": [
      "F 32\n",
      "F 35\n",
      "F 37\n",
      "F 38\n",
      "F 39\n",
      "F 41\n",
      "F 241\n",
      "E 270\n",
      "F 270\n",
      "F 308\n",
      "F 363\n",
      "F 428\n",
      "F 429\n",
      "F 431\n",
      "F 439\n",
      "F 506\n",
      "F 507\n",
      "E 517\n",
      "F 534\n",
      "F 555\n",
      "F 569\n",
      "E 576\n",
      "F 576\n",
      "E 599\n",
      "F 599\n",
      "E 600\n",
      "F 600\n",
      "E 601\n",
      "F 601\n",
      "D 624\n",
      "E 624\n",
      "F 624\n",
      "D 625\n",
      "E 625\n",
      "F 625\n"
     ]
    }
   ],
   "source": [
    "DATA_DIR = '../data/'\n",
    "wb = load_workbook(DATA_DIR + 'Other Investigators in Lab.Colony Counts.4.23.92-11.27.02.xlsx') \n",
    "\n",
    "ws = wb.get_sheet_by_name('Sheet1')\n",
    "rawData = []\n",
    "\n",
    "for i in range(3, 626):\n",
    "    for col in ['D','E','F']:\n",
    "        try:\n",
    "            rawData.append(float(ws[col + str(i)].value))\n",
    "        except:\n",
    "            # if empty cell, report location in spreadsheet\n",
    "            print(col,i)"
   ]
  },
  {
   "cell_type": "code",
   "execution_count": 12,
   "metadata": {
    "collapsed": false
   },
   "outputs": [
    {
     "name": "stdout",
     "output_type": "stream",
     "text": [
      "507\n",
      "49\n"
     ]
    }
   ],
   "source": [
    "# this calcualte the number of all high-digit (more than 3) numbers\n",
    "high_digit = [int(i) for i in rawData if i > 99]\n",
    "print(len(high_digit))\n",
    "# this calculate the number among all high_digit numbers, that last digit is 1 smaller than 2-nd last digit\n",
    "# i.e. x10, xx21, xx32, xx43, xx54, xx65, xx76, xx87, xx98, xx09\n",
    "interested_digit = [i for i in high_digit if int((i % 100) / 10) == ((i % 10 + 1) % 10)]\n",
    "print(len(interested_digit))"
   ]
  },
  {
   "cell_type": "code",
   "execution_count": 13,
   "metadata": {
    "collapsed": false
   },
   "outputs": [
    {
     "name": "stdout",
     "output_type": "stream",
     "text": [
      "proportion of such pairs in Others Colony\n",
      "0.09664694280078895\n",
      "p-values of such pairs in Others Colony\n",
      "0.620899219288\n"
     ]
    }
   ],
   "source": [
    "print('proportion of such pairs in Others Colony')\n",
    "print(len(interested_digit)/len(high_digit))\n",
    "print('p-values of such pairs in Others Colony')\n",
    "print(1 - binom.cdf(k=len(interested_digit)-1, n=len(high_digit), p=0.1, loc=0))"
   ]
  },
  {
   "cell_type": "code",
   "execution_count": null,
   "metadata": {
    "collapsed": true
   },
   "outputs": [],
   "source": []
  }
 ],
 "metadata": {
  "kernelspec": {
   "display_name": "Python 3",
   "language": "python",
   "name": "python3"
  },
  "language_info": {
   "codemirror_mode": {
    "name": "ipython",
    "version": 3
   },
   "file_extension": ".py",
   "mimetype": "text/x-python",
   "name": "python",
   "nbconvert_exporter": "python",
   "pygments_lexer": "ipython3",
   "version": "3.5.1"
  }
 },
 "nbformat": 4,
 "nbformat_minor": 0
}
