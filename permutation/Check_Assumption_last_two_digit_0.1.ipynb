{
 "cells": [
  {
   "cell_type": "code",
   "execution_count": 17,
   "metadata": {
    "collapsed": true
   },
   "outputs": [],
   "source": [
    "from __future__ import division, generators, absolute_import, print_function\n",
    "import numpy as np"
   ]
  },
  {
   "cell_type": "markdown",
   "metadata": {},
   "source": [
    "# RTS Coulter"
   ]
  },
  {
   "cell_type": "code",
   "execution_count": 40,
   "metadata": {
    "collapsed": false
   },
   "outputs": [
    {
     "name": "stdout",
     "output_type": "stream",
     "text": [
      "['Sheet1']\n",
      "Bishayee Coulters\n",
      "566\n",
      "[681, 669, 689]\n"
     ]
    }
   ],
   "source": [
    "from openpyxl import load_workbook\n",
    "data_dir = '../data/'\n",
    "wb = load_workbook(data_dir + 'Bishayee Coulter Counts.10.20.97-7.16.01.xlsx') \n",
    "print(wb.get_sheet_names())\n",
    "ws = wb.get_sheet_by_name('Sheet1')\n",
    "print(ws['A1'].value)\n",
    "rawData = []\n",
    "for i in range(3, 1732):\n",
    "    tmp = [ws['D' + str(i)].value, ws['E' + str(i)].value, ws['F' + str(i)].value]\n",
    "    if isinstance(tmp[0], (int, int)) & isinstance(tmp[1], (int, int)) & isinstance(tmp[2], (int, int)):\n",
    "        rawData.append(tmp)\n",
    "print(len(rawData))\n",
    "print(rawData[18])\n"
   ]
  },
  {
   "cell_type": "code",
   "execution_count": 35,
   "metadata": {
    "collapsed": false
   },
   "outputs": [],
   "source": [
    "three_digit_num = sum([sum(np.array(i)>99) for i in rawData])"
   ]
  },
  {
   "cell_type": "code",
   "execution_count": 47,
   "metadata": {
    "collapsed": false
   },
   "outputs": [],
   "source": [
    "three_digit = [j for i in rawData for j in i if j > 99]"
   ]
  },
  {
   "cell_type": "code",
   "execution_count": 48,
   "metadata": {
    "collapsed": false
   },
   "outputs": [
    {
     "data": {
      "text/plain": [
       "1698"
      ]
     },
     "execution_count": 48,
     "metadata": {},
     "output_type": "execute_result"
    }
   ],
   "source": [
    "len(three_digit)"
   ]
  },
  {
   "cell_type": "code",
   "execution_count": 51,
   "metadata": {
    "collapsed": false
   },
   "outputs": [
    {
     "data": {
      "text/plain": [
       "1698"
      ]
     },
     "execution_count": 51,
     "metadata": {},
     "output_type": "execute_result"
    }
   ],
   "source": [
    "len([j for i in rawData for j in i])"
   ]
  },
  {
   "cell_type": "markdown",
   "metadata": {},
   "source": [
    "## RTS Coulter v.s. Others Coulter, potentially wrong assumption about last two digit near 0.1 "
   ]
  },
  {
   "cell_type": "code",
   "execution_count": 91,
   "metadata": {
    "collapsed": false
   },
   "outputs": [
    {
     "name": "stdout",
     "output_type": "stream",
     "text": [
      "E 542\n",
      "E 1252\n"
     ]
    }
   ],
   "source": [
    "DATA_DIR = '../data/'\n",
    "wb = load_workbook(DATA_DIR + 'Bishayee Coulter Counts.10.20.97-7.16.01.xlsx') \n",
    "\n",
    "ws = wb.get_sheet_by_name('Sheet1')\n",
    "rawData = []\n",
    "\n",
    "for i in range(3, 1732):\n",
    "    for col in ['C','D','E']:\n",
    "        try:\n",
    "            rawData.append(float(ws[col + str(i)].value))\n",
    "        except:\n",
    "            # if empty cell, report location in spreadsheet\n",
    "            print(col,i)"
   ]
  },
  {
   "cell_type": "code",
   "execution_count": 92,
   "metadata": {
    "collapsed": false
   },
   "outputs": [
    {
     "data": {
      "text/plain": [
       "5184"
      ]
     },
     "execution_count": 92,
     "metadata": {},
     "output_type": "execute_result"
    }
   ],
   "source": [
    "three_digit = [int(i) for i in rawData if i > 99]\n",
    "len(three_digit)"
   ]
  },
  {
   "cell_type": "code",
   "execution_count": 93,
   "metadata": {
    "collapsed": false
   },
   "outputs": [
    {
     "data": {
      "text/plain": [
       "560"
      ]
     },
     "execution_count": 93,
     "metadata": {},
     "output_type": "execute_result"
    }
   ],
   "source": [
    "equal_digit = [i for i in three_digit if int((i % 100) / 10) == ((i % 10 + 1) % 10)]\n",
    "len(equal_digit)"
   ]
  },
  {
   "cell_type": "code",
   "execution_count": 94,
   "metadata": {
    "collapsed": false
   },
   "outputs": [
    {
     "data": {
      "text/plain": [
       "0.10802469135802469"
      ]
     },
     "execution_count": 94,
     "metadata": {},
     "output_type": "execute_result"
    }
   ],
   "source": [
    "560/5184"
   ]
  },
  {
   "cell_type": "code",
   "execution_count": null,
   "metadata": {
    "collapsed": true
   },
   "outputs": [],
   "source": []
  },
  {
   "cell_type": "code",
   "execution_count": 81,
   "metadata": {
    "collapsed": false,
    "scrolled": true
   },
   "outputs": [
    {
     "name": "stdout",
     "output_type": "stream",
     "text": [
      "E 61\n",
      "E 62\n",
      "E 63\n",
      "E 64\n",
      "E 66\n",
      "E 67\n",
      "E 68\n",
      "E 69\n",
      "E 70\n",
      "E 71\n",
      "E 72\n",
      "E 73\n",
      "E 74\n",
      "E 75\n",
      "E 76\n",
      "E 77\n",
      "E 78\n",
      "E 79\n",
      "E 80\n",
      "E 81\n",
      "E 82\n",
      "E 83\n",
      "E 84\n",
      "E 85\n",
      "E 86\n",
      "E 87\n",
      "E 88\n",
      "E 99\n",
      "E 100\n",
      "E 101\n",
      "E 102\n",
      "E 103\n",
      "E 104\n",
      "E 105\n",
      "E 106\n",
      "E 107\n",
      "E 108\n",
      "E 109\n",
      "E 110\n",
      "E 111\n",
      "E 112\n",
      "E 113\n",
      "E 114\n",
      "E 115\n",
      "E 116\n",
      "E 117\n",
      "E 118\n",
      "E 133\n",
      "E 134\n",
      "E 135\n",
      "E 136\n",
      "E 137\n",
      "E 138\n",
      "E 314\n",
      "E 315\n",
      "E 316\n",
      "E 317\n",
      "E 318\n",
      "E 319\n",
      "E 323\n",
      "E 324\n",
      "E 325\n",
      "E 327\n",
      "E 463\n",
      "C 673\n",
      "E 696\n",
      "D 704\n",
      "E 704\n",
      "E 719\n",
      "E 724\n",
      "E 725\n",
      "E 726\n",
      "E 727\n",
      "E 728\n",
      "E 781\n",
      "E 814\n",
      "E 867\n",
      "E 970\n",
      "E 972\n"
     ]
    }
   ],
   "source": [
    "DATA_DIR = '../data/'\n",
    "wb = load_workbook(DATA_DIR + 'Other Investigators in Lab.Coulter Counts.4.15.92-5.21.05.xlsx') \n",
    "\n",
    "ws = wb.get_sheet_by_name('Sheet1')\n",
    "rawData = []\n",
    "\n",
    "for i in range(3, 1010):\n",
    "    for col in ['C','D','E']:\n",
    "        try:\n",
    "            rawData.append(float(ws[col + str(i)].value))\n",
    "        except:\n",
    "            # if empty cell, report location in spreadsheet\n",
    "            print(col,i)"
   ]
  },
  {
   "cell_type": "code",
   "execution_count": 89,
   "metadata": {
    "collapsed": false
   },
   "outputs": [
    {
     "data": {
      "text/plain": [
       "2887"
      ]
     },
     "execution_count": 89,
     "metadata": {},
     "output_type": "execute_result"
    }
   ],
   "source": [
    "three_digit = [int(i) for i in rawData if i > 99]\n",
    "len(three_digit)"
   ]
  },
  {
   "cell_type": "code",
   "execution_count": 90,
   "metadata": {
    "collapsed": false
   },
   "outputs": [
    {
     "data": {
      "text/plain": [
       "333"
      ]
     },
     "execution_count": 90,
     "metadata": {},
     "output_type": "execute_result"
    }
   ],
   "source": [
    "equal_digit = [i for i in three_digit if int((i % 100) / 10) == ((i % 10 + 1) % 10)]\n",
    "len(equal_digit)"
   ]
  },
  {
   "cell_type": "code",
   "execution_count": 95,
   "metadata": {
    "collapsed": false
   },
   "outputs": [
    {
     "data": {
      "text/plain": [
       "0.11534464842396952"
      ]
     },
     "execution_count": 95,
     "metadata": {},
     "output_type": "execute_result"
    }
   ],
   "source": [
    "333/2887"
   ]
  },
  {
   "cell_type": "code",
   "execution_count": null,
   "metadata": {
    "collapsed": true
   },
   "outputs": [],
   "source": []
  }
 ],
 "metadata": {
  "kernelspec": {
   "display_name": "Python 3",
   "language": "python",
   "name": "python3"
  },
  "language_info": {
   "codemirror_mode": {
    "name": "ipython",
    "version": 3
   },
   "file_extension": ".py",
   "mimetype": "text/x-python",
   "name": "python",
   "nbconvert_exporter": "python",
   "pygments_lexer": "ipython3",
   "version": "3.5.1"
  }
 },
 "nbformat": 4,
 "nbformat_minor": 0
}
