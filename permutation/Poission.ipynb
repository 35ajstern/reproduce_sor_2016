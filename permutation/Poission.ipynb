{
 "cells": [
  {
   "cell_type": "markdown",
   "metadata": {},
   "source": [
    "# Poission distribution assumption?"
   ]
  },
  {
   "cell_type": "code",
   "execution_count": 221,
   "metadata": {
    "collapsed": true
   },
   "outputs": [],
   "source": [
    "import numpy as np\n",
    "from openpyxl import load_workbook\n",
    "import random"
   ]
  },
  {
   "cell_type": "code",
   "execution_count": 5,
   "metadata": {
    "collapsed": false
   },
   "outputs": [
    {
     "name": "stdout",
     "output_type": "stream",
     "text": [
      "['Sheet1']\n",
      "Bishayee Colony Counts 128 experiments\n",
      "1361\n"
     ]
    }
   ],
   "source": [
    "data_dir = '../data/'\n",
    "wb = load_workbook(data_dir + 'Bishayee Colony Counts 10.27.97-3.8.01.xlsx') \n",
    "print(wb.get_sheet_names())\n",
    "ws = wb.get_sheet_by_name('Sheet1')\n",
    "print(ws['A1'].value)\n",
    "rawData = []\n",
    "for i in range(4, 1366):\n",
    "    tmp = [ws['D' + str(i)].value, ws['E' + str(i)].value, ws['F' + str(i)].value]\n",
    "    if isinstance(tmp[0], (int, int)) & isinstance(tmp[1], (int, int)) & isinstance(tmp[2], (int, int)):\n",
    "        rawData.append(tmp)\n",
    "print(len(rawData))"
   ]
  },
  {
   "cell_type": "code",
   "execution_count": 241,
   "metadata": {
    "collapsed": false
   },
   "outputs": [
    {
     "name": "stdout",
     "output_type": "stream",
     "text": [
      "['Sheet1']\n",
      "Others in Howell lab\n",
      "597\n"
     ]
    }
   ],
   "source": [
    "from openpyxl import load_workbook\n",
    "data_dir = '../data/'\n",
    "wb = load_workbook(data_dir + 'Other Investigators in Lab.Colony Counts.4.23.92-11.27.02.xlsx') \n",
    "print(wb.get_sheet_names())\n",
    "ws = wb.get_sheet_by_name('Sheet1')\n",
    "print(ws['A1'].value)\n",
    "inv_colony = []\n",
    "for i in range(3, 626):\n",
    "    tmp = [ws['D' + str(i)].value, ws['E' + str(i)].value, ws['F' + str(i)].value]\n",
    "    if isinstance(tmp[0], (int, int)) & isinstance(tmp[1], (int, int)) & isinstance(tmp[2], (int, int)):\n",
    "        inv_colony.append(tmp)\n",
    "print(len(inv_colony))"
   ]
  },
  {
   "cell_type": "code",
   "execution_count": null,
   "metadata": {
    "collapsed": true
   },
   "outputs": [],
   "source": []
  },
  {
   "cell_type": "code",
   "execution_count": 246,
   "metadata": {
    "collapsed": false
   },
   "outputs": [],
   "source": [
    "var_triple = [np.var(triple) for triple in rawData]\n",
    "mean_triple =  [np.mean(triple) for triple in rawData]\n",
    "sample_size = len(var_triple)"
   ]
  },
  {
   "cell_type": "code",
   "execution_count": 247,
   "metadata": {
    "collapsed": false
   },
   "outputs": [
    {
     "data": {
      "text/plain": [
       "0.19695270753034799"
      ]
     },
     "execution_count": 247,
     "metadata": {},
     "output_type": "execute_result"
    }
   ],
   "source": [
    "# correlation between mean and variance\n",
    "corr_obs = np.corrcoef(var_triple, mean_triple)[0][1]\n",
    "corr_obs"
   ]
  },
  {
   "cell_type": "code",
   "execution_count": null,
   "metadata": {
    "collapsed": true
   },
   "outputs": [],
   "source": []
  },
  {
   "cell_type": "code",
   "execution_count": 248,
   "metadata": {
    "collapsed": true
   },
   "outputs": [],
   "source": [
    "def simulate_corr(lams):\n",
    "    simu_triples = [np.random.poisson(lam=i, size=3).tolist() for i in lams]\n",
    "    var_triple = [np.var(triple) for triple in simu_triples]\n",
    "    mean_triple =  [np.mean(triple) for triple in simu_triples]\n",
    "    return np.corrcoef(var_triple, mean_triple)[0][1]"
   ]
  },
  {
   "cell_type": "code",
   "execution_count": 249,
   "metadata": {
    "collapsed": false
   },
   "outputs": [],
   "source": [
    "# Simulation: Mean of triples as the poission lambda\n",
    "REPETITION = 1000\n",
    "corr = []\n",
    "for i in range(REPETITION):\n",
    "    corr.append(simulate_corr(mean_triple))"
   ]
  },
  {
   "cell_type": "code",
   "execution_count": 250,
   "metadata": {
    "collapsed": false
   },
   "outputs": [
    {
     "data": {
      "text/plain": [
       "0"
      ]
     },
     "execution_count": 250,
     "metadata": {},
     "output_type": "execute_result"
    }
   ],
   "source": [
    "sum([i < corr_obs for i in corr])"
   ]
  },
  {
   "cell_type": "code",
   "execution_count": null,
   "metadata": {
    "collapsed": true
   },
   "outputs": [],
   "source": []
  },
  {
   "cell_type": "code",
   "execution_count": 251,
   "metadata": {
    "collapsed": true
   },
   "outputs": [],
   "source": [
    "# Simulation: random sample from triples as the poission lambda\n",
    "REPETITION = 1000\n",
    "corr1 = []\n",
    "for i in range(REPETITION):\n",
    "    corr1.append(simulate_corr(random.sample(sum(rawData, []), sample_size)))"
   ]
  },
  {
   "cell_type": "code",
   "execution_count": 252,
   "metadata": {
    "collapsed": false
   },
   "outputs": [
    {
     "data": {
      "text/plain": [
       "0"
      ]
     },
     "execution_count": 252,
     "metadata": {},
     "output_type": "execute_result"
    }
   ],
   "source": [
    "sum([i < corr_obs for i in corr1])"
   ]
  },
  {
   "cell_type": "code",
   "execution_count": null,
   "metadata": {
    "collapsed": true
   },
   "outputs": [],
   "source": []
  },
  {
   "cell_type": "code",
   "execution_count": null,
   "metadata": {
    "collapsed": true
   },
   "outputs": [],
   "source": []
  },
  {
   "cell_type": "code",
   "execution_count": null,
   "metadata": {
    "collapsed": true
   },
   "outputs": [],
   "source": []
  },
  {
   "cell_type": "code",
   "execution_count": null,
   "metadata": {
    "collapsed": true
   },
   "outputs": [],
   "source": []
  },
  {
   "cell_type": "code",
   "execution_count": null,
   "metadata": {
    "collapsed": true
   },
   "outputs": [],
   "source": []
  },
  {
   "cell_type": "code",
   "execution_count": 259,
   "metadata": {
    "collapsed": false
   },
   "outputs": [
    {
     "data": {
      "text/plain": [
       "0.50284530402427208"
      ]
     },
     "execution_count": 259,
     "metadata": {},
     "output_type": "execute_result"
    }
   ],
   "source": [
    "var_triple = [np.var(triple) for triple in inv_colony]\n",
    "mean_triple =  [np.mean(triple) for triple in inv_colony]\n",
    "sample_size = len(var_triple)\n",
    "# correlation between mean and variance\n",
    "corr_obs = np.corrcoef(var_triple, mean_triple)[0][1]\n",
    "corr_obs"
   ]
  },
  {
   "cell_type": "code",
   "execution_count": 253,
   "metadata": {
    "collapsed": true
   },
   "outputs": [],
   "source": [
    "# Simulation: Mean of triples as the poission lambda\n",
    "REPETITION = 1000\n",
    "corr = []\n",
    "for i in range(REPETITION):\n",
    "    corr.append(simulate_corr(mean_triple))"
   ]
  },
  {
   "cell_type": "code",
   "execution_count": 260,
   "metadata": {
    "collapsed": false
   },
   "outputs": [
    {
     "data": {
      "text/plain": [
       "999"
      ]
     },
     "execution_count": 260,
     "metadata": {},
     "output_type": "execute_result"
    }
   ],
   "source": [
    "sum([i < corr_obs for i in corr])"
   ]
  },
  {
   "cell_type": "code",
   "execution_count": 255,
   "metadata": {
    "collapsed": true
   },
   "outputs": [],
   "source": [
    "# Simulation: random sample from triples as the poission lambda\n",
    "REPETITION = 1000\n",
    "corr1 = []\n",
    "for i in range(REPETITION):\n",
    "    corr1.append(simulate_corr(random.sample(sum(rawData, []), sample_size)))"
   ]
  },
  {
   "cell_type": "code",
   "execution_count": 261,
   "metadata": {
    "collapsed": false
   },
   "outputs": [
    {
     "data": {
      "text/plain": [
       "998"
      ]
     },
     "execution_count": 261,
     "metadata": {},
     "output_type": "execute_result"
    }
   ],
   "source": [
    "sum([i < corr_obs for i in corr1])"
   ]
  },
  {
   "cell_type": "code",
   "execution_count": null,
   "metadata": {
    "collapsed": true
   },
   "outputs": [],
   "source": []
  }
 ],
 "metadata": {
  "kernelspec": {
   "display_name": "Python 3",
   "language": "python",
   "name": "python3"
  },
  "language_info": {
   "codemirror_mode": {
    "name": "ipython",
    "version": 3
   },
   "file_extension": ".py",
   "mimetype": "text/x-python",
   "name": "python",
   "nbconvert_exporter": "python",
   "pygments_lexer": "ipython3",
   "version": "3.5.1"
  }
 },
 "nbformat": 4,
 "nbformat_minor": 1
}
