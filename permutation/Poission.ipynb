{
 "cells": [
  {
   "cell_type": "markdown",
   "metadata": {},
   "source": [
    "# Poission distribution assumption?"
   ]
  },
  {
   "cell_type": "code",
   "execution_count": 4,
   "metadata": {
    "collapsed": true
   },
   "outputs": [],
   "source": [
    "import numpy as np\n",
    "from openpyxl import load_workbook\n",
    "import random"
   ]
  },
  {
   "cell_type": "code",
   "execution_count": null,
   "metadata": {
    "collapsed": false
   },
   "outputs": [],
   "source": [
    "data_dir = '../data/'\n",
    "wb = load_workbook(data_dir + 'Bishayee Colony Counts 10.27.97-3.8.01.xlsx') \n",
    "print(wb.get_sheet_names())\n",
    "ws = wb.get_sheet_by_name('Sheet1')\n",
    "print(ws['A1'].value)\n",
    "rawData = []\n",
    "for i in range(4, 1366):\n",
    "    tmp = [ws['D' + str(i)].value, ws['E' + str(i)].value, ws['F' + str(i)].value]\n",
    "    if isinstance(tmp[0], (int, int)) & isinstance(tmp[1], (int, int)) & isinstance(tmp[2], (int, int)):\n",
    "        rawData.append(tmp)\n",
    "print(len(rawData))\n",
    "print isinstance(tmp[0], long)"
   ]
  },
  {
   "cell_type": "code",
   "execution_count": 7,
   "metadata": {
    "collapsed": false
   },
   "outputs": [
    {
     "name": "stdout",
     "output_type": "stream",
     "text": [
      "['Sheet1']\n",
      "Others in Howell lab\n",
      "597\n"
     ]
    }
   ],
   "source": [
    "from openpyxl import load_workbook\n",
    "data_dir = '../data/'\n",
    "wb = load_workbook(data_dir + 'Other Investigators in Lab.Colony Counts.4.23.92-11.27.02.xlsx') \n",
    "print(wb.get_sheet_names())\n",
    "ws = wb.get_sheet_by_name('Sheet1')\n",
    "print(ws['A1'].value)\n",
    "inv_colony = []\n",
    "for i in range(3, 626):\n",
    "    tmp = [ws['D' + str(i)].value, ws['E' + str(i)].value, ws['F' + str(i)].value]\n",
    "    if isinstance(tmp[0], (int)) & isinstance(tmp[1], (int)) & isinstance(tmp[2], (int)):\n",
    "        inv_colony.append(tmp)\n",
    "print(len(inv_colony))"
   ]
  },
  {
   "cell_type": "code",
   "execution_count": null,
   "metadata": {
    "collapsed": false
   },
   "outputs": [],
   "source": [
    "var_triple = [np.var(triple) for triple in rawData]\n",
    "mean_triple =  [np.mean(triple) for triple in rawData]\n",
    "sample_size = len(var_triple)"
   ]
  },
  {
   "cell_type": "code",
   "execution_count": null,
   "metadata": {
    "collapsed": false
   },
   "outputs": [],
   "source": [
    "# correlation between mean and variance\n",
    "corr_obs = np.corrcoef(var_triple, mean_triple)[0][1]\n",
    "corr_obs"
   ]
  },
  {
   "cell_type": "code",
   "execution_count": 1,
   "metadata": {
    "collapsed": true
   },
   "outputs": [],
   "source": [
    "def simulate_corr(lams):\n",
    "    simu_triples = [np.random.poisson(lam=i, size=3).tolist() for i in lams]\n",
    "    var_triple = [np.var(triple) for triple in simu_triples]\n",
    "    mean_triple =  [np.mean(triple) for triple in simu_triples]\n",
    "    return np.corrcoef(var_triple, mean_triple)[0][1]"
   ]
  },
  {
   "cell_type": "code",
   "execution_count": null,
   "metadata": {
    "collapsed": false
   },
   "outputs": [],
   "source": [
    "# Simulation: Mean of triples as the poission lambda\n",
    "REPETITION = 1000\n",
    "corr = []\n",
    "for i in range(REPETITION):\n",
    "    corr.append(simulate_corr(mean_triple))"
   ]
  },
  {
   "cell_type": "code",
   "execution_count": null,
   "metadata": {
    "collapsed": false
   },
   "outputs": [],
   "source": [
    "sum([i < corr_obs for i in corr])"
   ]
  },
  {
   "cell_type": "code",
   "execution_count": null,
   "metadata": {
    "collapsed": true
   },
   "outputs": [],
   "source": [
    "# Simulation: random sample from triples as the poission lambda\n",
    "REPETITION = 1000\n",
    "corr1 = []\n",
    "for i in range(REPETITION):\n",
    "    corr1.append(simulate_corr(random.sample(sum(rawData, []), sample_size)))"
   ]
  },
  {
   "cell_type": "code",
   "execution_count": null,
   "metadata": {
    "collapsed": false
   },
   "outputs": [],
   "source": [
    "sum([i < corr_obs for i in corr1])"
   ]
  },
  {
   "cell_type": "code",
   "execution_count": 9,
   "metadata": {
    "collapsed": false
   },
   "outputs": [
    {
     "data": {
      "text/plain": [
       "0.50284530402427208"
      ]
     },
     "execution_count": 9,
     "metadata": {},
     "output_type": "execute_result"
    }
   ],
   "source": [
    "var_triple = [np.var(triple) for triple in inv_colony]\n",
    "mean_triple =  [np.mean(triple) for triple in inv_colony]\n",
    "sample_size = len(var_triple)\n",
    "# correlation between mean and variance\n",
    "corr_obs = np.corrcoef(var_triple, mean_triple)[0][1]\n",
    "corr_obs"
   ]
  },
  {
   "cell_type": "code",
   "execution_count": null,
   "metadata": {
    "collapsed": true
   },
   "outputs": [],
   "source": [
    "# Simulation: Mean of triples as the poission lambda\n",
    "REPETITION = 1000\n",
    "corr = []\n",
    "for i in range(REPETITION):\n",
    "    corr.append(simulate_corr(mean_triple))"
   ]
  },
  {
   "cell_type": "code",
   "execution_count": null,
   "metadata": {
    "collapsed": false
   },
   "outputs": [],
   "source": [
    "sum([i < corr_obs for i in corr])"
   ]
  },
  {
   "cell_type": "code",
   "execution_count": 10,
   "metadata": {
    "collapsed": false
   },
   "outputs": [
    {
     "name": "stdout",
     "output_type": "stream",
     "text": [
      "[0.50686048301404441, 0.52772040869256598, 0.61144854553351291, 0.53675959786062988, 0.51929349893153931, 0.53013677747453092, 0.53978506763803946, 0.49939518834407537, 0.53210183333958605, 0.57244759653944688, 0.53220235253493819, 0.54605805505439364, 0.54771750091368121, 0.52964894769893522, 0.51266512998587999, 0.55880988240633955, 0.57235404910945786, 0.55653091704001856, 0.57582318940014532, 0.48501097006575378]\n"
     ]
    }
   ],
   "source": [
    "# Simulation: random sample from triples as the poission lambda\n",
    "REPETITION = 20\n",
    "corr1 = []\n",
    "for i in range(REPETITION):\n",
    "    corr1.append(simulate_corr(random.sample(sum(inv_colony, []), sample_size)))\n",
    "print(corr1)"
   ]
  },
  {
   "cell_type": "code",
   "execution_count": 11,
   "metadata": {
    "collapsed": false
   },
   "outputs": [
    {
     "data": {
      "text/plain": [
       "2"
      ]
     },
     "execution_count": 11,
     "metadata": {},
     "output_type": "execute_result"
    }
   ],
   "source": [
    "sum([i < corr_obs for i in corr1])"
   ]
  }
 ],
 "metadata": {
  "kernelspec": {
   "display_name": "Python 3",
   "language": "python",
   "name": "python3"
  },
  "language_info": {
   "codemirror_mode": {
    "name": "ipython",
    "version": 3
   },
   "file_extension": ".py",
   "mimetype": "text/x-python",
   "name": "python",
   "nbconvert_exporter": "python",
   "pygments_lexer": "ipython3",
   "version": "3.5.2"
  }
 },
 "nbformat": 4,
 "nbformat_minor": 1
}
