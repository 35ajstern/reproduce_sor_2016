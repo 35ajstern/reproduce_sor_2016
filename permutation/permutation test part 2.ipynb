{
 "cells": [
  {
   "cell_type": "code",
   "execution_count": 1,
   "metadata": {
    "collapsed": true
   },
   "outputs": [],
   "source": [
    "from __future__ import division, generators, absolute_import, print_function\n",
    "\n",
    "import numpy as np\n",
    "import scipy.stats\n",
    "from openpyxl import load_workbook\n",
    "import random\n",
    "data_dir = '../data/'"
   ]
  },
  {
   "cell_type": "markdown",
   "metadata": {},
   "source": [
    "# Read Data"
   ]
  },
  {
   "cell_type": "code",
   "execution_count": 2,
   "metadata": {
    "collapsed": false
   },
   "outputs": [],
   "source": [
    "wb = load_workbook(data_dir + 'Bishayee Colony Counts 10.27.97-3.8.01.xlsx')\n",
    "ws = wb.get_sheet_by_name('Sheet1')\n",
    "rts_colony = []\n",
    "for i in range(4, 1366):\n",
    "    tmp = [ws['D' + str(i)].value, \n",
    "           ws['E' + str(i)].value, \n",
    "           ws['F' + str(i)].value]\n",
    "    if isinstance(tmp[0], (int, int)) & \\\n",
    "    isinstance(tmp[1], (int, int)) & \\\n",
    "    isinstance(tmp[2], (int, int)):\n",
    "        rts_colony.append(tmp)"
   ]
  },
  {
   "cell_type": "code",
   "execution_count": 3,
   "metadata": {
    "collapsed": true
   },
   "outputs": [],
   "source": [
    "wb = load_workbook(data_dir + 'Other Investigators in Lab.Colony Counts.4.23.92-11.27.02.xlsx')\n",
    "ws = wb.get_sheet_by_name('Sheet1')\n",
    "inv_colony = []\n",
    "for i in range(3, 626):\n",
    "    tmp = [ws['D' + str(i)].value, \n",
    "           ws['E' + str(i)].value, \n",
    "           ws['F' + str(i)].value]\n",
    "    if isinstance(tmp[0], (int, int)) & \\\n",
    "    isinstance(tmp[1], (int, int)) & \\\n",
    "    isinstance(tmp[2], (int, int)):\n",
    "        inv_colony.append(tmp)"
   ]
  },
  {
   "cell_type": "code",
   "execution_count": 4,
   "metadata": {
    "collapsed": false
   },
   "outputs": [],
   "source": [
    "wb = load_workbook(data_dir + 'Outside Lab 3.Colony Counts.2.4.10-5.21.12.xlsx')\n",
    "ws = wb.get_sheet_by_name('Sheet1')\n",
    "lab_colony = []\n",
    "for i in range(3, 53):\n",
    "    tmp = [ws['B' + str(i)].value, \n",
    "           ws['C' + str(i)].value, \n",
    "           ws['D' + str(i)].value]\n",
    "    if isinstance(tmp[0], (int, int)) & \\\n",
    "    isinstance(tmp[1], (int, int)) & \\\n",
    "    isinstance(tmp[2], (int, int)):\n",
    "        lab_colony.append(tmp)"
   ]
  },
  {
   "cell_type": "markdown",
   "metadata": {},
   "source": [
    "# permutation test"
   ]
  },
  {
   "cell_type": "code",
   "execution_count": 8,
   "metadata": {
    "collapsed": true
   },
   "outputs": [],
   "source": [
    "for dt in [rts_colony, inv_colony, lab_colony]:\n",
    "    for i in range(len(dt)):\n",
    "        dt[i].sort()"
   ]
  },
  {
   "cell_type": "code",
   "execution_count": 9,
   "metadata": {
    "collapsed": true
   },
   "outputs": [],
   "source": [
    "def isMid(data):\n",
    "    return [triple[0] + triple[2] == 2 * triple[1] or \n",
    "            triple[0] + triple[2] == 2 * triple[1] - 1 or\n",
    "            triple[0] + triple[2] == 2 * triple[1] + 1\n",
    "            for triple in data]"
   ]
  },
  {
   "cell_type": "code",
   "execution_count": 10,
   "metadata": {
    "collapsed": false
   },
   "outputs": [],
   "source": [
    "# whether the mid number is the mean of largest and smallest\n",
    "isMid_rts_colony = isMid(rts_colony)\n",
    "isMid_inv_colony = isMid(inv_colony)\n",
    "isMid_lab_colony = isMid(lab_colony)"
   ]
  },
  {
   "cell_type": "code",
   "execution_count": 41,
   "metadata": {
    "collapsed": true
   },
   "outputs": [],
   "source": [
    "def permute_mid(group1, group2, replication):\n",
    "    stats_obs = np.mean(group1) - np.mean(group2)\n",
    "    stats = []\n",
    "    for i in np.arange(replication):\n",
    "        shuffled = random.sample(group1 + group2, \n",
    "                                 len(group1 + group2))\n",
    "        stat_shuffled = np.mean(shuffled[:len(group1)]) - np.mean(shuffled[len(group1):])\n",
    "        stats.append(stat_shuffled)\n",
    "    #print(stats)\n",
    "    tmp = sum(np.array(stats) > stats_obs) / replication\n",
    "    p_value = 2 * min(tmp, 1 - tmp)\n",
    "    return p_value"
   ]
  },
  {
   "cell_type": "code",
   "execution_count": 42,
   "metadata": {
    "collapsed": false
   },
   "outputs": [
    {
     "data": {
      "text/plain": [
       "0.0"
      ]
     },
     "execution_count": 42,
     "metadata": {},
     "output_type": "execute_result"
    }
   ],
   "source": [
    "permute_mid(group1 = isMid_rts_colony, group2 = isMid_inv_colony, replication = 10000)"
   ]
  },
  {
   "cell_type": "code",
   "execution_count": 43,
   "metadata": {
    "collapsed": false
   },
   "outputs": [
    {
     "data": {
      "text/plain": [
       "0.026799999999999935"
      ]
     },
     "execution_count": 43,
     "metadata": {},
     "output_type": "execute_result"
    }
   ],
   "source": [
    "permute_mid(group1 = isMid_lab_colony, group2 = isMid_inv_colony, replication = 10000)"
   ]
  },
  {
   "cell_type": "markdown",
   "metadata": {},
   "source": [
    "problem: other lab would alse fail the hypothesis 1,2,3?"
   ]
  },
  {
   "cell_type": "code",
   "execution_count": null,
   "metadata": {
    "collapsed": true
   },
   "outputs": [],
   "source": []
  }
 ],
 "metadata": {
  "kernelspec": {
   "display_name": "Python 3",
   "language": "python",
   "name": "python3"
  },
  "language_info": {
   "codemirror_mode": {
    "name": "ipython",
    "version": 3
   },
   "file_extension": ".py",
   "mimetype": "text/x-python",
   "name": "python",
   "nbconvert_exporter": "python",
   "pygments_lexer": "ipython3",
   "version": "3.5.1"
  }
 },
 "nbformat": 4,
 "nbformat_minor": 1
}
