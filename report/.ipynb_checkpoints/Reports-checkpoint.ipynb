{
 "cells": [
  {
   "cell_type": "markdown",
   "metadata": {},
   "source": [
    "# Sections\n",
    "\n",
    "- [Read data](#read_data)\n",
    "    * [Read counts data](#read_counts_data)\n",
    "    * [Read Mid-probability table](#read_Mid-probability_table)\n",
    "    \n",
    "- [Hypothesis III](#hypothesis3)\n",
    "    * [Reproduce results](#reproduce_results_hypothesis3)\n",
    "    * [Test for individuals in the lab](#individuals_hypothesis3)\n",
    "\n",
    "- [Permutation test](#permutation_test)\n",
    "\n",
    "    * [Terminal digit analysis](#terminal_digit_analysis)\n",
    "    * [Equal digit analysis](#equal_digit_analysis)\n",
    "\n"
   ]
  },
  {
   "cell_type": "code",
   "execution_count": 209,
   "metadata": {
    "collapsed": false
   },
   "outputs": [],
   "source": [
    "from __future__ import division, generators, absolute_import, print_function\n",
    "\n",
    "import numpy as np\n",
    "import scipy.stats\n",
    "import pandas as pd\n",
    "import random\n",
    "import matplotlib.pyplot as plt\n",
    "\n",
    "data_dir = '../data/'"
   ]
  },
  {
   "cell_type": "markdown",
   "metadata": {},
   "source": [
    "<a id='read_data'></a>\n",
    "# Read Data"
   ]
  },
  {
   "cell_type": "markdown",
   "metadata": {},
   "source": [
    "<a id='read_counts_data'></a>\n",
    "## Read counts data"
   ]
  },
  {
   "cell_type": "code",
   "execution_count": 226,
   "metadata": {
    "collapsed": true
   },
   "outputs": [],
   "source": [
    "def read_data(data_dir, file_name, skiprows, triple_col):\n",
    "    \"\"\"\n",
    "    This function reads data from xlsx file\n",
    "    \n",
    "    Parameters\n",
    "    ----------\n",
    "        data_dir: string\n",
    "            data directory\n",
    "        file_name: string\n",
    "            xlsx file name\n",
    "        skiprows: int\n",
    "            rows to skip at the beginning\n",
    "        triple_col: list of string\n",
    "            a list of length 3, the column name for the triple in the xlsx file\n",
    "    \n",
    "    Returns\n",
    "    -------\n",
    "        df: pandas.core.frame.DataFrame\n",
    "            pandas data frame with triple column named col1, col2 and col3\n",
    "    \"\"\"\n",
    "    df = pd.read_excel(data_dir + file_name, skiprows = skiprows)\n",
    "    df[triple_col] = df[triple_col].apply(\n",
    "        lambda x: pd.to_numeric(x, errors='coerce'))\n",
    "    col_name = ['col1', 'col2', 'col3']\n",
    "    df = df.rename(columns = {triple_col[0]: col_name[0],\n",
    "                              triple_col[1]: col_name[1],\n",
    "                              triple_col[2]: col_name[2]})\n",
    "    return df"
   ]
  },
  {
   "cell_type": "code",
   "execution_count": 1,
   "metadata": {
    "collapsed": true
   },
   "outputs": [],
   "source": [
    "def filter_na_triple(df):\n",
    "    \"\"\"\n",
    "    This function remove triples with missing values\n",
    "    \n",
    "    Parameters\n",
    "    ----------\n",
    "        df: pandas.core.frame.DataFrame\n",
    "            pandas data frame with triple column named col1, col2 and col3\n",
    "    \n",
    "    Returns\n",
    "    -------   \n",
    "        df: pandas.core.frame.DataFrame\n",
    "            pandas data frame with triple column named col1, col2 and col3,\n",
    "            triples with missing values are removed\n",
    "    \"\"\"\n",
    "    df = df.copy(deep=True)\n",
    "    col_name = ['col1', 'col2', 'col3']\n",
    "    nan_index = df[col_name].apply(np.isnan).any(1).nonzero()[0]\n",
    "    df = df.drop(df.index[nan_index])\n",
    "    df = df.reset_index(drop=True) \n",
    "    return df"
   ]
  },
  {
   "cell_type": "code",
   "execution_count": 2,
   "metadata": {
    "collapsed": true
   },
   "outputs": [],
   "source": [
    "def filter_gap_2(df):\n",
    "    \"\"\"\n",
    "    This function sort each triple by increasing order, and \n",
    "    triples with gap less than or equal to 1 are filtered out\n",
    "    \n",
    "    Parameters\n",
    "    ----------\n",
    "        df: pandas.core.frame.DataFrame\n",
    "            pandas data frame with triple column named col1, col2 and col3\n",
    "    \n",
    "    Returns\n",
    "    -------   \n",
    "        df: pandas.core.frame.DataFrame\n",
    "            pandas data frame with triple column named col1, col2 and col3,\n",
    "            each triple is sorted by increasing order,\n",
    "            triples with gap less than or equal to 1 are filtered out\n",
    "    \"\"\"\n",
    "    \n",
    "    df = df.copy(deep=True)\n",
    "    col_name = ['col1', 'col2', 'col3']\n",
    "    nan_index = df[col_name].apply(np.isnan).any(1).nonzero()[0]\n",
    "    df = df.drop(df.index[nan_index])\n",
    "    df = df.reset_index(drop=True)\n",
    "    \n",
    "    # sort each triple by increasing order\n",
    "    df[col_name] = df[col_name].apply(np.sort, axis = 1)\n",
    "    \n",
    "    # filter out the triples with gap less than or equal to 1\n",
    "    complete_index = df[col_name].apply(\n",
    "        lambda x: x.col3 - x.col1 <=1, axis=1).nonzero()[0]\n",
    "    df = df.drop(df.index[complete_index])\n",
    "    df = df.reset_index(drop=True)\n",
    "    \n",
    "    return df"
   ]
  },
  {
   "cell_type": "code",
   "execution_count": 229,
   "metadata": {
    "collapsed": false
   },
   "outputs": [],
   "source": [
    "# colony data: RTS\n",
    "rts_colony = read_data(\n",
    "    data_dir, 'Bishayee Colony Counts 10.27.97-3.8.01.xlsx', \n",
    "    skiprows=2, triple_col=['col1', 'col2', 'col3'])\n",
    "\n",
    "# colony data: other invectigators in the lab\n",
    "inv_colony = read_data(\n",
    "    data_dir, 'Other Investigators in Lab.Colony Counts.4.23.92-11.27.02.xlsx', \n",
    "    skiprows=1, triple_col=['col1', 'col2', 'col3'])\n",
    "\n",
    "# colony data: outside lab\n",
    "lab_colony = read_data(\n",
    "    data_dir, 'Outside Lab 3.Colony Counts.2.4.10-5.21.12.xlsx', \n",
    "    skiprows=1, triple_col=['c1', 'c2', 'c3'])"
   ]
  },
  {
   "cell_type": "code",
   "execution_count": 230,
   "metadata": {
    "collapsed": false
   },
   "outputs": [],
   "source": [
    "# coulter data: RTS\n",
    "rts_coulter = read_data(\n",
    "    data_dir, 'Bishayee Coulter Counts.10.20.97-7.16.01.xlsx', \n",
    "    skiprows=1, triple_col=['Count 1', 'Count 2', 'Count 3'])\n",
    "\n",
    "# coulter data: other invectigators in the lab\n",
    "inv_coulter = read_data(\n",
    "    data_dir, 'Other Investigators in Lab.Coulter Counts.4.15.92-5.21.05.xlsx', \n",
    "    skiprows=1, triple_col=['Coul 1', 'Coul 2', 'Coul 3'])\n",
    "\n",
    "# coulter data: outside lab1\n",
    "lab1_coulter = read_data(\n",
    "    data_dir, 'Outside Lab 1.Coulter Counts.6.7.91-4.9.99.xlsx', \n",
    "    skiprows=0, triple_col=['Unnamed: 1', 'Unnamed: 2', 'Unnamed: 3'])\n",
    "\n",
    "# coulter data: outside lab2\n",
    "lab2_coulter = read_data(\n",
    "    data_dir, 'Outside Lab 2.Coulter Counts.6.6.08-7.7.08.xlsx', \n",
    "    skiprows=1, triple_col=['Count 1', 'Count 2', 'Count 3'])"
   ]
  },
  {
   "cell_type": "code",
   "execution_count": 231,
   "metadata": {
    "collapsed": false
   },
   "outputs": [
    {
     "data": {
      "text/html": [
       "<div>\n",
       "<table border=\"1\" class=\"dataframe\">\n",
       "  <thead>\n",
       "    <tr style=\"text-align: right;\">\n",
       "      <th></th>\n",
       "      <th>No. triples</th>\n",
       "      <th>No. complete</th>\n",
       "    </tr>\n",
       "  </thead>\n",
       "  <tbody>\n",
       "    <tr>\n",
       "      <th>rts_colony</th>\n",
       "      <td>1361.0</td>\n",
       "      <td>1343.0</td>\n",
       "    </tr>\n",
       "    <tr>\n",
       "      <th>inv_colony</th>\n",
       "      <td>597.0</td>\n",
       "      <td>578.0</td>\n",
       "    </tr>\n",
       "    <tr>\n",
       "      <th>lab_colony</th>\n",
       "      <td>50.0</td>\n",
       "      <td>49.0</td>\n",
       "    </tr>\n",
       "    <tr>\n",
       "      <th>rts_coulter</th>\n",
       "      <td>1727.0</td>\n",
       "      <td>1726.0</td>\n",
       "    </tr>\n",
       "    <tr>\n",
       "      <th>inv_coulter</th>\n",
       "      <td>929.0</td>\n",
       "      <td>929.0</td>\n",
       "    </tr>\n",
       "    <tr>\n",
       "      <th>lab1_coulter</th>\n",
       "      <td>97.0</td>\n",
       "      <td>97.0</td>\n",
       "    </tr>\n",
       "    <tr>\n",
       "      <th>lab2_coulter</th>\n",
       "      <td>120.0</td>\n",
       "      <td>120.0</td>\n",
       "    </tr>\n",
       "  </tbody>\n",
       "</table>\n",
       "</div>"
      ],
      "text/plain": [
       "              No. triples  No. complete\n",
       "rts_colony         1361.0        1343.0\n",
       "inv_colony          597.0         578.0\n",
       "lab_colony           50.0          49.0\n",
       "rts_coulter        1727.0        1726.0\n",
       "inv_coulter         929.0         929.0\n",
       "lab1_coulter         97.0          97.0\n",
       "lab2_coulter        120.0         120.0"
      ]
     },
     "execution_count": 231,
     "metadata": {},
     "output_type": "execute_result"
    }
   ],
   "source": [
    "no_triples = pd.DataFrame(columns=(\"No. triples\", \"No. complete\"))\n",
    "for dfs in [\"rts_colony\", \"inv_colony\", \"lab_colony\",\n",
    "            \"rts_coulter\", \"inv_coulter\", \"lab1_coulter\", \"lab2_coulter\"]:\n",
    "    no_triples.loc[dfs] = (len(filter_na_triple(eval(dfs))), \n",
    "                           len(filter_gap_2(eval(dfs))))\n",
    "no_triples"
   ]
  },
  {
   "cell_type": "markdown",
   "metadata": {},
   "source": [
    "<a id='read_Mid-probability_table'></a>\n",
    "## Read Mid-probability table"
   ]
  },
  {
   "cell_type": "code",
   "execution_count": 232,
   "metadata": {
    "collapsed": false
   },
   "outputs": [
    {
     "data": {
      "text/plain": [
       "(2129, 2)"
      ]
     },
     "execution_count": 232,
     "metadata": {},
     "output_type": "execute_result"
    }
   ],
   "source": [
    "# read the mid probability table from output directory\n",
    "# mid probability table: the mid-containing probability for different \n",
    "# values of lambdas\n",
    "output_dir = \"../outputs/\"\n",
    "midProb = np.loadtxt(output_dir + \"MidProb.txt\", delimiter=\"\\t\")\n",
    "midProb.shape"
   ]
  },
  {
   "cell_type": "markdown",
   "metadata": {},
   "source": [
    "<a id='hypothesis3'></a>\n",
    "# Hypothesis III"
   ]
  },
  {
   "cell_type": "code",
   "execution_count": 248,
   "metadata": {
    "collapsed": true
   },
   "outputs": [],
   "source": [
    "def hypothesis_3(df, midProb, print_res=False):\n",
    "    \"\"\"\n",
    "    This function implements the hypothesis test 3 for mean-containing \n",
    "    ratio in the paper.\n",
    "    \n",
    "    Parameters\n",
    "    ----------\n",
    "        filtered_df: pandas.core.frame.DataFrame\n",
    "            pandas data frame with triple column named col1, col2 and col3,\n",
    "            each triple is sorted by increasing order,\n",
    "            triples with gap less than or equal to 1 are filtered out\n",
    "        midProb: numpy.ndarray\n",
    "            mid probability table, the mid-containing probability for \n",
    "            different values of lambdas\n",
    "        print_res: default False\n",
    "            False: print all the results\n",
    "            True: return number of mean containing triples, mean and sd\n",
    "                of poission binomial, Z statistic and p-value without printing\n",
    "    \"\"\"\n",
    "    filtered_df = df.copy(deep=True)\n",
    "    col_name = ['col1', 'col2', 'col3']\n",
    "    \n",
    "    # sort each triple by increasing order\n",
    "    filtered_df[col_name] = filtered_df[col_name].apply(np.sort, axis = 1)\n",
    "    \n",
    "    # whether the mid number is the mean of largest and smallest\n",
    "    isMid = filtered_df.apply(\n",
    "        lambda x: x.col1 + x.col3 in [2*x.col2, 2*x.col2 + 1, 2*x.col2 - 1], axis=1)\n",
    "    \n",
    "    # rounded mean triple as the estimate of lambda\n",
    "    lamEst = np.mean(filtered_df[col_name], axis=1)\n",
    "    # probabiliy that the triple been randomly drawn it would contain its own mean\n",
    "    lams = np.array([i[0] for i in midProb])\n",
    "    probs = [midProb[np.argmin(abs(lams-i))][1] for i in lamEst]\n",
    "    \n",
    "    # expectation and variance of poisson binomial\n",
    "    mu = np.sum(probs)\n",
    "    sigma2 = np.sum(p*(1-p) for p in probs)\n",
    "    \n",
    "    # compute statistic and p-value for hypothesis 3\n",
    "    stat3 = (sum(isMid) - 0.5 - mu) / np.sqrt(sigma2)\n",
    "    p_value3 = 1 - scipy.stats.norm.cdf(stat3)\n",
    "    \n",
    "    if print_res:\n",
    "        print(\"Number of mean containing triples: \", sum(isMid))\n",
    "        print(\"Mean of poission binomial: \", mu)\n",
    "        print(\"SD of poission binomial: \", np.sqrt(sigma2))\n",
    "        print(\"Z statistic: \", stat3)\n",
    "        print(\"p-value: \", p_value3)\n",
    "    else:\n",
    "        return len(filtered_df), sum(isMid), mu, np.sqrt(sigma2), stat3, p_value3"
   ]
  },
  {
   "cell_type": "markdown",
   "metadata": {},
   "source": [
    "<a id='reproduce_results_hypothesis3'></a>\n",
    "## Reproduce results"
   ]
  },
  {
   "cell_type": "code",
   "execution_count": 249,
   "metadata": {
    "collapsed": false
   },
   "outputs": [
    {
     "data": {
      "text/html": [
       "<div>\n",
       "<table border=\"1\" class=\"dataframe\">\n",
       "  <thead>\n",
       "    <tr style=\"text-align: right;\">\n",
       "      <th></th>\n",
       "      <th>No. complete</th>\n",
       "      <th>No. mean containing</th>\n",
       "      <th>No.expected</th>\n",
       "      <th>sd</th>\n",
       "      <th>Z</th>\n",
       "      <th>p-value</th>\n",
       "    </tr>\n",
       "  </thead>\n",
       "  <tbody>\n",
       "    <tr>\n",
       "      <th>filtered_rts_colony</th>\n",
       "      <td>1343.0</td>\n",
       "      <td>690.0</td>\n",
       "      <td>214.923602</td>\n",
       "      <td>13.281792</td>\n",
       "      <td>35.731353</td>\n",
       "      <td>0.000000e+00</td>\n",
       "    </tr>\n",
       "    <tr>\n",
       "      <th>filtered_inv_colony</th>\n",
       "      <td>578.0</td>\n",
       "      <td>109.0</td>\n",
       "      <td>103.404567</td>\n",
       "      <td>9.061666</td>\n",
       "      <td>0.562306</td>\n",
       "      <td>2.869536e-01</td>\n",
       "    </tr>\n",
       "    <tr>\n",
       "      <th>filtered_lab_colony</th>\n",
       "      <td>49.0</td>\n",
       "      <td>3.0</td>\n",
       "      <td>7.788269</td>\n",
       "      <td>2.554401</td>\n",
       "      <td>-2.070258</td>\n",
       "      <td>9.807859e-01</td>\n",
       "    </tr>\n",
       "    <tr>\n",
       "      <th>filtered_rts_coulter</th>\n",
       "      <td>1726.0</td>\n",
       "      <td>176.0</td>\n",
       "      <td>98.367748</td>\n",
       "      <td>9.612620</td>\n",
       "      <td>8.024061</td>\n",
       "      <td>5.551115e-16</td>\n",
       "    </tr>\n",
       "    <tr>\n",
       "      <th>filtered_inv_coulter</th>\n",
       "      <td>929.0</td>\n",
       "      <td>36.0</td>\n",
       "      <td>39.851416</td>\n",
       "      <td>6.107390</td>\n",
       "      <td>-0.712484</td>\n",
       "      <td>7.619174e-01</td>\n",
       "    </tr>\n",
       "    <tr>\n",
       "      <th>filtered_lab1_coulter</th>\n",
       "      <td>97.0</td>\n",
       "      <td>0.0</td>\n",
       "      <td>4.430351</td>\n",
       "      <td>2.033995</td>\n",
       "      <td>-2.423974</td>\n",
       "      <td>9.923241e-01</td>\n",
       "    </tr>\n",
       "    <tr>\n",
       "      <th>filtered_lab2_coulter</th>\n",
       "      <td>120.0</td>\n",
       "      <td>1.0</td>\n",
       "      <td>3.752921</td>\n",
       "      <td>1.897438</td>\n",
       "      <td>-1.714375</td>\n",
       "      <td>9.567701e-01</td>\n",
       "    </tr>\n",
       "  </tbody>\n",
       "</table>\n",
       "</div>"
      ],
      "text/plain": [
       "                       No. complete  No. mean containing  No.expected  \\\n",
       "filtered_rts_colony          1343.0                690.0   214.923602   \n",
       "filtered_inv_colony           578.0                109.0   103.404567   \n",
       "filtered_lab_colony            49.0                  3.0     7.788269   \n",
       "filtered_rts_coulter         1726.0                176.0    98.367748   \n",
       "filtered_inv_coulter          929.0                 36.0    39.851416   \n",
       "filtered_lab1_coulter          97.0                  0.0     4.430351   \n",
       "filtered_lab2_coulter         120.0                  1.0     3.752921   \n",
       "\n",
       "                              sd          Z       p-value  \n",
       "filtered_rts_colony    13.281792  35.731353  0.000000e+00  \n",
       "filtered_inv_colony     9.061666   0.562306  2.869536e-01  \n",
       "filtered_lab_colony     2.554401  -2.070258  9.807859e-01  \n",
       "filtered_rts_coulter    9.612620   8.024061  5.551115e-16  \n",
       "filtered_inv_coulter    6.107390  -0.712484  7.619174e-01  \n",
       "filtered_lab1_coulter   2.033995  -2.423974  9.923241e-01  \n",
       "filtered_lab2_coulter   1.897438  -1.714375  9.567701e-01  "
      ]
     },
     "execution_count": 249,
     "metadata": {},
     "output_type": "execute_result"
    }
   ],
   "source": [
    "hypothesis_3_res = pd.DataFrame(columns=('No. complete', 'No. mean containing', \n",
    "                                         'No.expected', \"sd\", \"Z\", \"p-value\"))\n",
    "for dfs in [\"filtered_rts_colony\", \"filtered_inv_colony\", \"filtered_lab_colony\",\n",
    "            \"filtered_rts_coulter\", \"filtered_inv_coulter\", \n",
    "            \"filtered_lab1_coulter\", \"filtered_lab2_coulter\"]:\n",
    "    hypothesis_3_res.loc[dfs] = hypothesis_3(filter_gap_2(eval(dfs)), midProb)\n",
    "hypothesis_3_res"
   ]
  },
  {
   "cell_type": "code",
   "execution_count": 250,
   "metadata": {
    "collapsed": false
   },
   "outputs": [
    {
     "name": "stdout",
     "output_type": "stream",
     "text": [
      "Number of mean containing triples:  708\n",
      "Mean of poission binomial:  220.313684239\n",
      "SD of poission binomial:  13.4181445464\n",
      "Z statistic:  36.3080241145\n",
      "p-value:  0.0\n"
     ]
    }
   ],
   "source": [
    "hypothesis_3(filter_na_triple(rts_colony), midProb, print_res=True)"
   ]
  },
  {
   "cell_type": "code",
   "execution_count": 251,
   "metadata": {
    "collapsed": false
   },
   "outputs": [
    {
     "name": "stdout",
     "output_type": "stream",
     "text": [
      "Number of mean containing triples:  128\n",
      "Mean of poission binomial:  108.501276257\n",
      "SD of poission binomial:  9.25874114803\n",
      "Z statistic:  2.05197698475\n",
      "p-value:  0.0200859495977\n"
     ]
    }
   ],
   "source": [
    "hypothesis_3(filter_na_triple(inv_colony), midProb, print_res=True)"
   ]
  },
  {
   "cell_type": "markdown",
   "metadata": {},
   "source": [
    "<a id='individuals_hypothesis3'></a>\n",
    "## Test for individuals in the lab"
   ]
  },
  {
   "cell_type": "code",
   "execution_count": 252,
   "metadata": {
    "collapsed": false
   },
   "outputs": [
    {
     "data": {
      "text/html": [
       "<div>\n",
       "<table border=\"1\" class=\"dataframe\">\n",
       "  <thead>\n",
       "    <tr style=\"text-align: right;\">\n",
       "      <th></th>\n",
       "      <th>No. complete</th>\n",
       "      <th>No. mean containing</th>\n",
       "      <th>No.expected</th>\n",
       "      <th>sd</th>\n",
       "      <th>Z</th>\n",
       "      <th>p-value</th>\n",
       "    </tr>\n",
       "  </thead>\n",
       "  <tbody>\n",
       "    <tr>\n",
       "      <th>H</th>\n",
       "      <td>21.0</td>\n",
       "      <td>1.0</td>\n",
       "      <td>2.827193</td>\n",
       "      <td>1.554125</td>\n",
       "      <td>-1.497429</td>\n",
       "      <td>0.932859</td>\n",
       "    </tr>\n",
       "    <tr>\n",
       "      <th>I</th>\n",
       "      <td>44.0</td>\n",
       "      <td>8.0</td>\n",
       "      <td>7.818411</td>\n",
       "      <td>2.480351</td>\n",
       "      <td>-0.128373</td>\n",
       "      <td>0.551073</td>\n",
       "    </tr>\n",
       "    <tr>\n",
       "      <th>E</th>\n",
       "      <td>10.0</td>\n",
       "      <td>2.0</td>\n",
       "      <td>1.306389</td>\n",
       "      <td>1.059426</td>\n",
       "      <td>0.182751</td>\n",
       "      <td>0.427497</td>\n",
       "    </tr>\n",
       "    <tr>\n",
       "      <th>B</th>\n",
       "      <td>56.0</td>\n",
       "      <td>8.0</td>\n",
       "      <td>9.622682</td>\n",
       "      <td>2.790427</td>\n",
       "      <td>-0.760701</td>\n",
       "      <td>0.776582</td>\n",
       "    </tr>\n",
       "    <tr>\n",
       "      <th>G</th>\n",
       "      <td>8.0</td>\n",
       "      <td>4.0</td>\n",
       "      <td>1.829225</td>\n",
       "      <td>1.179072</td>\n",
       "      <td>1.417026</td>\n",
       "      <td>0.078238</td>\n",
       "    </tr>\n",
       "    <tr>\n",
       "      <th>F</th>\n",
       "      <td>29.0</td>\n",
       "      <td>6.0</td>\n",
       "      <td>5.139362</td>\n",
       "      <td>2.020507</td>\n",
       "      <td>0.178489</td>\n",
       "      <td>0.429169</td>\n",
       "    </tr>\n",
       "    <tr>\n",
       "      <th>C</th>\n",
       "      <td>85.0</td>\n",
       "      <td>25.0</td>\n",
       "      <td>17.189069</td>\n",
       "      <td>3.656139</td>\n",
       "      <td>1.999632</td>\n",
       "      <td>0.022770</td>\n",
       "    </tr>\n",
       "    <tr>\n",
       "      <th>D</th>\n",
       "      <td>77.0</td>\n",
       "      <td>13.0</td>\n",
       "      <td>13.584431</td>\n",
       "      <td>3.323176</td>\n",
       "      <td>-0.326324</td>\n",
       "      <td>0.627910</td>\n",
       "    </tr>\n",
       "    <tr>\n",
       "      <th>A</th>\n",
       "      <td>248.0</td>\n",
       "      <td>42.0</td>\n",
       "      <td>44.087806</td>\n",
       "      <td>5.895250</td>\n",
       "      <td>-0.438965</td>\n",
       "      <td>0.669656</td>\n",
       "    </tr>\n",
       "  </tbody>\n",
       "</table>\n",
       "</div>"
      ],
      "text/plain": [
       "   No. complete  No. mean containing  No.expected        sd         Z  \\\n",
       "H          21.0                  1.0     2.827193  1.554125 -1.497429   \n",
       "I          44.0                  8.0     7.818411  2.480351 -0.128373   \n",
       "E          10.0                  2.0     1.306389  1.059426  0.182751   \n",
       "B          56.0                  8.0     9.622682  2.790427 -0.760701   \n",
       "G           8.0                  4.0     1.829225  1.179072  1.417026   \n",
       "F          29.0                  6.0     5.139362  2.020507  0.178489   \n",
       "C          85.0                 25.0    17.189069  3.656139  1.999632   \n",
       "D          77.0                 13.0    13.584431  3.323176 -0.326324   \n",
       "A         248.0                 42.0    44.087806  5.895250 -0.438965   \n",
       "\n",
       "    p-value  \n",
       "H  0.932859  \n",
       "I  0.551073  \n",
       "E  0.427497  \n",
       "B  0.776582  \n",
       "G  0.078238  \n",
       "F  0.429169  \n",
       "C  0.022770  \n",
       "D  0.627910  \n",
       "A  0.669656  "
      ]
     },
     "execution_count": 252,
     "metadata": {},
     "output_type": "execute_result"
    }
   ],
   "source": [
    "hypothesis_3_ind = pd.DataFrame(columns=('No. complete', 'No. mean containing', \n",
    "                                         'No.expected', \"sd\", \"Z\", \"p-value\"))\n",
    "for inv in set(filtered_inv_colony.Inv):\n",
    "    hypothesis_3_ind.loc[inv] = hypothesis_3(\n",
    "        filtered_inv_colony.loc[filtered_inv_colony.Inv == inv].copy(), midProb)\n",
    "hypothesis_3_ind"
   ]
  },
  {
   "cell_type": "markdown",
   "metadata": {},
   "source": [
    "<a id='permutation_test'></a>\n",
    "# Permutation test"
   ]
  },
  {
   "cell_type": "markdown",
   "metadata": {},
   "source": [
    "<a id='terminal_digit_analysis'></a>\n",
    "## Terminal digit analysis"
   ]
  },
  {
   "cell_type": "code",
   "execution_count": 183,
   "metadata": {
    "collapsed": true
   },
   "outputs": [],
   "source": [
    "def calc_distance(group1, group2):\n",
    "    \"\"\"\n",
    "    This function calculate the distance between group1 and group2 using \n",
    "    Chi-squared distance and Total Variation Distance (tvd).\n",
    "    \n",
    "    Parameters\n",
    "    ----------\n",
    "        group1: list\n",
    "            terminal digit list, which contains integers 0-9\n",
    "        group2: list\n",
    "            terminal digit list, which contains integers 0-9\n",
    "    \n",
    "    Returns\n",
    "    -------\n",
    "        tvd_obs: float\n",
    "            Total Variation Distance\n",
    "        chi_sq_obs: float\n",
    "            Chi-squared distance\n",
    "    \"\"\"\n",
    "    group1_obs = [group1.count(i)/len(group1) for i in range(10)]\n",
    "    group2_obs = [group2.count(i)/len(group2) for i in range(10)]\n",
    "    tvd_obs = 0.5*sum([abs(a_i - b_i) \n",
    "                       for a_i, b_i in zip(group1_obs, group2_obs)])\n",
    "    chi_sq_obs = 0.5*sum([abs(a_i - b_i)**2/(a_i + b_i) \n",
    "                          for a_i, b_i in zip(group1_obs, group2_obs)])\n",
    "    return tvd_obs, chi_sq_obs"
   ]
  },
  {
   "cell_type": "code",
   "execution_count": 255,
   "metadata": {
    "collapsed": false
   },
   "outputs": [],
   "source": [
    "def terminal_permutation(group1, group2, replication, plot = False):\n",
    "    \"\"\"\n",
    "    This function apply permutation test on the terminal digits for two groups.\n",
    "    The distance between two distribution are measured using Chi-squared distance \n",
    "    and Total Variation Distance (tvd).\n",
    "    \n",
    "    Parameters\n",
    "    ----------\n",
    "        group1, group2: pandas.core.frame.DataFrame\n",
    "            pandas data frame with triple column named col1, col2 and col3\n",
    "        replication: int\n",
    "            replication times for permutation\n",
    "        plot:\n",
    "            if True, plot the histogram of permutated statitics and \n",
    "            observed statitics\n",
    "    \n",
    "    Returns\n",
    "    -------\n",
    "        tvd_obs: float\n",
    "            observed tvd\n",
    "        tvd_p_value:  float\n",
    "            p-value calculated using tvd\n",
    "        chi_sq_obs: float\n",
    "            observed chi square distance\n",
    "        chi_sq_p_value:  float\n",
    "            p-value calculated using chi square distance\n",
    "    \"\"\"\n",
    "    # obtain the terminal digits\n",
    "    group1 = group1[['col1', 'col2', 'col3']].values.flatten()\n",
    "    group1 = group1[~np.isnan(group1)]\n",
    "    group1 = [np.mod(i, 10) for i in group1]\n",
    "    group2 = group2[['col1', 'col2', 'col3']].values.flatten()\n",
    "    group2 = group2[~np.isnan(group2)]\n",
    "    group2 = [np.mod(i, 10) for i in group2]\n",
    "    \n",
    "    # observed distance between distribution\n",
    "    tvd_obs, chi_sq_obs = calc_distance(group1, group2)\n",
    "    \n",
    "    # permutation\n",
    "    tvd = []\n",
    "    chi_sq = []\n",
    "    for i in np.arange(replication):\n",
    "        shuffled = random.sample(group1 + group2, \n",
    "                                 len(group1 + group2))\n",
    "        tvd_shuffled, chi_sq_shuffled = calc_distance(shuffled[:len(group1)], \n",
    "                                                      shuffled[len(group1):])\n",
    "        tvd.append(tvd_shuffled)\n",
    "        chi_sq.append(chi_sq_shuffled)\n",
    "        \n",
    "    tvd_p_value = sum(np.array(tvd) > tvd_obs) / replication\n",
    "    chi_sq_p_value = sum(np.array(chi_sq) > chi_sq_obs) / replication\n",
    "    \n",
    "    if plot:\n",
    "        f, (ax1, ax2) = plt.subplots(1, 2, figsize=(6,3))\n",
    "        ax1.hist(tvd, bins=20, color='c')\n",
    "        ax1.axvline(tvd_obs, color='b', linestyle='dashed', linewidth=2)\n",
    "        ax1.set_title(\"TVD\")\n",
    "        ax2.hist(chi_sq, bins=20, color='c')\n",
    "        ax2.axvline(chi_sq_obs, color='b', linestyle='dashed', linewidth=2)\n",
    "        ax2.set_title(\"Chi squared distance\")\n",
    "        plt.show()\n",
    "        \n",
    "    return tvd_obs, tvd_p_value, chi_sq_obs, chi_sq_p_value"
   ]
  },
  {
   "cell_type": "code",
   "execution_count": 256,
   "metadata": {
    "collapsed": false
   },
   "outputs": [
    {
     "data": {
      "image/png": "[encoded data removed]",
      "text/plain": [
       "<matplotlib.figure.Figure at 0x10a9942e8>"
      ]
     },
     "metadata": {},
     "output_type": "display_data"
    },
    {
     "data": {
      "text/plain": [
       "(0.09260466984966408, 0.0, 0.011145925839597975, 0.0)"
      ]
     },
     "execution_count": 256,
     "metadata": {},
     "output_type": "execute_result"
    }
   ],
   "source": [
    "terminal_permutation(rts_colony, inv_colony, replication=1000, plot=True)"
   ]
  },
  {
   "cell_type": "code",
   "execution_count": 257,
   "metadata": {
    "collapsed": false
   },
   "outputs": [
    {
     "data": {
      "text/html": [
       "<div>\n",
       "<table border=\"1\" class=\"dataframe\">\n",
       "  <thead>\n",
       "    <tr style=\"text-align: right;\">\n",
       "      <th></th>\n",
       "      <th>tvd obs</th>\n",
       "      <th>tvd p-value</th>\n",
       "      <th>chi sq obs</th>\n",
       "      <th>chi sq p-value</th>\n",
       "    </tr>\n",
       "  </thead>\n",
       "  <tbody>\n",
       "    <tr>\n",
       "      <th>H</th>\n",
       "      <td>0.210741</td>\n",
       "      <td>0.073</td>\n",
       "      <td>0.063945</td>\n",
       "      <td>0.091</td>\n",
       "    </tr>\n",
       "    <tr>\n",
       "      <th>I</th>\n",
       "      <td>0.100714</td>\n",
       "      <td>0.513</td>\n",
       "      <td>0.012008</td>\n",
       "      <td>0.694</td>\n",
       "    </tr>\n",
       "    <tr>\n",
       "      <th>E</th>\n",
       "      <td>0.176644</td>\n",
       "      <td>0.762</td>\n",
       "      <td>0.048531</td>\n",
       "      <td>0.840</td>\n",
       "    </tr>\n",
       "    <tr>\n",
       "      <th>B</th>\n",
       "      <td>0.126554</td>\n",
       "      <td>0.099</td>\n",
       "      <td>0.024279</td>\n",
       "      <td>0.081</td>\n",
       "    </tr>\n",
       "    <tr>\n",
       "      <th>G</th>\n",
       "      <td>0.234996</td>\n",
       "      <td>0.417</td>\n",
       "      <td>0.101799</td>\n",
       "      <td>0.299</td>\n",
       "    </tr>\n",
       "    <tr>\n",
       "      <th>F</th>\n",
       "      <td>0.113749</td>\n",
       "      <td>0.658</td>\n",
       "      <td>0.014296</td>\n",
       "      <td>0.846</td>\n",
       "    </tr>\n",
       "    <tr>\n",
       "      <th>C</th>\n",
       "      <td>0.064360</td>\n",
       "      <td>0.741</td>\n",
       "      <td>0.007566</td>\n",
       "      <td>0.629</td>\n",
       "    </tr>\n",
       "    <tr>\n",
       "      <th>D</th>\n",
       "      <td>0.083197</td>\n",
       "      <td>0.455</td>\n",
       "      <td>0.010927</td>\n",
       "      <td>0.398</td>\n",
       "    </tr>\n",
       "    <tr>\n",
       "      <th>A</th>\n",
       "      <td>0.057093</td>\n",
       "      <td>0.440</td>\n",
       "      <td>0.004284</td>\n",
       "      <td>0.556</td>\n",
       "    </tr>\n",
       "  </tbody>\n",
       "</table>\n",
       "</div>"
      ],
      "text/plain": [
       "    tvd obs  tvd p-value  chi sq obs  chi sq p-value\n",
       "H  0.210741        0.073    0.063945           0.091\n",
       "I  0.100714        0.513    0.012008           0.694\n",
       "E  0.176644        0.762    0.048531           0.840\n",
       "B  0.126554        0.099    0.024279           0.081\n",
       "G  0.234996        0.417    0.101799           0.299\n",
       "F  0.113749        0.658    0.014296           0.846\n",
       "C  0.064360        0.741    0.007566           0.629\n",
       "D  0.083197        0.455    0.010927           0.398\n",
       "A  0.057093        0.440    0.004284           0.556"
      ]
     },
     "execution_count": 257,
     "metadata": {},
     "output_type": "execute_result"
    }
   ],
   "source": [
    "colony_terminal_permute = pd.DataFrame(\n",
    "    columns=('tvd obs', \"tvd p-value\", \n",
    "             \"chi sq obs\", \"chi sq p-value\"))\n",
    "for inv in set(inv_colony.Inv):\n",
    "    colony_terminal_permute.loc[inv] = terminal_permutation(\n",
    "        inv_colony.loc[inv_colony.Inv == inv], \n",
    "        inv_colony.loc[inv_colony.Inv != inv], \n",
    "        replication=1000)\n",
    "colony_terminal_permute"
   ]
  },
  {
   "cell_type": "code",
   "execution_count": 258,
   "metadata": {
    "collapsed": false
   },
   "outputs": [
    {
     "data": {
      "text/html": [
       "<div>\n",
       "<table border=\"1\" class=\"dataframe\">\n",
       "  <thead>\n",
       "    <tr style=\"text-align: right;\">\n",
       "      <th></th>\n",
       "      <th>tvd obs</th>\n",
       "      <th>tvd p-value</th>\n",
       "      <th>chi sq obs</th>\n",
       "      <th>chi sq p-value</th>\n",
       "    </tr>\n",
       "  </thead>\n",
       "  <tbody>\n",
       "    <tr>\n",
       "      <th>I</th>\n",
       "      <td>0.106516</td>\n",
       "      <td>0.366</td>\n",
       "      <td>0.013187</td>\n",
       "      <td>0.586</td>\n",
       "    </tr>\n",
       "    <tr>\n",
       "      <th>E</th>\n",
       "      <td>0.088738</td>\n",
       "      <td>0.594</td>\n",
       "      <td>0.012340</td>\n",
       "      <td>0.570</td>\n",
       "    </tr>\n",
       "    <tr>\n",
       "      <th>B</th>\n",
       "      <td>0.076680</td>\n",
       "      <td>0.761</td>\n",
       "      <td>0.008445</td>\n",
       "      <td>0.805</td>\n",
       "    </tr>\n",
       "    <tr>\n",
       "      <th>G</th>\n",
       "      <td>0.146935</td>\n",
       "      <td>0.568</td>\n",
       "      <td>0.026720</td>\n",
       "      <td>0.724</td>\n",
       "    </tr>\n",
       "    <tr>\n",
       "      <th>F</th>\n",
       "      <td>0.047171</td>\n",
       "      <td>0.913</td>\n",
       "      <td>0.003623</td>\n",
       "      <td>0.905</td>\n",
       "    </tr>\n",
       "    <tr>\n",
       "      <th>C</th>\n",
       "      <td>0.170810</td>\n",
       "      <td>0.078</td>\n",
       "      <td>0.039468</td>\n",
       "      <td>0.113</td>\n",
       "    </tr>\n",
       "    <tr>\n",
       "      <th>D</th>\n",
       "      <td>0.075880</td>\n",
       "      <td>0.058</td>\n",
       "      <td>0.009961</td>\n",
       "      <td>0.014</td>\n",
       "    </tr>\n",
       "    <tr>\n",
       "      <th>A</th>\n",
       "      <td>0.054948</td>\n",
       "      <td>0.184</td>\n",
       "      <td>0.003931</td>\n",
       "      <td>0.257</td>\n",
       "    </tr>\n",
       "  </tbody>\n",
       "</table>\n",
       "</div>"
      ],
      "text/plain": [
       "    tvd obs  tvd p-value  chi sq obs  chi sq p-value\n",
       "I  0.106516        0.366    0.013187           0.586\n",
       "E  0.088738        0.594    0.012340           0.570\n",
       "B  0.076680        0.761    0.008445           0.805\n",
       "G  0.146935        0.568    0.026720           0.724\n",
       "F  0.047171        0.913    0.003623           0.905\n",
       "C  0.170810        0.078    0.039468           0.113\n",
       "D  0.075880        0.058    0.009961           0.014\n",
       "A  0.054948        0.184    0.003931           0.257"
      ]
     },
     "execution_count": 258,
     "metadata": {},
     "output_type": "execute_result"
    }
   ],
   "source": [
    "coulter_terminal_permute = pd.DataFrame(\n",
    "    columns=('tvd obs', \"tvd p-value\", \n",
    "             \"chi sq obs\", \"chi sq p-value\"))\n",
    "for inv in set(inv_coulter.Investigator):\n",
    "    coulter_terminal_permute.loc[inv] = terminal_permutation(\n",
    "        inv_coulter.loc[inv_coulter.Investigator == inv], \n",
    "        inv_coulter.loc[inv_coulter.Investigator != inv], \n",
    "        replication=1000)\n",
    "coulter_terminal_permute"
   ]
  },
  {
   "cell_type": "markdown",
   "metadata": {},
   "source": [
    "<a id='equal_digit_analysis'></a>\n",
    "## Equal digit analysis"
   ]
  },
  {
   "cell_type": "code",
   "execution_count": 259,
   "metadata": {
    "collapsed": true
   },
   "outputs": [],
   "source": [
    "def is_equal_digit(vec):\n",
    "    \"\"\"\n",
    "    This function give the results whether the numbers which greater than 100 is\n",
    "    equal digits number or not\n",
    "    \n",
    "    Parameters\n",
    "    ----------\n",
    "        vec: list\n",
    "            list of counts\n",
    "    \n",
    "    Returns\n",
    "    -------\n",
    "        boolean:\n",
    "            a list indicates whether the numbers which greater than 100 is\n",
    "            equal digits number or not\n",
    "    \"\"\"\n",
    "    return [(count - count % 10)/10 % 10  == count % 10 \n",
    "            for count in vec if count >= 100]"
   ]
  },
  {
   "cell_type": "code",
   "execution_count": 4,
   "metadata": {
    "collapsed": true
   },
   "outputs": [],
   "source": [
    "def binomial_stat(group1, group2):\n",
    "    \"\"\"\n",
    "    This function calculate the binomial statistics between \n",
    "    group1 and group2.\n",
    "    \n",
    "    Parameters\n",
    "    ----------\n",
    "        group1: list of int\n",
    "            counts list\n",
    "        group2: list of int\n",
    "            counts list\n",
    "    \n",
    "    Returns\n",
    "    -------\n",
    "        float:\n",
    "            binomial statistics between group1 and group2\n",
    "    \"\"\"\n",
    "    \n",
    "    prop1 = sum(group1) / len(group1)\n",
    "    prop2 = sum(group2) / len(group2)\n",
    "    return abs(prop1 - prop2) / np.sqrt(prop1*(1-prop1) / len(group1) + prop2*(1-prop2) / len(group2))"
   ]
  },
  {
   "cell_type": "code",
   "execution_count": 5,
   "metadata": {
    "collapsed": true
   },
   "outputs": [],
   "source": [
    "def binomial_permutation(group1, group2, replication):\n",
    "    \"\"\"\n",
    "    This function apply permutation test on the equal digit analyss for two groups.\n",
    "    \n",
    "    Parameters\n",
    "    ----------\n",
    "        group1, group2: list of int\n",
    "            counts list\n",
    "        replication: int\n",
    "            replication times for permutation\n",
    "    \n",
    "    Returns\n",
    "    -------\n",
    "        stat_obs: float\n",
    "            observed statistic\n",
    "        p_value:  float\n",
    "            p-value calculated\n",
    "    \"\"\"\n",
    "    group1 = group1[['col1', 'col2', 'col3']].values.flatten()\n",
    "    group1 = group1[~np.isnan(group1)]\n",
    "    group1 = is_equal_digit(group1)\n",
    "    group2 = group2[['col1', 'col2', 'col3']].values.flatten()\n",
    "    group2 = group2[~np.isnan(group2)]\n",
    "    group2 = is_equal_digit(group2)\n",
    "    \n",
    "    stat_obs = binomial_stat(group1, group2)\n",
    "    \n",
    "    stats = []\n",
    "    for i in np.arange(replication):\n",
    "        shuffled = random.sample(group1 + group2, \n",
    "                                 len(group1 + group2))\n",
    "        stat_shuffled = binomial_stat(shuffled[:len(group1)], shuffled[len(group1):])\n",
    "        stats.append(stat_shuffled)\n",
    "    \n",
    "    p_value = sum(np.array(stats) > stat_obs) / replication\n",
    "    return stat_obs, p_value"
   ]
  },
  {
   "cell_type": "code",
   "execution_count": 297,
   "metadata": {
    "collapsed": false
   },
   "outputs": [],
   "source": [
    "coulter_equal_permute = pd.DataFrame(\n",
    "    columns=('statistics', \"p-value\"))\n",
    "groups = list(itertools.combinations([\"rts_coulter\", \"inv_coulter\", \n",
    "                                      \"lab1_coulter\", \"lab2_coulter\"], 2))\n",
    "for i in range(6):\n",
    "    coulter_equal_permute.loc[i] = binomial_permutation(eval(groups[i][0]), \n",
    "                                                        eval(groups[i][1]), \n",
    "                                                        replication=1000)\n",
    "coulter_equal_permute[\"group1\"] = [i[0] for i in groups]\n",
    "coulter_equal_permute[\"group2\"] = [i[1] for i in groups]"
   ]
  },
  {
   "cell_type": "code",
   "execution_count": 298,
   "metadata": {
    "collapsed": false
   },
   "outputs": [
    {
     "data": {
      "text/html": [
       "<div>\n",
       "<table border=\"1\" class=\"dataframe\">\n",
       "  <thead>\n",
       "    <tr style=\"text-align: right;\">\n",
       "      <th></th>\n",
       "      <th>statistics</th>\n",
       "      <th>p-value</th>\n",
       "      <th>group1</th>\n",
       "      <th>group2</th>\n",
       "    </tr>\n",
       "  </thead>\n",
       "  <tbody>\n",
       "    <tr>\n",
       "      <th>0</th>\n",
       "      <td>3.492873</td>\n",
       "      <td>0.000</td>\n",
       "      <td>rts_coulter</td>\n",
       "      <td>inv_coulter</td>\n",
       "    </tr>\n",
       "    <tr>\n",
       "      <th>1</th>\n",
       "      <td>1.086831</td>\n",
       "      <td>0.256</td>\n",
       "      <td>rts_coulter</td>\n",
       "      <td>lab1_coulter</td>\n",
       "    </tr>\n",
       "    <tr>\n",
       "      <th>2</th>\n",
       "      <td>2.678101</td>\n",
       "      <td>0.013</td>\n",
       "      <td>rts_coulter</td>\n",
       "      <td>lab2_coulter</td>\n",
       "    </tr>\n",
       "    <tr>\n",
       "      <th>3</th>\n",
       "      <td>0.300203</td>\n",
       "      <td>0.769</td>\n",
       "      <td>inv_coulter</td>\n",
       "      <td>lab1_coulter</td>\n",
       "    </tr>\n",
       "    <tr>\n",
       "      <th>4</th>\n",
       "      <td>1.008952</td>\n",
       "      <td>0.299</td>\n",
       "      <td>inv_coulter</td>\n",
       "      <td>lab2_coulter</td>\n",
       "    </tr>\n",
       "    <tr>\n",
       "      <th>5</th>\n",
       "      <td>0.933131</td>\n",
       "      <td>0.347</td>\n",
       "      <td>lab1_coulter</td>\n",
       "      <td>lab2_coulter</td>\n",
       "    </tr>\n",
       "  </tbody>\n",
       "</table>\n",
       "</div>"
      ],
      "text/plain": [
       "   statistics  p-value        group1        group2\n",
       "0    3.492873    0.000   rts_coulter   inv_coulter\n",
       "1    1.086831    0.256   rts_coulter  lab1_coulter\n",
       "2    2.678101    0.013   rts_coulter  lab2_coulter\n",
       "3    0.300203    0.769   inv_coulter  lab1_coulter\n",
       "4    1.008952    0.299   inv_coulter  lab2_coulter\n",
       "5    0.933131    0.347  lab1_coulter  lab2_coulter"
      ]
     },
     "execution_count": 298,
     "metadata": {},
     "output_type": "execute_result"
    }
   ],
   "source": [
    "coulter_equal_permute"
   ]
  },
  {
   "cell_type": "code",
   "execution_count": 268,
   "metadata": {
    "collapsed": false
   },
   "outputs": [
    {
     "data": {
      "text/html": [
       "<div>\n",
       "<table border=\"1\" class=\"dataframe\">\n",
       "  <thead>\n",
       "    <tr style=\"text-align: right;\">\n",
       "      <th></th>\n",
       "      <th>statistics</th>\n",
       "      <th>p-value</th>\n",
       "    </tr>\n",
       "  </thead>\n",
       "  <tbody>\n",
       "    <tr>\n",
       "      <th>I</th>\n",
       "      <td>1.324474</td>\n",
       "      <td>0.177</td>\n",
       "    </tr>\n",
       "    <tr>\n",
       "      <th>E</th>\n",
       "      <td>0.082061</td>\n",
       "      <td>0.876</td>\n",
       "    </tr>\n",
       "    <tr>\n",
       "      <th>B</th>\n",
       "      <td>0.493755</td>\n",
       "      <td>0.575</td>\n",
       "    </tr>\n",
       "    <tr>\n",
       "      <th>G</th>\n",
       "      <td>1.012026</td>\n",
       "      <td>0.281</td>\n",
       "    </tr>\n",
       "    <tr>\n",
       "      <th>F</th>\n",
       "      <td>1.705229</td>\n",
       "      <td>0.093</td>\n",
       "    </tr>\n",
       "    <tr>\n",
       "      <th>C</th>\n",
       "      <td>0.528736</td>\n",
       "      <td>0.469</td>\n",
       "    </tr>\n",
       "    <tr>\n",
       "      <th>D</th>\n",
       "      <td>0.181783</td>\n",
       "      <td>0.802</td>\n",
       "    </tr>\n",
       "    <tr>\n",
       "      <th>A</th>\n",
       "      <td>0.179038</td>\n",
       "      <td>0.853</td>\n",
       "    </tr>\n",
       "  </tbody>\n",
       "</table>\n",
       "</div>"
      ],
      "text/plain": [
       "   statistics  p-value\n",
       "I    1.324474    0.177\n",
       "E    0.082061    0.876\n",
       "B    0.493755    0.575\n",
       "G    1.012026    0.281\n",
       "F    1.705229    0.093\n",
       "C    0.528736    0.469\n",
       "D    0.181783    0.802\n",
       "A    0.179038    0.853"
      ]
     },
     "execution_count": 268,
     "metadata": {},
     "output_type": "execute_result"
    }
   ],
   "source": [
    "coulter_equal_permute = pd.DataFrame(\n",
    "    columns=('statistics', \"p-value\"))\n",
    "for inv in set(inv_coulter.Investigator):\n",
    "    coulter_equal_permute.loc[inv] = binomial_permutation(\n",
    "        inv_coulter.loc[inv_coulter.Investigator == inv], \n",
    "        inv_coulter.loc[inv_coulter.Investigator != inv], \n",
    "        replication=1000)\n",
    "coulter_equal_permute"
   ]
  },
  {
   "cell_type": "code",
   "execution_count": null,
   "metadata": {
    "collapsed": true
   },
   "outputs": [],
   "source": []
  }
 ],
 "metadata": {
  "kernelspec": {
   "display_name": "Python 3",
   "language": "python",
   "name": "python3"
  },
  "language_info": {
   "codemirror_mode": {
    "name": "ipython",
    "version": 3
   },
   "file_extension": ".py",
   "mimetype": "text/x-python",
   "name": "python",
   "nbconvert_exporter": "python",
   "pygments_lexer": "ipython3",
   "version": "3.5.2"
  }
 },
 "nbformat": 4,
 "nbformat_minor": 1
}
