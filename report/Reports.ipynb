{
 "cells": [
  {
   "cell_type": "markdown",
   "metadata": {},
   "source": [
    "# Sections\n",
    "\n",
    "- [Read data](#read_data)\n",
    "    * [Read counts data](#read_counts_data)\n",
    "    * [Read Mid-probability table](#read_Mid-probability_table)\n",
    "    \n",
    "- [Hypothesis I](#hypothesis1)\n",
    "\n",
    "- [Hypothesis II](#hypothesis2)\n",
    "\n",
    "- [Hypothesis III](#hypothesis3)\n",
    "    * [Reproduce results](#reproduce_results_hypothesis3)\n",
    "    * [Test for individuals in the lab](#individuals_hypothesis3)\n",
    "    \n",
    "- [Terminal Digits Analysis](#tda)\n",
    "    * [Reproduce results](#reproduce_tda)\n",
    "    * [Test for individuals in the lab](#individuals_tda)\n",
    "    \n",
    "- [Equal Digits Analysis](#eda)\n",
    "    * [Reproduce results](#reproduce_eda)\n",
    "    * [Test for individuals in the lab](#individuals_eda)\n",
    "    \n",
    "- [Distribution assumption check](#assumption_check)\n",
    "    * [Terminal digit assumption](#td_assumption)\n",
    "    * [Poisson assumption](#poisson_assumption)\n",
    "    * [Last two digits assumption](#ltd_assumption)\n",
    "    \n",
    "- [Permutation test](#permutation_test)\n",
    "    * [Terminal digit analysis](#terminal_digit_analysis)\n",
    "    * [Equal digit analysis](#equal_digit_analysis)\n",
    "    * [Mid-containing triplets analysis](#mid-containing_triplets_analysis)\n",
    "    \n",
    "- [Tables and figures](#tablesFigures)\n",
    "    * [Table 1](#table1)\n",
    "    * [Figure 1](#figure1)\n",
    "\n",
    "- [Tests](#tests)"
   ]
  },
  {
   "cell_type": "code",
   "execution_count": 1,
   "metadata": {
    "collapsed": false
   },
   "outputs": [],
   "source": [
    "from __future__ import division, generators, absolute_import, print_function\n",
    "\n",
    "import numpy as np\n",
    "import scipy.stats\n",
    "import pandas as pd\n",
    "import random\n",
    "import matplotlib.pyplot as plt\n",
    "from scipy.stats import binom\n",
    "%matplotlib inline\n",
    "\n",
    "import readline\n",
    "%load_ext rpy2.ipython\n",
    "from openpyxl import load_workbook\n",
    "import itertools\n",
    "\n",
    "data_dir = '../data/'"
   ]
  },
  {
   "cell_type": "markdown",
   "metadata": {},
   "source": [
    "<a id='read_data'></a>\n",
    "# Read Data"
   ]
  },
  {
   "cell_type": "markdown",
   "metadata": {},
   "source": [
    "<a id='read_counts_data'></a>\n",
    "## Read counts data"
   ]
  },
  {
   "cell_type": "code",
   "execution_count": 2,
   "metadata": {
    "collapsed": true
   },
   "outputs": [],
   "source": [
    "def read_data(data_dir, file_name, skiprows, triple_col):\n",
    "    \"\"\"\n",
    "    This function reads data from xlsx file\n",
    "    \n",
    "    Parameters\n",
    "    ----------\n",
    "        data_dir: string\n",
    "            data directory\n",
    "        file_name: string\n",
    "            xlsx file name\n",
    "        skiprows: int\n",
    "            rows to skip at the beginning\n",
    "        triple_col: list of string\n",
    "            a list of length 3, the column name for the triple in the xlsx file\n",
    "    \n",
    "    Returns\n",
    "    -------\n",
    "        df: pandas.core.frame.DataFrame\n",
    "            pandas data frame with triple column named col1, col2 and col3\n",
    "    \"\"\"\n",
    "    df = pd.read_excel(data_dir + file_name, skiprows = skiprows)\n",
    "    df[triple_col] = df[triple_col].apply(\n",
    "        lambda x: pd.to_numeric(x, errors='coerce'))\n",
    "    col_name = ['col1', 'col2', 'col3']\n",
    "    df = df.rename(columns = {triple_col[0]: col_name[0],\n",
    "                              triple_col[1]: col_name[1],\n",
    "                              triple_col[2]: col_name[2]})\n",
    "    return df"
   ]
  },
  {
   "cell_type": "code",
   "execution_count": 3,
   "metadata": {
    "collapsed": true
   },
   "outputs": [],
   "source": [
    "def filter_na_triple(df):\n",
    "    \"\"\"\n",
    "    This function remove triples with missing values\n",
    "    \n",
    "    Parameters\n",
    "    ----------\n",
    "        df: pandas.core.frame.DataFrame\n",
    "            pandas data frame with triple column named col1, col2 and col3\n",
    "    \n",
    "    Returns\n",
    "    -------   \n",
    "        df: pandas.core.frame.DataFrame\n",
    "            pandas data frame with triple column named col1, col2 and col3,\n",
    "            triples with missing values are removed\n",
    "    \"\"\"\n",
    "    df = df.copy(deep=True)\n",
    "    col_name = ['col1', 'col2', 'col3']\n",
    "    nan_index = df[col_name].apply(np.isnan).any(1).nonzero()[0]\n",
    "    df = df.drop(df.index[nan_index])\n",
    "    df = df.reset_index(drop=True) \n",
    "    return df"
   ]
  },
  {
   "cell_type": "code",
   "execution_count": 4,
   "metadata": {
    "collapsed": true
   },
   "outputs": [],
   "source": [
    "def filter_gap_2(df):\n",
    "    \"\"\"\n",
    "    This function sort each triple by increasing order, and \n",
    "    triples with gap less than or equal to 1 are filtered out\n",
    "    \n",
    "    Parameters\n",
    "    ----------\n",
    "        df: pandas.core.frame.DataFrame\n",
    "            pandas data frame with triple column named col1, col2 and col3\n",
    "    \n",
    "    Returns\n",
    "    -------   \n",
    "        df: pandas.core.frame.DataFrame\n",
    "            pandas data frame with triple column named col1, col2 and col3,\n",
    "            each triple is sorted by increasing order,\n",
    "            triples with gap less than or equal to 1 are filtered out\n",
    "    \"\"\"\n",
    "    \n",
    "    df = df.copy(deep=True)\n",
    "    col_name = ['col1', 'col2', 'col3']\n",
    "    nan_index = df[col_name].apply(np.isnan).any(1).nonzero()[0]\n",
    "    df = df.drop(df.index[nan_index])\n",
    "    df = df.reset_index(drop=True)\n",
    "    \n",
    "    # sort each triple by increasing order\n",
    "    df[col_name] = df[col_name].apply(np.sort, axis = 1)\n",
    "    \n",
    "    # filter out the triples with gap less than or equal to 1\n",
    "    complete_index = df[col_name].apply(\n",
    "        lambda x: x.col3 - x.col1 <=1, axis=1).nonzero()[0]\n",
    "    df = df.drop(df.index[complete_index])\n",
    "    df = df.reset_index(drop=True)\n",
    "    \n",
    "    return df"
   ]
  },
  {
   "cell_type": "markdown",
   "metadata": {},
   "source": [
    "<a id='readfromxls'></a>"
   ]
  },
  {
   "cell_type": "code",
   "execution_count": 5,
   "metadata": {
    "collapsed": false
   },
   "outputs": [],
   "source": [
    "def ReadFromXls(file, cols, rows, types, sorted = True, verbose = True):\n",
    "    '''\n",
    "     Read file.xlsx and extract a 2d list \n",
    "     Written by BigRabbit.\n",
    "     Inputs:\n",
    "       file    : str of file location\n",
    "       cols    : list/tuple of selected columns\n",
    "       rows    : list/tuple of selected rows\n",
    "       types   : a tuple of allowed types, e.g. (int, long)\n",
    "       sorted  : boolean whether to sort each row (only valid when types are numerics)\n",
    "       verbose : boolean whether to print what's going on\n",
    "     Output:\n",
    "       a 2d list of integers\n",
    "    '''\n",
    "    if verbose: print('****** ReadFromXls: Read file.xlsx and extract a 2d list *****')\n",
    "    from openpyxl import load_workbook\n",
    "    wb  = load_workbook(file) \n",
    "    if verbose: print('-- Opened file:', file)\n",
    "    if verbose: print('-- Sheet names:', wb.get_sheet_names(), 'Using Sheet1 as default.')\n",
    "    ws = wb.get_sheet_by_name('Sheet1')\n",
    "    if verbose: print('-- A1 (typically the title):', ws['A1'].value)\n",
    "    rawData = []\n",
    "    for i in rows:\n",
    "        oneRow = []\n",
    "        for j in cols:\n",
    "            entry = ws[j + str(i)].value\n",
    "            if isinstance(entry, types):\n",
    "                oneRow.append(entry)\n",
    "            else:\n",
    "                break\n",
    "        if len(oneRow) == len(cols):\n",
    "            if sorted: oneRow.sort()\n",
    "            rawData.append(oneRow)\n",
    "    if verbose: print('-- successfully read ', len(rawData), 'full lines!')\n",
    "    if verbose: print('************************ finished. *************************')\n",
    "    return rawData"
   ]
  },
  {
   "cell_type": "markdown",
   "metadata": {},
   "source": [
    "Read colony data from RTS, other invectigators in the lab and outside lab 3."
   ]
  },
  {
   "cell_type": "code",
   "execution_count": 6,
   "metadata": {
    "collapsed": false
   },
   "outputs": [],
   "source": [
    "# colony data: RTS\n",
    "rts_colony = read_data(\n",
    "    data_dir, 'Bishayee Colony Counts 10.27.97-3.8.01.xlsx', \n",
    "    skiprows=2, triple_col=['col1', 'col2', 'col3'])\n",
    "\n",
    "# colony data: other invectigators in the lab\n",
    "inv_colony = read_data(\n",
    "    data_dir, 'Other Investigators in Lab.Colony Counts.4.23.92-11.27.02.xlsx', \n",
    "    skiprows=1, triple_col=['col1', 'col2', 'col3'])\n",
    "\n",
    "# colony data: outside lab\n",
    "lab_colony = read_data(\n",
    "    data_dir, 'Outside Lab 3.Colony Counts.2.4.10-5.21.12.xlsx', \n",
    "    skiprows=1, triple_col=['c1', 'c2', 'c3'])"
   ]
  },
  {
   "cell_type": "markdown",
   "metadata": {},
   "source": [
    "Read coulter data from RTS, other invectigators in the lab and outside lab 1 and 2."
   ]
  },
  {
   "cell_type": "code",
   "execution_count": 7,
   "metadata": {
    "collapsed": false
   },
   "outputs": [],
   "source": [
    "# coulter data: RTS\n",
    "rts_coulter = read_data(\n",
    "    data_dir, 'Bishayee Coulter Counts.10.20.97-7.16.01.xlsx', \n",
    "    skiprows=1, triple_col=['Count 1', 'Count 2', 'Count 3'])\n",
    "\n",
    "# coulter data: other invectigators in the lab\n",
    "inv_coulter = read_data(\n",
    "    data_dir, 'Other Investigators in Lab.Coulter Counts.4.15.92-5.21.05.xlsx', \n",
    "    skiprows=1, triple_col=['Coul 1', 'Coul 2', 'Coul 3'])\n",
    "\n",
    "# coulter data: outside lab1\n",
    "lab1_coulter = read_data(\n",
    "    data_dir, 'Outside Lab 1.Coulter Counts.6.7.91-4.9.99.xlsx', \n",
    "    skiprows=0, triple_col=['Unnamed: 1', 'Unnamed: 2', 'Unnamed: 3'])\n",
    "\n",
    "# coulter data: outside lab2\n",
    "lab2_coulter = read_data(\n",
    "    data_dir, 'Outside Lab 2.Coulter Counts.6.6.08-7.7.08.xlsx', \n",
    "    skiprows=1, triple_col=['Count 1', 'Count 2', 'Count 3'])"
   ]
  },
  {
   "cell_type": "markdown",
   "metadata": {},
   "source": [
    "As a sanity check, we count the number of triples in each data set as follows. The **No. triples** shows the number of triples without missing values and the **No. complete** shows the number of triples after we removing the triples with gap less than or equal to 1. Our results disagree with the number persented in the paper in the following entries (blue shows our results). \n",
    "\n",
    "|\t         | No. triples\t|No. complete |\n",
    "|------------|--------------|-------------|\n",
    "|inv_colony  |591(<font color='blue'>597</font>)  |572(<font color='blue'>578</font>)|\n",
    "|rts_coulter |1717(<font color='blue'>1727</font>)|1716(<font color='blue'>1726</font>)|"
   ]
  },
  {
   "cell_type": "code",
   "execution_count": 8,
   "metadata": {
    "collapsed": false
   },
   "outputs": [
    {
     "data": {
      "text/html": [
       "<div>\n",
       "<table border=\"1\" class=\"dataframe\">\n",
       "  <thead>\n",
       "    <tr style=\"text-align: right;\">\n",
       "      <th></th>\n",
       "      <th>No. triples</th>\n",
       "      <th>No. complete</th>\n",
       "    </tr>\n",
       "  </thead>\n",
       "  <tbody>\n",
       "    <tr>\n",
       "      <th>rts_colony</th>\n",
       "      <td>1361</td>\n",
       "      <td>1343</td>\n",
       "    </tr>\n",
       "    <tr>\n",
       "      <th>inv_colony</th>\n",
       "      <td>597</td>\n",
       "      <td>578</td>\n",
       "    </tr>\n",
       "    <tr>\n",
       "      <th>lab_colony</th>\n",
       "      <td>50</td>\n",
       "      <td>49</td>\n",
       "    </tr>\n",
       "    <tr>\n",
       "      <th>rts_coulter</th>\n",
       "      <td>1727</td>\n",
       "      <td>1726</td>\n",
       "    </tr>\n",
       "    <tr>\n",
       "      <th>inv_coulter</th>\n",
       "      <td>929</td>\n",
       "      <td>929</td>\n",
       "    </tr>\n",
       "    <tr>\n",
       "      <th>lab1_coulter</th>\n",
       "      <td>97</td>\n",
       "      <td>97</td>\n",
       "    </tr>\n",
       "    <tr>\n",
       "      <th>lab2_coulter</th>\n",
       "      <td>120</td>\n",
       "      <td>120</td>\n",
       "    </tr>\n",
       "  </tbody>\n",
       "</table>\n",
       "</div>"
      ],
      "text/plain": [
       "              No. triples  No. complete\n",
       "rts_colony           1361          1343\n",
       "inv_colony            597           578\n",
       "lab_colony             50            49\n",
       "rts_coulter          1727          1726\n",
       "inv_coulter           929           929\n",
       "lab1_coulter           97            97\n",
       "lab2_coulter          120           120"
      ]
     },
     "execution_count": 8,
     "metadata": {},
     "output_type": "execute_result"
    }
   ],
   "source": [
    "no_triples = pd.DataFrame(columns=(\"No. triples\", \"No. complete\"))\n",
    "for dfs in [\"rts_colony\", \"inv_colony\", \"lab_colony\",\n",
    "            \"rts_coulter\", \"inv_coulter\", \"lab1_coulter\", \"lab2_coulter\"]:\n",
    "    no_triples.loc[dfs] = (len(filter_na_triple(eval(dfs))), \n",
    "                           len(filter_gap_2(eval(dfs))))\n",
    "no_triples"
   ]
  },
  {
   "cell_type": "markdown",
   "metadata": {},
   "source": [
    "<a id='read_Mid-probability_table'></a>\n",
    "## Read Mid-probability table"
   ]
  },
  {
   "cell_type": "code",
   "execution_count": 9,
   "metadata": {
    "collapsed": false
   },
   "outputs": [
    {
     "data": {
      "text/plain": [
       "(2129, 2)"
      ]
     },
     "execution_count": 9,
     "metadata": {},
     "output_type": "execute_result"
    }
   ],
   "source": [
    "# read the mid probability table from output directory\n",
    "# mid probability table: the mid-containing probability for different \n",
    "# values of lambdas\n",
    "output_dir = \"../outputs/\"\n",
    "midProb = np.loadtxt(output_dir + \"MidProb.txt\", delimiter=\"\\t\")\n",
    "midProb.shape"
   ]
  },
  {
   "cell_type": "markdown",
   "metadata": {},
   "source": [
    "<a id='hypothesis1'></a>\n",
    "# Hypothesis I\n",
    "require read data function [ReadFromXls](#readfromxls)"
   ]
  },
  {
   "cell_type": "code",
   "execution_count": 10,
   "metadata": {
    "collapsed": false
   },
   "outputs": [
    {
     "data": {
      "text/html": [
       "<div>\n",
       "<table border=\"1\" class=\"dataframe\">\n",
       "  <thead>\n",
       "    <tr style=\"text-align: right;\">\n",
       "      <th></th>\n",
       "      <th>No. Obs.</th>\n",
       "      <th>No. Mid</th>\n",
       "      <th>p-value Upper bound</th>\n",
       "    </tr>\n",
       "  </thead>\n",
       "  <tbody>\n",
       "    <tr>\n",
       "      <th>RTS</th>\n",
       "      <td>1343</td>\n",
       "      <td>690</td>\n",
       "      <td>2.85e-12</td>\n",
       "    </tr>\n",
       "    <tr>\n",
       "      <th>Else</th>\n",
       "      <td>572</td>\n",
       "      <td>109</td>\n",
       "      <td>1.00e+00</td>\n",
       "    </tr>\n",
       "    <tr>\n",
       "      <th>A</th>\n",
       "      <td>248</td>\n",
       "      <td>47</td>\n",
       "      <td>1.00e+00</td>\n",
       "    </tr>\n",
       "    <tr>\n",
       "      <th>B</th>\n",
       "      <td>56</td>\n",
       "      <td>8</td>\n",
       "      <td>1.00e+00</td>\n",
       "    </tr>\n",
       "    <tr>\n",
       "      <th>C</th>\n",
       "      <td>85</td>\n",
       "      <td>20</td>\n",
       "      <td>1.00e+00</td>\n",
       "    </tr>\n",
       "    <tr>\n",
       "      <th>D</th>\n",
       "      <td>77</td>\n",
       "      <td>11</td>\n",
       "      <td>1.00e+00</td>\n",
       "    </tr>\n",
       "    <tr>\n",
       "      <th>E</th>\n",
       "      <td>10</td>\n",
       "      <td>1</td>\n",
       "      <td>9.96e-01</td>\n",
       "    </tr>\n",
       "    <tr>\n",
       "      <th>F</th>\n",
       "      <td>29</td>\n",
       "      <td>3</td>\n",
       "      <td>1.00e+00</td>\n",
       "    </tr>\n",
       "    <tr>\n",
       "      <th>G</th>\n",
       "      <td>7</td>\n",
       "      <td>1</td>\n",
       "      <td>9.78e-01</td>\n",
       "    </tr>\n",
       "    <tr>\n",
       "      <th>H</th>\n",
       "      <td>21</td>\n",
       "      <td>0</td>\n",
       "      <td>1.00e+00</td>\n",
       "    </tr>\n",
       "    <tr>\n",
       "      <th>I</th>\n",
       "      <td>44</td>\n",
       "      <td>8</td>\n",
       "      <td>1.00e+00</td>\n",
       "    </tr>\n",
       "  </tbody>\n",
       "</table>\n",
       "</div>"
      ],
      "text/plain": [
       "     No. Obs. No. Mid p-value Upper bound\n",
       "RTS      1343     690            2.85e-12\n",
       "Else      572     109            1.00e+00\n",
       "A         248      47            1.00e+00\n",
       "B          56       8            1.00e+00\n",
       "C          85      20            1.00e+00\n",
       "D          77      11            1.00e+00\n",
       "E          10       1            9.96e-01\n",
       "F          29       3            1.00e+00\n",
       "G           7       1            9.78e-01\n",
       "H          21       0            1.00e+00\n",
       "I          44       8            1.00e+00"
      ]
     },
     "execution_count": 10,
     "metadata": {},
     "output_type": "execute_result"
    }
   ],
   "source": [
    "file = '../data/Other Investigators in Lab.Colony Counts.4.23.92-11.27.02.xlsx'\n",
    "rawData2 = ReadFromXls(file, ('C', 'D', 'E', 'F'), rows = range(3, 623), types = (int, str), sorted = False, verbose=False)\n",
    "invs = ['A', 'B', 'C', 'D', 'E', 'F', 'G', 'H', 'I']\n",
    "test1 = pd.DataFrame(columns = ('No. Obs.', 'No. Mid', 'p-value Upper bound'))\n",
    "test1.loc['RTS']  = ('%d' % 1343, '%d' %  690, '%.2e' % (1 - binom.cdf(690 - 1, 1343, 0.42)))\n",
    "test1.loc['Else'] = ('%d' % 572, '%d' % 109, '%.2e' % (1 - binom.cdf(109 - 1,  572, 0.42)))\n",
    "for name in invs:\n",
    "    data = [x[1:4] for x in rawData2 if x[0] == name]\n",
    "    data = [x for x in data if isinstance(x[0], int) and isinstance(x[1], int) and isinstance(x[2], int)] # filter out empty\n",
    "    data = [np.sort(x) for x in data] # sort each row from small to big\n",
    "    data = [x for x in data if x[2] - x[0] > 1] # filter out gap < 2\n",
    "    containMean = [x for x in data if int((x[0] + x[1] + x[2])/3) == int(x[1])]\n",
    "    test1.loc[name] = ('%d' % len(data), '%d' % len(containMean), '%.2e' % (1 - binom.cdf(len(containMean) - 1, len(data), .42)))\n",
    "test1"
   ]
  },
  {
   "cell_type": "code",
   "execution_count": 11,
   "metadata": {
    "collapsed": false
   },
   "outputs": [
    {
     "data": {
      "image/png": "[encoded data removed]",
      "text/plain": [
       "<matplotlib.figure.Figure at 0x11c393630>"
      ]
     },
     "metadata": {},
     "output_type": "display_data"
    }
   ],
   "source": [
    "invs = ['A', 'B', 'C', 'D', 'E', 'F', 'G', 'H', 'I']\n",
    "plt.figure(figsize=(18, 6))\n",
    "for i in range(0, 9):\n",
    "    name = invs[i - 1]\n",
    "    data = [x[1:4] for x in rawData2 if x[0] == name]\n",
    "    data = [x for x in data if isinstance(x[0], int) and isinstance(x[1], int) and isinstance(x[2], int)] # filter out empty\n",
    "    data = [np.sort(x) for x in data] # sort each row from small to big\n",
    "    data = [x for x in data if x[2] - x[0] > 1] # filter out gap < 2\n",
    "    midRatio = [(x[1] - x[0])/(x[2] - x[0]) for x in data]\n",
    "    plt.subplot(3, 3, i + 1)\n",
    "    plt.hist(midRatio, [0, .101, .201, .301, .401, .501, .601, .701, .801, .901, 1.01],\n",
    "                                 rwidth=0.5)\n"
   ]
  },
  {
   "cell_type": "code",
   "execution_count": 12,
   "metadata": {
    "collapsed": false
   },
   "outputs": [
    {
     "data": {
      "text/plain": [
       "(array([  95.,   85.,  100.,  101.,  116.,   92.,  106.,  115.,   99.,   86.]),\n",
       " array([ 0.   ,  0.101,  0.201,  0.301,  0.401,  0.501,  0.601,  0.701,\n",
       "         0.801,  0.901,  1.01 ]),\n",
       " <a list of 10 Patch objects>)"
      ]
     },
     "execution_count": 12,
     "metadata": {},
     "output_type": "execute_result"
    },
    {
     "data": {
      "image/png": "[encoded data removed]",
      "text/plain": [
       "<matplotlib.figure.Figure at 0x11c5ef710>"
      ]
     },
     "metadata": {},
     "output_type": "display_data"
    }
   ],
   "source": [
    "simuTriples = [np.sort(np.random.poisson(lam=i, size=3).tolist()) for i in [1] * 1000]\n",
    "simuTriples = [x for x in simuTriples if x[2] > x[0] + 1]\n",
    "midRatio  = [(x[1] - x[0])/(x[2] - x[0]) for x in simuTriples]\n",
    "plt.figure(figsize=(18, 6))\n",
    "plt.subplot(1, 2, 1)\n",
    "plt.hist(midRatio,  [0, .101, .201, .301, .401, .501, .601, .701, .801, .901, 1.01],\n",
    "                                 rwidth=0.5)\n",
    "\n",
    "simuTriples = [np.sort(np.random.poisson(lam=i, size=3).tolist()) for i in [100] * 1000]\n",
    "simuTriples = [x for x in simuTriples if x[2] > x[0] + 1]\n",
    "midRatio  = [(x[1] - x[0])/(x[2] - x[0]) for x in simuTriples]\n",
    "plt.subplot(1, 2, 2)\n",
    "plt.hist(midRatio,  [0, .101, .201, .301, .401, .501, .601, .701, .801, .901, 1.01],\n",
    "                                 rwidth=0.5)"
   ]
  },
  {
   "cell_type": "markdown",
   "metadata": {},
   "source": [
    "<a id='hypothesis2'></a>\n",
    "# Hypothesis II"
   ]
  },
  {
   "cell_type": "markdown",
   "metadata": {},
   "source": [
    "There is some problem when referring to dataset in Lab1,2,3, i.e., the Lab2 referred in paper seemes to be Lab1 dataset here. We need to distinguish them from the number of completed experiments, 97 ~ 49 ~ 120.\n",
    "\n",
    "We are able to reproduce most of the result in Table2 of the paper, though with some gaps in p-values.\n",
    "\n",
    "Here we use R scripts to be consistent with the R package adopted in original paper."
   ]
  },
  {
   "cell_type": "markdown",
   "metadata": {},
   "source": [
    "### Read data"
   ]
  },
  {
   "cell_type": "code",
   "execution_count": 13,
   "metadata": {
    "collapsed": false
   },
   "outputs": [],
   "source": [
    "%%R\n",
    "\n",
    "library(poibin)\n",
    "wdir = '../data/'\n",
    "midprob = read.table('../outputs/MidProb.txt')"
   ]
  },
  {
   "cell_type": "markdown",
   "metadata": {},
   "source": [
    "#### RTS colony"
   ]
  },
  {
   "cell_type": "code",
   "execution_count": 14,
   "metadata": {
    "collapsed": false
   },
   "outputs": [
    {
     "data": {
      "text/plain": [
       "[1] 1362    7\n",
       "[1] 1343    7\n"
      ]
     },
     "metadata": {},
     "output_type": "display_data"
    }
   ],
   "source": [
    "%%R\n",
    "\n",
    "rts.colony <- read.csv(paste0(wdir,\"Bishayee Colony Counts 10.27.97-3.8.csv\"),header=T,skip=2)\n",
    "# head(rts.colony)\n",
    "print(dim(rts.colony))\n",
    "\n",
    "idx1 = which(apply(rts.colony[,4:6],1,function(x) any(is.na(x))))\n",
    "idx2 = which(apply(rts.colony[,4:6],1,function(x) (max(x) - min(x)) < 2 ))\n",
    "idx = unique(c(idx1, idx2))\n",
    "rts.colony = rts.colony[-idx, ]\n",
    "print(dim(rts.colony))"
   ]
  },
  {
   "cell_type": "markdown",
   "metadata": {},
   "source": [
    "#### RTS Coulter"
   ]
  },
  {
   "cell_type": "code",
   "execution_count": 15,
   "metadata": {
    "collapsed": false
   },
   "outputs": [
    {
     "data": {
      "text/plain": [
       "[1] 1729    6\n",
       "[1] 1726    6\n"
      ]
     },
     "metadata": {},
     "output_type": "display_data"
    }
   ],
   "source": [
    "%%R\n",
    "\n",
    "rts.coulter <- read.csv(paste0(wdir,\"Bishayee Coulter Counts.10.20.97-7.16.csv\"),header=T,skip=1)\n",
    "# head(rts.coulter)\n",
    "print(dim(rts.coulter))\n",
    "\n",
    "idx1 = which(apply(rts.coulter[,3:5],1,function(x) any(is.na(x))))\n",
    "idx2 = which(apply(rts.coulter[,3:5],1,function(x) (max(x) - min(x)) < 2 ))\n",
    "idx = unique(c(idx1, idx2))\n",
    "rts.coulter = rts.coulter[-idx, ]\n",
    "print(dim(rts.coulter))"
   ]
  },
  {
   "cell_type": "markdown",
   "metadata": {},
   "source": [
    "#### Others Colony"
   ]
  },
  {
   "cell_type": "code",
   "execution_count": 16,
   "metadata": {
    "collapsed": false
   },
   "outputs": [
    {
     "data": {
      "text/plain": [
       "[1] 621   7\n",
       "[1] 578   7\n"
      ]
     },
     "metadata": {},
     "output_type": "display_data"
    }
   ],
   "source": [
    "%%R\n",
    "\n",
    "others.colony <- read.csv(paste0(wdir,\"Other Investigators in Lab.Colony Counts.4.23.92-11.27.csv\"),header=T,skip=1)\n",
    "# head(others.colony)\n",
    "print(dim(others.colony))\n",
    "\n",
    "idx1 = which(apply(others.colony[,4:6],1,function(x) any(is.na(x))))\n",
    "idx2 = which(apply(others.colony[,4:6],1,function(x) (max(x) - min(x)) < 2 ))\n",
    "idx = unique(c(idx1, idx2))\n",
    "others.colony = others.colony[-idx, ]\n",
    "print(dim(others.colony))"
   ]
  },
  {
   "cell_type": "markdown",
   "metadata": {},
   "source": [
    "#### Others Coulter"
   ]
  },
  {
   "cell_type": "code",
   "execution_count": 17,
   "metadata": {
    "collapsed": false
   },
   "outputs": [
    {
     "data": {
      "text/plain": [
       "[1] 1007    7\n",
       "[1] 929   7\n"
      ]
     },
     "metadata": {},
     "output_type": "display_data"
    }
   ],
   "source": [
    "%%R\n",
    "\n",
    "others.coulter <- read.csv(paste0(wdir,\"Other Investigators in Lab.Coulter Counts.4.15.92-5.21.csv\"),header=T,skip=1)\n",
    "# head(others.coulter)\n",
    "print(dim(others.coulter))\n",
    "\n",
    "idx1 = which(apply(others.coulter[,3:5],1,function(x) any(is.na(x))))\n",
    "idx2 = which(apply(others.coulter[,3:5],1,function(x) (max(x) - min(x)) < 2 ))\n",
    "idx = unique(c(idx1, idx2))\n",
    "others.coulter = others.coulter[-idx, ]\n",
    "print(dim(others.coulter))"
   ]
  },
  {
   "cell_type": "markdown",
   "metadata": {},
   "source": [
    "#### Lab1 Coulter"
   ]
  },
  {
   "cell_type": "code",
   "execution_count": 18,
   "metadata": {
    "collapsed": false
   },
   "outputs": [
    {
     "data": {
      "text/plain": [
       "[1] 109   6\n",
       "[1] 97  6\n"
      ]
     },
     "metadata": {},
     "output_type": "display_data"
    }
   ],
   "source": [
    "%%R\n",
    "\n",
    "Lab1.coulter <- read.csv(paste0(wdir,\"Outside Lab 1.Coulter Counts.6.7.91-4.9.csv\"),header=T,skip=0)\n",
    "head(Lab1.coulter)\n",
    "print(dim(Lab1.coulter))\n",
    "\n",
    "idx1 = which(apply(Lab1.coulter[,2:4],1,function(x) any(is.na(x))))\n",
    "idx2 = which(apply(Lab1.coulter[,2:4],1,function(x) (max(x) - min(x)) < 2 ))\n",
    "idx = unique(c(idx1, idx2))\n",
    "Lab1.coulter = Lab1.coulter[-idx, ]\n",
    "print(dim(Lab1.coulter))"
   ]
  },
  {
   "cell_type": "markdown",
   "metadata": {},
   "source": [
    "#### Lab2 Coulter"
   ]
  },
  {
   "cell_type": "code",
   "execution_count": 19,
   "metadata": {
    "collapsed": false
   },
   "outputs": [
    {
     "data": {
      "text/plain": [
       "[1] 120   5\n",
       "[1] 120   5\n"
      ]
     },
     "metadata": {},
     "output_type": "display_data"
    }
   ],
   "source": [
    "%%R\n",
    "\n",
    "Lab2.coulter <- read.csv(paste0(wdir,\"Outside Lab 2.Coulter Counts.6.6.08-7.7.csv\"),header=T,skip=1)\n",
    "#head(Lab2.coulter)\n",
    "print(dim(Lab2.coulter))\n",
    "\n",
    "idx1 = which(apply(Lab2.coulter[,2:4],1,function(x) any(is.na(x))))\n",
    "idx2 = which(apply(Lab2.coulter[,2:4],1,function(x) (max(x) - min(x)) < 2 ))\n",
    "idx = unique(c(idx1, idx2))\n",
    "# Lab2.coulter = Lab2.coulter[-idx, ]  Because idx is null\n",
    "print(dim(Lab2.coulter))"
   ]
  },
  {
   "cell_type": "markdown",
   "metadata": {},
   "source": [
    "#### Lab3 Coulter"
   ]
  },
  {
   "cell_type": "code",
   "execution_count": 20,
   "metadata": {
    "collapsed": false
   },
   "outputs": [
    {
     "data": {
      "text/plain": [
       "[1] 50  5\n",
       "[1] 49  5\n"
      ]
     },
     "metadata": {},
     "output_type": "display_data"
    }
   ],
   "source": [
    "%%R\n",
    "\n",
    "Lab3.coulter <- read.csv(paste0(wdir,\"Outside Lab 3.Colony Counts.2.4.10-5.21.csv\"),header=T,skip=1)\n",
    "# head(Lab3.coulter)\n",
    "print(dim(Lab3.coulter))\n",
    "\n",
    "idx1 = which(apply(Lab3.coulter[,2:4],1,function(x) any(is.na(x))))\n",
    "idx2 = which(apply(Lab3.coulter[,2:4],1,function(x) (max(x) - min(x)) < 2 ))\n",
    "idx = unique(c(idx1, idx2))\n",
    "Lab3.coulter = Lab3.coulter[-idx, ] \n",
    "print(dim(Lab3.coulter))"
   ]
  },
  {
   "cell_type": "markdown",
   "metadata": {},
   "source": [
    "### Reproduction results"
   ]
  },
  {
   "cell_type": "code",
   "execution_count": 21,
   "metadata": {
    "collapsed": false
   },
   "outputs": [
    {
     "data": {
      "text/plain": [
       "[1] \"number of mean containing triplets in RTS colony data is: \"\n",
       "[1] 690\n",
       "[1] \"p-value using poission binomial in RTS colony data is:\"\n",
       "[1] 5.329071e-15\n"
      ]
     },
     "metadata": {},
     "output_type": "display_data"
    }
   ],
   "source": [
    "%%R\n",
    "\n",
    "print('number of mean containing triplets in RTS colony data is: ')\n",
    "print(sum(apply(rts.colony[4:7],1, function(x) any(round(x[4]) %in% x[1:3]))))\n",
    "\n",
    "print('p-value using poission binomial in RTS colony data is:')\n",
    "lam_hat = round(rts.colony[,7])\n",
    "1 - ppoibin(690 - 1,midprob[match(lam_hat, midprob$V1),2])"
   ]
  },
  {
   "cell_type": "code",
   "execution_count": 22,
   "metadata": {
    "collapsed": false
   },
   "outputs": [
    {
     "data": {
      "text/plain": [
       "[1] \"number of mean containing triplets in others colony data is: \"\n",
       "[1] 109\n",
       "[1] \"p-value using poission binomial in others colony data is:\"\n",
       "[1] 0.2843867\n"
      ]
     },
     "metadata": {},
     "output_type": "display_data"
    }
   ],
   "source": [
    "%%R\n",
    "\n",
    "print('number of mean containing triplets in others colony data is: ')\n",
    "print(sum(apply(others.colony[4:7],1, function(x) any(round(x[4]) %in% x[1:3]))))\n",
    "\n",
    "print('p-value using poission binomial in others colony data is:')\n",
    "lam_hat = round(others.colony[,7])\n",
    "1 - ppoibin(109 - 1,midprob[match(lam_hat, midprob$V1),2])"
   ]
  },
  {
   "cell_type": "code",
   "execution_count": 23,
   "metadata": {
    "collapsed": false
   },
   "outputs": [
    {
     "data": {
      "text/plain": [
       "[1] \"number of mean containing triplets in RTS coulter data is: \"\n",
       "[1] 176\n",
       "[1] \"p-value using poission binomial in RTS coulter data is:\"\n",
       "[1] 1.578737e-13\n"
      ]
     },
     "metadata": {},
     "output_type": "display_data"
    }
   ],
   "source": [
    "%%R\n",
    "\n",
    "print('number of mean containing triplets in RTS coulter data is: ')\n",
    "print(sum(apply(rts.coulter[3:6],1, function(x) any(round(x[4]) %in% x[1:3]))))\n",
    "\n",
    "print('p-value using poission binomial in RTS coulter data is:')\n",
    "##  Approximate the estimated \\lambda to nearest one in MidProb Table\n",
    "lam_hat = round(rts.coulter[,6])\n",
    "idx = which(is.na(match(lam_hat,midprob$V1)))\n",
    "tmp = lam_hat[idx]\n",
    "tmp = round(tmp / 100) * 100\n",
    "tmp[tmp > 10000] = round(tmp[tmp > 10000] / 1000) * 1000\n",
    "lam_hat[idx] = tmp\n",
    "\n",
    "1 - ppoibin(176 - 1,midprob[match(lam_hat, midprob$V1),2])"
   ]
  },
  {
   "cell_type": "code",
   "execution_count": 24,
   "metadata": {
    "collapsed": false
   },
   "outputs": [
    {
     "data": {
      "text/plain": [
       "[1] \"number of mean containing triplets in others coulter data is: \"\n",
       "[1] 36\n",
       "[1] \"p-value using poission binomial in others coulter data is:\"\n",
       "[1] 0.758276\n"
      ]
     },
     "metadata": {},
     "output_type": "display_data"
    }
   ],
   "source": [
    "%%R\n",
    "\n",
    "print('number of mean containing triplets in others coulter data is: ')\n",
    "print(sum(apply(others.coulter[3:6],1, function(x) any(round(x[4]) %in% x[1:3]))))\n",
    "\n",
    "print('p-value using poission binomial in others coulter data is:')\n",
    "\n",
    "lam_hat = round(others.coulter[,6])\n",
    "idx = which(is.na(match(lam_hat,midprob$V1)))\n",
    "tmp = lam_hat[idx]\n",
    "tmp = round(tmp / 100) * 100\n",
    "tmp[tmp > 10000] = round(tmp[tmp > 10000] / 1000) * 1000\n",
    "lam_hat[idx] = tmp \n",
    "\n",
    "1 - ppoibin(36 - 1,midprob[match(lam_hat, midprob$V1),2])"
   ]
  },
  {
   "cell_type": "code",
   "execution_count": 25,
   "metadata": {
    "collapsed": false
   },
   "outputs": [
    {
     "data": {
      "text/plain": [
       "[1] \"number of mean containing triplets in Lab1 coulter data is: \"\n",
       "[1] 0\n",
       "[1] \"p-value using poission binomial in Lab1 coulter data is:\"\n",
       "[1] 1\n"
      ]
     },
     "metadata": {},
     "output_type": "display_data"
    }
   ],
   "source": [
    "%%R\n",
    "\n",
    "print('number of mean containing triplets in Lab1 coulter data is: ')\n",
    "print(sum(apply(Lab1.coulter[2:5],1, function(x) any(round(x[4]) %in% x[1:3]))))\n",
    "\n",
    "print('p-value using poission binomial in Lab1 coulter data is:')\n",
    "\n",
    "lam_hat = round(Lab1.coulter[,5])\n",
    "idx = which(is.na(match(lam_hat,midprob$V1)))\n",
    "tmp = lam_hat[idx]\n",
    "tmp = round(tmp / 100) * 100\n",
    "tmp[tmp > 10000] = round(tmp[tmp > 10000] / 1000) * 1000\n",
    "lam_hat[idx] = tmp \n",
    "\n",
    "1 - ppoibin(0-1,midprob[match(lam_hat, midprob$V1),2])"
   ]
  },
  {
   "cell_type": "code",
   "execution_count": 26,
   "metadata": {
    "collapsed": false
   },
   "outputs": [
    {
     "data": {
      "text/plain": [
       "[1] \"number of mean containing triplets in Lab2 coulter data is: \"\n",
       "[1] 1\n",
       "[1] \"p-value using poission binomial in Lab2 coulter data is:\"\n",
       "[1] 0.9783413\n"
      ]
     },
     "metadata": {},
     "output_type": "display_data"
    }
   ],
   "source": [
    "%%R\n",
    "\n",
    "print('number of mean containing triplets in Lab2 coulter data is: ')\n",
    "print(sum(apply(Lab2.coulter[2:5],1, function(x) any(round(x[4]) %in% x[1:3]))))\n",
    "\n",
    "print('p-value using poission binomial in Lab2 coulter data is:')\n",
    "\n",
    "lam_hat = round(Lab2.coulter[,5])\n",
    "idx = which(is.na(match(lam_hat,midprob$V1)))\n",
    "tmp = lam_hat[idx]\n",
    "tmp = round(tmp / 100) * 100\n",
    "tmp[tmp > 10000] = round(tmp[tmp > 10000] / 1000) * 1000\n",
    "lam_hat[idx] = tmp \n",
    "\n",
    "1 - ppoibin(1-1,midprob[match(lam_hat, midprob$V1),2])"
   ]
  },
  {
   "cell_type": "code",
   "execution_count": 27,
   "metadata": {
    "collapsed": false
   },
   "outputs": [
    {
     "data": {
      "text/plain": [
       "[1] \"number of mean containing triplets in Lab3 coulter data is: \"\n",
       "[1] 3\n",
       "[1] \"p-value using poission binomial in Lab3 coulter data is:\"\n",
       "[1] 0.9892861\n"
      ]
     },
     "metadata": {},
     "output_type": "display_data"
    }
   ],
   "source": [
    "%%R\n",
    "\n",
    "print('number of mean containing triplets in Lab3 coulter data is: ')\n",
    "print(sum(apply(Lab3.coulter[2:5],1, function(x) any(round(x[4]) %in% x[1:3]))))\n",
    "\n",
    "print('p-value using poission binomial in Lab3 coulter data is:')\n",
    "\n",
    "lam_hat = round(Lab3.coulter[,5])\n",
    "idx = which(is.na(match(lam_hat,midprob$V1)))\n",
    "tmp = lam_hat[idx]\n",
    "tmp = round(tmp / 100) * 100\n",
    "tmp[tmp > 10000] = round(tmp[tmp > 10000] / 1000) * 1000\n",
    "lam_hat[idx] = tmp \n",
    "\n",
    "1 - ppoibin(3-1,midprob[match(lam_hat, midprob$V1),2])"
   ]
  },
  {
   "cell_type": "markdown",
   "metadata": {},
   "source": [
    "<a id='hypothesis3'></a>\n",
    "# Hypothesis III"
   ]
  },
  {
   "cell_type": "markdown",
   "metadata": {},
   "source": [
    "Hypothesis 3 use the Lindeberg-Feller Central Limit Theorem to approximate the distribution of occurrences of mean containing triples. \n",
    "\n",
    "- They use the mean of triples as the estimation of the Poission distribution parameters $\\lambda$. \n",
    "- The probability of mean-containing $p_i$ in each triple thus can be retrieved from mid-probability table according to the estimated lambda.\n",
    "- The number of mean containing triples are treated as sum of Bernoulli variables. Using Lindeberg-Feller Central Limit Theorem, the expectation and the variance are approximated using $\\sum_{i = 1}^np_i$ and $\\sum_{i = 1}^np_i(1-p_i)$.\n",
    "\n",
    "\n",
    "However, the approximation of expectation and the variance is not precise because of the following reasons:\n",
    "\n",
    "- The Poisson distribution assumption remains unverified.\n",
    "- The author use the mean of each triple as the estimation is Poisson distribution parameter. Although this estimation is unbiased, the MSE (variance) would be large: $MSE(\\hat\\lambda) = Var(\\hat\\lambda) = 1/9(\\sum ^3_{i = q}Var(X_i)) = 1/3\\lambda$. And there is no prove showing that the $p_i$ would be the unbiased estimation. Thus, it is rather inappropriate to use the Lindeberg-Feller CLT. The p-value obtained using this method would could vary a lot from the true p-value."
   ]
  },
  {
   "cell_type": "code",
   "execution_count": 28,
   "metadata": {
    "collapsed": true
   },
   "outputs": [],
   "source": [
    "def hypothesis_3(df, midProb, print_res=False):\n",
    "    \"\"\"\n",
    "    This function implements the hypothesis test 3 for mean-containing \n",
    "    ratio in the paper.\n",
    "    \n",
    "    Parameters\n",
    "    ----------\n",
    "        filtered_df: pandas.core.frame.DataFrame\n",
    "            pandas data frame with triple column named col1, col2 and col3,\n",
    "            each triple is sorted by increasing order,\n",
    "            triples with gap less than or equal to 1 are filtered out\n",
    "        midProb: numpy.ndarray\n",
    "            mid probability table, the mid-containing probability for \n",
    "            different values of lambdas\n",
    "        print_res: default False\n",
    "            False: print all the results\n",
    "            True: return number of mean containing triples, mean and sd\n",
    "                of poission binomial, Z statistic and p-value without printing\n",
    "    \"\"\"\n",
    "    filtered_df = df.copy(deep=True)\n",
    "    col_name = ['col1', 'col2', 'col3']\n",
    "    \n",
    "    # sort each triple by increasing order\n",
    "    filtered_df[col_name] = filtered_df[col_name].apply(np.sort, axis = 1)\n",
    "    \n",
    "    # whether the mid number is the mean of largest and smallest\n",
    "    isMid = filtered_df.apply(\n",
    "        lambda x: x.col1 + x.col3 in [2*x.col2, 2*x.col2 + 1, 2*x.col2 - 1], axis=1)\n",
    "    \n",
    "    # rounded mean triple as the estimate of lambda\n",
    "    lamEst = np.mean(filtered_df[col_name], axis=1)\n",
    "    # probabiliy that the triple been randomly drawn it would contain its own mean\n",
    "    lams = np.array([i[0] for i in midProb])\n",
    "    probs = [midProb[np.argmin(abs(lams-i))][1] for i in lamEst]\n",
    "    \n",
    "    # expectation and variance of poisson binomial\n",
    "    mu = np.sum(probs)\n",
    "    sigma2 = np.sum(p*(1-p) for p in probs)\n",
    "    \n",
    "    # compute statistic and p-value for hypothesis 3\n",
    "    stat3 = (sum(isMid) - 0.5 - mu) / np.sqrt(sigma2)\n",
    "    p_value3 = 1 - scipy.stats.norm.cdf(stat3)\n",
    "    \n",
    "    if print_res:\n",
    "        print(\"Number of mean containing triples: \", sum(isMid))\n",
    "        print(\"Mean of poission binomial: \", mu)\n",
    "        print(\"SD of poission binomial: \", np.sqrt(sigma2))\n",
    "        print(\"Z statistic: \", stat3)\n",
    "        print(\"p-value: \", p_value3)\n",
    "    else:\n",
    "        return len(filtered_df), sum(isMid), mu, np.sqrt(sigma2), stat3, p_value3"
   ]
  },
  {
   "cell_type": "markdown",
   "metadata": {},
   "source": [
    "<a id='reproduce_results_hypothesis3'></a>\n",
    "## Reproduce results"
   ]
  },
  {
   "cell_type": "markdown",
   "metadata": {},
   "source": [
    "Our reproduce results differs from what presented in the Table 2 in the paper. The authors seems to have made a small mistake. While their number of mean-containing triples is obtained from the filtered data (with gap less than 2 filtered out), their number of triples expected is calculated using the data before filtering. This mistake results in larger p-values for other investigators and outside labs and increases the cheating suspicion of RTS.\n",
    "\n",
    "The following table shows the summary results for analysis of mean containing triples for colony and Coulter count triples from RTS, nine other investigators from the same lab, and investigators in outside labs. Note that the No. mean containing agrees with the paper but the stastistics differs from the paper."
   ]
  },
  {
   "cell_type": "code",
   "execution_count": 29,
   "metadata": {
    "collapsed": false
   },
   "outputs": [
    {
     "data": {
      "text/html": [
       "<div>\n",
       "<table border=\"1\" class=\"dataframe\">\n",
       "  <thead>\n",
       "    <tr style=\"text-align: right;\">\n",
       "      <th></th>\n",
       "      <th>No. complete</th>\n",
       "      <th>No. mean containing</th>\n",
       "      <th>No. expected</th>\n",
       "      <th>sd</th>\n",
       "      <th>Z</th>\n",
       "      <th>p-value</th>\n",
       "    </tr>\n",
       "  </thead>\n",
       "  <tbody>\n",
       "    <tr>\n",
       "      <th>rts_colony</th>\n",
       "      <td>1343</td>\n",
       "      <td>690</td>\n",
       "      <td>214.923602</td>\n",
       "      <td>13.281792</td>\n",
       "      <td>35.731353</td>\n",
       "      <td>0.000000e+00</td>\n",
       "    </tr>\n",
       "    <tr>\n",
       "      <th>inv_colony</th>\n",
       "      <td>578</td>\n",
       "      <td>109</td>\n",
       "      <td>103.404567</td>\n",
       "      <td>9.061666</td>\n",
       "      <td>0.562306</td>\n",
       "      <td>2.869536e-01</td>\n",
       "    </tr>\n",
       "    <tr>\n",
       "      <th>lab_colony</th>\n",
       "      <td>49</td>\n",
       "      <td>3</td>\n",
       "      <td>7.788269</td>\n",
       "      <td>2.554401</td>\n",
       "      <td>-2.070258</td>\n",
       "      <td>9.807859e-01</td>\n",
       "    </tr>\n",
       "    <tr>\n",
       "      <th>rts_coulter</th>\n",
       "      <td>1726</td>\n",
       "      <td>176</td>\n",
       "      <td>98.367748</td>\n",
       "      <td>9.612620</td>\n",
       "      <td>8.024061</td>\n",
       "      <td>5.551115e-16</td>\n",
       "    </tr>\n",
       "    <tr>\n",
       "      <th>inv_coulter</th>\n",
       "      <td>929</td>\n",
       "      <td>36</td>\n",
       "      <td>39.851416</td>\n",
       "      <td>6.107390</td>\n",
       "      <td>-0.712484</td>\n",
       "      <td>7.619174e-01</td>\n",
       "    </tr>\n",
       "    <tr>\n",
       "      <th>lab1_coulter</th>\n",
       "      <td>97</td>\n",
       "      <td>0</td>\n",
       "      <td>4.430351</td>\n",
       "      <td>2.033995</td>\n",
       "      <td>-2.423974</td>\n",
       "      <td>9.923241e-01</td>\n",
       "    </tr>\n",
       "    <tr>\n",
       "      <th>lab2_coulter</th>\n",
       "      <td>120</td>\n",
       "      <td>1</td>\n",
       "      <td>3.752921</td>\n",
       "      <td>1.897438</td>\n",
       "      <td>-1.714375</td>\n",
       "      <td>9.567701e-01</td>\n",
       "    </tr>\n",
       "  </tbody>\n",
       "</table>\n",
       "</div>"
      ],
      "text/plain": [
       "              No. complete  No. mean containing  No. expected         sd  \\\n",
       "rts_colony            1343                  690    214.923602  13.281792   \n",
       "inv_colony             578                  109    103.404567   9.061666   \n",
       "lab_colony              49                    3      7.788269   2.554401   \n",
       "rts_coulter           1726                  176     98.367748   9.612620   \n",
       "inv_coulter            929                   36     39.851416   6.107390   \n",
       "lab1_coulter            97                    0      4.430351   2.033995   \n",
       "lab2_coulter           120                    1      3.752921   1.897438   \n",
       "\n",
       "                      Z       p-value  \n",
       "rts_colony    35.731353  0.000000e+00  \n",
       "inv_colony     0.562306  2.869536e-01  \n",
       "lab_colony    -2.070258  9.807859e-01  \n",
       "rts_coulter    8.024061  5.551115e-16  \n",
       "inv_coulter   -0.712484  7.619174e-01  \n",
       "lab1_coulter  -2.423974  9.923241e-01  \n",
       "lab2_coulter  -1.714375  9.567701e-01  "
      ]
     },
     "execution_count": 29,
     "metadata": {},
     "output_type": "execute_result"
    }
   ],
   "source": [
    "# No. complete: number of complete triples with gap ≥2/ total number of triples;\n",
    "# No. mean containing: number of mean-containing triples\n",
    "# No. expected: Number of mean containing triple expected using Poisson binomial distribution\n",
    "# sd: standard devistion of No. expected\n",
    "# Z: Z statistics from Lindeberg-Feller Central Limit Theorem\n",
    "\n",
    "hypothesis_3_res = pd.DataFrame(columns=('No. complete', 'No. mean containing', \n",
    "                                         'No. expected', \"sd\", \"Z\", \"p-value\"))\n",
    "for dfs in [\"rts_colony\", \"inv_colony\", \"lab_colony\",\n",
    "            \"rts_coulter\", \"inv_coulter\", \"lab1_coulter\", \"lab2_coulter\"]:\n",
    "    hypothesis_3_res.loc[dfs] = hypothesis_3(filter_gap_2(eval(dfs)), midProb)\n",
    "hypothesis_3_res"
   ]
  },
  {
   "cell_type": "markdown",
   "metadata": {},
   "source": [
    "The following cell shows the summary results for analysis of mean containing triples for colony count triples from RTS. Dataset before filtering is used. Mean(220.31) and sd(13.42) of poission binomial coincide with Table 2 in paper, which suggests a problem."
   ]
  },
  {
   "cell_type": "code",
   "execution_count": 30,
   "metadata": {
    "collapsed": false
   },
   "outputs": [
    {
     "name": "stdout",
     "output_type": "stream",
     "text": [
      "Number of mean containing triples:  708\n",
      "Mean of poission binomial:  220.313684239\n",
      "SD of poission binomial:  13.4181445464\n",
      "Z statistic:  36.3080241145\n",
      "p-value:  0.0\n"
     ]
    }
   ],
   "source": [
    "hypothesis_3(filter_na_triple(rts_colony), midProb, print_res=True)"
   ]
  },
  {
   "cell_type": "markdown",
   "metadata": {},
   "source": [
    "Summary results for analysis of mean containing triples for colony count triples from other invectogators in the lab. Dataset before filtering is used. Mean(108.5) and sd(9.26) of poission binomial are close to Table 2 in paper, which suggests a problem."
   ]
  },
  {
   "cell_type": "code",
   "execution_count": 31,
   "metadata": {
    "collapsed": false
   },
   "outputs": [
    {
     "name": "stdout",
     "output_type": "stream",
     "text": [
      "Number of mean containing triples:  128\n",
      "Mean of poission binomial:  108.501276257\n",
      "SD of poission binomial:  9.25874114803\n",
      "Z statistic:  2.05197698475\n",
      "p-value:  0.0200859495977\n"
     ]
    }
   ],
   "source": [
    "hypothesis_3(filter_na_triple(inv_colony), midProb, print_res=True)"
   ]
  },
  {
   "cell_type": "markdown",
   "metadata": {},
   "source": [
    "<a id='individuals_hypothesis3'></a>\n",
    "## Test for individuals in the lab"
   ]
  },
  {
   "cell_type": "markdown",
   "metadata": {},
   "source": [
    "The following two tables shows the results of hypothesis test 3 for colony and coulter triples from other investigators individually in the lab. Under a commonly used threshhold 0.05, investigator C would also be rejected by the null hypothesis."
   ]
  },
  {
   "cell_type": "code",
   "execution_count": 32,
   "metadata": {
    "collapsed": false
   },
   "outputs": [
    {
     "data": {
      "text/html": [
       "<div>\n",
       "<table border=\"1\" class=\"dataframe\">\n",
       "  <thead>\n",
       "    <tr style=\"text-align: right;\">\n",
       "      <th></th>\n",
       "      <th>No. complete</th>\n",
       "      <th>No. mean containing</th>\n",
       "      <th>No.expected</th>\n",
       "      <th>sd</th>\n",
       "      <th>Z</th>\n",
       "      <th>p-value</th>\n",
       "    </tr>\n",
       "  </thead>\n",
       "  <tbody>\n",
       "    <tr>\n",
       "      <th>G</th>\n",
       "      <td>8</td>\n",
       "      <td>4</td>\n",
       "      <td>1.829225</td>\n",
       "      <td>1.179072</td>\n",
       "      <td>1.417026</td>\n",
       "      <td>0.078238</td>\n",
       "    </tr>\n",
       "    <tr>\n",
       "      <th>H</th>\n",
       "      <td>21</td>\n",
       "      <td>1</td>\n",
       "      <td>2.827193</td>\n",
       "      <td>1.554125</td>\n",
       "      <td>-1.497429</td>\n",
       "      <td>0.932859</td>\n",
       "    </tr>\n",
       "    <tr>\n",
       "      <th>A</th>\n",
       "      <td>248</td>\n",
       "      <td>42</td>\n",
       "      <td>44.087806</td>\n",
       "      <td>5.895250</td>\n",
       "      <td>-0.438965</td>\n",
       "      <td>0.669656</td>\n",
       "    </tr>\n",
       "    <tr>\n",
       "      <th>F</th>\n",
       "      <td>29</td>\n",
       "      <td>6</td>\n",
       "      <td>5.139362</td>\n",
       "      <td>2.020507</td>\n",
       "      <td>0.178489</td>\n",
       "      <td>0.429169</td>\n",
       "    </tr>\n",
       "    <tr>\n",
       "      <th>I</th>\n",
       "      <td>44</td>\n",
       "      <td>8</td>\n",
       "      <td>7.818411</td>\n",
       "      <td>2.480351</td>\n",
       "      <td>-0.128373</td>\n",
       "      <td>0.551073</td>\n",
       "    </tr>\n",
       "    <tr>\n",
       "      <th>B</th>\n",
       "      <td>56</td>\n",
       "      <td>8</td>\n",
       "      <td>9.622682</td>\n",
       "      <td>2.790427</td>\n",
       "      <td>-0.760701</td>\n",
       "      <td>0.776582</td>\n",
       "    </tr>\n",
       "    <tr>\n",
       "      <th>D</th>\n",
       "      <td>77</td>\n",
       "      <td>13</td>\n",
       "      <td>13.584431</td>\n",
       "      <td>3.323176</td>\n",
       "      <td>-0.326324</td>\n",
       "      <td>0.627910</td>\n",
       "    </tr>\n",
       "    <tr>\n",
       "      <th>E</th>\n",
       "      <td>10</td>\n",
       "      <td>2</td>\n",
       "      <td>1.306389</td>\n",
       "      <td>1.059426</td>\n",
       "      <td>0.182751</td>\n",
       "      <td>0.427497</td>\n",
       "    </tr>\n",
       "    <tr>\n",
       "      <th>C</th>\n",
       "      <td>85</td>\n",
       "      <td>25</td>\n",
       "      <td>17.189069</td>\n",
       "      <td>3.656139</td>\n",
       "      <td>1.999632</td>\n",
       "      <td>0.022770</td>\n",
       "    </tr>\n",
       "  </tbody>\n",
       "</table>\n",
       "</div>"
      ],
      "text/plain": [
       "   No. complete  No. mean containing  No.expected        sd         Z  \\\n",
       "G             8                    4     1.829225  1.179072  1.417026   \n",
       "H            21                    1     2.827193  1.554125 -1.497429   \n",
       "A           248                   42    44.087806  5.895250 -0.438965   \n",
       "F            29                    6     5.139362  2.020507  0.178489   \n",
       "I            44                    8     7.818411  2.480351 -0.128373   \n",
       "B            56                    8     9.622682  2.790427 -0.760701   \n",
       "D            77                   13    13.584431  3.323176 -0.326324   \n",
       "E            10                    2     1.306389  1.059426  0.182751   \n",
       "C            85                   25    17.189069  3.656139  1.999632   \n",
       "\n",
       "    p-value  \n",
       "G  0.078238  \n",
       "H  0.932859  \n",
       "A  0.669656  \n",
       "F  0.429169  \n",
       "I  0.551073  \n",
       "B  0.776582  \n",
       "D  0.627910  \n",
       "E  0.427497  \n",
       "C  0.022770  "
      ]
     },
     "execution_count": 32,
     "metadata": {},
     "output_type": "execute_result"
    }
   ],
   "source": [
    "# colony data: Test for individuals in the lab\n",
    "hypothesis_3_ind = pd.DataFrame(columns=('No. complete', 'No. mean containing', \n",
    "                                         'No.expected', \"sd\", \"Z\", \"p-value\"))\n",
    "filtered_inv_colony = filter_gap_2(inv_colony)\n",
    "for inv in set(filtered_inv_colony.Inv):\n",
    "    hypothesis_3_ind.loc[inv] = hypothesis_3(\n",
    "        filtered_inv_colony.loc[filtered_inv_colony.Inv == inv].copy(), \n",
    "        midProb)\n",
    "hypothesis_3_ind"
   ]
  },
  {
   "cell_type": "code",
   "execution_count": 33,
   "metadata": {
    "collapsed": false
   },
   "outputs": [
    {
     "data": {
      "text/html": [
       "<div>\n",
       "<table border=\"1\" class=\"dataframe\">\n",
       "  <thead>\n",
       "    <tr style=\"text-align: right;\">\n",
       "      <th></th>\n",
       "      <th>No. complete</th>\n",
       "      <th>No. mean containing</th>\n",
       "      <th>No.expected</th>\n",
       "      <th>sd</th>\n",
       "      <th>Z</th>\n",
       "      <th>p-value</th>\n",
       "    </tr>\n",
       "  </thead>\n",
       "  <tbody>\n",
       "    <tr>\n",
       "      <th>G</th>\n",
       "      <td>20</td>\n",
       "      <td>1</td>\n",
       "      <td>0.701662</td>\n",
       "      <td>0.822601</td>\n",
       "      <td>-0.245152</td>\n",
       "      <td>0.596831</td>\n",
       "    </tr>\n",
       "    <tr>\n",
       "      <th>A</th>\n",
       "      <td>405</td>\n",
       "      <td>17</td>\n",
       "      <td>16.221240</td>\n",
       "      <td>3.905996</td>\n",
       "      <td>0.071367</td>\n",
       "      <td>0.471553</td>\n",
       "    </tr>\n",
       "    <tr>\n",
       "      <th>F</th>\n",
       "      <td>102</td>\n",
       "      <td>5</td>\n",
       "      <td>5.852532</td>\n",
       "      <td>2.322407</td>\n",
       "      <td>-0.582384</td>\n",
       "      <td>0.719846</td>\n",
       "    </tr>\n",
       "    <tr>\n",
       "      <th>I</th>\n",
       "      <td>51</td>\n",
       "      <td>1</td>\n",
       "      <td>2.142147</td>\n",
       "      <td>1.431972</td>\n",
       "      <td>-1.146773</td>\n",
       "      <td>0.874262</td>\n",
       "    </tr>\n",
       "    <tr>\n",
       "      <th>B</th>\n",
       "      <td>60</td>\n",
       "      <td>2</td>\n",
       "      <td>3.402493</td>\n",
       "      <td>1.789613</td>\n",
       "      <td>-1.063075</td>\n",
       "      <td>0.856126</td>\n",
       "    </tr>\n",
       "    <tr>\n",
       "      <th>D</th>\n",
       "      <td>211</td>\n",
       "      <td>5</td>\n",
       "      <td>6.055781</td>\n",
       "      <td>2.401259</td>\n",
       "      <td>-0.647902</td>\n",
       "      <td>0.741476</td>\n",
       "    </tr>\n",
       "    <tr>\n",
       "      <th>E</th>\n",
       "      <td>55</td>\n",
       "      <td>5</td>\n",
       "      <td>4.671003</td>\n",
       "      <td>2.044958</td>\n",
       "      <td>-0.083622</td>\n",
       "      <td>0.533321</td>\n",
       "    </tr>\n",
       "    <tr>\n",
       "      <th>C</th>\n",
       "      <td>25</td>\n",
       "      <td>0</td>\n",
       "      <td>0.804557</td>\n",
       "      <td>0.878638</td>\n",
       "      <td>-1.484750</td>\n",
       "      <td>0.931195</td>\n",
       "    </tr>\n",
       "  </tbody>\n",
       "</table>\n",
       "</div>"
      ],
      "text/plain": [
       "   No. complete  No. mean containing  No.expected        sd         Z  \\\n",
       "G            20                    1     0.701662  0.822601 -0.245152   \n",
       "A           405                   17    16.221240  3.905996  0.071367   \n",
       "F           102                    5     5.852532  2.322407 -0.582384   \n",
       "I            51                    1     2.142147  1.431972 -1.146773   \n",
       "B            60                    2     3.402493  1.789613 -1.063075   \n",
       "D           211                    5     6.055781  2.401259 -0.647902   \n",
       "E            55                    5     4.671003  2.044958 -0.083622   \n",
       "C            25                    0     0.804557  0.878638 -1.484750   \n",
       "\n",
       "    p-value  \n",
       "G  0.596831  \n",
       "A  0.471553  \n",
       "F  0.719846  \n",
       "I  0.874262  \n",
       "B  0.856126  \n",
       "D  0.741476  \n",
       "E  0.533321  \n",
       "C  0.931195  "
      ]
     },
     "execution_count": 33,
     "metadata": {},
     "output_type": "execute_result"
    }
   ],
   "source": [
    "# coulter data: Test for individuals in the lab\n",
    "hypothesis_3_ind = pd.DataFrame(columns=('No. complete', 'No. mean containing', \n",
    "                                         'No.expected', \"sd\", \"Z\", \"p-value\"))\n",
    "filtered_inv_coulter = filter_gap_2(inv_coulter)\n",
    "for inv in set(filtered_inv_coulter.Investigator):\n",
    "    hypothesis_3_ind.loc[inv] = hypothesis_3(\n",
    "        filtered_inv_coulter.loc[filtered_inv_coulter.Investigator == inv].copy(), \n",
    "        midProb)\n",
    "hypothesis_3_ind"
   ]
  },
  {
   "cell_type": "markdown",
   "metadata": {},
   "source": [
    "<a id='tda'></a>\n",
    "# Terminal Digit Analysis"
   ]
  },
  {
   "cell_type": "markdown",
   "metadata": {},
   "source": [
    "<a id='reproduce_tda'></a>\n",
    "## Reproducibility"
   ]
  },
  {
   "cell_type": "markdown",
   "metadata": {},
   "source": [
    "Here we reproduce a test implemented by the authors to investigate whether the RTS data has a significant deviation in the distribution of \"terminal digits\" (i.e., the ones place in count data). The authors used a $\\chi^2$ test with 9 degrees of freedom:\n",
    "    \n",
    "$$ \\chi^2_9 = \\sum\\limits_{i=0}^9 \\frac{(O_i-E_i)^2}{E_i} $$\n",
    "    \n",
    "Where $O_i$ and $E_i$ are the observed and expected frequency of counts of digit $i$. \n",
    "\n",
    "Note that the authors assume $E_i = 0.1 \\,\\, \\forall i \\in \\{0,..,10\\}$; please see our test of the [terminal digit uniformity assumption](#td_assumption) for our investigation of this assumption.\n",
    "\n",
    "The following function takes count data as input and outputs 1) its $\\chi^2$ statistic and 2) its p-value. We ignore blank cells in the authors' spreadsheets.\n",
    "\n",
    "We found minor discrepancies in our calculation of the statistic; we assume this was "
   ]
  },
  {
   "cell_type": "code",
   "execution_count": 34,
   "metadata": {
    "collapsed": false
   },
   "outputs": [],
   "source": [
    "def terminal_digit_analysis(df, return_counts = False):\n",
    "    '''\n",
    "    This function implements the terminal digit analysis in the paper.\n",
    "    \n",
    "    Parameters\n",
    "    ----------\n",
    "        df: pandas.core.frame.DataFrame\n",
    "            pandas data frame with triple column named col1, col2 and col3\n",
    "            \n",
    "    Returns\n",
    "    -------\n",
    "        statistics:float\n",
    "            chi square statistic\n",
    "        p_value:float\n",
    "            p value\n",
    "    '''\n",
    "    data = df[['col1', 'col2', 'col3']].values.flatten()\n",
    "    data = data[~np.isnan(data)]\n",
    "    \n",
    "    freqs = np.zeros(10)\n",
    "    for entry in data:\n",
    "        dig = int(entry) % 10\n",
    "        freqs[dig] += 1\n",
    "    \n",
    "    # calculate chisq\n",
    "    chisq=0\n",
    "    for d in range(0,10):\n",
    "        chisq += (freqs[d]-0.1*np.sum(freqs))**2/(0.1*np.sum(freqs))\n",
    "        \n",
    "    statistics = chisq\n",
    "    p_value = 1-scipy.stats.chi2.cdf(chisq,9)\n",
    "    \n",
    "    if return_counts:\n",
    "        return statistics, p_value, len(data)\n",
    "        \n",
    "    return statistics, p_value"
   ]
  },
  {
   "cell_type": "markdown",
   "metadata": {},
   "source": [
    "### Colony counts"
   ]
  },
  {
   "cell_type": "code",
   "execution_count": 35,
   "metadata": {
    "collapsed": false,
    "scrolled": true
   },
   "outputs": [
    {
     "data": {
      "text/html": [
       "<div>\n",
       "<table border=\"1\" class=\"dataframe\">\n",
       "  <thead>\n",
       "    <tr style=\"text-align: right;\">\n",
       "      <th></th>\n",
       "      <th>ChiSq</th>\n",
       "      <th>p</th>\n",
       "    </tr>\n",
       "  </thead>\n",
       "  <tbody>\n",
       "    <tr>\n",
       "      <th>RTS</th>\n",
       "      <td>200.726</td>\n",
       "      <td>0</td>\n",
       "    </tr>\n",
       "    <tr>\n",
       "      <th>Same lab</th>\n",
       "      <td>1.79062</td>\n",
       "      <td>0.994363</td>\n",
       "    </tr>\n",
       "    <tr>\n",
       "      <th>Other lab</th>\n",
       "      <td>12.1333</td>\n",
       "      <td>0.205897</td>\n",
       "    </tr>\n",
       "  </tbody>\n",
       "</table>\n",
       "</div>"
      ],
      "text/plain": [
       "             ChiSq         p\n",
       "RTS        200.726         0\n",
       "Same lab   1.79062  0.994363\n",
       "Other lab  12.1333  0.205897"
      ]
     },
     "execution_count": 35,
     "metadata": {},
     "output_type": "execute_result"
    }
   ],
   "source": [
    "# perform test\n",
    "df = pd.DataFrame(index=['RTS','Same lab','Other lab'],\n",
    "                  columns=['ChiSq','p'])\n",
    "\n",
    "df.loc['RTS'] = terminal_digit_analysis(rts_colony)\n",
    "df.loc['Same lab'] = terminal_digit_analysis(inv_colony)\n",
    "df.loc['Other lab'] = terminal_digit_analysis(lab_colony)\n",
    "\n",
    "# print(df.to_latex())\n",
    "df"
   ]
  },
  {
   "cell_type": "markdown",
   "metadata": {},
   "source": [
    "### Coulter counts"
   ]
  },
  {
   "cell_type": "code",
   "execution_count": 36,
   "metadata": {
    "collapsed": false
   },
   "outputs": [
    {
     "data": {
      "text/html": [
       "<div>\n",
       "<table border=\"1\" class=\"dataframe\">\n",
       "  <thead>\n",
       "    <tr style=\"text-align: right;\">\n",
       "      <th></th>\n",
       "      <th>ChiSq</th>\n",
       "      <th>p</th>\n",
       "    </tr>\n",
       "  </thead>\n",
       "  <tbody>\n",
       "    <tr>\n",
       "      <th>RTS</th>\n",
       "      <td>466.875</td>\n",
       "      <td>0</td>\n",
       "    </tr>\n",
       "    <tr>\n",
       "      <th>Same lab</th>\n",
       "      <td>15.9946</td>\n",
       "      <td>0.0669952</td>\n",
       "    </tr>\n",
       "    <tr>\n",
       "      <th>Other lab 1</th>\n",
       "      <td>9.47619</td>\n",
       "      <td>0.394527</td>\n",
       "    </tr>\n",
       "    <tr>\n",
       "      <th>Other lab 2</th>\n",
       "      <td>4.94444</td>\n",
       "      <td>0.839124</td>\n",
       "    </tr>\n",
       "  </tbody>\n",
       "</table>\n",
       "</div>"
      ],
      "text/plain": [
       "               ChiSq          p\n",
       "RTS          466.875          0\n",
       "Same lab     15.9946  0.0669952\n",
       "Other lab 1  9.47619   0.394527\n",
       "Other lab 2  4.94444   0.839124"
      ]
     },
     "execution_count": 36,
     "metadata": {},
     "output_type": "execute_result"
    }
   ],
   "source": [
    "# perform test\n",
    "df = pd.DataFrame(index=['RTS','Same lab','Other lab 1','Other lab 2'],\n",
    "                  columns=['ChiSq','p'])\n",
    "df.loc['RTS'] = terminal_digit_analysis(rts_coulter)\n",
    "df.loc['Same lab'] = terminal_digit_analysis(inv_coulter)\n",
    "df.loc['Other lab 1'] = terminal_digit_analysis(lab1_coulter)\n",
    "df.loc['Other lab 2'] = terminal_digit_analysis(lab2_coulter)\n",
    "\n",
    "# print(df.to_latex())\n",
    "df"
   ]
  },
  {
   "cell_type": "markdown",
   "metadata": {},
   "source": [
    "<a id='individuals_tda'></a>\n",
    "## Individual-stratified terminal digit analysis\n",
    "\n",
    "We augmented the authors' study by stratifying the lumped group of other investigators from the same lab as RTS. We calculate a chi square test for their terminal digit frequencies individually. Individuals are denoted by letters (e.g. \"A\"). Sample size $N$ denotes number of cell counts used in the calculation of that individuals' statistic.\n",
    "\n",
    "Our results show that Investigator D appears to have a suspicious distribution of terminal digits recorded from the Coulter machine."
   ]
  },
  {
   "cell_type": "markdown",
   "metadata": {},
   "source": [
    "### Colony counts"
   ]
  },
  {
   "cell_type": "code",
   "execution_count": 37,
   "metadata": {
    "collapsed": false,
    "scrolled": true
   },
   "outputs": [
    {
     "data": {
      "text/html": [
       "<div>\n",
       "<table border=\"1\" class=\"dataframe\">\n",
       "  <thead>\n",
       "    <tr style=\"text-align: right;\">\n",
       "      <th></th>\n",
       "      <th>ChiSq</th>\n",
       "      <th>p</th>\n",
       "      <th>N</th>\n",
       "    </tr>\n",
       "  </thead>\n",
       "  <tbody>\n",
       "    <tr>\n",
       "      <th>G</th>\n",
       "      <td>9.33333</td>\n",
       "      <td>0.407091</td>\n",
       "      <td>30</td>\n",
       "    </tr>\n",
       "    <tr>\n",
       "      <th>H</th>\n",
       "      <td>14.3016</td>\n",
       "      <td>0.111994</td>\n",
       "      <td>63</td>\n",
       "    </tr>\n",
       "    <tr>\n",
       "      <th>A</th>\n",
       "      <td>6.91784</td>\n",
       "      <td>0.645673</td>\n",
       "      <td>779</td>\n",
       "    </tr>\n",
       "    <tr>\n",
       "      <th>F</th>\n",
       "      <td>5.33333</td>\n",
       "      <td>0.804337</td>\n",
       "      <td>90</td>\n",
       "    </tr>\n",
       "    <tr>\n",
       "      <th>I</th>\n",
       "      <td>6.53741</td>\n",
       "      <td>0.685157</td>\n",
       "      <td>147</td>\n",
       "    </tr>\n",
       "    <tr>\n",
       "      <th>B</th>\n",
       "      <td>13.3563</td>\n",
       "      <td>0.147135</td>\n",
       "      <td>174</td>\n",
       "    </tr>\n",
       "    <tr>\n",
       "      <th>D</th>\n",
       "      <td>8.48</td>\n",
       "      <td>0.486588</td>\n",
       "      <td>250</td>\n",
       "    </tr>\n",
       "    <tr>\n",
       "      <th>E</th>\n",
       "      <td>5.33333</td>\n",
       "      <td>0.804337</td>\n",
       "      <td>30</td>\n",
       "    </tr>\n",
       "    <tr>\n",
       "      <th>C</th>\n",
       "      <td>4.90406</td>\n",
       "      <td>0.84259</td>\n",
       "      <td>271</td>\n",
       "    </tr>\n",
       "  </tbody>\n",
       "</table>\n",
       "</div>"
      ],
      "text/plain": [
       "     ChiSq         p    N\n",
       "G  9.33333  0.407091   30\n",
       "H  14.3016  0.111994   63\n",
       "A  6.91784  0.645673  779\n",
       "F  5.33333  0.804337   90\n",
       "I  6.53741  0.685157  147\n",
       "B  13.3563  0.147135  174\n",
       "D     8.48  0.486588  250\n",
       "E  5.33333  0.804337   30\n",
       "C  4.90406   0.84259  271"
      ]
     },
     "execution_count": 37,
     "metadata": {},
     "output_type": "execute_result"
    }
   ],
   "source": [
    "df = pd.DataFrame(index=list(set(inv_colony.Inv)),columns=['ChiSq','p','N'])\n",
    "for inv in set(inv_colony.Inv):\n",
    "    inv_data = inv_colony.loc[inv_colony.Inv == inv].copy()\n",
    "    df.loc[inv] = terminal_digit_analysis(inv_data, return_counts=True)\n",
    "df"
   ]
  },
  {
   "cell_type": "markdown",
   "metadata": {},
   "source": [
    "### Coulter counts"
   ]
  },
  {
   "cell_type": "code",
   "execution_count": 38,
   "metadata": {
    "collapsed": false
   },
   "outputs": [
    {
     "data": {
      "text/html": [
       "<div>\n",
       "<table border=\"1\" class=\"dataframe\">\n",
       "  <thead>\n",
       "    <tr style=\"text-align: right;\">\n",
       "      <th></th>\n",
       "      <th>ChiSq</th>\n",
       "      <th>p</th>\n",
       "      <th>N</th>\n",
       "    </tr>\n",
       "  </thead>\n",
       "  <tbody>\n",
       "    <tr>\n",
       "      <th>G</th>\n",
       "      <td>5.33333</td>\n",
       "      <td>0.804337</td>\n",
       "      <td>60</td>\n",
       "    </tr>\n",
       "    <tr>\n",
       "      <th>A</th>\n",
       "      <td>8.10232</td>\n",
       "      <td>0.523869</td>\n",
       "      <td>1339</td>\n",
       "    </tr>\n",
       "    <tr>\n",
       "      <th>F</th>\n",
       "      <td>6.96774</td>\n",
       "      <td>0.640478</td>\n",
       "      <td>310</td>\n",
       "    </tr>\n",
       "    <tr>\n",
       "      <th>I</th>\n",
       "      <td>9.4183</td>\n",
       "      <td>0.399591</td>\n",
       "      <td>153</td>\n",
       "    </tr>\n",
       "    <tr>\n",
       "      <th>B</th>\n",
       "      <td>5.88889</td>\n",
       "      <td>0.750985</td>\n",
       "      <td>180</td>\n",
       "    </tr>\n",
       "    <tr>\n",
       "      <th>D</th>\n",
       "      <td>21.8438</td>\n",
       "      <td>0.00938759</td>\n",
       "      <td>640</td>\n",
       "    </tr>\n",
       "    <tr>\n",
       "      <th>E</th>\n",
       "      <td>9.12121</td>\n",
       "      <td>0.426161</td>\n",
       "      <td>165</td>\n",
       "    </tr>\n",
       "    <tr>\n",
       "      <th>C</th>\n",
       "      <td>14.5789</td>\n",
       "      <td>0.10317</td>\n",
       "      <td>95</td>\n",
       "    </tr>\n",
       "  </tbody>\n",
       "</table>\n",
       "</div>"
      ],
      "text/plain": [
       "     ChiSq           p     N\n",
       "G  5.33333    0.804337    60\n",
       "A  8.10232    0.523869  1339\n",
       "F  6.96774    0.640478   310\n",
       "I   9.4183    0.399591   153\n",
       "B  5.88889    0.750985   180\n",
       "D  21.8438  0.00938759   640\n",
       "E  9.12121    0.426161   165\n",
       "C  14.5789     0.10317    95"
      ]
     },
     "execution_count": 38,
     "metadata": {},
     "output_type": "execute_result"
    }
   ],
   "source": [
    "df = pd.DataFrame(index=list(set(inv_coulter.Investigator)),\n",
    "                  columns=['ChiSq','p','N'])\n",
    "for inv in set(inv_coulter.Investigator):\n",
    "    inv_data = inv_coulter.loc[inv_coulter.Investigator== inv].copy()\n",
    "    df.loc[inv] = terminal_digit_analysis(inv_data, \n",
    "                                          return_counts=True)\n",
    "# print(df.to_latex())\n",
    "df"
   ]
  },
  {
   "cell_type": "markdown",
   "metadata": {},
   "source": [
    "<a id='eda'></a>\n",
    "# Equal Digit Analysis"
   ]
  },
  {
   "cell_type": "markdown",
   "metadata": {},
   "source": [
    "<a id='reproduce_eda'></a>\n",
    "## Reproducibility\n",
    "\n",
    "First, we attempted to reproduce the authors' analysis of frequency of terminal digit pairs (e.g., '66') in the data. This test assumes that equal digits pairs are equally likely and that the probability of any (3+)-digit number having equal terminal digits is 10%. So, counts of equal-digit-pair-containing numbers can be assumed to be distributed $\\sim \\text{Binom}(0.10,N)$.\n",
    "\n",
    "As the authors did, we only analyze the Coulter data, which have higher counts. Our results show minor inconsistencies with the statistics calculated by the authors -- we suspect this may be the result of different filtering."
   ]
  },
  {
   "cell_type": "code",
   "execution_count": 39,
   "metadata": {
    "collapsed": true
   },
   "outputs": [],
   "source": [
    "def equal_digit_analysis(df):\n",
    "    '''\n",
    "    This function implements the equal digit analysis in the paper.\n",
    "    \n",
    "    Parameters\n",
    "    ----------\n",
    "        df: pandas.core.frame.DataFrame\n",
    "            pandas data frame with triple column named col1, col2 and col3\n",
    "            \n",
    "    Returns\n",
    "    -------\n",
    "        x: float\n",
    "            binomial statistic\n",
    "        p_value: float\n",
    "            p value\n",
    "        n: int\n",
    "            number of counts\n",
    "    '''\n",
    "    data = df[['col1', 'col2', 'col3']].values.flatten()\n",
    "    data = data[~np.isnan(data)]\n",
    "    data = [i for i in data if i >= 100]\n",
    "    \n",
    "    x = 0\n",
    "    n = len(data)\n",
    "    for entry in data:          \n",
    "        if (entry - entry % 10)/10 % 10  == entry % 10:\n",
    "            x += 1\n",
    "    \n",
    "    p_value = 1 - scipy.stats.binom.cdf(x,n,0.1)\n",
    "    \n",
    "    return x, p_value, n"
   ]
  },
  {
   "cell_type": "code",
   "execution_count": 40,
   "metadata": {
    "collapsed": false
   },
   "outputs": [
    {
     "data": {
      "text/html": [
       "<div>\n",
       "<table border=\"1\" class=\"dataframe\">\n",
       "  <thead>\n",
       "    <tr style=\"text-align: right;\">\n",
       "      <th></th>\n",
       "      <th>x</th>\n",
       "      <th>n</th>\n",
       "      <th>p</th>\n",
       "    </tr>\n",
       "  </thead>\n",
       "  <tbody>\n",
       "    <tr>\n",
       "      <th>RTS</th>\n",
       "      <td>644</td>\n",
       "      <td>7.882e-09</td>\n",
       "      <td>5184</td>\n",
       "    </tr>\n",
       "    <tr>\n",
       "      <th>Same lab</th>\n",
       "      <td>286</td>\n",
       "      <td>0.551063</td>\n",
       "      <td>2887</td>\n",
       "    </tr>\n",
       "    <tr>\n",
       "      <th>Other lab 1</th>\n",
       "      <td>32</td>\n",
       "      <td>0.350493</td>\n",
       "      <td>306</td>\n",
       "    </tr>\n",
       "    <tr>\n",
       "      <th>Other lab 2</th>\n",
       "      <td>30</td>\n",
       "      <td>0.83282</td>\n",
       "      <td>360</td>\n",
       "    </tr>\n",
       "  </tbody>\n",
       "</table>\n",
       "</div>"
      ],
      "text/plain": [
       "               x          n     p\n",
       "RTS          644  7.882e-09  5184\n",
       "Same lab     286   0.551063  2887\n",
       "Other lab 1   32   0.350493   306\n",
       "Other lab 2   30    0.83282   360"
      ]
     },
     "execution_count": 40,
     "metadata": {},
     "output_type": "execute_result"
    }
   ],
   "source": [
    "# perform test\n",
    "df = pd.DataFrame(index=['RTS','Same lab','Other lab 1','Other lab 2'],\n",
    "                  columns=['x','n','p'])\n",
    "df.loc['RTS'] = equal_digit_analysis(rts_coulter)\n",
    "df.loc['Same lab'] = equal_digit_analysis(inv_coulter)\n",
    "df.loc['Other lab 1'] = equal_digit_analysis(lab1_coulter)\n",
    "df.loc['Other lab 2'] = equal_digit_analysis(lab2_coulter)\n",
    "\n",
    "df"
   ]
  },
  {
   "cell_type": "markdown",
   "metadata": {},
   "source": [
    "<a id='individuals_eda'></a>\n",
    "## Individual-stratified equal digit analysis\n",
    "\n",
    "We augmented the authors' study by stratifying the lumped Coulter data from other investigators in the same lab as RTS. We calculate binomial p-values for individuals.\n",
    "\n",
    "We see that Investigator F appears to have a surprising enrichment for equal-digit pairs."
   ]
  },
  {
   "cell_type": "code",
   "execution_count": 41,
   "metadata": {
    "collapsed": false,
    "scrolled": true
   },
   "outputs": [
    {
     "data": {
      "text/html": [
       "<div>\n",
       "<table border=\"1\" class=\"dataframe\">\n",
       "  <thead>\n",
       "    <tr style=\"text-align: right;\">\n",
       "      <th></th>\n",
       "      <th>x</th>\n",
       "      <th>n</th>\n",
       "      <th>p</th>\n",
       "    </tr>\n",
       "  </thead>\n",
       "  <tbody>\n",
       "    <tr>\n",
       "      <th>G</th>\n",
       "      <td>4</td>\n",
       "      <td>0.729042</td>\n",
       "      <td>60</td>\n",
       "    </tr>\n",
       "    <tr>\n",
       "      <th>A</th>\n",
       "      <td>132</td>\n",
       "      <td>0.469526</td>\n",
       "      <td>1318</td>\n",
       "    </tr>\n",
       "    <tr>\n",
       "      <th>F</th>\n",
       "      <td>40</td>\n",
       "      <td>0.0383503</td>\n",
       "      <td>309</td>\n",
       "    </tr>\n",
       "    <tr>\n",
       "      <th>I</th>\n",
       "      <td>11</td>\n",
       "      <td>0.848016</td>\n",
       "      <td>153</td>\n",
       "    </tr>\n",
       "    <tr>\n",
       "      <th>B</th>\n",
       "      <td>16</td>\n",
       "      <td>0.634373</td>\n",
       "      <td>180</td>\n",
       "    </tr>\n",
       "    <tr>\n",
       "      <th>D</th>\n",
       "      <td>62</td>\n",
       "      <td>0.561342</td>\n",
       "      <td>638</td>\n",
       "    </tr>\n",
       "    <tr>\n",
       "      <th>E</th>\n",
       "      <td>13</td>\n",
       "      <td>0.473108</td>\n",
       "      <td>134</td>\n",
       "    </tr>\n",
       "    <tr>\n",
       "      <th>C</th>\n",
       "      <td>8</td>\n",
       "      <td>0.617996</td>\n",
       "      <td>95</td>\n",
       "    </tr>\n",
       "  </tbody>\n",
       "</table>\n",
       "</div>"
      ],
      "text/plain": [
       "     x          n     p\n",
       "G    4   0.729042    60\n",
       "A  132   0.469526  1318\n",
       "F   40  0.0383503   309\n",
       "I   11   0.848016   153\n",
       "B   16   0.634373   180\n",
       "D   62   0.561342   638\n",
       "E   13   0.473108   134\n",
       "C    8   0.617996    95"
      ]
     },
     "execution_count": 41,
     "metadata": {},
     "output_type": "execute_result"
    }
   ],
   "source": [
    "df = pd.DataFrame(index=list(set(inv_coulter.Investigator)),\n",
    "                  columns=['x','n','p'])\n",
    "for inv in set(inv_coulter.Investigator):\n",
    "    inv_data = inv_coulter.loc[inv_coulter.Investigator== inv].copy()\n",
    "    df.loc[inv] = equal_digit_analysis(inv_data)\n",
    "# print(df.to_latex())\n",
    "df"
   ]
  },
  {
   "cell_type": "markdown",
   "metadata": {},
   "source": [
    "## Alternative digit pair test\n",
    "\n",
    "We also tested enrichment for other digit pairs: for example, the pairs (09,10,21,...98). In this case, we see 3 other investigators who show approximately equally surprising frequencies of these pairs!"
   ]
  },
  {
   "cell_type": "code",
   "execution_count": 42,
   "metadata": {
    "collapsed": true
   },
   "outputs": [],
   "source": [
    "def other_digit_analysis(df):\n",
    "    '''\n",
    "    This function implements an alternative digit pair analysis\n",
    "    \n",
    "    Parameters\n",
    "    ----------\n",
    "        df: pandas.core.frame.DataFrame\n",
    "            pandas data frame with triple column named col1, col2 and col3\n",
    "            \n",
    "    Returns\n",
    "    -------\n",
    "        x:float\n",
    "            binomial statistic\n",
    "        p_value: float\n",
    "            p value\n",
    "        n: int\n",
    "            number of counts\n",
    "    '''\n",
    "    data = df[['col1', 'col2', 'col3']].values.flatten()\n",
    "    data = data[~np.isnan(data)]\n",
    "    data = [i for i in data if i >= 100]\n",
    "    \n",
    "    x = 0\n",
    "    n = len(data)\n",
    "    for entry in data:\n",
    "        if (entry - entry % 10)/10 % 10  == (entry+1) % 10:\n",
    "            x += 1\n",
    "    \n",
    "    p_value = 1 - scipy.stats.binom.cdf(x,n,0.1)\n",
    "    \n",
    "    return x, p_value, n"
   ]
  },
  {
   "cell_type": "code",
   "execution_count": 43,
   "metadata": {
    "collapsed": false,
    "scrolled": true
   },
   "outputs": [
    {
     "data": {
      "text/html": [
       "<div>\n",
       "<table border=\"1\" class=\"dataframe\">\n",
       "  <thead>\n",
       "    <tr style=\"text-align: right;\">\n",
       "      <th></th>\n",
       "      <th>x</th>\n",
       "      <th>n</th>\n",
       "      <th>p</th>\n",
       "    </tr>\n",
       "  </thead>\n",
       "  <tbody>\n",
       "    <tr>\n",
       "      <th>RTS</th>\n",
       "      <td>560</td>\n",
       "      <td>0.0266498</td>\n",
       "      <td>5184</td>\n",
       "    </tr>\n",
       "    <tr>\n",
       "      <th>G</th>\n",
       "      <td>6</td>\n",
       "      <td>0.393549</td>\n",
       "      <td>60</td>\n",
       "    </tr>\n",
       "    <tr>\n",
       "      <th>A</th>\n",
       "      <td>156</td>\n",
       "      <td>0.0131639</td>\n",
       "      <td>1318</td>\n",
       "    </tr>\n",
       "    <tr>\n",
       "      <th>F</th>\n",
       "      <td>39</td>\n",
       "      <td>0.0553995</td>\n",
       "      <td>309</td>\n",
       "    </tr>\n",
       "    <tr>\n",
       "      <th>I</th>\n",
       "      <td>16</td>\n",
       "      <td>0.361155</td>\n",
       "      <td>153</td>\n",
       "    </tr>\n",
       "    <tr>\n",
       "      <th>B</th>\n",
       "      <td>23</td>\n",
       "      <td>0.0896297</td>\n",
       "      <td>180</td>\n",
       "    </tr>\n",
       "    <tr>\n",
       "      <th>D</th>\n",
       "      <td>72</td>\n",
       "      <td>0.126447</td>\n",
       "      <td>638</td>\n",
       "    </tr>\n",
       "    <tr>\n",
       "      <th>E</th>\n",
       "      <td>10</td>\n",
       "      <td>0.794996</td>\n",
       "      <td>134</td>\n",
       "    </tr>\n",
       "    <tr>\n",
       "      <th>C</th>\n",
       "      <td>11</td>\n",
       "      <td>0.239286</td>\n",
       "      <td>95</td>\n",
       "    </tr>\n",
       "  </tbody>\n",
       "</table>\n",
       "</div>"
      ],
      "text/plain": [
       "       x          n     p\n",
       "RTS  560  0.0266498  5184\n",
       "G      6   0.393549    60\n",
       "A    156  0.0131639  1318\n",
       "F     39  0.0553995   309\n",
       "I     16   0.361155   153\n",
       "B     23  0.0896297   180\n",
       "D     72   0.126447   638\n",
       "E     10   0.794996   134\n",
       "C     11   0.239286    95"
      ]
     },
     "execution_count": 43,
     "metadata": {},
     "output_type": "execute_result"
    }
   ],
   "source": [
    "df = pd.DataFrame(index=['RTS']+list(set(inv_coulter.Investigator)),\n",
    "                  columns=['x','n','p'])\n",
    "df.loc['RTS'] = other_digit_analysis(rts_coulter)\n",
    "\n",
    "for inv in set(inv_coulter.Investigator):\n",
    "    inv_data = inv_coulter.loc[inv_coulter.Investigator== inv].copy()\n",
    "    df.loc[inv] = other_digit_analysis(inv_data)\n",
    "# df.to_latex()\n",
    "df"
   ]
  },
  {
   "cell_type": "markdown",
   "metadata": {},
   "source": [
    "<a id='assumption_check'></a>\n",
    "# Distribution assumption check"
   ]
  },
  {
   "cell_type": "markdown",
   "metadata": {},
   "source": [
    "<a id='td_assumption'></a>\n",
    "## Terminal digit assumption"
   ]
  },
  {
   "cell_type": "markdown",
   "metadata": {},
   "source": [
    "Here we use simulations to examine the authors' claim that terminal digits of a Poisson r.v. are distributed uniformly. It appears that actually this assumption does not hold well for $\\lambda < ~30$."
   ]
  },
  {
   "cell_type": "code",
   "execution_count": 45,
   "metadata": {
    "collapsed": false
   },
   "outputs": [
    {
     "data": {
      "text/plain": [
       "<matplotlib.text.Text at 0x11c3f2978>"
      ]
     },
     "execution_count": 45,
     "metadata": {},
     "output_type": "execute_result"
    },
    {
     "data": {
      "image/png": "[encoded data removed]",
      "text/plain": [
       "<matplotlib.figure.Figure at 0x11c320208>"
      ]
     },
     "metadata": {},
     "output_type": "display_data"
    }
   ],
   "source": [
    "terminal_digit=[]\n",
    "td_se = []\n",
    "for l in np.logspace(0,2,100):\n",
    "    digits = np.mod(np.random.poisson(l,size=10000),10)\n",
    "    terminal_digit.append(np.mean(digits))\n",
    "    \n",
    "plt.semilogx(np.logspace(0,2,100),terminal_digit,'o')\n",
    "plt.ylabel('mean terminal digit')\n",
    "plt.xlabel(r'$\\lambda$')\n",
    "\n",
    "#plt.savefig('/Users/ajstern/Documents/stat215a/stat215a-review/fig1.pdf',format='pdf')"
   ]
  },
  {
   "cell_type": "markdown",
   "metadata": {},
   "source": [
    "<a id='poisson_assumption'></a>\n",
    "## Poisson assumption"
   ]
  },
  {
   "cell_type": "code",
   "execution_count": 46,
   "metadata": {
    "collapsed": false
   },
   "outputs": [],
   "source": [
    "inv_raw = []\n",
    "for idx in inv_coulter.index:\n",
    "    triple = list(inv_coulter.loc[idx,'col1':'col3'])\n",
    "    if np.isnan(triple[0]) or np.isnan(triple[1]) or np.isnan(triple[2]):\n",
    "        continue\n",
    "    if np.max(triple) - np.min(triple) > 2:\n",
    "        inv_raw.append(triple)"
   ]
  },
  {
   "cell_type": "code",
   "execution_count": 47,
   "metadata": {
    "collapsed": true
   },
   "outputs": [],
   "source": [
    "def simulate_triple(lams):\n",
    "    simu_triples = [np.random.poisson(lam=i, size=3).tolist() for i in lams]\n",
    "    # var_triple = [np.var(triple) for triple in simu_triples]\n",
    "    # mean_triple =  [np.mean(triple) for triple in simu_triples]\n",
    "    return simu_triples"
   ]
  },
  {
   "cell_type": "code",
   "execution_count": 48,
   "metadata": {
    "collapsed": true
   },
   "outputs": [],
   "source": [
    "def regress(x, y):\n",
    "    '''\n",
    "    regress y = alpha * x with no intercept\n",
    "    Inputs:\n",
    "      x: list/array covariate\n",
    "      y: list/array response\n",
    "    Outputs:\n",
    "      alpha: slope\n",
    "    '''\n",
    "    import numpy as np\n",
    "    a = np.sum([i**2 for i in x])\n",
    "    b = np.sum([i*j for i, j in zip(x, y)])\n",
    "    return b/a"
   ]
  },
  {
   "cell_type": "code",
   "execution_count": 49,
   "metadata": {
    "collapsed": false
   },
   "outputs": [],
   "source": [
    "def TriplePoissonTest(data, verbose = True, plot = True, replicate = 20):\n",
    "    '''\n",
    "     Test whether given list of triples come from Poisson test\n",
    "     Inputs:\n",
    "       data: list of triples, integer\n",
    "       verbose: boolean whether to print information\n",
    "       plot: boolean whether to plot the figure\n",
    "     Outputs:\n",
    "       prob: probability whether the null hypothesis that triples are \n",
    "       from poisson holds for this specific test.\n",
    "    '''\n",
    "    %matplotlib inline\n",
    "    import matplotlib.pyplot as plt\n",
    "    import numpy as np\n",
    "    sampleMean = [np.mean(x) for x in data]\n",
    "    sampleVar  = [np.var(x)*3/2 for x in data]\n",
    "    maxMean = np.max(sampleMean)\n",
    "    minMean = np.min(sampleMean)\n",
    "    slope = regress(sampleMean, sampleVar)\n",
    "    if plot: \n",
    "        plt.figure(figsize=(18, 10)) # set figure size\n",
    "        plt.subplot(3, 7, 1)\n",
    "        plt.scatter(sampleMean, sampleVar)\n",
    "        plt.xlim(minMean, maxMean)\n",
    "        plt.ylim(minMean, maxMean*2)\n",
    "        plt.plot([minMean, maxMean], [slope * minMean, slope * maxMean])\n",
    "        plt.title('empirical')\n",
    "        # plt.show()\n",
    "    slopeList = []\n",
    "    for i in range(replicate):\n",
    "        simu = simulate_triple(random.sample(sampleMean, len(data)))\n",
    "        sampleMean = [np.mean(x) for x in simu]\n",
    "        sampleVar  = [np.var(x)*3/2 for x in simu]\n",
    "        maxMean = np.max(sampleMean)\n",
    "        minMean = np.min(sampleMean)\n",
    "        slopeList.append(regress(sampleMean, sampleVar))\n",
    "        if plot: \n",
    "            plt.subplot(3, 7, i + 2)\n",
    "            plt.scatter(sampleMean, sampleVar)\n",
    "            plt.xlim(minMean, maxMean)\n",
    "            plt.ylim(minMean, maxMean*2)\n",
    "            plt.plot([minMean, maxMean], [minMean, maxMean])\n",
    "            plt.title('simulated ' + str(i))\n",
    "    plt.show()\n",
    "    if verbose: print(sum([i < slope for i in slopeList]), ' out of ', \n",
    "                      replicate, ' simulations have higer slopes than empirical.')\n",
    "    return slopeList"
   ]
  },
  {
   "cell_type": "code",
   "execution_count": 50,
   "metadata": {
    "collapsed": false
   },
   "outputs": [],
   "source": [
    "slopeList = TriplePoissonTest(inv_raw,plot=False,replicate=1000, verbose=False)"
   ]
  },
  {
   "cell_type": "code",
   "execution_count": 51,
   "metadata": {
    "collapsed": false
   },
   "outputs": [],
   "source": [
    "maxCount = np.max([val for sublist in inv_raw for val in sublist])\n",
    "\n",
    "\n",
    "meanList = []\n",
    "varList = []\n",
    "for trip in inv_raw:\n",
    "    xbar = np.mean(trip)\n",
    "    ssbar = np.var(trip,ddof=1)\n",
    "    \n",
    "    if ssbar < 3 * maxCount:\n",
    "        meanList.append(xbar)\n",
    "        varList.append(ssbar)\n",
    "        \n",
    "slopeReal = regress(meanList,varList)"
   ]
  },
  {
   "cell_type": "code",
   "execution_count": 53,
   "metadata": {
    "collapsed": false
   },
   "outputs": [
    {
     "data": {
      "text/plain": [
       "<matplotlib.text.Text at 0x11c832278>"
      ]
     },
     "execution_count": 53,
     "metadata": {},
     "output_type": "execute_result"
    },
    {
     "data": {
      "image/png": "[encoded data removed]",
      "text/plain": [
       "<matplotlib.figure.Figure at 0x11c6f8a20>"
      ]
     },
     "metadata": {},
     "output_type": "display_data"
    }
   ],
   "source": [
    "plt.hist(slopeList,color='c',bins=np.linspace(0.80,1.25,40))\n",
    "plt.axvline(slopeReal)\n",
    "plt.ylabel('Counts')\n",
    "plt.xlabel(r'$\\hat \\beta$')\n",
    "#plt.savefig('/Users/ajstern/Documents/stat215a/stat215a-review/regression.pdf',format='pdf')"
   ]
  },
  {
   "cell_type": "code",
   "execution_count": 54,
   "metadata": {
    "collapsed": false
   },
   "outputs": [
    {
     "data": {
      "text/plain": [
       "(0, 10000, 0, 20000)"
      ]
     },
     "execution_count": 54,
     "metadata": {},
     "output_type": "execute_result"
    },
    {
     "data": {
      "image/png": "[encoded data removed]",
      "text/plain": [
       "<matplotlib.figure.Figure at 0x11c8964a8>"
      ]
     },
     "metadata": {},
     "output_type": "display_data"
    }
   ],
   "source": [
    "plt.scatter(xbar,ssbar)\n",
    "plt.axis((0,10000,0,20000))"
   ]
  },
  {
   "cell_type": "markdown",
   "metadata": {},
   "source": [
    "<a id='ltd_assumption'></a>\n",
    "## Last two digits assumption"
   ]
  },
  {
   "cell_type": "markdown",
   "metadata": {},
   "source": [
    "Here we check potentially wrong assumption about last two digit: proportion of certain pairs is near 0.1.Specifically, we calculate the number among all high-digit (bigger than 2) numbers, that last digit is 1 smaller than 2-nd last digit, i.e. xx10, xx21, xx32, xx43, xx54, xx65, xx76, xx87, xx98, xx09. \n",
    "\n",
    "We can perform such kind of experiments among various pairs, to show that the distribution of last two digit are not necessarily uniform. \n",
    "\n",
    "From the coulter results, we can see that the proportion of such pairs (xx10, xx21, xx32, xx43...) in RTS data is more close to 0.1 than other investigators, and other investigator's data has smaller p-value. In colony results, the proportion of RTS data is exactly 0.1, better than (in the author's view) other investigators results (proportion of 0.0966). However, both of them exhibit p-values larger than 0.5. This means that the conclusion in paper's section \"Equal two digit analysis\" can not be convincing."
   ]
  },
  {
   "cell_type": "code",
   "execution_count": 55,
   "metadata": {
    "collapsed": true
   },
   "outputs": [],
   "source": [
    "def convert_count(df):\n",
    "    data = df[['col1', 'col2', 'col3']].values.flatten()\n",
    "    data = data[~np.isnan(data)]\n",
    "    return data"
   ]
  },
  {
   "cell_type": "markdown",
   "metadata": {},
   "source": [
    "### RTS Coulter v.s. Others Coulter"
   ]
  },
  {
   "cell_type": "code",
   "execution_count": 56,
   "metadata": {
    "collapsed": true
   },
   "outputs": [],
   "source": [
    "rawData = convert_count(rts_coulter)"
   ]
  },
  {
   "cell_type": "code",
   "execution_count": 57,
   "metadata": {
    "collapsed": false
   },
   "outputs": [
    {
     "name": "stdout",
     "output_type": "stream",
     "text": [
      "5184\n",
      "560\n"
     ]
    }
   ],
   "source": [
    "# this calcualte the number of all high-digit (more than 3) numbers\n",
    "high_digit = [int(i) for i in rawData if i > 99]\n",
    "print(len(high_digit))\n",
    "# this calculate the number among all high_digit numbers, that last digit is 1 smaller than 2-nd last digit\n",
    "# i.e. x10, xx21, xx32, xx43, xx54, xx65, xx76, xx87, xx98, xx09\n",
    "interested_digit = [i for i in high_digit if int((i % 100) / 10) == ((i % 10 + 1) % 10)]\n",
    "print(len(interested_digit))"
   ]
  },
  {
   "cell_type": "code",
   "execution_count": 58,
   "metadata": {
    "collapsed": false
   },
   "outputs": [
    {
     "name": "stdout",
     "output_type": "stream",
     "text": [
      "proportion of such pairs in RTS Coulter\n",
      "0.10802469135802469\n",
      "p-values of such pairs in RTS Coulter\n",
      "0.0295641629338\n"
     ]
    }
   ],
   "source": [
    "print('proportion of such pairs in RTS Coulter')\n",
    "print(len(interested_digit)/len(high_digit))\n",
    "print('p-values of such pairs in RTS Coulter')\n",
    "print(1 - binom.cdf(k=len(interested_digit)-1, n=len(high_digit), p=0.1, loc=0))"
   ]
  },
  {
   "cell_type": "code",
   "execution_count": 59,
   "metadata": {
    "collapsed": false
   },
   "outputs": [
    {
     "name": "stdout",
     "output_type": "stream",
     "text": [
      "2887\n",
      "333\n"
     ]
    }
   ],
   "source": [
    "rawData = convert_count(inv_coulter)\n",
    "\n",
    "# this calcualte the number of all high-digit (more than 3) numbers\n",
    "high_digit = [int(i) for i in rawData if i > 99]\n",
    "print(len(high_digit))\n",
    "# this calculate the number among all high_digit numbers, that last digit is 1 smaller than 2-nd last digit\n",
    "# i.e. x10, xx21, xx32, xx43, xx54, xx65, xx76, xx87, xx98, xx09\n",
    "interested_digit = [i for i in high_digit if int((i % 100) / 10) == ((i % 10 + 1) % 10)]\n",
    "print(len(interested_digit))"
   ]
  },
  {
   "cell_type": "code",
   "execution_count": 60,
   "metadata": {
    "collapsed": false
   },
   "outputs": [
    {
     "name": "stdout",
     "output_type": "stream",
     "text": [
      "proportion of such pairs in Others Coulter\n",
      "0.11534464842396952\n",
      "p-values of such pairs in Others Coulter\n",
      "0.00381629191998\n"
     ]
    }
   ],
   "source": [
    "print('proportion of such pairs in Others Coulter')\n",
    "print(len(interested_digit)/len(high_digit))\n",
    "print('p-values of such pairs in Others Coulter')\n",
    "print(1 - binom.cdf(k=len(interested_digit)-1, n=len(high_digit), p=0.1, loc=0))"
   ]
  },
  {
   "cell_type": "markdown",
   "metadata": {},
   "source": [
    "### RTS Colony v.s. Others Colony"
   ]
  },
  {
   "cell_type": "code",
   "execution_count": 61,
   "metadata": {
    "collapsed": false
   },
   "outputs": [
    {
     "name": "stdout",
     "output_type": "stream",
     "text": [
      "1660\n",
      "166\n"
     ]
    }
   ],
   "source": [
    "rawData = convert_count(rts_colony)\n",
    "\n",
    "# this calcualte the number of all high-digit (more than 3) numbers\n",
    "high_digit = [int(i) for i in rawData if i > 99]\n",
    "print(len(high_digit))\n",
    "# this calculate the number among all high_digit numbers, that last digit is 1 smaller than 2-nd last digit\n",
    "# i.e. x10, xx21, xx32, xx43, xx54, xx65, xx76, xx87, xx98, xx09\n",
    "interested_digit = [i for i in high_digit if int((i % 100) / 10) == ((i % 10 + 1) % 10)]\n",
    "print(len(interested_digit))"
   ]
  },
  {
   "cell_type": "code",
   "execution_count": 62,
   "metadata": {
    "collapsed": false
   },
   "outputs": [
    {
     "name": "stdout",
     "output_type": "stream",
     "text": [
      "proportion of such pairs in RTS Colony\n",
      "0.1\n",
      "p-values of such pairs in RTS Colony\n",
      "0.51196690866\n"
     ]
    }
   ],
   "source": [
    "print('proportion of such pairs in RTS Colony')\n",
    "print(len(interested_digit)/len(high_digit))\n",
    "print('p-values of such pairs in RTS Colony')\n",
    "print(1 - binom.cdf(k=len(interested_digit)-1, n=len(high_digit), p=0.1, loc=0))"
   ]
  },
  {
   "cell_type": "code",
   "execution_count": 63,
   "metadata": {
    "collapsed": false
   },
   "outputs": [
    {
     "name": "stdout",
     "output_type": "stream",
     "text": [
      "507\n",
      "49\n"
     ]
    }
   ],
   "source": [
    "rawData = convert_count(inv_colony)\n",
    "\n",
    "# this calcualte the number of all high-digit (more than 3) numbers\n",
    "high_digit = [int(i) for i in rawData if i > 99]\n",
    "print(len(high_digit))\n",
    "# this calculate the number among all high_digit numbers, that last digit is 1 smaller than 2-nd last digit\n",
    "# i.e. x10, xx21, xx32, xx43, xx54, xx65, xx76, xx87, xx98, xx09\n",
    "interested_digit = [i for i in high_digit if int((i % 100) / 10) == ((i % 10 + 1) % 10)]\n",
    "print(len(interested_digit))"
   ]
  },
  {
   "cell_type": "code",
   "execution_count": 64,
   "metadata": {
    "collapsed": false
   },
   "outputs": [
    {
     "name": "stdout",
     "output_type": "stream",
     "text": [
      "proportion of such pairs in Others Colony\n",
      "0.09664694280078895\n",
      "p-values of such pairs in Others Colony\n",
      "0.620899219288\n"
     ]
    }
   ],
   "source": [
    "print('proportion of such pairs in Others Colony')\n",
    "print(len(interested_digit)/len(high_digit))\n",
    "print('p-values of such pairs in Others Colony')\n",
    "print(1 - binom.cdf(k=len(interested_digit)-1, n=len(high_digit), p=0.1, loc=0))"
   ]
  },
  {
   "cell_type": "markdown",
   "metadata": {},
   "source": [
    "<a id='permutation_test'></a>\n",
    "# Permutation test"
   ]
  },
  {
   "cell_type": "markdown",
   "metadata": {},
   "source": [
    "Both the terminal digit analysis and the equal digit analysis rely on the uniform distribution assumption of the terminal (or last two) digits. However, the uniform assumption may not hold. Some digit may have the larger chance of occurence than the others. \n",
    "\n",
    "In this section, we apply permutation test on terminal digit analysis and equal digit analysis, which does not rely on the dsitribution assumption."
   ]
  },
  {
   "cell_type": "markdown",
   "metadata": {},
   "source": [
    "<a id='terminal_digit_analysis'></a>\n",
    "## Terminal digit analysis"
   ]
  },
  {
   "cell_type": "markdown",
   "metadata": {},
   "source": [
    "For the terminal digit analysis, we use Chi-squared distance and Total Variation Distance (tvd) to measure the distance between two distributions. We compare the observed distance and the permuted distance distribution to obtain the p-value. "
   ]
  },
  {
   "cell_type": "code",
   "execution_count": 65,
   "metadata": {
    "collapsed": true
   },
   "outputs": [],
   "source": [
    "def calc_distance(group1, group2):\n",
    "    \"\"\"\n",
    "    This function calculate the distance between group1 and group2 using \n",
    "    Chi-squared distance and Total Variation Distance (tvd).\n",
    "    \n",
    "    Parameters\n",
    "    ----------\n",
    "        group1: list\n",
    "            terminal digit list, which contains integers 0-9\n",
    "        group2: list\n",
    "            terminal digit list, which contains integers 0-9\n",
    "    \n",
    "    Returns\n",
    "    -------\n",
    "        tvd_obs: float\n",
    "            Total Variation Distance\n",
    "        chi_sq_obs: float\n",
    "            Chi-squared distance\n",
    "    \"\"\"\n",
    "    group1_obs = [group1.count(i)/len(group1) for i in range(10)]\n",
    "    group2_obs = [group2.count(i)/len(group2) for i in range(10)]\n",
    "    tvd_obs = 0.5*sum([abs(a_i - b_i) \n",
    "                       for a_i, b_i in zip(group1_obs, group2_obs)])\n",
    "    chi_sq_obs = 0.5*sum([abs(a_i - b_i)**2/(a_i + b_i) \n",
    "                          for a_i, b_i in zip(group1_obs, group2_obs)])\n",
    "    return tvd_obs, chi_sq_obs"
   ]
  },
  {
   "cell_type": "code",
   "execution_count": 66,
   "metadata": {
    "collapsed": false
   },
   "outputs": [],
   "source": [
    "def terminal_permutation(group1, group2, replication, plot = False):\n",
    "    \"\"\"\n",
    "    This function apply permutation test on the terminal digits for two groups.\n",
    "    The distance between two distribution are measured using Chi-squared distance \n",
    "    and Total Variation Distance (tvd).\n",
    "    \n",
    "    Parameters\n",
    "    ----------\n",
    "        group1, group2: pandas.core.frame.DataFrame\n",
    "            pandas data frame with triple column named col1, col2 and col3\n",
    "        replication: int\n",
    "            replication times for permutation\n",
    "        plot:\n",
    "            if True, plot the histogram of permutated statitics and \n",
    "            observed statitics\n",
    "    \n",
    "    Returns\n",
    "    -------\n",
    "        tvd_obs: float\n",
    "            observed tvd\n",
    "        tvd_p_value:  float\n",
    "            p-value calculated using tvd\n",
    "        chi_sq_obs: float\n",
    "            observed chi square distance\n",
    "        chi_sq_p_value:  float\n",
    "            p-value calculated using chi square distance\n",
    "    \"\"\"\n",
    "    # obtain the terminal digits\n",
    "    group1 = group1[['col1', 'col2', 'col3']].values.flatten()\n",
    "    group1 = group1[~np.isnan(group1)]\n",
    "    group1 = [np.mod(i, 10) for i in group1]\n",
    "    group2 = group2[['col1', 'col2', 'col3']].values.flatten()\n",
    "    group2 = group2[~np.isnan(group2)]\n",
    "    group2 = [np.mod(i, 10) for i in group2]\n",
    "    \n",
    "    # observed distance between distribution\n",
    "    tvd_obs, chi_sq_obs = calc_distance(group1, group2)\n",
    "    \n",
    "    # permutation\n",
    "    tvd = []\n",
    "    chi_sq = []\n",
    "    for i in np.arange(replication):\n",
    "        shuffled = random.sample(group1 + group2, \n",
    "                                 len(group1 + group2))\n",
    "        tvd_shuffled, chi_sq_shuffled = calc_distance(shuffled[:len(group1)], \n",
    "                                                      shuffled[len(group1):])\n",
    "        tvd.append(tvd_shuffled)\n",
    "        chi_sq.append(chi_sq_shuffled)\n",
    "        \n",
    "    tvd_p_value = sum(np.array(tvd) > tvd_obs) / replication\n",
    "    chi_sq_p_value = sum(np.array(chi_sq) > chi_sq_obs) / replication\n",
    "    \n",
    "    if plot:\n",
    "        f, (ax1, ax2) = plt.subplots(1, 2, figsize=(6,3))\n",
    "        ax1.hist(tvd, bins=20, color='c')\n",
    "        ax1.axvline(tvd_obs, color='b', linestyle='dashed', linewidth=2)\n",
    "        ax1.set_title(\"TVD\")\n",
    "        ax2.hist(chi_sq, bins=20, color='c')\n",
    "        ax2.axvline(chi_sq_obs, color='b', linestyle='dashed', linewidth=2)\n",
    "        ax2.set_title(\"Chi squared distance\")\n",
    "        plt.show()\n",
    "        #plt.savefig('/Users/ajstern/Documents/stat215a/stat215a-review/perm.pdf',format='pdf')\n",
    "    return tvd_obs, tvd_p_value, chi_sq_obs, chi_sq_p_value"
   ]
  },
  {
   "cell_type": "markdown",
   "metadata": {},
   "source": [
    "Permutation test of terminal digits between RTS colony data and other investigators colony data. The p values is close to zero, which indicate that the terminal digit distribution of RTS and other investigators in the lab are different."
   ]
  },
  {
   "cell_type": "code",
   "execution_count": 67,
   "metadata": {
    "collapsed": false
   },
   "outputs": [
    {
     "data": {
      "image/png": "[encoded data removed]",
      "text/plain": [
       "<matplotlib.figure.Figure at 0x11c52f400>"
      ]
     },
     "metadata": {},
     "output_type": "display_data"
    },
    {
     "data": {
      "text/plain": [
       "(0.09260466984966408, 0.0, 0.011145925839597975, 0.0)"
      ]
     },
     "execution_count": 67,
     "metadata": {},
     "output_type": "execute_result"
    }
   ],
   "source": [
    "terminal_permutation(rts_colony, inv_colony, replication=1000, plot=True)"
   ]
  },
  {
   "cell_type": "markdown",
   "metadata": {},
   "source": [
    "The following tables shows the permutation test results of other investigators in the lab. The tests are carried out comparing each individuals and other people in the lab. Note that there are some small p-values. For example, we may reject the assumption that the coulter counts from invectigator D follows the same terminal digit assumption as other investigators in the lab."
   ]
  },
  {
   "cell_type": "code",
   "execution_count": 68,
   "metadata": {
    "collapsed": false
   },
   "outputs": [
    {
     "data": {
      "text/html": [
       "<div>\n",
       "<table border=\"1\" class=\"dataframe\">\n",
       "  <thead>\n",
       "    <tr style=\"text-align: right;\">\n",
       "      <th></th>\n",
       "      <th>tvd obs</th>\n",
       "      <th>tvd p-value</th>\n",
       "      <th>chi sq obs</th>\n",
       "      <th>chi sq p-value</th>\n",
       "    </tr>\n",
       "  </thead>\n",
       "  <tbody>\n",
       "    <tr>\n",
       "      <th>G</th>\n",
       "      <td>0.234996</td>\n",
       "      <td>0.408</td>\n",
       "      <td>0.101799</td>\n",
       "      <td>0.271</td>\n",
       "    </tr>\n",
       "    <tr>\n",
       "      <th>H</th>\n",
       "      <td>0.210741</td>\n",
       "      <td>0.082</td>\n",
       "      <td>0.063945</td>\n",
       "      <td>0.110</td>\n",
       "    </tr>\n",
       "    <tr>\n",
       "      <th>A</th>\n",
       "      <td>0.057093</td>\n",
       "      <td>0.462</td>\n",
       "      <td>0.004284</td>\n",
       "      <td>0.571</td>\n",
       "    </tr>\n",
       "    <tr>\n",
       "      <th>F</th>\n",
       "      <td>0.113749</td>\n",
       "      <td>0.686</td>\n",
       "      <td>0.014296</td>\n",
       "      <td>0.864</td>\n",
       "    </tr>\n",
       "    <tr>\n",
       "      <th>I</th>\n",
       "      <td>0.100714</td>\n",
       "      <td>0.541</td>\n",
       "      <td>0.012008</td>\n",
       "      <td>0.729</td>\n",
       "    </tr>\n",
       "    <tr>\n",
       "      <th>B</th>\n",
       "      <td>0.126554</td>\n",
       "      <td>0.104</td>\n",
       "      <td>0.024279</td>\n",
       "      <td>0.082</td>\n",
       "    </tr>\n",
       "    <tr>\n",
       "      <th>D</th>\n",
       "      <td>0.083197</td>\n",
       "      <td>0.449</td>\n",
       "      <td>0.010927</td>\n",
       "      <td>0.395</td>\n",
       "    </tr>\n",
       "    <tr>\n",
       "      <th>E</th>\n",
       "      <td>0.176644</td>\n",
       "      <td>0.725</td>\n",
       "      <td>0.048531</td>\n",
       "      <td>0.801</td>\n",
       "    </tr>\n",
       "    <tr>\n",
       "      <th>C</th>\n",
       "      <td>0.064360</td>\n",
       "      <td>0.768</td>\n",
       "      <td>0.007566</td>\n",
       "      <td>0.654</td>\n",
       "    </tr>\n",
       "  </tbody>\n",
       "</table>\n",
       "</div>"
      ],
      "text/plain": [
       "    tvd obs  tvd p-value  chi sq obs  chi sq p-value\n",
       "G  0.234996        0.408    0.101799           0.271\n",
       "H  0.210741        0.082    0.063945           0.110\n",
       "A  0.057093        0.462    0.004284           0.571\n",
       "F  0.113749        0.686    0.014296           0.864\n",
       "I  0.100714        0.541    0.012008           0.729\n",
       "B  0.126554        0.104    0.024279           0.082\n",
       "D  0.083197        0.449    0.010927           0.395\n",
       "E  0.176644        0.725    0.048531           0.801\n",
       "C  0.064360        0.768    0.007566           0.654"
      ]
     },
     "execution_count": 68,
     "metadata": {},
     "output_type": "execute_result"
    }
   ],
   "source": [
    "# permutation test of colony data: other investigators in the lab\n",
    "colony_terminal_permute = pd.DataFrame(\n",
    "    columns=('tvd obs', \"tvd p-value\", \n",
    "             \"chi sq obs\", \"chi sq p-value\"))\n",
    "for inv in set(inv_colony.Inv):\n",
    "    colony_terminal_permute.loc[inv] = terminal_permutation(\n",
    "        inv_colony.loc[inv_colony.Inv == inv], \n",
    "        inv_colony.loc[inv_colony.Inv != inv], \n",
    "        replication=1000)\n",
    "colony_terminal_permute"
   ]
  },
  {
   "cell_type": "code",
   "execution_count": 69,
   "metadata": {
    "collapsed": false
   },
   "outputs": [
    {
     "data": {
      "text/html": [
       "<div>\n",
       "<table border=\"1\" class=\"dataframe\">\n",
       "  <thead>\n",
       "    <tr style=\"text-align: right;\">\n",
       "      <th></th>\n",
       "      <th>tvd obs</th>\n",
       "      <th>tvd p-value</th>\n",
       "      <th>chi sq obs</th>\n",
       "      <th>chi sq p-value</th>\n",
       "    </tr>\n",
       "  </thead>\n",
       "  <tbody>\n",
       "    <tr>\n",
       "      <th>G</th>\n",
       "      <td>0.146935</td>\n",
       "      <td>0.607</td>\n",
       "      <td>0.026720</td>\n",
       "      <td>0.748</td>\n",
       "    </tr>\n",
       "    <tr>\n",
       "      <th>A</th>\n",
       "      <td>0.054948</td>\n",
       "      <td>0.187</td>\n",
       "      <td>0.003931</td>\n",
       "      <td>0.261</td>\n",
       "    </tr>\n",
       "    <tr>\n",
       "      <th>F</th>\n",
       "      <td>0.047171</td>\n",
       "      <td>0.911</td>\n",
       "      <td>0.003623</td>\n",
       "      <td>0.904</td>\n",
       "    </tr>\n",
       "    <tr>\n",
       "      <th>I</th>\n",
       "      <td>0.106516</td>\n",
       "      <td>0.383</td>\n",
       "      <td>0.013187</td>\n",
       "      <td>0.599</td>\n",
       "    </tr>\n",
       "    <tr>\n",
       "      <th>B</th>\n",
       "      <td>0.076680</td>\n",
       "      <td>0.754</td>\n",
       "      <td>0.008445</td>\n",
       "      <td>0.767</td>\n",
       "    </tr>\n",
       "    <tr>\n",
       "      <th>D</th>\n",
       "      <td>0.075880</td>\n",
       "      <td>0.052</td>\n",
       "      <td>0.009961</td>\n",
       "      <td>0.013</td>\n",
       "    </tr>\n",
       "    <tr>\n",
       "      <th>E</th>\n",
       "      <td>0.088738</td>\n",
       "      <td>0.608</td>\n",
       "      <td>0.012340</td>\n",
       "      <td>0.601</td>\n",
       "    </tr>\n",
       "    <tr>\n",
       "      <th>C</th>\n",
       "      <td>0.170810</td>\n",
       "      <td>0.072</td>\n",
       "      <td>0.039468</td>\n",
       "      <td>0.110</td>\n",
       "    </tr>\n",
       "  </tbody>\n",
       "</table>\n",
       "</div>"
      ],
      "text/plain": [
       "    tvd obs  tvd p-value  chi sq obs  chi sq p-value\n",
       "G  0.146935        0.607    0.026720           0.748\n",
       "A  0.054948        0.187    0.003931           0.261\n",
       "F  0.047171        0.911    0.003623           0.904\n",
       "I  0.106516        0.383    0.013187           0.599\n",
       "B  0.076680        0.754    0.008445           0.767\n",
       "D  0.075880        0.052    0.009961           0.013\n",
       "E  0.088738        0.608    0.012340           0.601\n",
       "C  0.170810        0.072    0.039468           0.110"
      ]
     },
     "execution_count": 69,
     "metadata": {},
     "output_type": "execute_result"
    }
   ],
   "source": [
    "# permutation test of coulter data: other investigators in the lab\n",
    "coulter_terminal_permute = pd.DataFrame(\n",
    "    columns=('tvd obs', \"tvd p-value\", \n",
    "             \"chi sq obs\", \"chi sq p-value\"))\n",
    "for inv in set(inv_coulter.Investigator):\n",
    "    coulter_terminal_permute.loc[inv] = terminal_permutation(\n",
    "        inv_coulter.loc[inv_coulter.Investigator == inv], \n",
    "        inv_coulter.loc[inv_coulter.Investigator != inv], \n",
    "        replication=1000)\n",
    "coulter_terminal_permute"
   ]
  },
  {
   "cell_type": "markdown",
   "metadata": {},
   "source": [
    "<a id='equal_digit_analysis'></a>\n",
    "## Equal digit analysis"
   ]
  },
  {
   "cell_type": "markdown",
   "metadata": {},
   "source": [
    "We carried out the permutation test on the equal digit analysis. While the test results reject the assumption that RTS coulter counts and other investigators coulter counts, RTS coulter counts and lab2 coutler counts come from the same distribution. It did not reject the assumption for RTS and lab1 coutler counts."
   ]
  },
  {
   "cell_type": "code",
   "execution_count": 70,
   "metadata": {
    "collapsed": true
   },
   "outputs": [],
   "source": [
    "def is_equal_digit(vec):\n",
    "    \"\"\"\n",
    "    This function give the results whether the numbers which greater than 100 is\n",
    "    equal digits number or not\n",
    "    \n",
    "    Parameters\n",
    "    ----------\n",
    "        vec: list\n",
    "            list of counts\n",
    "    \n",
    "    Returns\n",
    "    -------\n",
    "        boolean:\n",
    "            a list indicates whether the numbers which greater than 100 is\n",
    "            equal digits number or not\n",
    "    \"\"\"\n",
    "    return [(count - count % 10)/10 % 10  == count % 10 \n",
    "            for count in vec if count >= 100]"
   ]
  },
  {
   "cell_type": "code",
   "execution_count": 71,
   "metadata": {
    "collapsed": true
   },
   "outputs": [],
   "source": [
    "def binomial_stat(group1, group2):\n",
    "    \"\"\"\n",
    "    This function calculate the binomial statistics between \n",
    "    group1 and group2.\n",
    "    \n",
    "    Parameters\n",
    "    ----------\n",
    "        group1: list of int\n",
    "            counts list\n",
    "        group2: list of int\n",
    "            counts list\n",
    "    \n",
    "    Returns\n",
    "    -------\n",
    "        float:\n",
    "            binomial statistics between group1 and group2\n",
    "    \"\"\"\n",
    "    \n",
    "    prop1 = sum(group1) / len(group1)\n",
    "    prop2 = sum(group2) / len(group2)\n",
    "    return abs(prop1 - prop2) / np.sqrt(prop1*(1-prop1) / len(group1) + prop2*(1-prop2) / len(group2))"
   ]
  },
  {
   "cell_type": "code",
   "execution_count": 72,
   "metadata": {
    "collapsed": true
   },
   "outputs": [],
   "source": [
    "def binomial_permutation(group1, group2, replication):\n",
    "    \"\"\"\n",
    "    This function apply permutation test on the equal digit analyss for two groups.\n",
    "    \n",
    "    Parameters\n",
    "    ----------\n",
    "        group1, group2: list of int\n",
    "            counts list\n",
    "        replication: int\n",
    "            replication times for permutation\n",
    "    \n",
    "    Returns\n",
    "    -------\n",
    "        stat_obs: float\n",
    "            observed statistic\n",
    "        p_value:  float\n",
    "            p-value calculated\n",
    "    \"\"\"\n",
    "    group1 = group1[['col1', 'col2', 'col3']].values.flatten()\n",
    "    group1 = group1[~np.isnan(group1)]\n",
    "    group1 = is_equal_digit(group1)\n",
    "    group2 = group2[['col1', 'col2', 'col3']].values.flatten()\n",
    "    group2 = group2[~np.isnan(group2)]\n",
    "    group2 = is_equal_digit(group2)\n",
    "    \n",
    "    stat_obs = binomial_stat(group1, group2)\n",
    "    \n",
    "    stats = []\n",
    "    for i in np.arange(replication):\n",
    "        shuffled = random.sample(group1 + group2, \n",
    "                                 len(group1 + group2))\n",
    "        stat_shuffled = binomial_stat(shuffled[:len(group1)], shuffled[len(group1):])\n",
    "        stats.append(stat_shuffled)\n",
    "    \n",
    "    p_value = sum(np.array(stats) > stat_obs) / replication\n",
    "    return stat_obs, p_value"
   ]
  },
  {
   "cell_type": "code",
   "execution_count": 76,
   "metadata": {
    "collapsed": false
   },
   "outputs": [],
   "source": [
    "# permutation test of coulter data: comparing 4 groups\n",
    "# 1) RTS, 2) other investigator, 3) lab1, 4) lab2\n",
    "\n",
    "coulter_equal_permute = pd.DataFrame(\n",
    "    columns=('statistics', \"p-value\"))\n",
    "groups = list(itertools.combinations([\"rts_coulter\", \"inv_coulter\", \n",
    "                                      \"lab1_coulter\", \"lab2_coulter\"], 2))\n",
    "for i in range(6):\n",
    "    coulter_equal_permute.loc[i] = binomial_permutation(eval(groups[i][0]), \n",
    "                                                        eval(groups[i][1]), \n",
    "                                                        replication=1000)\n",
    "coulter_equal_permute[\"group1\"] = [i[0] for i in groups]\n",
    "coulter_equal_permute[\"group2\"] = [i[1] for i in groups]"
   ]
  },
  {
   "cell_type": "code",
   "execution_count": 77,
   "metadata": {
    "collapsed": false
   },
   "outputs": [
    {
     "data": {
      "text/html": [
       "<div>\n",
       "<table border=\"1\" class=\"dataframe\">\n",
       "  <thead>\n",
       "    <tr style=\"text-align: right;\">\n",
       "      <th></th>\n",
       "      <th>statistics</th>\n",
       "      <th>p-value</th>\n",
       "      <th>group1</th>\n",
       "      <th>group2</th>\n",
       "    </tr>\n",
       "  </thead>\n",
       "  <tbody>\n",
       "    <tr>\n",
       "      <th>0</th>\n",
       "      <td>3.492873</td>\n",
       "      <td>0.000</td>\n",
       "      <td>rts_coulter</td>\n",
       "      <td>inv_coulter</td>\n",
       "    </tr>\n",
       "    <tr>\n",
       "      <th>1</th>\n",
       "      <td>1.086831</td>\n",
       "      <td>0.262</td>\n",
       "      <td>rts_coulter</td>\n",
       "      <td>lab1_coulter</td>\n",
       "    </tr>\n",
       "    <tr>\n",
       "      <th>2</th>\n",
       "      <td>2.678101</td>\n",
       "      <td>0.011</td>\n",
       "      <td>rts_coulter</td>\n",
       "      <td>lab2_coulter</td>\n",
       "    </tr>\n",
       "    <tr>\n",
       "      <th>3</th>\n",
       "      <td>0.300203</td>\n",
       "      <td>0.773</td>\n",
       "      <td>inv_coulter</td>\n",
       "      <td>lab1_coulter</td>\n",
       "    </tr>\n",
       "    <tr>\n",
       "      <th>4</th>\n",
       "      <td>1.008952</td>\n",
       "      <td>0.300</td>\n",
       "      <td>inv_coulter</td>\n",
       "      <td>lab2_coulter</td>\n",
       "    </tr>\n",
       "    <tr>\n",
       "      <th>5</th>\n",
       "      <td>0.933131</td>\n",
       "      <td>0.344</td>\n",
       "      <td>lab1_coulter</td>\n",
       "      <td>lab2_coulter</td>\n",
       "    </tr>\n",
       "  </tbody>\n",
       "</table>\n",
       "</div>"
      ],
      "text/plain": [
       "   statistics  p-value        group1        group2\n",
       "0    3.492873    0.000   rts_coulter   inv_coulter\n",
       "1    1.086831    0.262   rts_coulter  lab1_coulter\n",
       "2    2.678101    0.011   rts_coulter  lab2_coulter\n",
       "3    0.300203    0.773   inv_coulter  lab1_coulter\n",
       "4    1.008952    0.300   inv_coulter  lab2_coulter\n",
       "5    0.933131    0.344  lab1_coulter  lab2_coulter"
      ]
     },
     "execution_count": 77,
     "metadata": {},
     "output_type": "execute_result"
    }
   ],
   "source": [
    "coulter_equal_permute"
   ]
  },
  {
   "cell_type": "code",
   "execution_count": 78,
   "metadata": {
    "collapsed": false
   },
   "outputs": [
    {
     "data": {
      "text/html": [
       "<div>\n",
       "<table border=\"1\" class=\"dataframe\">\n",
       "  <thead>\n",
       "    <tr style=\"text-align: right;\">\n",
       "      <th></th>\n",
       "      <th>statistics</th>\n",
       "      <th>p-value</th>\n",
       "    </tr>\n",
       "  </thead>\n",
       "  <tbody>\n",
       "    <tr>\n",
       "      <th>G</th>\n",
       "      <td>1.012026</td>\n",
       "      <td>0.264</td>\n",
       "    </tr>\n",
       "    <tr>\n",
       "      <th>A</th>\n",
       "      <td>0.179038</td>\n",
       "      <td>0.860</td>\n",
       "    </tr>\n",
       "    <tr>\n",
       "      <th>F</th>\n",
       "      <td>1.705229</td>\n",
       "      <td>0.098</td>\n",
       "    </tr>\n",
       "    <tr>\n",
       "      <th>I</th>\n",
       "      <td>1.324474</td>\n",
       "      <td>0.159</td>\n",
       "    </tr>\n",
       "    <tr>\n",
       "      <th>B</th>\n",
       "      <td>0.493755</td>\n",
       "      <td>0.606</td>\n",
       "    </tr>\n",
       "    <tr>\n",
       "      <th>D</th>\n",
       "      <td>0.181783</td>\n",
       "      <td>0.800</td>\n",
       "    </tr>\n",
       "    <tr>\n",
       "      <th>E</th>\n",
       "      <td>0.082061</td>\n",
       "      <td>0.886</td>\n",
       "    </tr>\n",
       "    <tr>\n",
       "      <th>C</th>\n",
       "      <td>0.528736</td>\n",
       "      <td>0.502</td>\n",
       "    </tr>\n",
       "  </tbody>\n",
       "</table>\n",
       "</div>"
      ],
      "text/plain": [
       "   statistics  p-value\n",
       "G    1.012026    0.264\n",
       "A    0.179038    0.860\n",
       "F    1.705229    0.098\n",
       "I    1.324474    0.159\n",
       "B    0.493755    0.606\n",
       "D    0.181783    0.800\n",
       "E    0.082061    0.886\n",
       "C    0.528736    0.502"
      ]
     },
     "execution_count": 78,
     "metadata": {},
     "output_type": "execute_result"
    }
   ],
   "source": [
    "# permutation test of coulter data: \n",
    "# other investigators in the lab (test for every individuals)\n",
    "\n",
    "coulter_equal_permute = pd.DataFrame(\n",
    "    columns=('statistics', \"p-value\"))\n",
    "for inv in set(inv_coulter.Investigator):\n",
    "    coulter_equal_permute.loc[inv] = binomial_permutation(\n",
    "        inv_coulter.loc[inv_coulter.Investigator == inv], \n",
    "        inv_coulter.loc[inv_coulter.Investigator != inv], \n",
    "        replication=1000)\n",
    "coulter_equal_permute"
   ]
  },
  {
   "cell_type": "markdown",
   "metadata": {},
   "source": [
    "<a id='mid-containing_triplets_analysis'></a>\n",
    "## Mid-containing triplets analysis"
   ]
  },
  {
   "cell_type": "code",
   "execution_count": 136,
   "metadata": {
    "collapsed": true
   },
   "outputs": [],
   "source": [
    "def convert_count_triple(df):\n",
    "    \"\"\"\n",
    "    This function converts the data read in before as list of triplets to do mid-containing analysis.\n",
    "    \n",
    "    Parameters\n",
    "    ----------\n",
    "        df: the pandas data frame to be converted\n",
    "    \n",
    "    Returns\n",
    "    -------\n",
    "        data: with type a list of triplet list\n",
    "    \"\"\"\n",
    "    data = df[['col1', 'col2', 'col3']]\n",
    "    data = data[~np.isnan(data)]\n",
    "    return data"
   ]
  },
  {
   "cell_type": "code",
   "execution_count": 137,
   "metadata": {
    "collapsed": false
   },
   "outputs": [],
   "source": [
    "rts_colony.tmp = [list(convert_count_triple(rts_colony).iloc[i]) for i in range(rts_colony.shape[0])]\n",
    "inv_colony.tmp = [list(convert_count_triple(inv_colony).iloc[i]) for i in range(inv_colony.shape[0])]\n",
    "lab_colony.tmp = [list(convert_count_triple(lab_colony).iloc[i]) for i in range(lab_colony.shape[0])]\n",
    "# filter_gap_2(lab_colony)[['col1', 'col2', 'col3']].values"
   ]
  },
  {
   "cell_type": "code",
   "execution_count": 138,
   "metadata": {
    "collapsed": false
   },
   "outputs": [],
   "source": [
    "for dt in [rts_colony.tmp, inv_colony.tmp, lab_colony.tmp]:\n",
    "    for i in range(len(dt)):\n",
    "        dt[i].sort()"
   ]
  },
  {
   "cell_type": "code",
   "execution_count": 139,
   "metadata": {
    "collapsed": true
   },
   "outputs": [],
   "source": [
    "def isMid(data):\n",
    "    \"\"\"\n",
    "    This function examines whether the triplets in the data are mid-containing. That is, whether the rounded sample\n",
    "    mean of the triplet happened to be one of the elements in the triple.\n",
    "    \n",
    "    Parameters\n",
    "    ----------\n",
    "        data: with type a list of triplet list.\n",
    "    \n",
    "    Returns\n",
    "    -------\n",
    "        A list of logical values with the same length as the row of the data, indicating whether each row of the data\n",
    "        are mid-containing.\n",
    "    \"\"\"\n",
    "    return [triple[0] + triple[2] == 2 * triple[1] or \n",
    "            triple[0] + triple[2] == 2 * triple[1] - 1 or\n",
    "            triple[0] + triple[2] == 2 * triple[1] + 1\n",
    "            for triple in data]"
   ]
  },
  {
   "cell_type": "code",
   "execution_count": 140,
   "metadata": {
    "collapsed": true
   },
   "outputs": [],
   "source": [
    "# whether the mid number is the mean of largest and smallest\n",
    "isMid_rts_colony = isMid(rts_colony.tmp)\n",
    "isMid_inv_colony = isMid(inv_colony.tmp)\n",
    "isMid_lab_colony = isMid(lab_colony.tmp)"
   ]
  },
  {
   "cell_type": "code",
   "execution_count": 141,
   "metadata": {
    "collapsed": true
   },
   "outputs": [],
   "source": [
    "def permute_mid(group1, group2, replication):\n",
    "    \"\"\"\n",
    "    This function implemented permutation test of mid-containing triplet number between two groups. \n",
    "    \n",
    "    Parameters\n",
    "    ----------\n",
    "        group1: First dataset waited to be tested (before permuted).\n",
    "        group2: Second dataset waited to be tested (before permuted).\n",
    "        replication: times to do the permutation test.\n",
    "    \n",
    "    Returns\n",
    "    -------\n",
    "        A p-value indicating how extreme the observed mid-containing number is among all the permuted results.\n",
    "    \"\"\"\n",
    "    stats_obs = np.mean(group1) - np.mean(group2)\n",
    "    stats = []\n",
    "    for i in np.arange(replication):\n",
    "        shuffled = random.sample(group1 + group2, \n",
    "                                 len(group1 + group2))\n",
    "        stat_shuffled = np.mean(shuffled[:len(group1)]) - np.mean(shuffled[len(group1):])\n",
    "        stats.append(stat_shuffled)\n",
    "    #print(stats)\n",
    "    tmp = sum(np.array(stats) > stats_obs) / replication\n",
    "    p_value = 2 * min(tmp, 1 - tmp)\n",
    "    return p_value"
   ]
  },
  {
   "cell_type": "code",
   "execution_count": 146,
   "metadata": {
    "collapsed": false
   },
   "outputs": [
    {
     "name": "stdout",
     "output_type": "stream",
     "text": [
      "Permutation test p-value of mid-containing triplet number between Other investigators and RTS:\n"
     ]
    },
    {
     "data": {
      "text/plain": [
       "0.0"
      ]
     },
     "execution_count": 146,
     "metadata": {},
     "output_type": "execute_result"
    }
   ],
   "source": [
    "print('Permutation test p-value of mid-containing triplet number between Other investigators and RTS:')\n",
    "permute_mid(group1 = isMid_rts_colony, group2 = isMid_inv_colony, replication = 10000)"
   ]
  },
  {
   "cell_type": "code",
   "execution_count": 145,
   "metadata": {
    "collapsed": false
   },
   "outputs": [
    {
     "name": "stdout",
     "output_type": "stream",
     "text": [
      "Permutation test p-value of mid-containing triplet number between Other investigators and Other labs:\n"
     ]
    },
    {
     "data": {
      "text/plain": [
       "0.032999999999999918"
      ]
     },
     "execution_count": 145,
     "metadata": {},
     "output_type": "execute_result"
    }
   ],
   "source": [
    "print('Permutation test p-value of mid-containing triplet number between Other investigators and Other labs:')\n",
    "permute_mid(group1 = isMid_lab_colony, group2 = isMid_inv_colony, replication = 10000)"
   ]
  },
  {
   "cell_type": "markdown",
   "metadata": {
    "collapsed": true
   },
   "source": [
    "<a id='tablesFigures'></a>\n",
    "# Tables and figures"
   ]
  },
  {
   "cell_type": "markdown",
   "metadata": {},
   "source": [
    "<a id='table1'></a>\n",
    "## Table 1"
   ]
  },
  {
   "cell_type": "code",
   "execution_count": 79,
   "metadata": {
    "collapsed": true
   },
   "outputs": [],
   "source": [
    "def calc_P_new(i):\n",
    "    # Calculate Probability of a triple containing its mean\n",
    "    #   triples are generated from Poisson distribution with parameter i and the gap must > 1.\n",
    "    P = 0\n",
    "    # N is the truncation number of Poisson\n",
    "    from scipy.stats import poisson\n",
    "    Nmax = int(poisson.ppf(1 - 1e-10, i))\n",
    "    Nmin = int(poisson.ppf(1e-10, i))\n",
    "    for mid in range(Nmin, Nmax):\n",
    "        tmp  = poisson.pmf(mid, i)\n",
    "        P += 3 * tmp * (poisson.pmf(2 * mid, 2 * i) - tmp**2)\n",
    "        P += 3 * tmp * (poisson.pmf(2 * mid + 1, 2 * i) - 2 * tmp * poisson.pmf(mid + 1, i))\n",
    "        P += 3 * tmp * (poisson.pmf(2 * mid - 1, 2 * i) - 2 * tmp * poisson.pmf(mid - 1, i))\n",
    "    return P"
   ]
  },
  {
   "cell_type": "code",
   "execution_count": 80,
   "metadata": {
    "collapsed": false
   },
   "outputs": [
    {
     "data": {
      "text/html": [
       "<div>\n",
       "<table border=\"1\" class=\"dataframe\">\n",
       "  <thead>\n",
       "    <tr style=\"text-align: right;\">\n",
       "      <th></th>\n",
       "      <th>lambda</th>\n",
       "      <th>Prob</th>\n",
       "      <th>lambda</th>\n",
       "      <th>Prob</th>\n",
       "      <th>lambda</th>\n",
       "      <th>Prob</th>\n",
       "      <th>lambda</th>\n",
       "      <th>Prob</th>\n",
       "      <th>lambda</th>\n",
       "      <th>Prob</th>\n",
       "    </tr>\n",
       "  </thead>\n",
       "  <tbody>\n",
       "    <tr>\n",
       "      <th>1</th>\n",
       "      <td>1</td>\n",
       "      <td>2.67e-01</td>\n",
       "      <td>6</td>\n",
       "      <td>3.72e-01</td>\n",
       "      <td>11</td>\n",
       "      <td>3.17e-01</td>\n",
       "      <td>16</td>\n",
       "      <td>2.81e-01</td>\n",
       "      <td>21</td>\n",
       "      <td>2.54e-01</td>\n",
       "    </tr>\n",
       "    <tr>\n",
       "      <th>2</th>\n",
       "      <td>2</td>\n",
       "      <td>3.87e-01</td>\n",
       "      <td>7</td>\n",
       "      <td>3.59e-01</td>\n",
       "      <td>12</td>\n",
       "      <td>3.09e-01</td>\n",
       "      <td>17</td>\n",
       "      <td>2.75e-01</td>\n",
       "      <td>22</td>\n",
       "      <td>2.50e-01</td>\n",
       "    </tr>\n",
       "    <tr>\n",
       "      <th>3</th>\n",
       "      <td>3</td>\n",
       "      <td>4.03e-01</td>\n",
       "      <td>8</td>\n",
       "      <td>3.48e-01</td>\n",
       "      <td>13</td>\n",
       "      <td>3.01e-01</td>\n",
       "      <td>18</td>\n",
       "      <td>2.69e-01</td>\n",
       "      <td>23</td>\n",
       "      <td>2.46e-01</td>\n",
       "    </tr>\n",
       "    <tr>\n",
       "      <th>4</th>\n",
       "      <td>4</td>\n",
       "      <td>3.97e-01</td>\n",
       "      <td>9</td>\n",
       "      <td>3.37e-01</td>\n",
       "      <td>14</td>\n",
       "      <td>2.94e-01</td>\n",
       "      <td>19</td>\n",
       "      <td>2.64e-01</td>\n",
       "      <td>24</td>\n",
       "      <td>2.42e-01</td>\n",
       "    </tr>\n",
       "    <tr>\n",
       "      <th>5</th>\n",
       "      <td>5</td>\n",
       "      <td>3.85e-01</td>\n",
       "      <td>10</td>\n",
       "      <td>3.27e-01</td>\n",
       "      <td>15</td>\n",
       "      <td>2.87e-01</td>\n",
       "      <td>20</td>\n",
       "      <td>2.59e-01</td>\n",
       "      <td>25</td>\n",
       "      <td>2.38e-01</td>\n",
       "    </tr>\n",
       "  </tbody>\n",
       "</table>\n",
       "</div>"
      ],
      "text/plain": [
       "  lambda      Prob lambda      Prob lambda      Prob lambda      Prob lambda  \\\n",
       "1      1  2.67e-01      6  3.72e-01     11  3.17e-01     16  2.81e-01     21   \n",
       "2      2  3.87e-01      7  3.59e-01     12  3.09e-01     17  2.75e-01     22   \n",
       "3      3  4.03e-01      8  3.48e-01     13  3.01e-01     18  2.69e-01     23   \n",
       "4      4  3.97e-01      9  3.37e-01     14  2.94e-01     19  2.64e-01     24   \n",
       "5      5  3.85e-01     10  3.27e-01     15  2.87e-01     20  2.59e-01     25   \n",
       "\n",
       "       Prob  \n",
       "1  2.54e-01  \n",
       "2  2.50e-01  \n",
       "3  2.46e-01  \n",
       "4  2.42e-01  \n",
       "5  2.38e-01  "
      ]
     },
     "execution_count": 80,
     "metadata": {},
     "output_type": "execute_result"
    }
   ],
   "source": [
    "t1 = pd.DataFrame(columns=('lambda', 'Prob','lambda', 'Prob','lambda', 'Prob','lambda', 'Prob','lambda', 'Prob'))\n",
    "for i in range(1, 6):\n",
    "    tmp = []\n",
    "    for j in range(0, 5):\n",
    "        num = i + j*5\n",
    "        tmp.append('%d' % num)\n",
    "        tmp.append('%.2e' % calc_P_new(num))\n",
    "    t1.loc[i] = tmp\n",
    "t1"
   ]
  },
  {
   "cell_type": "markdown",
   "metadata": {},
   "source": [
    "<a id='figure1'></a>\n",
    "## Figure 1\n",
    "require [ReadFromXls](#readfromxls)"
   ]
  },
  {
   "cell_type": "code",
   "execution_count": 81,
   "metadata": {
    "collapsed": false
   },
   "outputs": [],
   "source": [
    "# RTS colony counts\n",
    "file = '../data/Bishayee Colony Counts 10.27.97-3.8.01.xlsx'\n",
    "data1 = ReadFromXls(file, ('D', 'E', 'F'), rows = range(4, 1366), types = (int), verbose = False)\n",
    "cleanData1 = [x for x in data1 if x[0] <= x[2] - 2] # filter out triples with gap < 2\n",
    "#print(len(cleanData1))\n",
    "#print(len([x for x in cleanData1 if x[1] == round((x[0] + x[1] + x[2])/3.) ]))\n",
    "# Other investigators colony counts\n",
    "file = '../data/Other Investigators in Lab.Colony Counts.4.23.92-11.27.02.xlsx'\n",
    "data2 = ReadFromXls(file, ('D', 'E', 'F'), rows = range(3, 627), types = (int), verbose = False)\n",
    "cleanData2 = [x for x in data2 if x[0] <= x[2] - 2]\n",
    "#print(len(cleanData2))\n",
    "#print(len([x for x in cleanData2 if x[1] == round((x[0] + x[1] + x[2])/3.) ]))"
   ]
  },
  {
   "cell_type": "code",
   "execution_count": 82,
   "metadata": {
    "collapsed": false
   },
   "outputs": [
    {
     "data": {
      "image/png": "[encoded data removed]",
      "text/plain": [
       "<matplotlib.figure.Figure at 0x11c694e48>"
      ]
     },
     "metadata": {},
     "output_type": "display_data"
    }
   ],
   "source": [
    "%matplotlib inline\n",
    "import matplotlib.pyplot as plt\n",
    "import numpy as np\n",
    "\n",
    "tmp1 = [(x[1] - x[0])*1.0/max(x[2] - x[0],1) for x in cleanData1]\n",
    "tmp2 = [(x[1] - x[0])*1.0/max(x[2] - x[0],1) for x in cleanData2]\n",
    "plt.figure(figsize=(18, 6))\n",
    "plt.subplot(1, 2, 1)\n",
    "counts, bins, ignored = plt.hist(tmp1, [0, .101, .201, .301, .401, .501, .601, .701, .801, .901, 1.01], \n",
    "                                 rwidth=0.5, weights=np.zeros_like(tmp1) + 1. / len(tmp1))\n",
    "plt.ylim(0, .55)\n",
    "plt.title('Mid ratio for RTS colony counts')\n",
    "plt.subplot(1, 2, 2)\n",
    "counts, bins, ignored = plt.hist(tmp2, [0, .101, .201, .301, .401, .501, .601, .701, .801, .901, 1.01],\n",
    "                                 rwidth=0.5, weights=np.zeros_like(tmp2) + 1. / len(tmp2))\n",
    "plt.ylim(0, .55)\n",
    "plt.title('Mid ratio for Other investigators colony counts')\n",
    "plt.show()\n",
    "# print(bins)\n",
    "# print(counts)"
   ]
  },
  {
   "cell_type": "markdown",
   "metadata": {
    "collapsed": false
   },
   "source": [
    "<a id='tests'></a>\n",
    "## Tests"
   ]
  },
  {
   "cell_type": "code",
   "execution_count": 83,
   "metadata": {
    "collapsed": true
   },
   "outputs": [],
   "source": [
    "from unittest import *"
   ]
  },
  {
   "cell_type": "code",
   "execution_count": 84,
   "metadata": {
    "collapsed": false
   },
   "outputs": [
    {
     "name": "stderr",
     "output_type": "stream",
     "text": [
      ".\n",
      "----------------------------------------------------------------------\n",
      "Ran 1 test in 2.867s\n",
      "\n",
      "OK\n"
     ]
    },
    {
     "data": {
      "text/plain": [
       "<unittest.runner.TextTestResult run=1 errors=0 failures=0>"
      ]
     },
     "execution_count": 84,
     "metadata": {},
     "output_type": "execute_result"
    }
   ],
   "source": [
    "class test_terminal_permutation (TestCase):\n",
    "    \n",
    "    def test_terminal_permutation_1 (self):\n",
    "        \n",
    "        # test two unfiorm distribution, the null hypothesis should not be rejected\n",
    "        \n",
    "        group1 = pd.DataFrame(columns=(\"col1\", \"col2\", \"col3\"))\n",
    "        for i in range(100):\n",
    "            group1.loc[i] = random.sample(range(100), 3)\n",
    "        group2 = pd.DataFrame(columns=(\"col1\", \"col2\", \"col3\"))\n",
    "        for i in range(200):\n",
    "            group2.loc[i] = random.sample(range(100), 3)\n",
    "        tvd_obs, tvd_p_value, chi_sq_obs, chi_sq_p_value = terminal_permutation(\n",
    "            group1, group2, replication=1000)\n",
    "        self.assertTrue(tvd_p_value > 0.01 and chi_sq_p_value > 0.01)\n",
    "\n",
    "a = test_terminal_permutation()\n",
    "\n",
    "suite = TestLoader().loadTestsFromModule(a)\n",
    "TextTestRunner().run(suite)"
   ]
  },
  {
   "cell_type": "code",
   "execution_count": 85,
   "metadata": {
    "collapsed": false
   },
   "outputs": [
    {
     "name": "stderr",
     "output_type": "stream",
     "text": [
      "...\n",
      "----------------------------------------------------------------------\n",
      "Ran 3 tests in 0.002s\n",
      "\n",
      "OK\n"
     ]
    },
    {
     "data": {
      "text/plain": [
       "<unittest.runner.TextTestResult run=3 errors=0 failures=0>"
      ]
     },
     "execution_count": 85,
     "metadata": {},
     "output_type": "execute_result"
    }
   ],
   "source": [
    "class test_is_equal_digit (TestCase):\n",
    "    \n",
    "    def test_is_equal_digit_1 (self):\n",
    "        self.assertEqual(is_equal_digit([311, 422]), \n",
    "                         [True, True])\n",
    "    \n",
    "    def test_is_equal_digit_2 (self):\n",
    "        self.assertEqual(is_equal_digit([123, 675, 788]), \n",
    "                         [False, False, True])\n",
    "    \n",
    "    def test_is_equal_digit_3 (self):\n",
    "        self.assertEqual(is_equal_digit([100, 999, 3255]), \n",
    "                         [True, True, True])\n",
    "\n",
    "a = test_is_equal_digit()\n",
    "\n",
    "suite = TestLoader().loadTestsFromModule(a)\n",
    "TextTestRunner().run(suite)"
   ]
  },
  {
   "cell_type": "code",
   "execution_count": 86,
   "metadata": {
    "collapsed": false
   },
   "outputs": [
    {
     "name": "stderr",
     "output_type": "stream",
     "text": [
      ".\n",
      "----------------------------------------------------------------------\n",
      "Ran 1 test in 2.866s\n",
      "\n",
      "OK\n"
     ]
    },
    {
     "data": {
      "text/plain": [
       "<unittest.runner.TextTestResult run=1 errors=0 failures=0>"
      ]
     },
     "execution_count": 86,
     "metadata": {},
     "output_type": "execute_result"
    }
   ],
   "source": [
    "class test_binomial_permutation (TestCase):\n",
    "    \n",
    "    def test_binomial_permutation_1 (self):\n",
    "        \n",
    "        # test two samples which came from the same binomial distribution,\n",
    "        # the null hypothesis should not be rejected\n",
    "        \n",
    "        group1 = pd.DataFrame(columns=(\"col1\", \"col2\", \"col3\"))\n",
    "        for i in range(100):\n",
    "            group1.loc[i] = random.sample([211]*2 + [123]*8, 3)\n",
    "        group2 = pd.DataFrame(columns=(\"col1\", \"col2\", \"col3\"))\n",
    "        for i in range(200):\n",
    "            group2.loc[i] = random.sample([211]*2 + [123]*8, 3)\n",
    "        stat_obs, p_value = binomial_permutation(\n",
    "            group1, group2, replication=1000)\n",
    "        self.assertTrue(p_value > 0.01)\n",
    "\n",
    "a = test_binomial_permutation()\n",
    "\n",
    "suite = TestLoader().loadTestsFromModule(a)\n",
    "TextTestRunner().run(suite)"
   ]
  }
 ],
 "metadata": {
  "anaconda-cloud": {},
  "kernelspec": {
   "display_name": "Python 3",
   "language": "python",
   "name": "python3"
  },
  "language_info": {
   "codemirror_mode": {
    "name": "ipython",
    "version": 3
   },
   "file_extension": ".py",
   "mimetype": "text/x-python",
   "name": "python",
   "nbconvert_exporter": "python",
   "pygments_lexer": "ipython3",
   "version": "3.5.1"
  }
 },
 "nbformat": 4,
 "nbformat_minor": 1
}
