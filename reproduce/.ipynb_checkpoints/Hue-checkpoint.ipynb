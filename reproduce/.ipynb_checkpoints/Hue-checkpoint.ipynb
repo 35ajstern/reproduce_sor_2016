{
 "cells": [
  {
   "cell_type": "markdown",
   "metadata": {},
   "source": [
    "# Read data from xlsx"
   ]
  },
  {
   "cell_type": "code",
   "execution_count": 12,
   "metadata": {
    "collapsed": true
   },
   "outputs": [],
   "source": [
    "from __future__ import division, generators, absolute_import, print_function"
   ]
  },
  {
   "cell_type": "markdown",
   "metadata": {},
   "source": [
    "# Table 2: some statistics"
   ]
  },
  {
   "cell_type": "code",
   "execution_count": 31,
   "metadata": {
    "collapsed": false
   },
   "outputs": [
    {
     "name": "stdout",
     "output_type": "stream",
     "text": [
      "Bishayee Colony Counts 128 experiments\n",
      "1361\n",
      "1343\n"
     ]
    }
   ],
   "source": [
    "from openpyxl import load_workbook\n",
    "data_dir = '../data/'\n",
    "wb  = load_workbook(data_dir + 'Bishayee Colony Counts 10.27.97-3.8.01.xlsx') \n",
    "# print(wb.get_sheet_names())\n",
    "ws = wb.get_sheet_by_name('Sheet1')\n",
    "print(ws['A1'].value)\n",
    "rawData = []\n",
    "for i in range(4, 1366):\n",
    "    tmp = [ws['D' + str(i)].value, ws['E' + str(i)].value, ws['F' + str(i)].value]\n",
    "    if isinstance(tmp[0], (int, int)) & isinstance(tmp[1], (int, int)) & isinstance(tmp[2], (int, int)):\n",
    "        rawData.append(tmp)\n",
    "print(len(rawData))\n",
    "sortData = rawData\n",
    "for i in range(len(sortData)):\n",
    "    sortData[i].sort()\n",
    "\n",
    "cleanData1 = [x for x in sortData if x[0] <= x[2] - 2]\n",
    "print(len(cleanData1))"
   ]
  },
  {
   "cell_type": "code",
   "execution_count": 32,
   "metadata": {
    "collapsed": false
   },
   "outputs": [
    {
     "name": "stdout",
     "output_type": "stream",
     "text": [
      "Others in Howell lab 62 experiments\n",
      "596\n",
      "577\n"
     ]
    }
   ],
   "source": [
    "from openpyxl import load_workbook\n",
    "data_dir = '../data/'\n",
    "wb = load_workbook(data_dir + 'Other Investigators in Lab.Colony Counts.4.23.92-11.27.02.xlsx') \n",
    "ws = wb.get_sheet_by_name('Sheet1')\n",
    "print(ws['A1'].value, ws['C1'].value)\n",
    "rawData = []\n",
    "for i in range(3, 623):\n",
    "    tmp = [ws['D' + str(i)].value, ws['E' + str(i)].value, ws['F' + str(i)].value]\n",
    "    if isinstance(tmp[0], (int, int)) & isinstance(tmp[1], (int, int)) & isinstance(tmp[2], (int, int)):\n",
    "        rawData.append(tmp)\n",
    "print(len(rawData))\n",
    "sortData = rawData\n",
    "for i in range(len(sortData)):\n",
    "    sortData[i].sort()\n",
    "\n",
    "cleanData2 = [x for x in sortData if x[0] <= x[2] - 2]\n",
    "print(len(cleanData2))"
   ]
  },
  {
   "cell_type": "markdown",
   "metadata": {},
   "source": [
    "### Figure 1:"
   ]
  },
  {
   "cell_type": "code",
   "execution_count": 35,
   "metadata": {
    "collapsed": false
   },
   "outputs": [
    {
     "data": {
      "image/png": "[encoded data removed]",
      "text/plain": [
       "<matplotlib.figure.Figure at 0x7f235cecf710>"
      ]
     },
     "metadata": {},
     "output_type": "display_data"
    },
    {
     "data": {
      "image/png": "[encoded data removed]",
      "text/plain": [
       "<matplotlib.figure.Figure at 0x7f23807cde80>"
      ]
     },
     "metadata": {},
     "output_type": "display_data"
    }
   ],
   "source": [
    "from statistics import mean\n",
    "import matplotlib.pyplot as plt\n",
    "import numpy as np\n",
    "\n",
    "tmp1 = [(x[1] - x[0])*1.0/max(x[2] - x[0],1) for x in cleanData1]\n",
    "tmp2 = [(x[1] - x[0])*1.0/max(x[2] - x[0],1) for x in cleanData2]\n",
    "counts, bins, ignored = plt.hist(tmp1, [0, .101, .201, .301, .401, .501, .601, .701, .801, .901, 1.01], rwidth=0.5, weights=np.zeros_like(tmp1) + 1. / len(tmp1))\n",
    "plt.show()\n",
    "counts, bins, ignored = plt.hist(tmp2, [0, .101, .201, .301, .401, .501, .601, .701, .801, .901, 1.01], rwidth=0.5, weights=np.zeros_like(tmp2) + 1. / len(tmp2))\n",
    "plt.show()\n",
    "# print(bins)\n",
    "# print(counts)"
   ]
  },
  {
   "cell_type": "markdown",
   "metadata": {},
   "source": [
    "** Unresolved issues: **\n",
    "* notice: must delete those with gap smaller than 2.\n",
    "* the figure looks a little bit different from (a), see 0.3 and 0.9\n",
    "* (b)"
   ]
  },
  {
   "cell_type": "markdown",
   "metadata": {},
   "source": [
    "### Table 1:"
   ]
  },
  {
   "cell_type": "code",
   "execution_count": 1,
   "metadata": {
    "collapsed": false
   },
   "outputs": [],
   "source": [
    "from scipy.stats import poisson\n",
    "import numpy as np"
   ]
  },
  {
   "cell_type": "code",
   "execution_count": 2,
   "metadata": {
    "collapsed": true
   },
   "outputs": [],
   "source": [
    "def calc_P(i):\n",
    "    P = 0\n",
    "    # N is the truncation number of Poisson\n",
    "    N = int(poisson.ppf(1 - 1e-9, i))\n",
    "    for j in range(2, N):\n",
    "        for k in range(j, N):\n",
    "            P += 6 * poisson.pmf(k - j, i) * poisson.pmf(k, i) * poisson.pmf(k - int(j/2), i)\n",
    "            # just to follow the usage in Yu's code, I add int in poisson.pmf(k - int(j/2), i),\n",
    "            # do we really need to round the number?\n",
    "            if j % 2 == 1:\n",
    "                P += 6 * poisson.pmf(k - j, i) * poisson.pmf(k, i) * poisson.pmf(k - int(j/2) - 1, i)\n",
    "    return P"
   ]
  },
  {
   "cell_type": "code",
   "execution_count": 3,
   "metadata": {
    "collapsed": true
   },
   "outputs": [],
   "source": [
    "def calc_P_new(i):\n",
    "    P = 0\n",
    "    # N is the truncation number of Poisson\n",
    "    Nmax = int(poisson.ppf(1 - 1e-10, i))\n",
    "    Nmin = int(poisson.ppf(1e-10, i))\n",
    "    for mid in range(Nmin, Nmax):\n",
    "        tmp  = poisson.pmf(mid, i)\n",
    "        P += 3 * tmp * (poisson.pmf(2 * mid, 2 * i) - tmp**2)\n",
    "        P += 3 * tmp * (poisson.pmf(2 * mid + 1, 2 * i) - 2 * tmp * poisson.pmf(mid + 1, i))\n",
    "        P += 3 * tmp * (poisson.pmf(2 * mid - 1, 2 * i) - 2 * tmp * poisson.pmf(mid - 1, i))\n",
    "    return P"
   ]
  },
  {
   "cell_type": "code",
   "execution_count": 27,
   "metadata": {
    "collapsed": false
   },
   "outputs": [
    {
     "name": "stdout",
     "output_type": "stream",
     "text": [
      "402.67588901519775\n"
     ]
    }
   ],
   "source": [
    "import time\n",
    "lamMax  = 2000\n",
    "para = np.concatenate((np.arange(1,2001), np.arange(2100,10001,100), np.arange(11000,60000,1000)))\n",
    "# P = [calc_P(i) for i in range(1, lamMax)]\n",
    "start = time.time()\n",
    "P_new = [calc_P_new(i) for i in para]\n",
    "end   = time.time()\n",
    "# print(P)\n",
    "# print(P_new)\n",
    "print(end - start)\n",
    "# poisson.ppf(1 - 1e-9, 1000)"
   ]
  },
  {
   "cell_type": "code",
   "execution_count": 75,
   "metadata": {
    "collapsed": false
   },
   "outputs": [],
   "source": [
    "# Write mid probability to txt\n",
    "#P_to_txt = [[lam, P_new[lam-1]] for lam in range(1,len(P_new))]\n",
    "P_to_txt = [[para[i], P_new[i]] for i in range(len(para))]\n",
    "output_dir = \"../outputs/\"\n",
    "\n",
    "with open(output_dir + \"MidProb.txt\", 'w') as f:\n",
    "    for item in P_to_txt:\n",
    "        f.write('\\t'.join(map(repr, item)) + '\\n')"
   ]
  },
  {
   "cell_type": "markdown",
   "metadata": {},
   "source": [
    "** Reflection: **\n",
    "\n",
    "* Did not include the prob that small = medium = big and no justification.\n",
    "\n",
    "* Poisson distribution with same mean is not very convincing. Can be more non-parametric (bootstrap from other people's data)."
   ]
  },
  {
   "cell_type": "markdown",
   "metadata": {},
   "source": [
    "### Hypothesis testing I:"
   ]
  },
  {
   "cell_type": "code",
   "execution_count": null,
   "metadata": {
    "collapsed": true
   },
   "outputs": [],
   "source": []
  },
  {
   "cell_type": "code",
   "execution_count": 15,
   "metadata": {
    "collapsed": false
   },
   "outputs": [
    {
     "name": "stdout",
     "output_type": "stream",
     "text": [
      "2.85338419559e-12\n",
      "2.82052399667e-05\n"
     ]
    }
   ],
   "source": [
    "from scipy.stats import binom\n",
    "print(1 - binom.cdf(690 - 1, 1343, 0.42))\n",
    "print(1 - binom.cdf(109 - 1,  572, 0.13))"
   ]
  },
  {
   "cell_type": "markdown",
   "metadata": {},
   "source": [
    "** Reflection: **\n",
    "    \n",
    "* It is not reasonable to consider binomial: some experiments might be correlated. \n",
    "\n",
    "* It will be of interest to check the p-value of other people. What if it is significant as well?"
   ]
  }
 ],
 "metadata": {
  "kernelspec": {
   "display_name": "Python 3",
   "language": "python",
   "name": "python3"
  },
  "language_info": {
   "codemirror_mode": {
    "name": "ipython",
    "version": 3
   },
   "file_extension": ".py",
   "mimetype": "text/x-python",
   "name": "python",
   "nbconvert_exporter": "python",
   "pygments_lexer": "ipython3",
   "version": "3.4.5"
  }
 },
 "nbformat": 4,
 "nbformat_minor": 1
}
