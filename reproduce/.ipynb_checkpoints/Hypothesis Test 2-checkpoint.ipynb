{
 "cells": [
  {
   "cell_type": "code",
   "execution_count": 61,
   "metadata": {
    "collapsed": false
   },
   "outputs": [],
   "source": [
    "library(poibin)\n",
    "wdir = '../data/'"
   ]
  },
  {
   "cell_type": "code",
   "execution_count": null,
   "metadata": {
    "collapsed": true
   },
   "outputs": [],
   "source": [
    "midprob = read.table('../outputs/MidProb.txt')"
   ]
  },
  {
   "cell_type": "code",
   "execution_count": 57,
   "metadata": {
    "collapsed": false
   },
   "outputs": [
    {
     "data": {
      "text/html": [
       "<table>\n",
       "<thead><tr><th scope=col>ISOTOPE</th><th scope=col>Bate...B0.B00</th><th scope=col>Date</th><th scope=col>col1</th><th scope=col>col2</th><th scope=col>col3</th><th scope=col>average</th></tr></thead>\n",
       "<tbody>\n",
       "\t<tr><td>131I    </td><td>8405    </td><td>10/27/97</td><td>78      </td><td>91      </td><td>93      </td><td>87.33   </td></tr>\n",
       "\t<tr><td>no DMSO </td><td>8405    </td><td>10/27/97</td><td>90      </td><td>88      </td><td>90      </td><td>89.33   </td></tr>\n",
       "\t<tr><td>        </td><td>8405    </td><td>10/27/97</td><td>80      </td><td>66      </td><td>69      </td><td>71.67   </td></tr>\n",
       "\t<tr><td>        </td><td>8405    </td><td>10/27/97</td><td>63      </td><td>67      </td><td>71      </td><td>67.00   </td></tr>\n",
       "\t<tr><td>        </td><td>8405    </td><td>10/27/97</td><td>44      </td><td>58      </td><td>64      </td><td>55.33   </td></tr>\n",
       "\t<tr><td>        </td><td>8405    </td><td>10/27/97</td><td>38      </td><td>53      </td><td>51      </td><td>47.33   </td></tr>\n",
       "</tbody>\n",
       "</table>\n"
      ],
      "text/latex": [
       "\\begin{tabular}{r|lllllll}\n",
       " ISOTOPE & Bate...B0.B00 & Date & col1 & col2 & col3 & average\\\\\n",
       "\\hline\n",
       "\t 131I     & 8405     & 10/27/97 & 78       & 91       & 93       & 87.33   \\\\\n",
       "\t no DMSO  & 8405     & 10/27/97 & 90       & 88       & 90       & 89.33   \\\\\n",
       "\t          & 8405     & 10/27/97 & 80       & 66       & 69       & 71.67   \\\\\n",
       "\t          & 8405     & 10/27/97 & 63       & 67       & 71       & 67.00   \\\\\n",
       "\t          & 8405     & 10/27/97 & 44       & 58       & 64       & 55.33   \\\\\n",
       "\t          & 8405     & 10/27/97 & 38       & 53       & 51       & 47.33   \\\\\n",
       "\\end{tabular}\n"
      ],
      "text/plain": [
       "  ISOTOPE Bate...B0.B00 Date     col1 col2 col3 average\n",
       "1 131I    8405          10/27/97 78   91   93   87.33  \n",
       "2 no DMSO 8405          10/27/97 90   88   90   89.33  \n",
       "3         8405          10/27/97 80   66   69   71.67  \n",
       "4         8405          10/27/97 63   67   71   67.00  \n",
       "5         8405          10/27/97 44   58   64   55.33  \n",
       "6         8405          10/27/97 38   53   51   47.33  "
      ]
     },
     "metadata": {},
     "output_type": "display_data"
    },
    {
     "data": {
      "text/html": [
       "<ol class=list-inline>\n",
       "\t<li>1362</li>\n",
       "\t<li>7</li>\n",
       "</ol>\n"
      ],
      "text/latex": [
       "\\begin{enumerate*}\n",
       "\\item 1362\n",
       "\\item 7\n",
       "\\end{enumerate*}\n"
      ],
      "text/markdown": [
       "1. 1362\n",
       "2. 7\n",
       "\n",
       "\n"
      ],
      "text/plain": [
       "[1] 1362    7"
      ]
     },
     "metadata": {},
     "output_type": "display_data"
    }
   ],
   "source": [
    "rts.colony <- read.csv(paste0(wdir,\"Bishayee Colony Counts 10.27.97-3.8.csv\"),header=T,skip=2)\n",
    "head(rts.colony)\n",
    "dim(rts.colony)"
   ]
  },
  {
   "cell_type": "code",
   "execution_count": 58,
   "metadata": {
    "collapsed": false
   },
   "outputs": [
    {
     "data": {
      "text/html": [
       "<table>\n",
       "<thead><tr><th scope=col>Bates</th><th scope=col>Date</th><th scope=col>Count.1</th><th scope=col>Count.2</th><th scope=col>Count.3</th><th scope=col>Average</th></tr></thead>\n",
       "<tbody>\n",
       "\t<tr><td>B008404 </td><td>10/20/97</td><td>531     </td><td>508     </td><td>541     </td><td>526.67  </td></tr>\n",
       "\t<tr><td>B008404 </td><td>10/20/97</td><td>650     </td><td>626     </td><td>595     </td><td>623.67  </td></tr>\n",
       "\t<tr><td>B008404 </td><td>10/20/97</td><td>460     </td><td>455     </td><td>468     </td><td>461.00  </td></tr>\n",
       "\t<tr><td>B008404 </td><td>10/20/97</td><td>550     </td><td>530     </td><td>538     </td><td>539.33  </td></tr>\n",
       "\t<tr><td>B008404 </td><td>10/20/97</td><td>466     </td><td>468     </td><td>452     </td><td>462.00  </td></tr>\n",
       "\t<tr><td>B008404 </td><td>10/20/97</td><td>567     </td><td>555     </td><td>521     </td><td>547.67  </td></tr>\n",
       "</tbody>\n",
       "</table>\n"
      ],
      "text/latex": [
       "\\begin{tabular}{r|llllll}\n",
       " Bates & Date & Count.1 & Count.2 & Count.3 & Average\\\\\n",
       "\\hline\n",
       "\t B008404  & 10/20/97 & 531      & 508      & 541      & 526.67  \\\\\n",
       "\t B008404  & 10/20/97 & 650      & 626      & 595      & 623.67  \\\\\n",
       "\t B008404  & 10/20/97 & 460      & 455      & 468      & 461.00  \\\\\n",
       "\t B008404  & 10/20/97 & 550      & 530      & 538      & 539.33  \\\\\n",
       "\t B008404  & 10/20/97 & 466      & 468      & 452      & 462.00  \\\\\n",
       "\t B008404  & 10/20/97 & 567      & 555      & 521      & 547.67  \\\\\n",
       "\\end{tabular}\n"
      ],
      "text/plain": [
       "  Bates   Date     Count.1 Count.2 Count.3 Average\n",
       "1 B008404 10/20/97 531     508     541     526.67 \n",
       "2 B008404 10/20/97 650     626     595     623.67 \n",
       "3 B008404 10/20/97 460     455     468     461.00 \n",
       "4 B008404 10/20/97 550     530     538     539.33 \n",
       "5 B008404 10/20/97 466     468     452     462.00 \n",
       "6 B008404 10/20/97 567     555     521     547.67 "
      ]
     },
     "metadata": {},
     "output_type": "display_data"
    },
    {
     "data": {
      "text/html": [
       "<ol class=list-inline>\n",
       "\t<li>1729</li>\n",
       "\t<li>6</li>\n",
       "</ol>\n"
      ],
      "text/latex": [
       "\\begin{enumerate*}\n",
       "\\item 1729\n",
       "\\item 6\n",
       "\\end{enumerate*}\n"
      ],
      "text/markdown": [
       "1. 1729\n",
       "2. 6\n",
       "\n",
       "\n"
      ],
      "text/plain": [
       "[1] 1729    6"
      ]
     },
     "metadata": {},
     "output_type": "display_data"
    }
   ],
   "source": [
    "rts.coulter <- read.csv(paste0(wdir,\"Bishayee Coulter Counts.10.20.97-7.16.csv\"),header=T,skip=1)\n",
    "head(rts.coulter)\n",
    "dim(rts.coulter)"
   ]
  },
  {
   "cell_type": "code",
   "execution_count": 59,
   "metadata": {
    "collapsed": false
   },
   "outputs": [
    {
     "data": {
      "text/html": [
       "<table>\n",
       "<thead><tr><th scope=col>Bates...B00.or.B0</th><th scope=col>Date</th><th scope=col>Inv</th><th scope=col>col1</th><th scope=col>col2</th><th scope=col>col3</th><th scope=col>average</th></tr></thead>\n",
       "<tbody>\n",
       "\t<tr><td>       </td><td>4/23/92</td><td>I      </td><td>266    </td><td>247    </td><td>262    </td><td>258.33 </td></tr>\n",
       "\t<tr><td>       </td><td>4/23/92</td><td>I      </td><td>170    </td><td>151    </td><td>156    </td><td>159.00 </td></tr>\n",
       "\t<tr><td>       </td><td>4/23/92</td><td>I      </td><td> 66    </td><td> 66    </td><td> 56    </td><td> 62.67 </td></tr>\n",
       "\t<tr><td>       </td><td>4/23/92</td><td>I      </td><td> 22    </td><td> 13    </td><td> 27    </td><td> 20.67 </td></tr>\n",
       "\t<tr><td>       </td><td>4/23/92</td><td>I      </td><td>  1    </td><td>  1    </td><td>  4    </td><td>  2.00 </td></tr>\n",
       "\t<tr><td>       </td><td>4/23/92</td><td>I      </td><td> 10    </td><td> 13    </td><td> 12    </td><td> 11.67 </td></tr>\n",
       "</tbody>\n",
       "</table>\n"
      ],
      "text/latex": [
       "\\begin{tabular}{r|lllllll}\n",
       " Bates...B00.or.B0 & Date & Inv & col1 & col2 & col3 & average\\\\\n",
       "\\hline\n",
       "\t         & 4/23/92 & I       & 266     & 247     & 262     & 258.33 \\\\\n",
       "\t         & 4/23/92 & I       & 170     & 151     & 156     & 159.00 \\\\\n",
       "\t         & 4/23/92 & I       &  66     &  66     &  56     &  62.67 \\\\\n",
       "\t         & 4/23/92 & I       &  22     &  13     &  27     &  20.67 \\\\\n",
       "\t         & 4/23/92 & I       &   1     &   1     &   4     &   2.00 \\\\\n",
       "\t         & 4/23/92 & I       &  10     &  13     &  12     &  11.67 \\\\\n",
       "\\end{tabular}\n"
      ],
      "text/plain": [
       "  Bates...B00.or.B0 Date    Inv col1 col2 col3 average\n",
       "1                   4/23/92 I   266  247  262  258.33 \n",
       "2                   4/23/92 I   170  151  156  159.00 \n",
       "3                   4/23/92 I    66   66   56   62.67 \n",
       "4                   4/23/92 I    22   13   27   20.67 \n",
       "5                   4/23/92 I     1    1    4    2.00 \n",
       "6                   4/23/92 I    10   13   12   11.67 "
      ]
     },
     "metadata": {},
     "output_type": "display_data"
    },
    {
     "data": {
      "text/html": [
       "<ol class=list-inline>\n",
       "\t<li>621</li>\n",
       "\t<li>7</li>\n",
       "</ol>\n"
      ],
      "text/latex": [
       "\\begin{enumerate*}\n",
       "\\item 621\n",
       "\\item 7\n",
       "\\end{enumerate*}\n"
      ],
      "text/markdown": [
       "1. 621\n",
       "2. 7\n",
       "\n",
       "\n"
      ],
      "text/plain": [
       "[1] 621   7"
      ]
     },
     "metadata": {},
     "output_type": "display_data"
    }
   ],
   "source": [
    "others.colony <- read.csv(paste0(wdir,\"Other Investigators in Lab.Colony Counts.4.23.92-11.27.csv\"),header=T,skip=1)\n",
    "head(others.colony)\n",
    "dim(others.colony)"
   ]
  },
  {
   "cell_type": "code",
   "execution_count": 60,
   "metadata": {
    "collapsed": false
   },
   "outputs": [
    {
     "data": {
      "text/html": [
       "<table>\n",
       "<thead><tr><th scope=col>Bates.No.</th><th scope=col>Date</th><th scope=col>Coul.1</th><th scope=col>Coul.2</th><th scope=col>Coul.3</th><th scope=col>Average</th><th scope=col>Investigator</th></tr></thead>\n",
       "<tbody>\n",
       "\t<tr><td>       </td><td>4/15/92</td><td>1547   </td><td>1574   </td><td>1523   </td><td>1548.00</td><td>I      </td></tr>\n",
       "\t<tr><td>       </td><td>4/15/92</td><td>1617   </td><td>1552   </td><td>1570   </td><td>1579.67</td><td>I      </td></tr>\n",
       "\t<tr><td>       </td><td>4/15/92</td><td>1258   </td><td>1279   </td><td>1284   </td><td>1273.67</td><td>I      </td></tr>\n",
       "\t<tr><td>       </td><td>4/15/92</td><td>1273   </td><td>1313   </td><td>1286   </td><td>1290.67</td><td>I      </td></tr>\n",
       "\t<tr><td>       </td><td>4/15/92</td><td>1071   </td><td>1044   </td><td>1044   </td><td>1053.00</td><td>I      </td></tr>\n",
       "\t<tr><td>       </td><td>4/15/92</td><td>1014   </td><td>1014   </td><td> 965   </td><td> 997.67</td><td>I      </td></tr>\n",
       "</tbody>\n",
       "</table>\n"
      ],
      "text/latex": [
       "\\begin{tabular}{r|lllllll}\n",
       " Bates.No. & Date & Coul.1 & Coul.2 & Coul.3 & Average & Investigator\\\\\n",
       "\\hline\n",
       "\t         & 4/15/92 & 1547    & 1574    & 1523    & 1548.00 & I      \\\\\n",
       "\t         & 4/15/92 & 1617    & 1552    & 1570    & 1579.67 & I      \\\\\n",
       "\t         & 4/15/92 & 1258    & 1279    & 1284    & 1273.67 & I      \\\\\n",
       "\t         & 4/15/92 & 1273    & 1313    & 1286    & 1290.67 & I      \\\\\n",
       "\t         & 4/15/92 & 1071    & 1044    & 1044    & 1053.00 & I      \\\\\n",
       "\t         & 4/15/92 & 1014    & 1014    &  965    &  997.67 & I      \\\\\n",
       "\\end{tabular}\n"
      ],
      "text/plain": [
       "  Bates.No. Date    Coul.1 Coul.2 Coul.3 Average Investigator\n",
       "1           4/15/92 1547   1574   1523   1548.00 I           \n",
       "2           4/15/92 1617   1552   1570   1579.67 I           \n",
       "3           4/15/92 1258   1279   1284   1273.67 I           \n",
       "4           4/15/92 1273   1313   1286   1290.67 I           \n",
       "5           4/15/92 1071   1044   1044   1053.00 I           \n",
       "6           4/15/92 1014   1014    965    997.67 I           "
      ]
     },
     "metadata": {},
     "output_type": "display_data"
    },
    {
     "data": {
      "text/html": [
       "<ol class=list-inline>\n",
       "\t<li>1007</li>\n",
       "\t<li>7</li>\n",
       "</ol>\n"
      ],
      "text/latex": [
       "\\begin{enumerate*}\n",
       "\\item 1007\n",
       "\\item 7\n",
       "\\end{enumerate*}\n"
      ],
      "text/markdown": [
       "1. 1007\n",
       "2. 7\n",
       "\n",
       "\n"
      ],
      "text/plain": [
       "[1] 1007    7"
      ]
     },
     "metadata": {},
     "output_type": "display_data"
    }
   ],
   "source": [
    "others.coulter <- read.csv(paste0(wdir,\"Other Investigators in Lab.Coulter Counts.4.15.92-5.21.csv\"),header=T,skip=1)\n",
    "head(others.coulter)\n",
    "dim(others.coulter)"
   ]
  },
  {
   "cell_type": "code",
   "execution_count": 83,
   "metadata": {
    "collapsed": false
   },
   "outputs": [
    {
     "name": "stdout",
     "output_type": "stream",
     "text": [
      "[1] \"p-value using poission binomial in RTS colony data is:\"\n"
     ]
    },
    {
     "data": {
      "text/html": [
       "0"
      ],
      "text/latex": [
       "0"
      ],
      "text/markdown": [
       "0"
      ],
      "text/plain": [
       "[1] 0"
      ]
     },
     "metadata": {},
     "output_type": "display_data"
    }
   ],
   "source": [
    "print('p-value using poission binomial in RTS colony data is:')\n",
    "1 - ppoibin(690,midprob[round(rts.colony[,7]),2])"
   ]
  },
  {
   "cell_type": "code",
   "execution_count": 84,
   "metadata": {
    "collapsed": false
   },
   "outputs": [
    {
     "name": "stdout",
     "output_type": "stream",
     "text": [
      "[1] \"p-value using poission binomial in others colony data is:\"\n"
     ]
    },
    {
     "data": {
      "text/html": [
       "0.608493858139714"
      ],
      "text/latex": [
       "0.608493858139714"
      ],
      "text/markdown": [
       "0.608493858139714"
      ],
      "text/plain": [
       "[1] 0.6084939"
      ]
     },
     "metadata": {},
     "output_type": "display_data"
    }
   ],
   "source": [
    "print('p-value using poission binomial in others colony data is:')\n",
    "1 - ppoibin(109,midprob[round(others.colony[,7]),2])"
   ]
  },
  {
   "cell_type": "code",
   "execution_count": 85,
   "metadata": {
    "collapsed": false
   },
   "outputs": [
    {
     "name": "stdout",
     "output_type": "stream",
     "text": [
      "[1] \"p-value using poission binomial in RTS coulter data is:\"\n"
     ]
    },
    {
     "ename": "ERROR",
     "evalue": "Error in if (any(pp < 0) | any(pp > 1)) {: missing value where TRUE/FALSE needed\n",
     "output_type": "error",
     "traceback": [
      "Error in if (any(pp < 0) | any(pp > 1)) {: missing value where TRUE/FALSE needed\nTraceback:\n",
      "1. ppoibin(173, midprob[round(rts.coulter[, 6]), 2])"
     ]
    }
   ],
   "source": [
    "print('p-value using poission binomial in RTS coulter data is:')\n",
    "1 - ppoibin(173,midprob[round(rts.coulter[,6]),2])"
   ]
  },
  {
   "cell_type": "code",
   "execution_count": 86,
   "metadata": {
    "collapsed": false
   },
   "outputs": [
    {
     "name": "stdout",
     "output_type": "stream",
     "text": [
      "[1] \"p-value using poission binomial in others coulter data is:\"\n"
     ]
    },
    {
     "ename": "ERROR",
     "evalue": "Error in if (any(pp < 0) | any(pp > 1)) {: missing value where TRUE/FALSE needed\n",
     "output_type": "error",
     "traceback": [
      "Error in if (any(pp < 0) | any(pp > 1)) {: missing value where TRUE/FALSE needed\nTraceback:\n",
      "1. ppoibin(36, midprob[round(others.coulter[, 6]), 2])"
     ]
    }
   ],
   "source": [
    "print('p-value using poission binomial in others coulter data is:')\n",
    "1 - ppoibin(36,midprob[round(others.coulter[,6]),2])"
   ]
  }
 ],
 "metadata": {
  "kernelspec": {
   "display_name": "R 3.2",
   "language": "R",
   "name": "ir32"
  },
  "language_info": {
   "codemirror_mode": "r",
   "file_extension": ".r",
   "mimetype": "text/x-r-source",
   "name": "R",
   "pygments_lexer": "r",
   "version": "3.2.4"
  }
 },
 "nbformat": 4,
 "nbformat_minor": 0
}
