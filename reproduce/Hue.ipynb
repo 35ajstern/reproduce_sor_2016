{
 "cells": [
  {
   "cell_type": "markdown",
   "metadata": {},
   "source": [
    "# Read data from xlsx"
   ]
  },
  {
   "cell_type": "code",
   "execution_count": 1,
   "metadata": {
    "collapsed": true
   },
   "outputs": [],
   "source": [
    "from __future__ import division, generators, absolute_import, print_function"
   ]
  },
  {
   "cell_type": "markdown",
   "metadata": {},
   "source": [
    "# Table 2: some statistics"
   ]
  },
  {
   "cell_type": "code",
   "execution_count": 11,
   "metadata": {
    "collapsed": true
   },
   "outputs": [],
   "source": [
    "def ReadFromXls(file, cols, rows, types, sorted = True, verbose = True):\n",
    "    # Read file.xlsx and extract a 2d list \n",
    "    # Inputs:\n",
    "    #   file    : str of file location\n",
    "    #   cols    : list/tuple of selected columns\n",
    "    #   rows    : list/tuple of selected rows\n",
    "    #   types   : a tuple of allowed types, e.g. (int, long)\n",
    "    #   sorted  : boolean whether to sort each row (only valid when types are numerics)\n",
    "    #   verbose : boolean whether to print what's going on\n",
    "    # Output:\n",
    "    #   a 2d list of integers\n",
    "    if verbose: print('****** ReadFromXls: Read file.xlsx and extract a 2d list *****')\n",
    "    from openpyxl import load_workbook\n",
    "    wb  = load_workbook(file) \n",
    "    if verbose: print('-- Opened file:', file)\n",
    "    if verbose: print('-- Sheet names:', wb.get_sheet_names(), 'Using Sheet1 as default.')\n",
    "    ws = wb.get_sheet_by_name('Sheet1')\n",
    "    if verbose: print('-- A1 (typically the title):', ws['A1'].value)\n",
    "    rawData = []\n",
    "    for i in rows:\n",
    "        oneRow = []\n",
    "        for j in cols:\n",
    "            entry = ws[j + str(i)].value\n",
    "            if isinstance(entry, types):\n",
    "                oneRow.append(entry)\n",
    "            else:\n",
    "                break\n",
    "        if len(oneRow) == len(cols):\n",
    "            if sorted: oneRow.sort()\n",
    "            rawData.append(oneRow)\n",
    "    if verbose: print('-- successfully read ', len(rawData), 'full lines!')\n",
    "    if verbose: print('************************ finished. *************************')\n",
    "    return rawData"
   ]
  },
  {
   "cell_type": "markdown",
   "metadata": {},
   "source": [
    "## RTS Colony counts"
   ]
  },
  {
   "cell_type": "code",
   "execution_count": 34,
   "metadata": {
    "collapsed": false
   },
   "outputs": [
    {
     "name": "stdout",
     "output_type": "stream",
     "text": [
      "****** ReadFromXls: Read file.xlsx and extract a 2d list *****\n",
      "-- Opened file: ../data/Bishayee Colony Counts 10.27.97-3.8.01.xlsx\n",
      "-- Sheet names: ['Sheet1'] Using Sheet1 as default.\n",
      "-- A1 (typically the title): Bishayee Colony Counts 128 experiments\n",
      "-- successfully read  1361 full lines!\n",
      "************************ finished. *************************\n",
      "1343\n",
      "690\n"
     ]
    }
   ],
   "source": [
    "file = '../data/Bishayee Colony Counts 10.27.97-3.8.01.xlsx'\n",
    "data1 = ReadFromXls(file, ('D', 'E', 'F'), rows = range(4, 1366), types = (int))\n",
    "cleanData1 = [x for x in data1 if x[0] <= x[2] - 2] # filter out triples with gap < 2\n",
    "print(len(cleanData1))\n",
    "print(len([x for x in cleanData1 if x[1] == round((x[0] + x[1] + x[2])/3.) ]))"
   ]
  },
  {
   "cell_type": "markdown",
   "metadata": {},
   "source": [
    "## RTS Coulter counts"
   ]
  },
  {
   "cell_type": "code",
   "execution_count": 83,
   "metadata": {
    "collapsed": false
   },
   "outputs": [
    {
     "name": "stdout",
     "output_type": "stream",
     "text": [
      "****** ReadFromXls: Read file.xlsx and extract a 2d list *****\n",
      "-- Opened file: ../data/Bishayee Coulter Counts.10.20.97-7.16.01.xlsx\n",
      "-- Sheet names: ['Sheet1'] Using Sheet1 as default.\n",
      "-- A1 (typically the title): Bishayee Coulters\n",
      "-- successfully read  1727 full lines!\n",
      "************************ finished. *************************\n",
      "1726\n",
      "176\n"
     ]
    }
   ],
   "source": [
    "file = '../data/Bishayee Coulter Counts.10.20.97-7.16.01.xlsx'\n",
    "RTScoulterData = ReadFromXls(file, ('C', 'D', 'E'), rows = range(3, 1732), types = (int))\n",
    "RTScoulterData_clean = [x for x in RTScoulterData if x[0] <= x[2] - 2] # filter out triples with gap < 2\n",
    "print(len(RTScoulterData_clean))\n",
    "print(len([x for x in RTScoulterData_clean if x[1] == round((x[0] + x[1] + x[2])/3.) ]))"
   ]
  },
  {
   "cell_type": "markdown",
   "metadata": {},
   "source": [
    "## Other investigators colony counts"
   ]
  },
  {
   "cell_type": "code",
   "execution_count": 67,
   "metadata": {
    "collapsed": false
   },
   "outputs": [
    {
     "name": "stdout",
     "output_type": "stream",
     "text": [
      "****** ReadFromXls: Read file.xlsx and extract a 2d list *****\n",
      "-- Opened file: ../data/Other Investigators in Lab.Colony Counts.4.23.92-11.27.02.xlsx\n",
      "-- Sheet names: ['Sheet1'] Using Sheet1 as default.\n",
      "-- A1 (typically the title): Others in Howell lab\n",
      "-- successfully read  596 full lines!\n",
      "************************ finished. *************************\n",
      "577\n",
      "109\n"
     ]
    }
   ],
   "source": [
    "file = '../data/Other Investigators in Lab.Colony Counts.4.23.92-11.27.02.xlsx'\n",
    "data2 = ReadFromXls(file, ('D', 'E', 'F'), rows = range(3, 623), types = (int))\n",
    "cleanData2 = [x for x in data2 if x[0] <= x[2] - 2]\n",
    "print(len(cleanData2))\n",
    "print(len([x for x in cleanData2 if x[1] == round((x[0] + x[1] + x[2])/3.) ]))"
   ]
  },
  {
   "cell_type": "markdown",
   "metadata": {},
   "source": [
    "## Other investigators coulter counts"
   ]
  },
  {
   "cell_type": "code",
   "execution_count": 84,
   "metadata": {
    "collapsed": false
   },
   "outputs": [
    {
     "name": "stdout",
     "output_type": "stream",
     "text": [
      "****** ReadFromXls: Read file.xlsx and extract a 2d list *****\n",
      "-- Opened file: ../data/Other Investigators in Lab.Coulter Counts.4.15.92-5.21.05.xlsx\n",
      "-- Sheet names: ['Sheet1'] Using Sheet1 as default.\n",
      "-- A1 (typically the title): Other Investigators in the Lab\n",
      "-- successfully read  929 full lines!\n",
      "************************ finished. *************************\n",
      "929\n",
      "36\n"
     ]
    }
   ],
   "source": [
    "file = '../data/Other Investigators in Lab.Coulter Counts.4.15.92-5.21.05.xlsx'\n",
    "OtherCoulterData = ReadFromXls(file, ('C', 'D', 'E'), rows = range(3, 1010), types = (int))\n",
    "OtherCoulterData_clean = [x for x in OtherCoulterData if x[0] <= x[2] - 2]\n",
    "print(len(OtherCoulterData_clean))\n",
    "print(len([x for x in OtherCoulterData_clean if x[1] == round((x[0] + x[1] + x[2])/3.) ]))"
   ]
  },
  {
   "cell_type": "markdown",
   "metadata": {},
   "source": [
    "## Outside lab 1 coulter counts"
   ]
  },
  {
   "cell_type": "code",
   "execution_count": 87,
   "metadata": {
    "collapsed": false
   },
   "outputs": [
    {
     "name": "stdout",
     "output_type": "stream",
     "text": [
      "****** ReadFromXls: Read file.xlsx and extract a 2d list *****\n",
      "-- Opened file: ../data/Outside Lab 1.Coulter Counts.6.7.91-4.9.99.xlsx\n",
      "-- Sheet names: ['Sheet1'] Using Sheet1 as default.\n",
      "-- A1 (typically the title): Outside Lab 1 Coulter Counts\n",
      "-- successfully read  97 full lines!\n",
      "************************ finished. *************************\n",
      "97\n",
      "0\n"
     ]
    }
   ],
   "source": [
    "file = '../data/Outside Lab 1.Coulter Counts.6.7.91-4.9.99.xlsx'\n",
    "Lab1CoulterData = ReadFromXls(file, ('B', 'C', 'D'), rows = range(2, 111), types = (int))\n",
    "Lab1CoulterData_clean = [x for x in Lab1CoulterData if x[0] <= x[2] - 2]\n",
    "print(len(Lab1CoulterData_clean))\n",
    "print(len([x for x in Lab1CoulterData_clean if x[1] == round((x[0] + x[1] + x[2])/3.) ]))"
   ]
  },
  {
   "cell_type": "markdown",
   "metadata": {},
   "source": [
    "## Outside lab 2 coulter counts"
   ]
  },
  {
   "cell_type": "code",
   "execution_count": 88,
   "metadata": {
    "collapsed": false
   },
   "outputs": [
    {
     "name": "stdout",
     "output_type": "stream",
     "text": [
      "****** ReadFromXls: Read file.xlsx and extract a 2d list *****\n",
      "-- Opened file: ../data/Outside Lab 2.Coulter Counts.6.6.08-7.7.08.xlsx\n",
      "-- Sheet names: ['Sheet1'] Using Sheet1 as default.\n",
      "-- A1 (typically the title): Outside Lab 2\n",
      "-- successfully read  120 full lines!\n",
      "************************ finished. *************************\n",
      "120\n",
      "1\n"
     ]
    }
   ],
   "source": [
    "file = '../data/Outside Lab 2.Coulter Counts.6.6.08-7.7.08.xlsx'\n",
    "Lab2CoulterData = ReadFromXls(file, ('B', 'C', 'D'), rows = range(3, 123), types = (int))\n",
    "Lab2CoulterData_clean = [x for x in Lab2CoulterData if x[0] <= x[2] - 2]\n",
    "print(len(Lab2CoulterData_clean))\n",
    "print(len([x for x in Lab2CoulterData_clean if x[1] == round((x[0] + x[1] + x[2])/3.) ]))"
   ]
  },
  {
   "cell_type": "markdown",
   "metadata": {},
   "source": [
    "## Outside lab 3 colony counts"
   ]
  },
  {
   "cell_type": "code",
   "execution_count": 81,
   "metadata": {
    "collapsed": false
   },
   "outputs": [
    {
     "name": "stdout",
     "output_type": "stream",
     "text": [
      "****** ReadFromXls: Read file.xlsx and extract a 2d list *****\n",
      "-- Opened file: ../data/Outside Lab 3.Colony Counts.2.4.10-5.21.12.xlsx\n",
      "-- Sheet names: ['Sheet1'] Using Sheet1 as default.\n",
      "-- A1 (typically the title): Outside Lab 3 Colonies\n",
      "-- successfully read  50 full lines!\n",
      "************************ finished. *************************\n",
      "49\n",
      "3\n"
     ]
    }
   ],
   "source": [
    "file = '../data/Outside Lab 3.Colony Counts.2.4.10-5.21.12.xlsx'\n",
    "data3 = ReadFromXls(file, ('B', 'C', 'D'), rows = range(3, 53), types = (int))\n",
    "cleanData3 = [x for x in data3 if x[0] <= x[2] - 2]\n",
    "print(len(cleanData3))\n",
    "print(len([x for x in cleanData3 if x[1] == round((x[0] + x[1] + x[2])/3.) ]))"
   ]
  },
  {
   "cell_type": "markdown",
   "metadata": {},
   "source": [
    "### Figure 1:"
   ]
  },
  {
   "cell_type": "code",
   "execution_count": 71,
   "metadata": {
    "collapsed": false
   },
   "outputs": [
    {
     "data": {
      "image/png": "[encoded data removed]",
      "text/plain": [
       "<matplotlib.figure.Figure at 0x7f3357ebfb70>"
      ]
     },
     "metadata": {},
     "output_type": "display_data"
    }
   ],
   "source": [
    "%matplotlib inline\n",
    "import matplotlib.pyplot as plt\n",
    "import numpy as np\n",
    "\n",
    "tmp1 = [(x[1] - x[0])*1.0/max(x[2] - x[0],1) for x in cleanData1]\n",
    "tmp2 = [(x[1] - x[0])*1.0/max(x[2] - x[0],1) for x in cleanData2]\n",
    "plt.figure(figsize=(18, 6))\n",
    "plt.subplot(1, 2, 1)\n",
    "counts, bins, ignored = plt.hist(tmp1, [0, .101, .201, .301, .401, .501, .601, .701, .801, .901, 1.01], \n",
    "                                 rwidth=0.5, weights=np.zeros_like(tmp1) + 1. / len(tmp1))\n",
    "plt.ylim(0, .55)\n",
    "plt.title('Mid ratio for RTS colony counts')\n",
    "plt.subplot(1, 2, 2)\n",
    "counts, bins, ignored = plt.hist(tmp2, [0, .101, .201, .301, .401, .501, .601, .701, .801, .901, 1.01],\n",
    "                                 rwidth=0.5, weights=np.zeros_like(tmp2) + 1. / len(tmp2))\n",
    "plt.ylim(0, .55)\n",
    "plt.title('Mid ratio for Other investigators colony counts')\n",
    "plt.show()\n",
    "# print(bins)\n",
    "# print(counts)"
   ]
  },
  {
   "cell_type": "markdown",
   "metadata": {},
   "source": [
    "** Unresolved issues: **\n",
    "* notice: must delete those with gap smaller than 2.\n",
    "* the figure looks a little bit different from (a), see 0.3 and 0.9\n",
    "* (b)"
   ]
  },
  {
   "cell_type": "markdown",
   "metadata": {},
   "source": [
    "### Table 1:"
   ]
  },
  {
   "cell_type": "code",
   "execution_count": 5,
   "metadata": {
    "collapsed": false
   },
   "outputs": [],
   "source": [
    "from scipy.stats import poisson\n",
    "import numpy as np"
   ]
  },
  {
   "cell_type": "code",
   "execution_count": 2,
   "metadata": {
    "collapsed": true
   },
   "outputs": [],
   "source": [
    "def calc_P(i):\n",
    "    P = 0\n",
    "    # N is the truncation number of Poisson\n",
    "    N = int(poisson.ppf(1 - 1e-9, i))\n",
    "    for j in range(2, N):\n",
    "        for k in range(j, N):\n",
    "            P += 6 * poisson.pmf(k - j, i) * poisson.pmf(k, i) * poisson.pmf(k - int(j/2), i)\n",
    "            # just to follow the usage in Yu's code, I add int in poisson.pmf(k - int(j/2), i),\n",
    "            # do we really need to round the number?\n",
    "            if j % 2 == 1:\n",
    "                P += 6 * poisson.pmf(k - j, i) * poisson.pmf(k, i) * poisson.pmf(k - int(j/2) - 1, i)\n",
    "    return P"
   ]
  },
  {
   "cell_type": "code",
   "execution_count": 3,
   "metadata": {
    "collapsed": true
   },
   "outputs": [],
   "source": [
    "def calc_P_new(i):\n",
    "    P = 0\n",
    "    # N is the truncation number of Poisson\n",
    "    Nmax = int(poisson.ppf(1 - 1e-10, i))\n",
    "    Nmin = int(poisson.ppf(1e-10, i))\n",
    "    for mid in range(Nmin, Nmax):\n",
    "        tmp  = poisson.pmf(mid, i)\n",
    "        P += 3 * tmp * (poisson.pmf(2 * mid, 2 * i) - tmp**2)\n",
    "        P += 3 * tmp * (poisson.pmf(2 * mid + 1, 2 * i) - 2 * tmp * poisson.pmf(mid + 1, i))\n",
    "        P += 3 * tmp * (poisson.pmf(2 * mid - 1, 2 * i) - 2 * tmp * poisson.pmf(mid - 1, i))\n",
    "    return P"
   ]
  },
  {
   "cell_type": "code",
   "execution_count": 9,
   "metadata": {
    "collapsed": false
   },
   "outputs": [
    {
     "name": "stdout",
     "output_type": "stream",
     "text": [
      "0.267\n",
      "0.387\n",
      "0.403\n",
      "0.397\n",
      "0.385\n",
      "0.372\n",
      "0.359\n",
      "0.348\n",
      "0.337\n",
      "0.327\n",
      "0.317\n",
      "0.309\n",
      "0.301\n",
      "0.294\n",
      "0.287\n",
      "0.281\n",
      "0.275\n",
      "0.269\n",
      "0.264\n",
      "0.259\n",
      "0.254\n",
      "0.250\n",
      "0.246\n",
      "0.242\n",
      "7.271766662597656e-05\n"
     ]
    }
   ],
   "source": [
    "import time\n",
    "lamMax  = 25\n",
    "#para = np.concatenate((np.arange(1,2001), np.arange(2100,10001,100), np.arange(11000,60000,1000)))\n",
    "P = [calc_P_new(i) for i in range(1, lamMax)]\n",
    "start = time.time()\n",
    "#P_new = [calc_P_new(i) for i in para]\n",
    "end   = time.time()\n",
    "for i in P:\n",
    "    print('%0.3f' % i)\n",
    "# print(P_new)\n",
    "print(end - start)\n",
    "# poisson.ppf(1 - 1e-9, 1000)"
   ]
  },
  {
   "cell_type": "code",
   "execution_count": 75,
   "metadata": {
    "collapsed": false
   },
   "outputs": [],
   "source": [
    "# Write mid probability to txt\n",
    "#P_to_txt = [[lam, P_new[lam-1]] for lam in range(1,len(P_new))]\n",
    "P_to_txt = [[para[i], P_new[i]] for i in range(len(para))]\n",
    "output_dir = \"../outputs/\"\n",
    "\n",
    "with open(output_dir + \"MidProb.txt\", 'w') as f:\n",
    "    for item in P_to_txt:\n",
    "        f.write('\\t'.join(map(repr, item)) + '\\n')"
   ]
  },
  {
   "cell_type": "markdown",
   "metadata": {},
   "source": [
    "** Reflection: **\n",
    "\n",
    "* Did not include the prob that small = medium = big and no justification.\n",
    "\n",
    "* Poisson distribution with same mean is not very convincing. Can be more non-parametric (bootstrap from other people's data)."
   ]
  },
  {
   "cell_type": "markdown",
   "metadata": {},
   "source": [
    "### Hypothesis testing I:"
   ]
  },
  {
   "cell_type": "code",
   "execution_count": 44,
   "metadata": {
    "collapsed": false
   },
   "outputs": [
    {
     "name": "stdout",
     "output_type": "stream",
     "text": [
      "****** ReadFromXls: Read file.xlsx and extract a 2d list *****\n",
      "-- Opened file: ../data/Other Investigators in Lab.Colony Counts.4.23.92-11.27.02.xlsx\n",
      "-- Sheet names: ['Sheet1'] Using Sheet1 as default.\n",
      "-- A1 (typically the title): Others in Howell lab\n",
      "-- successfully read  598 full lines!\n",
      "************************ finished. *************************\n",
      "A 257 18\n",
      "B 58 1\n",
      "C 89 14\n",
      "D 80 3\n",
      "E 10 0\n",
      "F 29 2\n",
      "G 9 1\n",
      "H 21 0\n",
      "I 45 1\n"
     ]
    }
   ],
   "source": [
    "file = '../data/Other Investigators in Lab.Colony Counts.4.23.92-11.27.02.xlsx'\n",
    "rawData2 = ReadFromXls(file, ('C', 'D', 'E', 'F'), rows = range(3, 623), types = (int, str), sorted = False)\n",
    "invs = ['A', 'B', 'C', 'D', 'E', 'F', 'G', 'H', 'I']\n",
    "for name in invs:\n",
    "    data = [np.sort(x[1:4]) for x in rawData2 if x[0] == name]\n",
    "    x = data[0]\n",
    "    containMean = [x for x in data if int(x[0] + x[1] + x[2])/3 == int(x[1])]\n",
    "    print(name, len(data), len(containMean))\n",
    "    \n",
    "# print(len(cleanData2))\n",
    "# print(len([x for x in cleanData2 if x[1] == round((x[0] + x[1] + x[2])/3.) ]))"
   ]
  },
  {
   "cell_type": "code",
   "execution_count": 15,
   "metadata": {
    "collapsed": false
   },
   "outputs": [
    {
     "name": "stdout",
     "output_type": "stream",
     "text": [
      "2.85338419559e-12\n",
      "2.82052399667e-05\n"
     ]
    }
   ],
   "source": [
    "from scipy.stats import binom\n",
    "print(1 - binom.cdf(690 - 1, 1343, 0.42))\n",
    "print(1 - binom.cdf(109 - 1,  572, 0.13))"
   ]
  },
  {
   "cell_type": "markdown",
   "metadata": {},
   "source": [
    "** Reflection: **\n",
    "    \n",
    "* It is not reasonable to consider binomial: some experiments might be correlated. \n",
    "\n",
    "* It will be of interest to check the p-value of other people. What if it is significant as well?"
   ]
  },
  {
   "cell_type": "markdown",
   "metadata": {},
   "source": [
    "## Poisson test"
   ]
  },
  {
   "cell_type": "code",
   "execution_count": null,
   "metadata": {
    "collapsed": true
   },
   "outputs": [],
   "source": [
    "def TriplePoissonTest(data, verbose = True, plot = True){\n",
    "    # Test whether given list of triples come from Poisson test\n",
    "    # Inputs:\n",
    "    #   data: list of triples, integer\n",
    "    #   verbose: boolean whether to print information\n",
    "    #   plot: boolean whether to plot the figure\n",
    "    # Outputs:\n",
    "    #   flag: boolean whether can we reject the null hypothesis that triples are from poisson\n",
    "}"
   ]
  }
 ],
 "metadata": {
  "kernelspec": {
   "display_name": "Python 3",
   "language": "python",
   "name": "python3"
  },
  "language_info": {
   "codemirror_mode": {
    "name": "ipython",
    "version": 3
   },
   "file_extension": ".py",
   "mimetype": "text/x-python",
   "name": "python",
   "nbconvert_exporter": "python",
   "pygments_lexer": "ipython3",
   "version": "3.5.2"
  }
 },
 "nbformat": 4,
 "nbformat_minor": 1
}
