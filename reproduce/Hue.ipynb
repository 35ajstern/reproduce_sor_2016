{
 "cells": [
  {
   "cell_type": "markdown",
   "metadata": {},
   "source": [
    "# Read data from xlsx"
   ]
  },
  {
   "cell_type": "code",
   "execution_count": 8,
   "metadata": {
    "collapsed": true
   },
   "outputs": [],
   "source": [
    "from __future__ import division, generators, absolute_import, print_function"
   ]
  },
  {
   "cell_type": "code",
   "execution_count": 9,
   "metadata": {
    "collapsed": false
   },
   "outputs": [
    {
     "name": "stdout",
     "output_type": "stream",
     "text": [
      "['Sheet1']\n",
      "Bishayee Colony Counts 128 experiments\n",
      "1361\n",
      "[170, 171, 176]\n"
     ]
    }
   ],
   "source": [
    "from openpyxl import load_workbook\n",
    "data_dir = '../data/'\n",
    "wb = load_workbook(data_dir + 'Bishayee Colony Counts 10.27.97-3.8.01.xlsx') \n",
    "print(wb.get_sheet_names())\n",
    "ws = wb.get_sheet_by_name('Sheet1')\n",
    "print(ws['A1'].value)\n",
    "rawData = []\n",
    "for i in range(4, 1366):\n",
    "    tmp = [ws['D' + str(i)].value, ws['E' + str(i)].value, ws['F' + str(i)].value]\n",
    "    if isinstance(tmp[0], (int, int)) & isinstance(tmp[1], (int, int)) & isinstance(tmp[2], (int, int)):\n",
    "        rawData.append(tmp)\n",
    "print(len(rawData))\n",
    "print(rawData[18])\n"
   ]
  },
  {
   "cell_type": "markdown",
   "metadata": {},
   "source": [
    "### Figure 1:"
   ]
  },
  {
   "cell_type": "code",
   "execution_count": 127,
   "metadata": {
    "collapsed": false
   },
   "outputs": [
    {
     "name": "stdout",
     "output_type": "stream",
     "text": [
      "1343\n"
     ]
    },
    {
     "data": {
      "image/png": "[encoded data removed]",
      "text/plain": [
       "<matplotlib.figure.Figure at 0x5cc05d0>"
      ]
     },
     "metadata": {},
     "output_type": "display_data"
    },
    {
     "name": "stdout",
     "output_type": "stream",
     "text": [
      "[ 0.     0.101  0.201  0.31   0.401  0.501  0.601  0.701  0.801  0.901\n",
      "  1.01 ]\n",
      "[ 0.02645114  0.05804555  0.06245408  0.09992652  0.44158707  0.13739897\n",
      "  0.06833211  0.05510654  0.03232917  0.01836885]\n"
     ]
    }
   ],
   "source": [
    "from statistics import mean\n",
    "import matplotlib.pyplot as plt\n",
    "import numpy as np\n",
    "\n",
    "sortData = rawData\n",
    "for i in range(len(sortData)):\n",
    "    sortData[i].sort()\n",
    "\n",
    "cleanData = [x for x in sortData if x[0] < x[2] - 1]\n",
    "\n",
    "print(len(cleanData))\n",
    "tmp = [(x[1] - x[0])*1.0/max(x[2] - x[0],1) for x in sortData]\n",
    "counts, bins, ignored = plt.hist(tmp, [0, .101, .201, .301, .401, .501, .601, .701, .801, .901, 1.01], rwidth=0.5, weights=np.zeros_like(tmp) + 1. / len(tmp))\n",
    "plt.show()\n",
    "print(bins)\n",
    "print(counts)"
   ]
  },
  {
   "cell_type": "markdown",
   "metadata": {},
   "source": [
    "** Unresolved issues: **\n",
    "* notice: must delete those with gap smaller than 2.\n",
    "* the figure looks a little bit different from (a), see 0.3 and 0.9\n",
    "* (b)"
   ]
  },
  {
   "cell_type": "markdown",
   "metadata": {},
   "source": [
    "### Table 1:"
   ]
  },
  {
   "cell_type": "code",
   "execution_count": 37,
   "metadata": {
    "collapsed": false
   },
   "outputs": [],
   "source": [
    "from scipy.stats import poisson\n",
    "import numpy as np"
   ]
  },
  {
   "cell_type": "code",
   "execution_count": 38,
   "metadata": {
    "collapsed": true
   },
   "outputs": [],
   "source": [
    "def calc_P(i):\n",
    "    P = 0\n",
    "    # N is the truncation number of Poisson\n",
    "    N = int(poisson.ppf(1 - 1e-9, i))\n",
    "    for j in range(2, N):\n",
    "        for k in range(j, N):\n",
    "            P += 6 * poisson.pmf(k - j, i) * poisson.pmf(k, i) * poisson.pmf(k - int(j/2), i)\n",
    "            # just to follow the usage in Yu's code, I add int in poisson.pmf(k - int(j/2), i),\n",
    "            # do we really need to round the number?\n",
    "            if j % 2 == 1:\n",
    "                P += 6 * poisson.pmf(k - j, i) * poisson.pmf(k, i) * poisson.pmf(k - int(j/2) - 1, i)\n",
    "    return P"
   ]
  },
  {
   "cell_type": "code",
   "execution_count": 47,
   "metadata": {
    "collapsed": false
   },
   "outputs": [
    {
     "name": "stdout",
     "output_type": "stream",
     "text": [
      "[0.26702986911340515, 0.38697538791651365, 0.40296908640372125, 0.39668662878008421, 0.3848230099341941, 0.37189059517633744, 0.35930388654896872, 0.34750551865000728, 0.33659691303691947, 0.32655474404486895, 0.31731236471387564, 0.30879197597554453, 0.30091738694121262, 0.29361874140237687, 0.2868338449147752, 0.28050807154138352, 0.27459371956229822, 0.26904920160819301, 0.2638382359158028, 0.25892910599811175, 0.2542940098871847, 0.24990850021598257, 0.2457510075333062, 0.24180243649550481, 0.23804582464974514]\n"
     ]
    }
   ],
   "source": [
    "lamMax  = 26\n",
    "P = [calc_P(i) for i in range(1, lamMax)]\n",
    "\n",
    "print(P)"
   ]
  },
  {
   "cell_type": "code",
   "execution_count": 78,
   "metadata": {
    "collapsed": false
   },
   "outputs": [],
   "source": [
    "# Write mid probability to txt\n",
    "P_to_txt = [[lam, P[lam-1]] for lam in range(1, lamMax)]\n",
    "output_dir = \"../outputs/\"\n",
    "thefile = open(output_dir + \"MidProb.txt\", 'w')\n",
    "for item in P_to_txt:\n",
    "    thefile.write('\\t'.join(map(repr, item)) + '\\n')"
   ]
  },
  {
   "cell_type": "markdown",
   "metadata": {},
   "source": [
    "** Reflection: **\n",
    "\n",
    "* Did not include the prob that small = medium = big and no justification.\n",
    "\n",
    "* Poisson distribution with same mean is not very convincing. Can be more non-parametric (bootstrap from other people's data)."
   ]
  },
  {
   "cell_type": "markdown",
   "metadata": {},
   "source": [
    "### Hypothesis testing I:"
   ]
  },
  {
   "cell_type": "code",
   "execution_count": null,
   "metadata": {
    "collapsed": true
   },
   "outputs": [],
   "source": []
  },
  {
   "cell_type": "code",
   "execution_count": 15,
   "metadata": {
    "collapsed": false
   },
   "outputs": [
    {
     "name": "stdout",
     "output_type": "stream",
     "text": [
      "2.85338419559e-12\n",
      "2.82052399667e-05\n"
     ]
    }
   ],
   "source": [
    "from scipy.stats import binom\n",
    "print(1 - binom.cdf(690 - 1, 1343, 0.42))\n",
    "print(1 - binom.cdf(109 - 1,  572, 0.13))"
   ]
  },
  {
   "cell_type": "markdown",
   "metadata": {},
   "source": [
    "** Reflection: **\n",
    "    \n",
    "* It is not reasonable to consider binomial: some experiments might be correlated. \n",
    "\n",
    "* It will be of interest to check the p-value of other people. What if it is significant as well?"
   ]
  }
 ],
 "metadata": {
  "kernelspec": {
   "display_name": "Python 3",
   "language": "python",
   "name": "python3"
  },
  "language_info": {
   "codemirror_mode": {
    "name": "ipython",
    "version": 3
   },
   "file_extension": ".py",
   "mimetype": "text/x-python",
   "name": "python",
   "nbconvert_exporter": "python",
   "pygments_lexer": "ipython3",
   "version": "3.5.1"
  }
 },
 "nbformat": 4,
 "nbformat_minor": 1
}
