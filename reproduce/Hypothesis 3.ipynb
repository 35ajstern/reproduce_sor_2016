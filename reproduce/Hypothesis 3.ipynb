{
 "cells": [
  {
   "cell_type": "code",
   "execution_count": 1,
   "metadata": {
    "collapsed": true
   },
   "outputs": [],
   "source": [
    "from __future__ import division, generators, absolute_import, print_function\n",
    "\n",
    "import numpy as np\n",
    "import scipy.stats"
   ]
  },
  {
   "cell_type": "markdown",
   "metadata": {},
   "source": [
    "# Read Data"
   ]
  },
  {
   "cell_type": "code",
   "execution_count": 2,
   "metadata": {
    "collapsed": false
   },
   "outputs": [
    {
     "name": "stdout",
     "output_type": "stream",
     "text": [
      "['Sheet1']\n",
      "Bishayee Colony Counts 128 experiments\n",
      "1361\n"
     ]
    }
   ],
   "source": [
    "from openpyxl import load_workbook\n",
    "data_dir = '../data/'\n",
    "wb = load_workbook(data_dir + 'Bishayee Colony Counts 10.27.97-3.8.01.xlsx') \n",
    "print(wb.get_sheet_names())\n",
    "ws = wb.get_sheet_by_name('Sheet1')\n",
    "print(ws['A1'].value)\n",
    "rawData = []\n",
    "for i in range(4, 1366):\n",
    "    tmp = [ws['D' + str(i)].value, ws['E' + str(i)].value, ws['F' + str(i)].value]\n",
    "    if isinstance(tmp[0], (int, int)) & isinstance(tmp[1], (int, int)) & isinstance(tmp[2], (int, int)):\n",
    "        rawData.append(tmp)\n",
    "print(len(rawData))"
   ]
  },
  {
   "cell_type": "code",
   "execution_count": 3,
   "metadata": {
    "collapsed": false
   },
   "outputs": [
    {
     "data": {
      "text/plain": [
       "0"
      ]
     },
     "execution_count": 3,
     "metadata": {},
     "output_type": "execute_result"
    }
   ],
   "source": [
    "# Check missing data\n",
    "sum([len(triple) != 3 for triple in rawData])"
   ]
  },
  {
   "cell_type": "markdown",
   "metadata": {},
   "source": [
    "# Read Mid-probability"
   ]
  },
  {
   "cell_type": "code",
   "execution_count": 4,
   "metadata": {
    "collapsed": true
   },
   "outputs": [],
   "source": [
    "output_dir = \"../outputs/\""
   ]
  },
  {
   "cell_type": "code",
   "execution_count": 5,
   "metadata": {
    "collapsed": false
   },
   "outputs": [],
   "source": [
    "midProb = np.loadtxt(output_dir + \"MidProb.txt\", delimiter=\"\\t\")"
   ]
  },
  {
   "cell_type": "code",
   "execution_count": 6,
   "metadata": {
    "collapsed": false,
    "scrolled": true
   },
   "outputs": [
    {
     "data": {
      "text/plain": [
       "(500, 2)"
      ]
     },
     "execution_count": 6,
     "metadata": {},
     "output_type": "execute_result"
    }
   ],
   "source": [
    "midProb.shape"
   ]
  },
  {
   "cell_type": "markdown",
   "metadata": {},
   "source": [
    "# Hypothesis III"
   ]
  },
  {
   "cell_type": "code",
   "execution_count": 7,
   "metadata": {
    "collapsed": false
   },
   "outputs": [],
   "source": [
    "sortData = rawData\n",
    "for i in range(len(sortData)):\n",
    "    sortData[i].sort()"
   ]
  },
  {
   "cell_type": "code",
   "execution_count": 8,
   "metadata": {
    "collapsed": false
   },
   "outputs": [
    {
     "name": "stdout",
     "output_type": "stream",
     "text": [
      "The number of mean containing triples: 263\n",
      "The number of triples: 1361\n",
      "The percentage of mean containing triples 0.19324026451138868\n"
     ]
    }
   ],
   "source": [
    "# whether the mid number is the mean of largest and smallest\n",
    "isMid = [triple[0] + triple[2] == 2 * triple[1] for triple in sortData]\n",
    "# Total # of obsetvation\n",
    "obsCount = len(isMid)\n",
    "# Number of mid number is the mean of largest and smallest\n",
    "isMidCount = sum(isMid)\n",
    "# Percentage\n",
    "isMidPct = isMidCount / obsCount\n",
    "\n",
    "print(\"The number of mean containing triples:\", isMidCount)\n",
    "print(\"The number of triples:\", obsCount)\n",
    "print(\"The percentage of mean containing triples\", isMidPct)"
   ]
  },
  {
   "cell_type": "markdown",
   "metadata": {},
   "source": [
    "* Note that the number of completed entry in the paper is 1343, and the number of mean containing triples is 690."
   ]
  },
  {
   "cell_type": "code",
   "execution_count": 9,
   "metadata": {
    "collapsed": false
   },
   "outputs": [
    {
     "name": "stderr",
     "output_type": "stream",
     "text": [
      "/Users/jorothygong/anaconda/lib/python3.5/site-packages/ipykernel/__main__.py:4: VisibleDeprecationWarning: using a non-integer number instead of an integer will result in an error in the future\n"
     ]
    }
   ],
   "source": [
    "# rounded mean triple as the estimate of lambda\n",
    "lamEst = np.rint(np.mean(rawData, axis=1))\n",
    "# probabiliy that the triple been randomly drawn it would contain its own mean\n",
    "probs = [midProb[i-1][1] for i in lamEst]"
   ]
  },
  {
   "cell_type": "code",
   "execution_count": 10,
   "metadata": {
    "collapsed": false,
    "scrolled": true
   },
   "outputs": [
    {
     "name": "stdout",
     "output_type": "stream",
     "text": [
      "The mean of poission binomial is 220.313684229\n",
      "The variance of poission binomial is 180.046603061\n",
      "The sd of poission binomial is 13.4181445461\n"
     ]
    }
   ],
   "source": [
    "# expectation and variance of poisson binomial\n",
    "mu = np.sum(probs)\n",
    "sigma2 = np.sum(p*(1-p) for p in probs)\n",
    "print(\"The mean of poission binomial is\", mu)\n",
    "print(\"The variance of poission binomial is\", sigma2)\n",
    "print(\"The sd of poission binomial is\", np.sqrt(sigma2))"
   ]
  },
  {
   "cell_type": "code",
   "execution_count": 11,
   "metadata": {
    "collapsed": false
   },
   "outputs": [
    {
     "name": "stdout",
     "output_type": "stream",
     "text": [
      "The statistic computed is 3.2185013079\n"
     ]
    }
   ],
   "source": [
    "# compute statistic for hypothesis 3\n",
    "stat3 = (isMidCount + 0.5 - mu) / np.sqrt(sigma2)\n",
    "print(\"The statistic computed is\", stat3)"
   ]
  },
  {
   "cell_type": "code",
   "execution_count": 12,
   "metadata": {
    "collapsed": false
   },
   "outputs": [
    {
     "name": "stdout",
     "output_type": "stream",
     "text": [
      "The p-value is  0.00224665268132\n"
     ]
    }
   ],
   "source": [
    "p_value3 = scipy.stats.norm.pdf(stat3)\n",
    "print(\"The p-value is \", p_value3)"
   ]
  },
  {
   "cell_type": "code",
   "execution_count": null,
   "metadata": {
    "collapsed": true
   },
   "outputs": [],
   "source": []
  }
 ],
 "metadata": {
  "kernelspec": {
   "display_name": "Python 3",
   "language": "python",
   "name": "python3"
  },
  "language_info": {
   "codemirror_mode": {
    "name": "ipython",
    "version": 3
   },
   "file_extension": ".py",
   "mimetype": "text/x-python",
   "name": "python",
   "nbconvert_exporter": "python",
   "pygments_lexer": "ipython3",
   "version": "3.5.1"
  }
 },
 "nbformat": 4,
 "nbformat_minor": 0
}
