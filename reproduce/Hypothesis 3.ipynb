{
 "cells": [
  {
   "cell_type": "code",
   "execution_count": 1,
   "metadata": {
    "collapsed": true
   },
   "outputs": [],
   "source": [
    "from __future__ import division, generators, absolute_import, print_function\n",
    "\n",
    "import numpy as np\n",
    "import scipy.stats\n",
    "from openpyxl import load_workbook\n",
    "\n",
    "data_dir = '../data/'"
   ]
  },
  {
   "cell_type": "markdown",
   "metadata": {},
   "source": [
    "# Read Data"
   ]
  },
  {
   "cell_type": "code",
   "execution_count": 113,
   "metadata": {
    "collapsed": false
   },
   "outputs": [],
   "source": [
    "# Code from Hue\n",
    "# colony RTS\n",
    "\n",
    "wb = load_workbook(data_dir + 'Bishayee Colony Counts 10.27.97-3.8.01.xlsx')\n",
    "ws = wb.get_sheet_by_name('Sheet1')\n",
    "rts_colony = []\n",
    "for i in range(4, 1366):\n",
    "    tmp = [ws['D' + str(i)].value, \n",
    "           ws['E' + str(i)].value, \n",
    "           ws['F' + str(i)].value]\n",
    "    if isinstance(tmp[0], (int, int)) & \\\n",
    "    isinstance(tmp[1], (int, int)) & \\\n",
    "    isinstance(tmp[2], (int, int)):\n",
    "        rts_colony.append(tmp)"
   ]
  },
  {
   "cell_type": "code",
   "execution_count": 114,
   "metadata": {
    "collapsed": false
   },
   "outputs": [],
   "source": [
    "# Code from Hue\n",
    "# colony other investigators in the lab\n",
    "\n",
    "wb = load_workbook(data_dir + 'Other Investigators in Lab.Colony Counts.4.23.92-11.27.02.xlsx')\n",
    "ws = wb.get_sheet_by_name('Sheet1')\n",
    "inv_colony = []\n",
    "for i in range(3, 626):\n",
    "    tmp = [ws['D' + str(i)].value, \n",
    "           ws['E' + str(i)].value, \n",
    "           ws['F' + str(i)].value]\n",
    "    if isinstance(tmp[0], (int, int)) & \\\n",
    "    isinstance(tmp[1], (int, int)) & \\\n",
    "    isinstance(tmp[2], (int, int)):\n",
    "        inv_colony.append(tmp)"
   ]
  },
  {
   "cell_type": "code",
   "execution_count": 115,
   "metadata": {
    "collapsed": true
   },
   "outputs": [],
   "source": [
    "# Code from Hue\n",
    "# colony outside lab\n",
    "\n",
    "wb = load_workbook(data_dir + 'Outside Lab 3.Colony Counts.2.4.10-5.21.12.xlsx')\n",
    "ws = wb.get_sheet_by_name('Sheet1')\n",
    "lab_colony = []\n",
    "for i in range(3, 53):\n",
    "    tmp = [ws['B' + str(i)].value, \n",
    "           ws['C' + str(i)].value, \n",
    "           ws['D' + str(i)].value]\n",
    "    if isinstance(tmp[0], (int, int)) & \\\n",
    "    isinstance(tmp[1], (int, int)) & \\\n",
    "    isinstance(tmp[2], (int, int)):\n",
    "        lab_colony.append(tmp)"
   ]
  },
  {
   "cell_type": "code",
   "execution_count": 116,
   "metadata": {
    "collapsed": false
   },
   "outputs": [],
   "source": [
    "# Code from Hue\n",
    "# coulter RTS\n",
    "\n",
    "wb = load_workbook(data_dir + 'Bishayee Coulter Counts.10.20.97-7.16.01.xlsx')\n",
    "ws = wb.get_sheet_by_name('Sheet1')\n",
    "rts_coulter = []\n",
    "for i in range(3, 1732):\n",
    "    tmp = [ws['C' + str(i)].value, \n",
    "           ws['D' + str(i)].value, \n",
    "           ws['E' + str(i)].value]\n",
    "    if isinstance(tmp[0], (int, int)) & \\\n",
    "    isinstance(tmp[1], (int, int)) & \\\n",
    "    isinstance(tmp[2], (int, int)):\n",
    "        rts_coulter.append(tmp)"
   ]
  },
  {
   "cell_type": "code",
   "execution_count": 117,
   "metadata": {
    "collapsed": false
   },
   "outputs": [],
   "source": [
    "# Code from Hue\n",
    "# coulter other investigators\n",
    "\n",
    "wb = load_workbook(data_dir + 'Bishayee Coulter Counts.10.20.97-7.16.01.xlsx')\n",
    "ws = wb.get_sheet_by_name('Sheet1')\n",
    "inv_coulter = []\n",
    "for i in range(3, 1011):\n",
    "    tmp = [ws['C' + str(i)].value, \n",
    "           ws['D' + str(i)].value, \n",
    "           ws['E' + str(i)].value]\n",
    "    if isinstance(tmp[0], (int, int)) & \\\n",
    "    isinstance(tmp[1], (int, int)) & \\\n",
    "    isinstance(tmp[2], (int, int)):\n",
    "        inv_coulter.append(tmp)"
   ]
  },
  {
   "cell_type": "code",
   "execution_count": 118,
   "metadata": {
    "collapsed": true
   },
   "outputs": [],
   "source": [
    "# Code from Hue\n",
    "# coulter other lab1\n",
    "\n",
    "wb = load_workbook(data_dir + 'Outside Lab 1.Coulter Counts.6.7.91-4.9.99.xlsx')\n",
    "ws = wb.get_sheet_by_name('Sheet1')\n",
    "lab1_coulter = []\n",
    "for i in range(2, 211):\n",
    "    tmp = [ws['B' + str(i)].value, \n",
    "           ws['C' + str(i)].value, \n",
    "           ws['D' + str(i)].value]\n",
    "    if isinstance(tmp[0], (int, int)) & \\\n",
    "    isinstance(tmp[1], (int, int)) & \\\n",
    "    isinstance(tmp[2], (int, int)):\n",
    "        lab1_coulter.append(tmp)"
   ]
  },
  {
   "cell_type": "code",
   "execution_count": 119,
   "metadata": {
    "collapsed": true
   },
   "outputs": [],
   "source": [
    "# Code from Hue\n",
    "# coulter other lab\n",
    "\n",
    "wb = load_workbook(data_dir + 'Outside Lab 2.Coulter Counts.6.6.08-7.7.08.xlsx')\n",
    "ws = wb.get_sheet_by_name('Sheet1')\n",
    "lab2_coulter = []\n",
    "for i in range(3, 123):\n",
    "    tmp = [ws['B' + str(i)].value, \n",
    "           ws['C' + str(i)].value, \n",
    "           ws['D' + str(i)].value]\n",
    "    if isinstance(tmp[0], (int, int)) & \\\n",
    "    isinstance(tmp[1], (int, int)) & \\\n",
    "    isinstance(tmp[2], (int, int)):\n",
    "        lab2_coulter.append(tmp)"
   ]
  },
  {
   "cell_type": "markdown",
   "metadata": {},
   "source": [
    "# Read Mid-probability"
   ]
  },
  {
   "cell_type": "code",
   "execution_count": 5,
   "metadata": {
    "collapsed": true
   },
   "outputs": [],
   "source": [
    "output_dir = \"../outputs/\""
   ]
  },
  {
   "cell_type": "code",
   "execution_count": 6,
   "metadata": {
    "collapsed": false
   },
   "outputs": [],
   "source": [
    "midProb = np.loadtxt(output_dir + \"MidProb.txt\", delimiter=\"\\t\")"
   ]
  },
  {
   "cell_type": "code",
   "execution_count": 7,
   "metadata": {
    "collapsed": false,
    "scrolled": true
   },
   "outputs": [
    {
     "data": {
      "text/plain": [
       "(2129, 2)"
      ]
     },
     "execution_count": 7,
     "metadata": {},
     "output_type": "execute_result"
    }
   ],
   "source": [
    "midProb.shape"
   ]
  },
  {
   "cell_type": "markdown",
   "metadata": {},
   "source": [
    "# Hypothesis III"
   ]
  },
  {
   "cell_type": "code",
   "execution_count": 91,
   "metadata": {
    "collapsed": false
   },
   "outputs": [],
   "source": [
    "def hypothesis_3(sortData):\n",
    "    # whether the mid number is the mean of largest and smallest\n",
    "    isMid = [triple[0] + triple[2] == 2 * triple[1] or \n",
    "             triple[0] + triple[2] == 2 * triple[1] - 1 or\n",
    "             triple[0] + triple[2] == 2 * triple[1] + 1 \n",
    "             for triple in sortData]\n",
    "    print(\"The number of mean containing triples:\", sum(isMid))\n",
    "    print(\"The number of triples:\", len(isMid))\n",
    "    print(\"The percentage of mean containing triples\", sum(isMid) / len(isMid))\n",
    "    \n",
    "    # rounded mean triple as the estimate of lambda\n",
    "    lamEst = np.mean(sortData, axis=1)\n",
    "    # probabiliy that the triple been randomly drawn it would contain its own mean\n",
    "    lams = np.array([i[0] for i in midProb])\n",
    "    probs = [midProb[np.argmin(abs(lams-i))][1] for i in lamEst]\n",
    "    \n",
    "#     # rounded mean triple as the estimate of lambda\n",
    "#     lamEst = np.rint(np.mean(sortData, axis=1))\n",
    "#     # probabiliy that the triple been randomly drawn it would contain its own mean\n",
    "#     probs = [midProb[int(i)-1][1] for i in lamEst]\n",
    "    \n",
    "    # expectation and variance of poisson binomial\n",
    "    mu = np.sum(probs)\n",
    "    sigma2 = np.sum(p*(1-p) for p in probs)\n",
    "    print(\"The mean of poission binomial is\", mu)\n",
    "    print(\"The variance of poission binomial is\", sigma2)\n",
    "    print(\"The sd of poission binomial is\", np.sqrt(sigma2))\n",
    "    \n",
    "    # compute statistic for hypothesis 3\n",
    "    stat3 = (sum(isMid) - 0.5 - mu) / np.sqrt(sigma2)\n",
    "    print(\"The statistic computed is\", stat3)\n",
    "    \n",
    "    p_value3 = 1 - scipy.stats.norm.cdf(stat3)\n",
    "    print(\"The p-value is \", p_value3)"
   ]
  },
  {
   "cell_type": "markdown",
   "metadata": {},
   "source": [
    "## RTS colony"
   ]
  },
  {
   "cell_type": "code",
   "execution_count": 92,
   "metadata": {
    "collapsed": false
   },
   "outputs": [
    {
     "data": {
      "text/plain": [
       "566"
      ]
     },
     "execution_count": 92,
     "metadata": {},
     "output_type": "execute_result"
    }
   ],
   "source": [
    "sort_rts_colony = rts_colony\n",
    "for i in range(len(sort_rts_colony)):\n",
    "    sort_rts_colony[i].sort()\n",
    "    \n",
    "# filter out data with gap less or equal than 1\n",
    "filtered_rts_colony = [triple for triple in sort_rts_colony \n",
    "                       if triple[2] - triple[0] >= 2]\n",
    "len(filtered_rts_colony)"
   ]
  },
  {
   "cell_type": "code",
   "execution_count": 93,
   "metadata": {
    "collapsed": false
   },
   "outputs": [
    {
     "name": "stdout",
     "output_type": "stream",
     "text": [
      "The number of mean containing triples: 74\n",
      "The number of triples: 566\n",
      "The percentage of mean containing triples 0.13074204946996468\n",
      "The mean of poission binomial is 32.6129810062\n",
      "The variance of poission binomial is 30.6269906854\n",
      "The sd of poission binomial is 5.53416576237\n",
      "The statistic computed is 7.38810884051\n",
      "The p-value is  7.44959649523e-14\n"
     ]
    }
   ],
   "source": [
    "hypothesis_3(sort_rts_colony)"
   ]
  },
  {
   "cell_type": "code",
   "execution_count": 94,
   "metadata": {
    "collapsed": false
   },
   "outputs": [
    {
     "name": "stdout",
     "output_type": "stream",
     "text": [
      "The number of mean containing triples: 74\n",
      "The number of triples: 566\n",
      "The percentage of mean containing triples 0.13074204946996468\n",
      "The mean of poission binomial is 32.6129810062\n",
      "The variance of poission binomial is 30.6269906854\n",
      "The sd of poission binomial is 5.53416576237\n",
      "The statistic computed is 7.38810884051\n",
      "The p-value is  7.44959649523e-14\n"
     ]
    }
   ],
   "source": [
    "hypothesis_3(filtered_rts_colony)"
   ]
  },
  {
   "cell_type": "markdown",
   "metadata": {
    "collapsed": true
   },
   "source": [
    "## other investigators in the lab colony"
   ]
  },
  {
   "cell_type": "code",
   "execution_count": 95,
   "metadata": {
    "collapsed": false
   },
   "outputs": [
    {
     "data": {
      "text/plain": [
       "578"
      ]
     },
     "execution_count": 95,
     "metadata": {},
     "output_type": "execute_result"
    }
   ],
   "source": [
    "sort_inv_colony = inv_colony\n",
    "for i in range(len(sort_inv_colony)):\n",
    "    sort_inv_colony[i].sort()\n",
    "    \n",
    "# filter out data with gap less or equal than 1\n",
    "filtered_inv_colony = [triple for triple in sort_inv_colony \n",
    "                       if triple[2] - triple[0] >= 2]\n",
    "len(filtered_inv_colony)"
   ]
  },
  {
   "cell_type": "code",
   "execution_count": 96,
   "metadata": {
    "collapsed": false
   },
   "outputs": [
    {
     "name": "stdout",
     "output_type": "stream",
     "text": [
      "The number of mean containing triples: 128\n",
      "The number of triples: 597\n",
      "The percentage of mean containing triples 0.21440536013400335\n",
      "The mean of poission binomial is 108.501276257\n",
      "The variance of poission binomial is 85.7242876462\n",
      "The sd of poission binomial is 9.25874114803\n",
      "The statistic computed is 2.05197698475\n",
      "The p-value is  0.0200859495977\n"
     ]
    }
   ],
   "source": [
    "hypothesis_3(sort_inv_colony)"
   ]
  },
  {
   "cell_type": "code",
   "execution_count": 97,
   "metadata": {
    "collapsed": false
   },
   "outputs": [
    {
     "name": "stdout",
     "output_type": "stream",
     "text": [
      "The number of mean containing triples: 109\n",
      "The number of triples: 578\n",
      "The percentage of mean containing triples 0.18858131487889274\n",
      "The mean of poission binomial is 103.404566521\n",
      "The variance of poission binomial is 82.113798687\n",
      "The sd of poission binomial is 9.06166644095\n",
      "The statistic computed is 0.562306449017\n",
      "The p-value is  0.286953622597\n"
     ]
    }
   ],
   "source": [
    "hypothesis_3(filtered_inv_colony)"
   ]
  },
  {
   "cell_type": "markdown",
   "metadata": {},
   "source": [
    "## outside lab colony"
   ]
  },
  {
   "cell_type": "code",
   "execution_count": 98,
   "metadata": {
    "collapsed": false
   },
   "outputs": [
    {
     "data": {
      "text/plain": [
       "49"
      ]
     },
     "execution_count": 98,
     "metadata": {},
     "output_type": "execute_result"
    }
   ],
   "source": [
    "sort_lab_colony = lab_colony\n",
    "for i in range(len(sort_lab_colony)):\n",
    "    sort_lab_colony[i].sort()\n",
    "    \n",
    "# filter out data with gap less or equal than 1\n",
    "filtered_lab_colony = [triple for triple in sort_lab_colony \n",
    "                       if triple[2] - triple[0] >= 2]\n",
    "len(filtered_lab_colony)"
   ]
  },
  {
   "cell_type": "code",
   "execution_count": 99,
   "metadata": {
    "collapsed": false
   },
   "outputs": [
    {
     "name": "stdout",
     "output_type": "stream",
     "text": [
      "The number of mean containing triples: 4\n",
      "The number of triples: 50\n",
      "The percentage of mean containing triples 0.08\n",
      "The mean of poission binomial is 7.9325334413\n",
      "The variance of poission binomial is 6.64841869324\n",
      "The sd of poission binomial is 2.57845277119\n",
      "The statistic computed is -1.719067144\n",
      "The p-value is  0.957198926702\n"
     ]
    }
   ],
   "source": [
    "hypothesis_3(sort_lab_colony)"
   ]
  },
  {
   "cell_type": "code",
   "execution_count": 100,
   "metadata": {
    "collapsed": false
   },
   "outputs": [
    {
     "name": "stdout",
     "output_type": "stream",
     "text": [
      "The number of mean containing triples: 3\n",
      "The number of triples: 49\n",
      "The percentage of mean containing triples 0.061224489795918366\n",
      "The mean of poission binomial is 7.78826919258\n",
      "The variance of poission binomial is 6.52496661798\n",
      "The sd of poission binomial is 2.55440142068\n",
      "The statistic computed is -2.07025769316\n",
      "The p-value is  0.980785890428\n"
     ]
    }
   ],
   "source": [
    "hypothesis_3(filtered_lab_colony)"
   ]
  },
  {
   "cell_type": "markdown",
   "metadata": {},
   "source": [
    "## RTS coulter"
   ]
  },
  {
   "cell_type": "code",
   "execution_count": 101,
   "metadata": {
    "collapsed": false
   },
   "outputs": [
    {
     "data": {
      "text/plain": [
       "1726"
      ]
     },
     "execution_count": 101,
     "metadata": {},
     "output_type": "execute_result"
    }
   ],
   "source": [
    "sort_rts_coulter = rts_coulter\n",
    "for i in range(len(sort_rts_coulter)):\n",
    "    sort_rts_coulter[i].sort()\n",
    "    \n",
    "# filter out data with gap less or equal than 1\n",
    "filtered_rts_coulter = [triple for triple in sort_rts_coulter \n",
    "                       if triple[2] - triple[0] >= 2]\n",
    "len(filtered_rts_coulter)"
   ]
  },
  {
   "cell_type": "code",
   "execution_count": 102,
   "metadata": {
    "collapsed": false
   },
   "outputs": [
    {
     "name": "stdout",
     "output_type": "stream",
     "text": [
      "The number of mean containing triples: 177\n",
      "The number of triples: 1727\n",
      "The percentage of mean containing triples 0.10248986682107701\n",
      "The mean of poission binomial is 98.4320349563\n",
      "The variance of poission binomial is 92.4626257491\n",
      "The sd of poission binomial is 9.61574883975\n",
      "The statistic computed is 8.11876083129\n",
      "The p-value is  2.22044604925e-16\n"
     ]
    }
   ],
   "source": [
    "hypothesis_3(sort_rts_coulter)"
   ]
  },
  {
   "cell_type": "code",
   "execution_count": 103,
   "metadata": {
    "collapsed": false
   },
   "outputs": [
    {
     "name": "stdout",
     "output_type": "stream",
     "text": [
      "The number of mean containing triples: 176\n",
      "The number of triples: 1726\n",
      "The percentage of mean containing triples 0.10196987253765932\n",
      "The mean of poission binomial is 98.3677483877\n",
      "The variance of poission binomial is 92.4024719434\n",
      "The sd of poission binomial is 9.61262045144\n",
      "The statistic computed is 8.02406086893\n",
      "The p-value is  5.55111512313e-16\n"
     ]
    }
   ],
   "source": [
    "hypothesis_3(filtered_rts_coulter)"
   ]
  },
  {
   "cell_type": "markdown",
   "metadata": {},
   "source": [
    "## other investigators coulter"
   ]
  },
  {
   "cell_type": "code",
   "execution_count": 120,
   "metadata": {
    "collapsed": false
   },
   "outputs": [
    {
     "data": {
      "text/plain": [
       "1006"
      ]
     },
     "execution_count": 120,
     "metadata": {},
     "output_type": "execute_result"
    }
   ],
   "source": [
    "sort_inv_coulter = inv_coulter\n",
    "for i in range(len(sort_inv_coulter)):\n",
    "    sort_inv_coulter[i].sort()\n",
    "    \n",
    "# filter out data with gap less or equal than 1\n",
    "filtered_inv_coulter = [triple for triple in sort_inv_coulter \n",
    "                       if triple[2] - triple[0] >= 2]\n",
    "len(filtered_inv_coulter)"
   ]
  },
  {
   "cell_type": "code",
   "execution_count": 121,
   "metadata": {
    "collapsed": false
   },
   "outputs": [
    {
     "name": "stdout",
     "output_type": "stream",
     "text": [
      "The number of mean containing triples: 84\n",
      "The number of triples: 1007\n",
      "The percentage of mean containing triples 0.08341608738828203\n",
      "The mean of poission binomial is 58.3344848997\n",
      "The variance of poission binomial is 54.8052693493\n",
      "The sd of poission binomial is 7.40305810793\n",
      "The statistic computed is 3.39934047976\n",
      "The p-value is  0.000337742850935\n"
     ]
    }
   ],
   "source": [
    "hypothesis_3(sort_inv_coulter)"
   ]
  },
  {
   "cell_type": "code",
   "execution_count": 122,
   "metadata": {
    "collapsed": false
   },
   "outputs": [
    {
     "name": "stdout",
     "output_type": "stream",
     "text": [
      "The number of mean containing triples: 83\n",
      "The number of triples: 1006\n",
      "The percentage of mean containing triples 0.08250497017892644\n",
      "The mean of poission binomial is 58.2701983311\n",
      "The variance of poission binomial is 54.7451155436\n",
      "The sd of poission binomial is 7.39899422514\n",
      "The statistic computed is 3.27474261118\n",
      "The p-value is  0.000528791419832\n"
     ]
    }
   ],
   "source": [
    "hypothesis_3(filtered_inv_coulter)"
   ]
  },
  {
   "cell_type": "markdown",
   "metadata": {},
   "source": [
    "## other lab1 coulter"
   ]
  },
  {
   "cell_type": "code",
   "execution_count": 107,
   "metadata": {
    "collapsed": false
   },
   "outputs": [
    {
     "data": {
      "text/plain": [
       "97"
      ]
     },
     "execution_count": 107,
     "metadata": {},
     "output_type": "execute_result"
    }
   ],
   "source": [
    "sort_lab1_coulter = lab1_coulter\n",
    "for i in range(len(sort_lab1_coulter)):\n",
    "    sort_lab1_coulter[i].sort()\n",
    "    \n",
    "# filter out data with gap less or equal than 1\n",
    "filtered_lab1_coulter = [triple for triple in sort_lab1_coulter \n",
    "                       if triple[2] - triple[0] >= 2]\n",
    "len(filtered_lab1_coulter)"
   ]
  },
  {
   "cell_type": "code",
   "execution_count": 108,
   "metadata": {
    "collapsed": false
   },
   "outputs": [
    {
     "name": "stdout",
     "output_type": "stream",
     "text": [
      "The number of mean containing triples: 0\n",
      "The number of triples: 97\n",
      "The percentage of mean containing triples 0.0\n",
      "The mean of poission binomial is 4.43035089299\n",
      "The variance of poission binomial is 4.13713642079\n",
      "The sd of poission binomial is 2.03399518701\n",
      "The statistic computed is -2.42397372642\n",
      "The p-value is  0.992324141948\n"
     ]
    }
   ],
   "source": [
    "hypothesis_3(sort_lab1_coulter)"
   ]
  },
  {
   "cell_type": "code",
   "execution_count": 109,
   "metadata": {
    "collapsed": false
   },
   "outputs": [
    {
     "name": "stdout",
     "output_type": "stream",
     "text": [
      "The number of mean containing triples: 0\n",
      "The number of triples: 97\n",
      "The percentage of mean containing triples 0.0\n",
      "The mean of poission binomial is 4.43035089299\n",
      "The variance of poission binomial is 4.13713642079\n",
      "The sd of poission binomial is 2.03399518701\n",
      "The statistic computed is -2.42397372642\n",
      "The p-value is  0.992324141948\n"
     ]
    }
   ],
   "source": [
    "hypothesis_3(filtered_lab1_coulter)"
   ]
  },
  {
   "cell_type": "markdown",
   "metadata": {},
   "source": [
    "## ## other lab2 coulter"
   ]
  },
  {
   "cell_type": "code",
   "execution_count": 110,
   "metadata": {
    "collapsed": false
   },
   "outputs": [
    {
     "data": {
      "text/plain": [
       "120"
      ]
     },
     "execution_count": 110,
     "metadata": {},
     "output_type": "execute_result"
    }
   ],
   "source": [
    "sort_lab2_coulter = lab2_coulter\n",
    "for i in range(len(sort_lab2_coulter)):\n",
    "    sort_lab2_coulter[i].sort()\n",
    "    \n",
    "# filter out data with gap less or equal than 1\n",
    "filtered_lab2_coulter = [triple for triple in sort_lab2_coulter \n",
    "                       if triple[2] - triple[0] >= 2]\n",
    "len(filtered_lab2_coulter)"
   ]
  },
  {
   "cell_type": "code",
   "execution_count": 111,
   "metadata": {
    "collapsed": false
   },
   "outputs": [
    {
     "name": "stdout",
     "output_type": "stream",
     "text": [
      "The number of mean containing triples: 1\n",
      "The number of triples: 120\n",
      "The percentage of mean containing triples 0.008333333333333333\n",
      "The mean of poission binomial is 3.75292076097\n",
      "The variance of poission binomial is 3.60027171971\n",
      "The sd of poission binomial is 1.89743819918\n",
      "The statistic computed is -1.71437507813\n",
      "The p-value is  0.956770068722\n"
     ]
    }
   ],
   "source": [
    "hypothesis_3(sort_lab2_coulter)"
   ]
  },
  {
   "cell_type": "code",
   "execution_count": 112,
   "metadata": {
    "collapsed": false
   },
   "outputs": [
    {
     "name": "stdout",
     "output_type": "stream",
     "text": [
      "The number of mean containing triples: 1\n",
      "The number of triples: 120\n",
      "The percentage of mean containing triples 0.008333333333333333\n",
      "The mean of poission binomial is 3.75292076097\n",
      "The variance of poission binomial is 3.60027171971\n",
      "The sd of poission binomial is 1.89743819918\n",
      "The statistic computed is -1.71437507813\n",
      "The p-value is  0.956770068722\n"
     ]
    }
   ],
   "source": [
    "hypothesis_3(filtered_lab2_coulter)"
   ]
  },
  {
   "cell_type": "code",
   "execution_count": null,
   "metadata": {
    "collapsed": true
   },
   "outputs": [],
   "source": []
  }
 ],
 "metadata": {
  "kernelspec": {
   "display_name": "Python 3",
   "language": "python",
   "name": "python3"
  },
  "language_info": {
   "codemirror_mode": {
    "name": "ipython",
    "version": 3
   },
   "file_extension": ".py",
   "mimetype": "text/x-python",
   "name": "python",
   "nbconvert_exporter": "python",
   "pygments_lexer": "ipython3",
   "version": "3.5.1"
  }
 },
 "nbformat": 4,
 "nbformat_minor": 0
}
