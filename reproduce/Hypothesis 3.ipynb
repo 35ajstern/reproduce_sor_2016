{
 "cells": [
  {
   "cell_type": "code",
   "execution_count": 1,
   "metadata": {
    "collapsed": true
   },
   "outputs": [],
   "source": [
    "from __future__ import division, generators, absolute_import, print_function\n",
    "\n",
    "import numpy as np\n",
    "import scipy.stats\n",
    "import pandas as pd\n",
    "\n",
    "data_dir = '../data/'"
   ]
  },
  {
   "cell_type": "markdown",
   "metadata": {},
   "source": [
    "# Read Data"
   ]
  },
  {
   "cell_type": "code",
   "execution_count": 2,
   "metadata": {
    "collapsed": false
   },
   "outputs": [],
   "source": [
    "def read_data(data_dir, file_name, skiprows, triple_col):\n",
    "    \"\"\"\n",
    "    This function reads data from xlsx file, and remove triples with \n",
    "    at least one missing read counts in the triple\n",
    "    \n",
    "    Parameters\n",
    "    ----------\n",
    "        data_dir: string\n",
    "            data directory\n",
    "        file_name: string\n",
    "            xlsx file name\n",
    "        skiprows: int\n",
    "            rows to skip at the beginning\n",
    "        triple_col: list of string\n",
    "            a list of length 3, the column name for the triple in the xlsx file\n",
    "    \n",
    "    Returns\n",
    "    -------\n",
    "        df: pandas.core.frame.DataFrame\n",
    "            pandas data frame with triple column named col1, col2 and col3\n",
    "        filtered_df: pandas.core.frame.DataFrame\n",
    "            pandas data frame with triple column named col1, col2 and col3,\n",
    "            each triple is sorted by increasing order,\n",
    "            triples with gap less than or equal to 1 are filtered out\n",
    "    \"\"\"\n",
    "    df = pd.read_excel(data_dir + file_name, skiprows = skiprows)\n",
    "    df[triple_col] = df[triple_col].apply(\n",
    "        lambda x: pd.to_numeric(x, errors='coerce'))\n",
    "    nan_index = df[triple_col].apply(np.isnan).any(1).nonzero()[0]\n",
    "    col_name = ['col1', 'col2', 'col3']\n",
    "    df = df.rename(columns = {triple_col[0]: col_name[0],\n",
    "                              triple_col[1]: col_name[1],\n",
    "                              triple_col[2]: col_name[2]})\n",
    "    df = df.drop(df.index[nan_index])\n",
    "    df = df.reset_index(drop=True)\n",
    "    \n",
    "    # sort each triple by increasing order\n",
    "    filtered_df = df.copy(deep=True)\n",
    "    filtered_df[col_name] = filtered_df[col_name].apply(np.sort, axis = 1)\n",
    "    \n",
    "    # filter out the triples with gap less than or equal to 1\n",
    "    complete_index = filtered_df[col_name].apply(\n",
    "        lambda x: x.col3 - x.col1 <=1, axis=1).nonzero()[0]\n",
    "    filtered_df = filtered_df.drop(filtered_df.index[complete_index])\n",
    "    filtered_df = filtered_df.reset_index(drop=True)\n",
    "    \n",
    "    return df, filtered_df"
   ]
  },
  {
   "cell_type": "code",
   "execution_count": 3,
   "metadata": {
    "collapsed": false
   },
   "outputs": [],
   "source": [
    "# colony data: RTS\n",
    "rts_colony, filtered_rts_colony = read_data(\n",
    "    data_dir, 'Bishayee Colony Counts 10.27.97-3.8.01.xlsx', \n",
    "    skiprows=2, triple_col=['col1', 'col2', 'col3'])\n",
    "\n",
    "# colony data: other invectigators in the lab\n",
    "inv_colony, filtered_inv_colony = read_data(\n",
    "    data_dir, 'Other Investigators in Lab.Colony Counts.4.23.92-11.27.02.xlsx', \n",
    "    skiprows=1, triple_col=['col1', 'col2', 'col3'])\n",
    "\n",
    "# colony data: outside lab\n",
    "lab_colony, filtered_lab_colony = read_data(\n",
    "    data_dir, 'Outside Lab 3.Colony Counts.2.4.10-5.21.12.xlsx', \n",
    "    skiprows=1, triple_col=['c1', 'c2', 'c3'])"
   ]
  },
  {
   "cell_type": "code",
   "execution_count": 4,
   "metadata": {
    "collapsed": true
   },
   "outputs": [],
   "source": [
    "# coulter data: RTS\n",
    "rts_coulter, filtered_rts_coulter = read_data(\n",
    "    data_dir, 'Bishayee Coulter Counts.10.20.97-7.16.01.xlsx', \n",
    "    skiprows=1, triple_col=['Count 1', 'Count 2', 'Count 3'])\n",
    "\n",
    "# coulter data: other invectigators in the lab\n",
    "inv_coulter, filtered_inv_coulter = read_data(\n",
    "    data_dir, 'Other Investigators in Lab.Coulter Counts.4.15.92-5.21.05.xlsx', \n",
    "    skiprows=1, triple_col=['Coul 1', 'Coul 2', 'Coul 3'])\n",
    "\n",
    "# coulter data: outside lab1\n",
    "lab1_coulter, filtered_lab1_coulter = read_data(\n",
    "    data_dir, 'Outside Lab 1.Coulter Counts.6.7.91-4.9.99.xlsx', \n",
    "    skiprows=0, triple_col=['Unnamed: 1', 'Unnamed: 2', 'Unnamed: 3'])\n",
    "\n",
    "# coulter data: outside lab2\n",
    "lab2_coulter, filtered_lab2_coulter = read_data(\n",
    "    data_dir, 'Outside Lab 2.Coulter Counts.6.6.08-7.7.08.xlsx', \n",
    "    skiprows=1, triple_col=['Count 1', 'Count 2', 'Count 3'])"
   ]
  },
  {
   "cell_type": "code",
   "execution_count": 5,
   "metadata": {
    "collapsed": false
   },
   "outputs": [
    {
     "name": "stdout",
     "output_type": "stream",
     "text": [
      "Number of triples in RTS colony data:  1361 (after filtering: 1343 )\n",
      "Number of triples in other invectigators colony data:  597 (after filtering: 578 )\n",
      "Number of triples in outside lab colony data:  50 (after filtering: 49 )\n",
      "Number of triples in RTS coulter data:  1727 (after filtering: 1726 )\n",
      "Number of triples in other invectigators coulter data:  929 (after filtering: 929 )\n",
      "Number of triples in outside lab 1 coulter data:  97 (after filtering: 97 )\n",
      "Number of triples in outside lab 2 coulter data:  120 (after filtering: 120 )\n"
     ]
    }
   ],
   "source": [
    "print(\"Number of triples in RTS colony data: \", rts_colony.shape[0], \n",
    "      \"(after filtering:\", filtered_rts_colony.shape[0], \")\")\n",
    "print(\"Number of triples in other invectigators colony data: \", inv_colony.shape[0],\n",
    "      \"(after filtering:\", filtered_inv_colony.shape[0], \")\")\n",
    "print(\"Number of triples in outside lab colony data: \", lab_colony.shape[0],\n",
    "      \"(after filtering:\", filtered_lab_colony.shape[0], \")\")\n",
    "print(\"Number of triples in RTS coulter data: \", rts_coulter.shape[0],\n",
    "      \"(after filtering:\", filtered_rts_coulter.shape[0], \")\")\n",
    "print(\"Number of triples in other invectigators coulter data: \", inv_coulter.shape[0],\n",
    "      \"(after filtering:\", filtered_inv_coulter.shape[0], \")\")\n",
    "print(\"Number of triples in outside lab 1 coulter data: \", lab1_coulter.shape[0],\n",
    "      \"(after filtering:\", filtered_lab1_coulter.shape[0], \")\")\n",
    "print(\"Number of triples in outside lab 2 coulter data: \", lab2_coulter.shape[0],\n",
    "      \"(after filtering:\", filtered_lab2_coulter.shape[0], \")\")"
   ]
  },
  {
   "cell_type": "markdown",
   "metadata": {},
   "source": [
    "# Read Mid-probability table"
   ]
  },
  {
   "cell_type": "code",
   "execution_count": 6,
   "metadata": {
    "collapsed": false
   },
   "outputs": [
    {
     "data": {
      "text/plain": [
       "(2129, 2)"
      ]
     },
     "execution_count": 6,
     "metadata": {},
     "output_type": "execute_result"
    }
   ],
   "source": [
    "# read the mid probability table from output directory\n",
    "# mid probability table: the mid-containing probability for different \n",
    "# values of lambdas\n",
    "output_dir = \"../outputs/\"\n",
    "midProb = np.loadtxt(output_dir + \"MidProb.txt\", delimiter=\"\\t\")\n",
    "midProb.shape"
   ]
  },
  {
   "cell_type": "markdown",
   "metadata": {},
   "source": [
    "# Hypothesis III"
   ]
  },
  {
   "cell_type": "code",
   "execution_count": 7,
   "metadata": {
    "collapsed": false
   },
   "outputs": [],
   "source": [
    "def hypothesis_3(filtered_df, midProb, print_res=False):\n",
    "    \"\"\"\n",
    "    This function implements the hypothesis test 3 for mean-containing \n",
    "    ratio in the paper.\n",
    "    \n",
    "    Parameters\n",
    "    ----------\n",
    "        filtered_df: pandas.core.frame.DataFrame\n",
    "            pandas data frame with triple column named col1, col2 and col3,\n",
    "            each triple is sorted by increasing order,\n",
    "            triples with gap less than or equal to 1 are filtered out\n",
    "        midProb: numpy.ndarray\n",
    "            mid probability table, the mid-containing probability for \n",
    "            different values of lambdas\n",
    "        print_res: default False\n",
    "            False: print all the results\n",
    "            True: return number of mean containing triples, mean and sd\n",
    "                of poission binomial, Z statistic and p-value without printing\n",
    "    \"\"\"\n",
    "    # sort each triple by increasing order\n",
    "    col_name = ['col1', 'col2', 'col3']\n",
    "    filtered_df[col_name] = filtered_df[col_name].apply(np.sort, axis = 1)\n",
    "    \n",
    "    # whether the mid number is the mean of largest and smallest\n",
    "    isMid = filtered_df.apply(\n",
    "        lambda x: x.col1 + x.col3 in [2*x.col2, 2*x.col2 + 1, 2*x.col2 - 1], axis=1)\n",
    "    \n",
    "    # rounded mean triple as the estimate of lambda\n",
    "    lamEst = np.mean(filtered_df[col_name], axis=1)\n",
    "    # probabiliy that the triple been randomly drawn it would contain its own mean\n",
    "    lams = np.array([i[0] for i in midProb])\n",
    "    probs = [midProb[np.argmin(abs(lams-i))][1] for i in lamEst]\n",
    "    \n",
    "    # expectation and variance of poisson binomial\n",
    "    mu = np.sum(probs)\n",
    "    sigma2 = np.sum(p*(1-p) for p in probs)\n",
    "    \n",
    "    # compute statistic and p-value for hypothesis 3\n",
    "    stat3 = (sum(isMid) - 0.5 - mu) / np.sqrt(sigma2)\n",
    "    p_value3 = 1 - scipy.stats.norm.cdf(stat3)\n",
    "    \n",
    "    if print_res:\n",
    "        print(\"Number of mean containing triples: \", sum(isMid))\n",
    "        print(\"Mean of poission binomial: \", mu)\n",
    "        print(\"SD of poission binomial: \", np.sqrt(sigma2))\n",
    "        print(\"Z statistic: \", stat3)\n",
    "        print(\"p-value: \", p_value3)\n",
    "    else:\n",
    "        return len(filtered_df), sum(isMid), mu, np.sqrt(sigma2), stat3, p_value3"
   ]
  },
  {
   "cell_type": "markdown",
   "metadata": {},
   "source": [
    "## Reproduce results"
   ]
  },
  {
   "cell_type": "code",
   "execution_count": 8,
   "metadata": {
    "collapsed": true
   },
   "outputs": [],
   "source": [
    "hypothesis_3_res = pd.DataFrame(columns=('No. complete', 'No. mean containing', \n",
    "                                         'No.expected', \"sd\", \"Z\", \"p-value\"))"
   ]
  },
  {
   "cell_type": "code",
   "execution_count": 9,
   "metadata": {
    "collapsed": false
   },
   "outputs": [],
   "source": [
    "for dfs in [\"filtered_rts_colony\", \"filtered_inv_colony\", \"filtered_lab_colony\",\n",
    "            \"filtered_rts_coulter\", \"filtered_inv_coulter\", \n",
    "            \"filtered_lab1_coulter\", \"filtered_lab2_coulter\"]:\n",
    "    hypothesis_3_res.loc[dfs] = hypothesis_3(eval(dfs), midProb)"
   ]
  },
  {
   "cell_type": "code",
   "execution_count": 10,
   "metadata": {
    "collapsed": false
   },
   "outputs": [
    {
     "data": {
      "text/html": [
       "<div>\n",
       "<table border=\"1\" class=\"dataframe\">\n",
       "  <thead>\n",
       "    <tr style=\"text-align: right;\">\n",
       "      <th></th>\n",
       "      <th>No. complete</th>\n",
       "      <th>No. mean containing</th>\n",
       "      <th>No.expected</th>\n",
       "      <th>sd</th>\n",
       "      <th>Z</th>\n",
       "      <th>p-value</th>\n",
       "    </tr>\n",
       "  </thead>\n",
       "  <tbody>\n",
       "    <tr>\n",
       "      <th>filtered_rts_colony</th>\n",
       "      <td>1343.0</td>\n",
       "      <td>690.0</td>\n",
       "      <td>214.923602</td>\n",
       "      <td>13.281792</td>\n",
       "      <td>35.731353</td>\n",
       "      <td>0.000000e+00</td>\n",
       "    </tr>\n",
       "    <tr>\n",
       "      <th>filtered_inv_colony</th>\n",
       "      <td>578.0</td>\n",
       "      <td>109.0</td>\n",
       "      <td>103.404567</td>\n",
       "      <td>9.061666</td>\n",
       "      <td>0.562306</td>\n",
       "      <td>2.869536e-01</td>\n",
       "    </tr>\n",
       "    <tr>\n",
       "      <th>filtered_lab_colony</th>\n",
       "      <td>49.0</td>\n",
       "      <td>3.0</td>\n",
       "      <td>7.788269</td>\n",
       "      <td>2.554401</td>\n",
       "      <td>-2.070258</td>\n",
       "      <td>9.807859e-01</td>\n",
       "    </tr>\n",
       "    <tr>\n",
       "      <th>filtered_rts_coulter</th>\n",
       "      <td>1726.0</td>\n",
       "      <td>176.0</td>\n",
       "      <td>98.367748</td>\n",
       "      <td>9.612620</td>\n",
       "      <td>8.024061</td>\n",
       "      <td>5.551115e-16</td>\n",
       "    </tr>\n",
       "    <tr>\n",
       "      <th>filtered_inv_coulter</th>\n",
       "      <td>929.0</td>\n",
       "      <td>36.0</td>\n",
       "      <td>39.851416</td>\n",
       "      <td>6.107390</td>\n",
       "      <td>-0.712484</td>\n",
       "      <td>7.619174e-01</td>\n",
       "    </tr>\n",
       "    <tr>\n",
       "      <th>filtered_lab1_coulter</th>\n",
       "      <td>97.0</td>\n",
       "      <td>0.0</td>\n",
       "      <td>4.430351</td>\n",
       "      <td>2.033995</td>\n",
       "      <td>-2.423974</td>\n",
       "      <td>9.923241e-01</td>\n",
       "    </tr>\n",
       "    <tr>\n",
       "      <th>filtered_lab2_coulter</th>\n",
       "      <td>120.0</td>\n",
       "      <td>1.0</td>\n",
       "      <td>3.752921</td>\n",
       "      <td>1.897438</td>\n",
       "      <td>-1.714375</td>\n",
       "      <td>9.567701e-01</td>\n",
       "    </tr>\n",
       "  </tbody>\n",
       "</table>\n",
       "</div>"
      ],
      "text/plain": [
       "                       No. complete  No. mean containing  No.expected  \\\n",
       "filtered_rts_colony          1343.0                690.0   214.923602   \n",
       "filtered_inv_colony           578.0                109.0   103.404567   \n",
       "filtered_lab_colony            49.0                  3.0     7.788269   \n",
       "filtered_rts_coulter         1726.0                176.0    98.367748   \n",
       "filtered_inv_coulter          929.0                 36.0    39.851416   \n",
       "filtered_lab1_coulter          97.0                  0.0     4.430351   \n",
       "filtered_lab2_coulter         120.0                  1.0     3.752921   \n",
       "\n",
       "                              sd          Z       p-value  \n",
       "filtered_rts_colony    13.281792  35.731353  0.000000e+00  \n",
       "filtered_inv_colony     9.061666   0.562306  2.869536e-01  \n",
       "filtered_lab_colony     2.554401  -2.070258  9.807859e-01  \n",
       "filtered_rts_coulter    9.612620   8.024061  5.551115e-16  \n",
       "filtered_inv_coulter    6.107390  -0.712484  7.619174e-01  \n",
       "filtered_lab1_coulter   2.033995  -2.423974  9.923241e-01  \n",
       "filtered_lab2_coulter   1.897438  -1.714375  9.567701e-01  "
      ]
     },
     "execution_count": 10,
     "metadata": {},
     "output_type": "execute_result"
    }
   ],
   "source": [
    "hypothesis_3_res"
   ]
  },
  {
   "cell_type": "code",
   "execution_count": 11,
   "metadata": {
    "collapsed": false
   },
   "outputs": [
    {
     "name": "stdout",
     "output_type": "stream",
     "text": [
      "Number of mean containing triples:  708\n",
      "Mean of poission binomial:  220.313684239\n",
      "SD of poission binomial:  13.4181445464\n",
      "Z statistic:  36.3080241145\n",
      "p-value:  0.0\n"
     ]
    }
   ],
   "source": [
    "hypothesis_3(rts_colony, midProb, print_res=True)"
   ]
  },
  {
   "cell_type": "code",
   "execution_count": 12,
   "metadata": {
    "collapsed": false
   },
   "outputs": [
    {
     "name": "stdout",
     "output_type": "stream",
     "text": [
      "Number of mean containing triples:  128\n",
      "Mean of poission binomial:  108.501276257\n",
      "SD of poission binomial:  9.25874114803\n",
      "Z statistic:  2.05197698475\n",
      "p-value:  0.0200859495977\n"
     ]
    }
   ],
   "source": [
    "hypothesis_3(inv_colony, midProb, print_res=True)"
   ]
  },
  {
   "cell_type": "markdown",
   "metadata": {},
   "source": [
    "## Test for individuals in the lab"
   ]
  },
  {
   "cell_type": "code",
   "execution_count": 13,
   "metadata": {
    "collapsed": true
   },
   "outputs": [],
   "source": [
    "hypothesis_3_ind = pd.DataFrame(columns=('No. complete', 'No. mean containing', \n",
    "                                         'No.expected', \"sd\", \"Z\", \"p-value\"))"
   ]
  },
  {
   "cell_type": "code",
   "execution_count": 14,
   "metadata": {
    "collapsed": false
   },
   "outputs": [],
   "source": [
    "for inv in set(filtered_inv_colony.Inv):\n",
    "    hypothesis_3_ind.loc[inv] = hypothesis_3(\n",
    "        filtered_inv_colony.loc[filtered_inv_colony.Inv == inv].copy(), midProb)"
   ]
  },
  {
   "cell_type": "code",
   "execution_count": 15,
   "metadata": {
    "collapsed": false
   },
   "outputs": [
    {
     "data": {
      "text/html": [
       "<div>\n",
       "<table border=\"1\" class=\"dataframe\">\n",
       "  <thead>\n",
       "    <tr style=\"text-align: right;\">\n",
       "      <th></th>\n",
       "      <th>No. complete</th>\n",
       "      <th>No. mean containing</th>\n",
       "      <th>No.expected</th>\n",
       "      <th>sd</th>\n",
       "      <th>Z</th>\n",
       "      <th>p-value</th>\n",
       "    </tr>\n",
       "  </thead>\n",
       "  <tbody>\n",
       "    <tr>\n",
       "      <th>I</th>\n",
       "      <td>44.0</td>\n",
       "      <td>8.0</td>\n",
       "      <td>7.818411</td>\n",
       "      <td>2.480351</td>\n",
       "      <td>-0.128373</td>\n",
       "      <td>0.551073</td>\n",
       "    </tr>\n",
       "    <tr>\n",
       "      <th>G</th>\n",
       "      <td>8.0</td>\n",
       "      <td>4.0</td>\n",
       "      <td>1.829225</td>\n",
       "      <td>1.179072</td>\n",
       "      <td>1.417026</td>\n",
       "      <td>0.078238</td>\n",
       "    </tr>\n",
       "    <tr>\n",
       "      <th>A</th>\n",
       "      <td>248.0</td>\n",
       "      <td>42.0</td>\n",
       "      <td>44.087806</td>\n",
       "      <td>5.895250</td>\n",
       "      <td>-0.438965</td>\n",
       "      <td>0.669656</td>\n",
       "    </tr>\n",
       "    <tr>\n",
       "      <th>H</th>\n",
       "      <td>21.0</td>\n",
       "      <td>1.0</td>\n",
       "      <td>2.827193</td>\n",
       "      <td>1.554125</td>\n",
       "      <td>-1.497429</td>\n",
       "      <td>0.932859</td>\n",
       "    </tr>\n",
       "    <tr>\n",
       "      <th>D</th>\n",
       "      <td>77.0</td>\n",
       "      <td>13.0</td>\n",
       "      <td>13.584431</td>\n",
       "      <td>3.323176</td>\n",
       "      <td>-0.326324</td>\n",
       "      <td>0.627910</td>\n",
       "    </tr>\n",
       "    <tr>\n",
       "      <th>E</th>\n",
       "      <td>10.0</td>\n",
       "      <td>2.0</td>\n",
       "      <td>1.306389</td>\n",
       "      <td>1.059426</td>\n",
       "      <td>0.182751</td>\n",
       "      <td>0.427497</td>\n",
       "    </tr>\n",
       "    <tr>\n",
       "      <th>C</th>\n",
       "      <td>85.0</td>\n",
       "      <td>25.0</td>\n",
       "      <td>17.189069</td>\n",
       "      <td>3.656139</td>\n",
       "      <td>1.999632</td>\n",
       "      <td>0.022770</td>\n",
       "    </tr>\n",
       "    <tr>\n",
       "      <th>B</th>\n",
       "      <td>56.0</td>\n",
       "      <td>8.0</td>\n",
       "      <td>9.622682</td>\n",
       "      <td>2.790427</td>\n",
       "      <td>-0.760701</td>\n",
       "      <td>0.776582</td>\n",
       "    </tr>\n",
       "    <tr>\n",
       "      <th>F</th>\n",
       "      <td>29.0</td>\n",
       "      <td>6.0</td>\n",
       "      <td>5.139362</td>\n",
       "      <td>2.020507</td>\n",
       "      <td>0.178489</td>\n",
       "      <td>0.429169</td>\n",
       "    </tr>\n",
       "  </tbody>\n",
       "</table>\n",
       "</div>"
      ],
      "text/plain": [
       "   No. complete  No. mean containing  No.expected        sd         Z  \\\n",
       "I          44.0                  8.0     7.818411  2.480351 -0.128373   \n",
       "G           8.0                  4.0     1.829225  1.179072  1.417026   \n",
       "A         248.0                 42.0    44.087806  5.895250 -0.438965   \n",
       "H          21.0                  1.0     2.827193  1.554125 -1.497429   \n",
       "D          77.0                 13.0    13.584431  3.323176 -0.326324   \n",
       "E          10.0                  2.0     1.306389  1.059426  0.182751   \n",
       "C          85.0                 25.0    17.189069  3.656139  1.999632   \n",
       "B          56.0                  8.0     9.622682  2.790427 -0.760701   \n",
       "F          29.0                  6.0     5.139362  2.020507  0.178489   \n",
       "\n",
       "    p-value  \n",
       "I  0.551073  \n",
       "G  0.078238  \n",
       "A  0.669656  \n",
       "H  0.932859  \n",
       "D  0.627910  \n",
       "E  0.427497  \n",
       "C  0.022770  \n",
       "B  0.776582  \n",
       "F  0.429169  "
      ]
     },
     "execution_count": 15,
     "metadata": {},
     "output_type": "execute_result"
    }
   ],
   "source": [
    "hypothesis_3_ind"
   ]
  },
  {
   "cell_type": "code",
   "execution_count": null,
   "metadata": {
    "collapsed": true
   },
   "outputs": [],
   "source": []
  }
 ],
 "metadata": {
  "kernelspec": {
   "display_name": "Python 3",
   "language": "python",
   "name": "python3"
  },
  "language_info": {
   "codemirror_mode": {
    "name": "ipython",
    "version": 3
   },
   "file_extension": ".py",
   "mimetype": "text/x-python",
   "name": "python",
   "nbconvert_exporter": "python",
   "pygments_lexer": "ipython3",
   "version": "3.5.1"
  }
 },
 "nbformat": 4,
 "nbformat_minor": 0
}
