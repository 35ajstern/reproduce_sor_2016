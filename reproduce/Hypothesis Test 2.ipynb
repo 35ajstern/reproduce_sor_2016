{
 "cells": [
  {
   "cell_type": "code",
   "execution_count": 1,
   "metadata": {
    "collapsed": false
   },
   "outputs": [],
   "source": [
    "library(poibin)\n",
    "wdir = '../data/'"
   ]
  },
  {
   "cell_type": "code",
   "execution_count": 2,
   "metadata": {
    "collapsed": true
   },
   "outputs": [],
   "source": [
    "midprob = read.table('../outputs/MidProb.txt')"
   ]
  },
  {
   "cell_type": "code",
   "execution_count": 3,
   "metadata": {
    "collapsed": false
   },
   "outputs": [
    {
     "data": {
      "text/html": [
       "<table>\n",
       "<thead><tr><th scope=col>ISOTOPE</th><th scope=col>Bate...B0.B00</th><th scope=col>Date</th><th scope=col>col1</th><th scope=col>col2</th><th scope=col>col3</th><th scope=col>average</th></tr></thead>\n",
       "<tbody>\n",
       "\t<tr><td>131I    </td><td>8405    </td><td>10/27/97</td><td>78      </td><td>91      </td><td>93      </td><td>87.33   </td></tr>\n",
       "\t<tr><td>no DMSO </td><td>8405    </td><td>10/27/97</td><td>90      </td><td>88      </td><td>90      </td><td>89.33   </td></tr>\n",
       "\t<tr><td>        </td><td>8405    </td><td>10/27/97</td><td>80      </td><td>66      </td><td>69      </td><td>71.67   </td></tr>\n",
       "\t<tr><td>        </td><td>8405    </td><td>10/27/97</td><td>63      </td><td>67      </td><td>71      </td><td>67.00   </td></tr>\n",
       "\t<tr><td>        </td><td>8405    </td><td>10/27/97</td><td>44      </td><td>58      </td><td>64      </td><td>55.33   </td></tr>\n",
       "\t<tr><td>        </td><td>8405    </td><td>10/27/97</td><td>38      </td><td>53      </td><td>51      </td><td>47.33   </td></tr>\n",
       "</tbody>\n",
       "</table>\n"
      ],
      "text/latex": [
       "\\begin{tabular}{r|lllllll}\n",
       " ISOTOPE & Bate...B0.B00 & Date & col1 & col2 & col3 & average\\\\\n",
       "\\hline\n",
       "\t 131I     & 8405     & 10/27/97 & 78       & 91       & 93       & 87.33   \\\\\n",
       "\t no DMSO  & 8405     & 10/27/97 & 90       & 88       & 90       & 89.33   \\\\\n",
       "\t          & 8405     & 10/27/97 & 80       & 66       & 69       & 71.67   \\\\\n",
       "\t          & 8405     & 10/27/97 & 63       & 67       & 71       & 67.00   \\\\\n",
       "\t          & 8405     & 10/27/97 & 44       & 58       & 64       & 55.33   \\\\\n",
       "\t          & 8405     & 10/27/97 & 38       & 53       & 51       & 47.33   \\\\\n",
       "\\end{tabular}\n"
      ],
      "text/plain": [
       "  ISOTOPE Bate...B0.B00 Date     col1 col2 col3 average\n",
       "1 131I    8405          10/27/97 78   91   93   87.33  \n",
       "2 no DMSO 8405          10/27/97 90   88   90   89.33  \n",
       "3         8405          10/27/97 80   66   69   71.67  \n",
       "4         8405          10/27/97 63   67   71   67.00  \n",
       "5         8405          10/27/97 44   58   64   55.33  \n",
       "6         8405          10/27/97 38   53   51   47.33  "
      ]
     },
     "metadata": {},
     "output_type": "display_data"
    },
    {
     "data": {
      "text/html": [
       "<ol class=list-inline>\n",
       "\t<li>1362</li>\n",
       "\t<li>7</li>\n",
       "</ol>\n"
      ],
      "text/latex": [
       "\\begin{enumerate*}\n",
       "\\item 1362\n",
       "\\item 7\n",
       "\\end{enumerate*}\n"
      ],
      "text/markdown": [
       "1. 1362\n",
       "2. 7\n",
       "\n",
       "\n"
      ],
      "text/plain": [
       "[1] 1362    7"
      ]
     },
     "metadata": {},
     "output_type": "display_data"
    }
   ],
   "source": [
    "rts.colony <- read.csv(paste0(wdir,\"Bishayee Colony Counts 10.27.97-3.8.csv\"),header=T,skip=2)\n",
    "head(rts.colony)\n",
    "dim(rts.colony)"
   ]
  },
  {
   "cell_type": "code",
   "execution_count": 4,
   "metadata": {
    "collapsed": false
   },
   "outputs": [
    {
     "data": {
      "text/html": [
       "<ol class=list-inline>\n",
       "\t<li>1343</li>\n",
       "\t<li>7</li>\n",
       "</ol>\n"
      ],
      "text/latex": [
       "\\begin{enumerate*}\n",
       "\\item 1343\n",
       "\\item 7\n",
       "\\end{enumerate*}\n"
      ],
      "text/markdown": [
       "1. 1343\n",
       "2. 7\n",
       "\n",
       "\n"
      ],
      "text/plain": [
       "[1] 1343    7"
      ]
     },
     "metadata": {},
     "output_type": "display_data"
    }
   ],
   "source": [
    "idx1 = which(apply(rts.colony[,4:6],1,function(x) any(is.na(x))))\n",
    "idx2 = which(apply(rts.colony[,4:6],1,function(x) (max(x) - min(x)) < 2 ))\n",
    "idx = unique(c(idx1, idx2))\n",
    "rts.colony = rts.colony[-idx, ]\n",
    "dim(rts.colony)"
   ]
  },
  {
   "cell_type": "code",
   "execution_count": 5,
   "metadata": {
    "collapsed": false
   },
   "outputs": [
    {
     "data": {
      "text/html": [
       "<table>\n",
       "<thead><tr><th scope=col>Bates</th><th scope=col>Date</th><th scope=col>Count.1</th><th scope=col>Count.2</th><th scope=col>Count.3</th><th scope=col>Average</th></tr></thead>\n",
       "<tbody>\n",
       "\t<tr><td>B008404 </td><td>10/20/97</td><td>531     </td><td>508     </td><td>541     </td><td>526.67  </td></tr>\n",
       "\t<tr><td>B008404 </td><td>10/20/97</td><td>650     </td><td>626     </td><td>595     </td><td>623.67  </td></tr>\n",
       "\t<tr><td>B008404 </td><td>10/20/97</td><td>460     </td><td>455     </td><td>468     </td><td>461.00  </td></tr>\n",
       "\t<tr><td>B008404 </td><td>10/20/97</td><td>550     </td><td>530     </td><td>538     </td><td>539.33  </td></tr>\n",
       "\t<tr><td>B008404 </td><td>10/20/97</td><td>466     </td><td>468     </td><td>452     </td><td>462.00  </td></tr>\n",
       "\t<tr><td>B008404 </td><td>10/20/97</td><td>567     </td><td>555     </td><td>521     </td><td>547.67  </td></tr>\n",
       "</tbody>\n",
       "</table>\n"
      ],
      "text/latex": [
       "\\begin{tabular}{r|llllll}\n",
       " Bates & Date & Count.1 & Count.2 & Count.3 & Average\\\\\n",
       "\\hline\n",
       "\t B008404  & 10/20/97 & 531      & 508      & 541      & 526.67  \\\\\n",
       "\t B008404  & 10/20/97 & 650      & 626      & 595      & 623.67  \\\\\n",
       "\t B008404  & 10/20/97 & 460      & 455      & 468      & 461.00  \\\\\n",
       "\t B008404  & 10/20/97 & 550      & 530      & 538      & 539.33  \\\\\n",
       "\t B008404  & 10/20/97 & 466      & 468      & 452      & 462.00  \\\\\n",
       "\t B008404  & 10/20/97 & 567      & 555      & 521      & 547.67  \\\\\n",
       "\\end{tabular}\n"
      ],
      "text/plain": [
       "  Bates   Date     Count.1 Count.2 Count.3 Average\n",
       "1 B008404 10/20/97 531     508     541     526.67 \n",
       "2 B008404 10/20/97 650     626     595     623.67 \n",
       "3 B008404 10/20/97 460     455     468     461.00 \n",
       "4 B008404 10/20/97 550     530     538     539.33 \n",
       "5 B008404 10/20/97 466     468     452     462.00 \n",
       "6 B008404 10/20/97 567     555     521     547.67 "
      ]
     },
     "metadata": {},
     "output_type": "display_data"
    },
    {
     "data": {
      "text/html": [
       "<ol class=list-inline>\n",
       "\t<li>1729</li>\n",
       "\t<li>6</li>\n",
       "</ol>\n"
      ],
      "text/latex": [
       "\\begin{enumerate*}\n",
       "\\item 1729\n",
       "\\item 6\n",
       "\\end{enumerate*}\n"
      ],
      "text/markdown": [
       "1. 1729\n",
       "2. 6\n",
       "\n",
       "\n"
      ],
      "text/plain": [
       "[1] 1729    6"
      ]
     },
     "metadata": {},
     "output_type": "display_data"
    }
   ],
   "source": [
    "rts.coulter <- read.csv(paste0(wdir,\"Bishayee Coulter Counts.10.20.97-7.16.csv\"),header=T,skip=1)\n",
    "head(rts.coulter)\n",
    "dim(rts.coulter)"
   ]
  },
  {
   "cell_type": "code",
   "execution_count": 6,
   "metadata": {
    "collapsed": false
   },
   "outputs": [
    {
     "data": {
      "text/html": [
       "<ol class=list-inline>\n",
       "\t<li>1726</li>\n",
       "\t<li>6</li>\n",
       "</ol>\n"
      ],
      "text/latex": [
       "\\begin{enumerate*}\n",
       "\\item 1726\n",
       "\\item 6\n",
       "\\end{enumerate*}\n"
      ],
      "text/markdown": [
       "1. 1726\n",
       "2. 6\n",
       "\n",
       "\n"
      ],
      "text/plain": [
       "[1] 1726    6"
      ]
     },
     "metadata": {},
     "output_type": "display_data"
    }
   ],
   "source": [
    "idx1 = which(apply(rts.coulter[,3:5],1,function(x) any(is.na(x))))\n",
    "idx2 = which(apply(rts.coulter[,3:5],1,function(x) (max(x) - min(x)) < 2 ))\n",
    "idx = unique(c(idx1, idx2))\n",
    "rts.coulter = rts.coulter[-idx, ]\n",
    "dim(rts.coulter)"
   ]
  },
  {
   "cell_type": "code",
   "execution_count": 7,
   "metadata": {
    "collapsed": false
   },
   "outputs": [
    {
     "data": {
      "text/html": [
       "<table>\n",
       "<thead><tr><th scope=col>Bates...B00.or.B0</th><th scope=col>Date</th><th scope=col>Inv</th><th scope=col>col1</th><th scope=col>col2</th><th scope=col>col3</th><th scope=col>average</th></tr></thead>\n",
       "<tbody>\n",
       "\t<tr><td>       </td><td>4/23/92</td><td>I      </td><td>266    </td><td>247    </td><td>262    </td><td>258.33 </td></tr>\n",
       "\t<tr><td>       </td><td>4/23/92</td><td>I      </td><td>170    </td><td>151    </td><td>156    </td><td>159.00 </td></tr>\n",
       "\t<tr><td>       </td><td>4/23/92</td><td>I      </td><td> 66    </td><td> 66    </td><td> 56    </td><td> 62.67 </td></tr>\n",
       "\t<tr><td>       </td><td>4/23/92</td><td>I      </td><td> 22    </td><td> 13    </td><td> 27    </td><td> 20.67 </td></tr>\n",
       "\t<tr><td>       </td><td>4/23/92</td><td>I      </td><td>  1    </td><td>  1    </td><td>  4    </td><td>  2.00 </td></tr>\n",
       "\t<tr><td>       </td><td>4/23/92</td><td>I      </td><td> 10    </td><td> 13    </td><td> 12    </td><td> 11.67 </td></tr>\n",
       "</tbody>\n",
       "</table>\n"
      ],
      "text/latex": [
       "\\begin{tabular}{r|lllllll}\n",
       " Bates...B00.or.B0 & Date & Inv & col1 & col2 & col3 & average\\\\\n",
       "\\hline\n",
       "\t         & 4/23/92 & I       & 266     & 247     & 262     & 258.33 \\\\\n",
       "\t         & 4/23/92 & I       & 170     & 151     & 156     & 159.00 \\\\\n",
       "\t         & 4/23/92 & I       &  66     &  66     &  56     &  62.67 \\\\\n",
       "\t         & 4/23/92 & I       &  22     &  13     &  27     &  20.67 \\\\\n",
       "\t         & 4/23/92 & I       &   1     &   1     &   4     &   2.00 \\\\\n",
       "\t         & 4/23/92 & I       &  10     &  13     &  12     &  11.67 \\\\\n",
       "\\end{tabular}\n"
      ],
      "text/plain": [
       "  Bates...B00.or.B0 Date    Inv col1 col2 col3 average\n",
       "1                   4/23/92 I   266  247  262  258.33 \n",
       "2                   4/23/92 I   170  151  156  159.00 \n",
       "3                   4/23/92 I    66   66   56   62.67 \n",
       "4                   4/23/92 I    22   13   27   20.67 \n",
       "5                   4/23/92 I     1    1    4    2.00 \n",
       "6                   4/23/92 I    10   13   12   11.67 "
      ]
     },
     "metadata": {},
     "output_type": "display_data"
    },
    {
     "data": {
      "text/html": [
       "<ol class=list-inline>\n",
       "\t<li>621</li>\n",
       "\t<li>7</li>\n",
       "</ol>\n"
      ],
      "text/latex": [
       "\\begin{enumerate*}\n",
       "\\item 621\n",
       "\\item 7\n",
       "\\end{enumerate*}\n"
      ],
      "text/markdown": [
       "1. 621\n",
       "2. 7\n",
       "\n",
       "\n"
      ],
      "text/plain": [
       "[1] 621   7"
      ]
     },
     "metadata": {},
     "output_type": "display_data"
    }
   ],
   "source": [
    "others.colony <- read.csv(paste0(wdir,\"Other Investigators in Lab.Colony Counts.4.23.92-11.27.csv\"),header=T,skip=1)\n",
    "head(others.colony)\n",
    "dim(others.colony)"
   ]
  },
  {
   "cell_type": "code",
   "execution_count": 8,
   "metadata": {
    "collapsed": false
   },
   "outputs": [
    {
     "data": {
      "text/html": [
       "<ol class=list-inline>\n",
       "\t<li>578</li>\n",
       "\t<li>7</li>\n",
       "</ol>\n"
      ],
      "text/latex": [
       "\\begin{enumerate*}\n",
       "\\item 578\n",
       "\\item 7\n",
       "\\end{enumerate*}\n"
      ],
      "text/markdown": [
       "1. 578\n",
       "2. 7\n",
       "\n",
       "\n"
      ],
      "text/plain": [
       "[1] 578   7"
      ]
     },
     "metadata": {},
     "output_type": "display_data"
    }
   ],
   "source": [
    "idx1 = which(apply(others.colony[,4:6],1,function(x) any(is.na(x))))\n",
    "idx2 = which(apply(others.colony[,4:6],1,function(x) (max(x) - min(x)) < 2 ))\n",
    "idx = unique(c(idx1, idx2))\n",
    "others.colony = others.colony[-idx, ]\n",
    "dim(others.colony)"
   ]
  },
  {
   "cell_type": "code",
   "execution_count": 9,
   "metadata": {
    "collapsed": false
   },
   "outputs": [
    {
     "data": {
      "text/html": [
       "<table>\n",
       "<thead><tr><th scope=col>Bates.No.</th><th scope=col>Date</th><th scope=col>Coul.1</th><th scope=col>Coul.2</th><th scope=col>Coul.3</th><th scope=col>Average</th><th scope=col>Investigator</th></tr></thead>\n",
       "<tbody>\n",
       "\t<tr><td>       </td><td>4/15/92</td><td>1547   </td><td>1574   </td><td>1523   </td><td>1548.00</td><td>I      </td></tr>\n",
       "\t<tr><td>       </td><td>4/15/92</td><td>1617   </td><td>1552   </td><td>1570   </td><td>1579.67</td><td>I      </td></tr>\n",
       "\t<tr><td>       </td><td>4/15/92</td><td>1258   </td><td>1279   </td><td>1284   </td><td>1273.67</td><td>I      </td></tr>\n",
       "\t<tr><td>       </td><td>4/15/92</td><td>1273   </td><td>1313   </td><td>1286   </td><td>1290.67</td><td>I      </td></tr>\n",
       "\t<tr><td>       </td><td>4/15/92</td><td>1071   </td><td>1044   </td><td>1044   </td><td>1053.00</td><td>I      </td></tr>\n",
       "\t<tr><td>       </td><td>4/15/92</td><td>1014   </td><td>1014   </td><td> 965   </td><td> 997.67</td><td>I      </td></tr>\n",
       "</tbody>\n",
       "</table>\n"
      ],
      "text/latex": [
       "\\begin{tabular}{r|lllllll}\n",
       " Bates.No. & Date & Coul.1 & Coul.2 & Coul.3 & Average & Investigator\\\\\n",
       "\\hline\n",
       "\t         & 4/15/92 & 1547    & 1574    & 1523    & 1548.00 & I      \\\\\n",
       "\t         & 4/15/92 & 1617    & 1552    & 1570    & 1579.67 & I      \\\\\n",
       "\t         & 4/15/92 & 1258    & 1279    & 1284    & 1273.67 & I      \\\\\n",
       "\t         & 4/15/92 & 1273    & 1313    & 1286    & 1290.67 & I      \\\\\n",
       "\t         & 4/15/92 & 1071    & 1044    & 1044    & 1053.00 & I      \\\\\n",
       "\t         & 4/15/92 & 1014    & 1014    &  965    &  997.67 & I      \\\\\n",
       "\\end{tabular}\n"
      ],
      "text/plain": [
       "  Bates.No. Date    Coul.1 Coul.2 Coul.3 Average Investigator\n",
       "1           4/15/92 1547   1574   1523   1548.00 I           \n",
       "2           4/15/92 1617   1552   1570   1579.67 I           \n",
       "3           4/15/92 1258   1279   1284   1273.67 I           \n",
       "4           4/15/92 1273   1313   1286   1290.67 I           \n",
       "5           4/15/92 1071   1044   1044   1053.00 I           \n",
       "6           4/15/92 1014   1014    965    997.67 I           "
      ]
     },
     "metadata": {},
     "output_type": "display_data"
    },
    {
     "data": {
      "text/html": [
       "<ol class=list-inline>\n",
       "\t<li>1007</li>\n",
       "\t<li>7</li>\n",
       "</ol>\n"
      ],
      "text/latex": [
       "\\begin{enumerate*}\n",
       "\\item 1007\n",
       "\\item 7\n",
       "\\end{enumerate*}\n"
      ],
      "text/markdown": [
       "1. 1007\n",
       "2. 7\n",
       "\n",
       "\n"
      ],
      "text/plain": [
       "[1] 1007    7"
      ]
     },
     "metadata": {},
     "output_type": "display_data"
    }
   ],
   "source": [
    "others.coulter <- read.csv(paste0(wdir,\"Other Investigators in Lab.Coulter Counts.4.15.92-5.21.csv\"),header=T,skip=1)\n",
    "head(others.coulter)\n",
    "dim(others.coulter)"
   ]
  },
  {
   "cell_type": "code",
   "execution_count": 10,
   "metadata": {
    "collapsed": false
   },
   "outputs": [
    {
     "data": {
      "text/html": [
       "<ol class=list-inline>\n",
       "\t<li>929</li>\n",
       "\t<li>7</li>\n",
       "</ol>\n"
      ],
      "text/latex": [
       "\\begin{enumerate*}\n",
       "\\item 929\n",
       "\\item 7\n",
       "\\end{enumerate*}\n"
      ],
      "text/markdown": [
       "1. 929\n",
       "2. 7\n",
       "\n",
       "\n"
      ],
      "text/plain": [
       "[1] 929   7"
      ]
     },
     "metadata": {},
     "output_type": "display_data"
    }
   ],
   "source": [
    "idx1 = which(apply(others.coulter[,3:5],1,function(x) any(is.na(x))))\n",
    "idx2 = which(apply(others.coulter[,3:5],1,function(x) (max(x) - min(x)) < 2 ))\n",
    "idx = unique(c(idx1, idx2))\n",
    "others.coulter = others.coulter[-idx, ]\n",
    "dim(others.coulter)"
   ]
  },
  {
   "cell_type": "code",
   "execution_count": null,
   "metadata": {
    "collapsed": true
   },
   "outputs": [],
   "source": []
  },
  {
   "cell_type": "markdown",
   "metadata": {},
   "source": [
    "# RTS Colony"
   ]
  },
  {
   "cell_type": "code",
   "execution_count": 11,
   "metadata": {
    "collapsed": false
   },
   "outputs": [
    {
     "name": "stdout",
     "output_type": "stream",
     "text": [
      "[1] \"number of mean containing triplets in RTS colony data is: \"\n"
     ]
    },
    {
     "data": {
      "text/html": [
       "690"
      ],
      "text/latex": [
       "690"
      ],
      "text/markdown": [
       "690"
      ],
      "text/plain": [
       "[1] 690"
      ]
     },
     "metadata": {},
     "output_type": "display_data"
    }
   ],
   "source": [
    "print('number of mean containing triplets in RTS colony data is: ')\n",
    "sum(apply(rts.colony[4:7],1, function(x) any(round(x[4]) %in% x[1:3])))"
   ]
  },
  {
   "cell_type": "code",
   "execution_count": 12,
   "metadata": {
    "collapsed": false
   },
   "outputs": [
    {
     "name": "stdout",
     "output_type": "stream",
     "text": [
      "[1] \"p-value using poission binomial in RTS colony data is:\"\n"
     ]
    },
    {
     "data": {
      "text/html": [
       "5.32907051820075e-15"
      ],
      "text/latex": [
       "5.32907051820075e-15"
      ],
      "text/markdown": [
       "5.32907051820075e-15"
      ],
      "text/plain": [
       "[1] 5.329071e-15"
      ]
     },
     "metadata": {},
     "output_type": "display_data"
    }
   ],
   "source": [
    "print('p-value using poission binomial in RTS colony data is:')\n",
    "lam_hat = round(rts.colony[,7])\n",
    "1 - ppoibin(690 - 1,midprob[match(lam_hat, midprob$V1),2])"
   ]
  },
  {
   "cell_type": "markdown",
   "metadata": {},
   "source": [
    "# Others Colony"
   ]
  },
  {
   "cell_type": "code",
   "execution_count": 13,
   "metadata": {
    "collapsed": false
   },
   "outputs": [
    {
     "name": "stdout",
     "output_type": "stream",
     "text": [
      "[1] \"number of mean containing triplets in others colony data is: \"\n"
     ]
    },
    {
     "data": {
      "text/html": [
       "109"
      ],
      "text/latex": [
       "109"
      ],
      "text/markdown": [
       "109"
      ],
      "text/plain": [
       "[1] 109"
      ]
     },
     "metadata": {},
     "output_type": "display_data"
    }
   ],
   "source": [
    "print('number of mean containing triplets in others colony data is: ')\n",
    "sum(apply(others.colony[4:7],1, function(x) any(round(x[4]) %in% x[1:3])))"
   ]
  },
  {
   "cell_type": "code",
   "execution_count": 14,
   "metadata": {
    "collapsed": false
   },
   "outputs": [
    {
     "name": "stdout",
     "output_type": "stream",
     "text": [
      "[1] \"p-value using poission binomial in others colony data is:\"\n"
     ]
    },
    {
     "data": {
      "text/html": [
       "0.284386667379675"
      ],
      "text/latex": [
       "0.284386667379675"
      ],
      "text/markdown": [
       "0.284386667379675"
      ],
      "text/plain": [
       "[1] 0.2843867"
      ]
     },
     "metadata": {},
     "output_type": "display_data"
    }
   ],
   "source": [
    "print('p-value using poission binomial in others colony data is:')\n",
    "lam_hat = round(others.colony[,7])\n",
    "1 - ppoibin(109 - 1,midprob[match(lam_hat, midprob$V1),2])"
   ]
  },
  {
   "cell_type": "markdown",
   "metadata": {},
   "source": [
    "# Approximate the estimated \\lambda to nearest one in MidProb Table"
   ]
  },
  {
   "cell_type": "code",
   "execution_count": 15,
   "metadata": {
    "collapsed": false
   },
   "outputs": [
    {
     "data": {
      "text/html": [
       "<ol class=list-inline>\n",
       "\t<li>2596</li>\n",
       "\t<li>2431</li>\n",
       "\t<li>3285</li>\n",
       "\t<li>3193</li>\n",
       "\t<li>2613</li>\n",
       "\t<li>2432</li>\n",
       "\t<li>2196</li>\n",
       "\t<li>3325</li>\n",
       "\t<li>3273</li>\n",
       "\t<li>2646</li>\n",
       "\t<li>3758</li>\n",
       "\t<li>4420</li>\n",
       "\t<li>4122</li>\n",
       "\t<li>2793</li>\n",
       "\t<li>2328</li>\n",
       "\t<li>3298</li>\n",
       "\t<li>5149</li>\n",
       "\t<li>5079</li>\n",
       "\t<li>4885</li>\n",
       "\t<li>4525</li>\n",
       "\t<li>4374</li>\n",
       "\t<li>7668</li>\n",
       "\t<li>6576</li>\n",
       "\t<li>2748</li>\n",
       "\t<li>2836</li>\n",
       "\t<li>3558</li>\n",
       "\t<li>5468</li>\n",
       "\t<li>4533</li>\n",
       "\t<li>3434</li>\n",
       "\t<li>2869</li>\n",
       "\t<li>2151</li>\n",
       "\t<li>2295</li>\n",
       "\t<li>6334</li>\n",
       "\t<li>6203</li>\n",
       "\t<li>4055</li>\n",
       "\t<li>2999</li>\n",
       "\t<li>2562</li>\n",
       "\t<li>8055</li>\n",
       "\t<li>3278</li>\n",
       "\t<li>4450</li>\n",
       "\t<li>3440</li>\n",
       "\t<li>5083</li>\n",
       "\t<li>3801</li>\n",
       "\t<li>5829</li>\n",
       "\t<li>2465</li>\n",
       "\t<li>5170</li>\n",
       "\t<li>3383</li>\n",
       "\t<li>3077</li>\n",
       "\t<li>3801</li>\n",
       "\t<li>5829</li>\n",
       "\t<li>5170</li>\n",
       "\t<li>3383</li>\n",
       "\t<li>3077</li>\n",
       "\t<li>3936</li>\n",
       "\t<li>3356</li>\n",
       "\t<li>3547</li>\n",
       "\t<li>4375</li>\n",
       "\t<li>5042</li>\n",
       "\t<li>4360</li>\n",
       "\t<li>4105</li>\n",
       "\t<li>8740</li>\n",
       "\t<li>9531</li>\n",
       "\t<li>16503</li>\n",
       "\t<li>13567</li>\n",
       "\t<li>32993</li>\n",
       "\t<li>31439</li>\n",
       "\t<li>42855</li>\n",
       "\t<li>46253</li>\n",
       "\t<li>3645</li>\n",
       "\t<li>3817</li>\n",
       "\t<li>2079</li>\n",
       "\t<li>3771</li>\n",
       "\t<li>3958</li>\n",
       "\t<li>4910</li>\n",
       "\t<li>4203</li>\n",
       "\t<li>2389</li>\n",
       "\t<li>2424</li>\n",
       "\t<li>5275</li>\n",
       "\t<li>5213</li>\n",
       "\t<li>4120</li>\n",
       "\t<li>4174</li>\n",
       "\t<li>13094</li>\n",
       "\t<li>12883</li>\n",
       "\t<li>3936</li>\n",
       "\t<li>3356</li>\n",
       "\t<li>3547</li>\n",
       "\t<li>4375</li>\n",
       "\t<li>5042</li>\n",
       "\t<li>4360</li>\n",
       "\t<li>4105</li>\n",
       "\t<li>8740</li>\n",
       "\t<li>9531</li>\n",
       "\t<li>16503</li>\n",
       "\t<li>13537</li>\n",
       "\t<li>2522</li>\n",
       "\t<li>5145</li>\n",
       "\t<li>4558</li>\n",
       "\t<li>16131</li>\n",
       "\t<li>2414</li>\n",
       "\t<li>4940</li>\n",
       "\t<li>4141</li>\n",
       "\t<li>15121</li>\n",
       "\t<li>2679</li>\n",
       "\t<li>4586</li>\n",
       "\t<li>3377</li>\n",
       "\t<li>3633</li>\n",
       "\t<li>4852</li>\n",
       "\t<li>4430</li>\n",
       "\t<li>4080</li>\n",
       "\t<li>5115</li>\n",
       "\t<li>4111</li>\n",
       "\t<li>5907</li>\n",
       "\t<li>7118</li>\n",
       "\t<li>6477</li>\n",
       "\t<li>6677</li>\n",
       "\t<li>5195</li>\n",
       "\t<li>6623</li>\n",
       "\t<li>5851</li>\n",
       "\t<li>7195</li>\n",
       "\t<li>8302</li>\n",
       "\t<li>6401</li>\n",
       "\t<li>6741</li>\n",
       "\t<li>5459</li>\n",
       "\t<li>5843</li>\n",
       "\t<li>5781</li>\n",
       "\t<li>2280</li>\n",
       "\t<li>2145</li>\n",
       "\t<li>2828</li>\n",
       "\t<li>3104</li>\n",
       "\t<li>2559</li>\n",
       "\t<li>2429</li>\n",
       "\t<li>2691</li>\n",
       "\t<li>2694</li>\n",
       "\t<li>2242</li>\n",
       "\t<li>2278</li>\n",
       "\t<li>2408</li>\n",
       "\t<li>2092</li>\n",
       "</ol>\n"
      ],
      "text/latex": [
       "\\begin{enumerate*}\n",
       "\\item 2596\n",
       "\\item 2431\n",
       "\\item 3285\n",
       "\\item 3193\n",
       "\\item 2613\n",
       "\\item 2432\n",
       "\\item 2196\n",
       "\\item 3325\n",
       "\\item 3273\n",
       "\\item 2646\n",
       "\\item 3758\n",
       "\\item 4420\n",
       "\\item 4122\n",
       "\\item 2793\n",
       "\\item 2328\n",
       "\\item 3298\n",
       "\\item 5149\n",
       "\\item 5079\n",
       "\\item 4885\n",
       "\\item 4525\n",
       "\\item 4374\n",
       "\\item 7668\n",
       "\\item 6576\n",
       "\\item 2748\n",
       "\\item 2836\n",
       "\\item 3558\n",
       "\\item 5468\n",
       "\\item 4533\n",
       "\\item 3434\n",
       "\\item 2869\n",
       "\\item 2151\n",
       "\\item 2295\n",
       "\\item 6334\n",
       "\\item 6203\n",
       "\\item 4055\n",
       "\\item 2999\n",
       "\\item 2562\n",
       "\\item 8055\n",
       "\\item 3278\n",
       "\\item 4450\n",
       "\\item 3440\n",
       "\\item 5083\n",
       "\\item 3801\n",
       "\\item 5829\n",
       "\\item 2465\n",
       "\\item 5170\n",
       "\\item 3383\n",
       "\\item 3077\n",
       "\\item 3801\n",
       "\\item 5829\n",
       "\\item 5170\n",
       "\\item 3383\n",
       "\\item 3077\n",
       "\\item 3936\n",
       "\\item 3356\n",
       "\\item 3547\n",
       "\\item 4375\n",
       "\\item 5042\n",
       "\\item 4360\n",
       "\\item 4105\n",
       "\\item 8740\n",
       "\\item 9531\n",
       "\\item 16503\n",
       "\\item 13567\n",
       "\\item 32993\n",
       "\\item 31439\n",
       "\\item 42855\n",
       "\\item 46253\n",
       "\\item 3645\n",
       "\\item 3817\n",
       "\\item 2079\n",
       "\\item 3771\n",
       "\\item 3958\n",
       "\\item 4910\n",
       "\\item 4203\n",
       "\\item 2389\n",
       "\\item 2424\n",
       "\\item 5275\n",
       "\\item 5213\n",
       "\\item 4120\n",
       "\\item 4174\n",
       "\\item 13094\n",
       "\\item 12883\n",
       "\\item 3936\n",
       "\\item 3356\n",
       "\\item 3547\n",
       "\\item 4375\n",
       "\\item 5042\n",
       "\\item 4360\n",
       "\\item 4105\n",
       "\\item 8740\n",
       "\\item 9531\n",
       "\\item 16503\n",
       "\\item 13537\n",
       "\\item 2522\n",
       "\\item 5145\n",
       "\\item 4558\n",
       "\\item 16131\n",
       "\\item 2414\n",
       "\\item 4940\n",
       "\\item 4141\n",
       "\\item 15121\n",
       "\\item 2679\n",
       "\\item 4586\n",
       "\\item 3377\n",
       "\\item 3633\n",
       "\\item 4852\n",
       "\\item 4430\n",
       "\\item 4080\n",
       "\\item 5115\n",
       "\\item 4111\n",
       "\\item 5907\n",
       "\\item 7118\n",
       "\\item 6477\n",
       "\\item 6677\n",
       "\\item 5195\n",
       "\\item 6623\n",
       "\\item 5851\n",
       "\\item 7195\n",
       "\\item 8302\n",
       "\\item 6401\n",
       "\\item 6741\n",
       "\\item 5459\n",
       "\\item 5843\n",
       "\\item 5781\n",
       "\\item 2280\n",
       "\\item 2145\n",
       "\\item 2828\n",
       "\\item 3104\n",
       "\\item 2559\n",
       "\\item 2429\n",
       "\\item 2691\n",
       "\\item 2694\n",
       "\\item 2242\n",
       "\\item 2278\n",
       "\\item 2408\n",
       "\\item 2092\n",
       "\\end{enumerate*}\n"
      ],
      "text/markdown": [
       "1. 2596\n",
       "2. 2431\n",
       "3. 3285\n",
       "4. 3193\n",
       "5. 2613\n",
       "6. 2432\n",
       "7. 2196\n",
       "8. 3325\n",
       "9. 3273\n",
       "10. 2646\n",
       "11. 3758\n",
       "12. 4420\n",
       "13. 4122\n",
       "14. 2793\n",
       "15. 2328\n",
       "16. 3298\n",
       "17. 5149\n",
       "18. 5079\n",
       "19. 4885\n",
       "20. 4525\n",
       "21. 4374\n",
       "22. 7668\n",
       "23. 6576\n",
       "24. 2748\n",
       "25. 2836\n",
       "26. 3558\n",
       "27. 5468\n",
       "28. 4533\n",
       "29. 3434\n",
       "30. 2869\n",
       "31. 2151\n",
       "32. 2295\n",
       "33. 6334\n",
       "34. 6203\n",
       "35. 4055\n",
       "36. 2999\n",
       "37. 2562\n",
       "38. 8055\n",
       "39. 3278\n",
       "40. 4450\n",
       "41. 3440\n",
       "42. 5083\n",
       "43. 3801\n",
       "44. 5829\n",
       "45. 2465\n",
       "46. 5170\n",
       "47. 3383\n",
       "48. 3077\n",
       "49. 3801\n",
       "50. 5829\n",
       "51. 5170\n",
       "52. 3383\n",
       "53. 3077\n",
       "54. 3936\n",
       "55. 3356\n",
       "56. 3547\n",
       "57. 4375\n",
       "58. 5042\n",
       "59. 4360\n",
       "60. 4105\n",
       "61. 8740\n",
       "62. 9531\n",
       "63. 16503\n",
       "64. 13567\n",
       "65. 32993\n",
       "66. 31439\n",
       "67. 42855\n",
       "68. 46253\n",
       "69. 3645\n",
       "70. 3817\n",
       "71. 2079\n",
       "72. 3771\n",
       "73. 3958\n",
       "74. 4910\n",
       "75. 4203\n",
       "76. 2389\n",
       "77. 2424\n",
       "78. 5275\n",
       "79. 5213\n",
       "80. 4120\n",
       "81. 4174\n",
       "82. 13094\n",
       "83. 12883\n",
       "84. 3936\n",
       "85. 3356\n",
       "86. 3547\n",
       "87. 4375\n",
       "88. 5042\n",
       "89. 4360\n",
       "90. 4105\n",
       "91. 8740\n",
       "92. 9531\n",
       "93. 16503\n",
       "94. 13537\n",
       "95. 2522\n",
       "96. 5145\n",
       "97. 4558\n",
       "98. 16131\n",
       "99. 2414\n",
       "100. 4940\n",
       "101. 4141\n",
       "102. 15121\n",
       "103. 2679\n",
       "104. 4586\n",
       "105. 3377\n",
       "106. 3633\n",
       "107. 4852\n",
       "108. 4430\n",
       "109. 4080\n",
       "110. 5115\n",
       "111. 4111\n",
       "112. 5907\n",
       "113. 7118\n",
       "114. 6477\n",
       "115. 6677\n",
       "116. 5195\n",
       "117. 6623\n",
       "118. 5851\n",
       "119. 7195\n",
       "120. 8302\n",
       "121. 6401\n",
       "122. 6741\n",
       "123. 5459\n",
       "124. 5843\n",
       "125. 5781\n",
       "126. 2280\n",
       "127. 2145\n",
       "128. 2828\n",
       "129. 3104\n",
       "130. 2559\n",
       "131. 2429\n",
       "132. 2691\n",
       "133. 2694\n",
       "134. 2242\n",
       "135. 2278\n",
       "136. 2408\n",
       "137. 2092\n",
       "\n",
       "\n"
      ],
      "text/plain": [
       "  [1]  2596  2431  3285  3193  2613  2432  2196  3325  3273  2646  3758  4420\n",
       " [13]  4122  2793  2328  3298  5149  5079  4885  4525  4374  7668  6576  2748\n",
       " [25]  2836  3558  5468  4533  3434  2869  2151  2295  6334  6203  4055  2999\n",
       " [37]  2562  8055  3278  4450  3440  5083  3801  5829  2465  5170  3383  3077\n",
       " [49]  3801  5829  5170  3383  3077  3936  3356  3547  4375  5042  4360  4105\n",
       " [61]  8740  9531 16503 13567 32993 31439 42855 46253  3645  3817  2079  3771\n",
       " [73]  3958  4910  4203  2389  2424  5275  5213  4120  4174 13094 12883  3936\n",
       " [85]  3356  3547  4375  5042  4360  4105  8740  9531 16503 13537  2522  5145\n",
       " [97]  4558 16131  2414  4940  4141 15121  2679  4586  3377  3633  4852  4430\n",
       "[109]  4080  5115  4111  5907  7118  6477  6677  5195  6623  5851  7195  8302\n",
       "[121]  6401  6741  5459  5843  5781  2280  2145  2828  3104  2559  2429  2691\n",
       "[133]  2694  2242  2278  2408  2092"
      ]
     },
     "metadata": {},
     "output_type": "display_data"
    }
   ],
   "source": [
    "lam_hat = round(rts.coulter[,6])\n",
    "idx = which(is.na(match(lam_hat,midprob$V1))) \n",
    "tmp = lam_hat[idx] # must be outside of 1:2000, 2100-10000 by 100, 11000-60000 by 1000\n",
    "tmp"
   ]
  },
  {
   "cell_type": "code",
   "execution_count": 16,
   "metadata": {
    "collapsed": false
   },
   "outputs": [
    {
     "data": {
      "text/html": [
       "<ol class=list-inline>\n",
       "\t<li>2600</li>\n",
       "\t<li>2400</li>\n",
       "\t<li>3300</li>\n",
       "\t<li>3200</li>\n",
       "\t<li>2600</li>\n",
       "\t<li>2400</li>\n",
       "\t<li>2200</li>\n",
       "\t<li>3300</li>\n",
       "\t<li>3300</li>\n",
       "\t<li>2600</li>\n",
       "\t<li>3800</li>\n",
       "\t<li>4400</li>\n",
       "\t<li>4100</li>\n",
       "\t<li>2800</li>\n",
       "\t<li>2300</li>\n",
       "\t<li>3300</li>\n",
       "\t<li>5100</li>\n",
       "\t<li>5100</li>\n",
       "\t<li>4900</li>\n",
       "\t<li>4500</li>\n",
       "\t<li>4400</li>\n",
       "\t<li>7700</li>\n",
       "\t<li>6600</li>\n",
       "\t<li>2700</li>\n",
       "\t<li>2800</li>\n",
       "\t<li>3600</li>\n",
       "\t<li>5500</li>\n",
       "\t<li>4500</li>\n",
       "\t<li>3400</li>\n",
       "\t<li>2900</li>\n",
       "\t<li>2200</li>\n",
       "\t<li>2300</li>\n",
       "\t<li>6300</li>\n",
       "\t<li>6200</li>\n",
       "\t<li>4100</li>\n",
       "\t<li>3000</li>\n",
       "\t<li>2600</li>\n",
       "\t<li>8100</li>\n",
       "\t<li>3300</li>\n",
       "\t<li>4400</li>\n",
       "\t<li>3400</li>\n",
       "\t<li>5100</li>\n",
       "\t<li>3800</li>\n",
       "\t<li>5800</li>\n",
       "\t<li>2500</li>\n",
       "\t<li>5200</li>\n",
       "\t<li>3400</li>\n",
       "\t<li>3100</li>\n",
       "\t<li>3800</li>\n",
       "\t<li>5800</li>\n",
       "\t<li>5200</li>\n",
       "\t<li>3400</li>\n",
       "\t<li>3100</li>\n",
       "\t<li>3900</li>\n",
       "\t<li>3400</li>\n",
       "\t<li>3500</li>\n",
       "\t<li>4400</li>\n",
       "\t<li>5000</li>\n",
       "\t<li>4400</li>\n",
       "\t<li>4100</li>\n",
       "\t<li>8700</li>\n",
       "\t<li>9500</li>\n",
       "\t<li>16000</li>\n",
       "\t<li>14000</li>\n",
       "\t<li>33000</li>\n",
       "\t<li>31000</li>\n",
       "\t<li>43000</li>\n",
       "\t<li>46000</li>\n",
       "\t<li>3600</li>\n",
       "\t<li>3800</li>\n",
       "\t<li>2100</li>\n",
       "\t<li>3800</li>\n",
       "\t<li>4000</li>\n",
       "\t<li>4900</li>\n",
       "\t<li>4200</li>\n",
       "\t<li>2400</li>\n",
       "\t<li>2400</li>\n",
       "\t<li>5300</li>\n",
       "\t<li>5200</li>\n",
       "\t<li>4100</li>\n",
       "\t<li>4200</li>\n",
       "\t<li>13000</li>\n",
       "\t<li>13000</li>\n",
       "\t<li>3900</li>\n",
       "\t<li>3400</li>\n",
       "\t<li>3500</li>\n",
       "\t<li>4400</li>\n",
       "\t<li>5000</li>\n",
       "\t<li>4400</li>\n",
       "\t<li>4100</li>\n",
       "\t<li>8700</li>\n",
       "\t<li>9500</li>\n",
       "\t<li>16000</li>\n",
       "\t<li>14000</li>\n",
       "\t<li>2500</li>\n",
       "\t<li>5100</li>\n",
       "\t<li>4600</li>\n",
       "\t<li>16000</li>\n",
       "\t<li>2400</li>\n",
       "\t<li>4900</li>\n",
       "\t<li>4100</li>\n",
       "\t<li>15000</li>\n",
       "\t<li>2700</li>\n",
       "\t<li>4600</li>\n",
       "\t<li>3400</li>\n",
       "\t<li>3600</li>\n",
       "\t<li>4900</li>\n",
       "\t<li>4400</li>\n",
       "\t<li>4100</li>\n",
       "\t<li>5100</li>\n",
       "\t<li>4100</li>\n",
       "\t<li>5900</li>\n",
       "\t<li>7100</li>\n",
       "\t<li>6500</li>\n",
       "\t<li>6700</li>\n",
       "\t<li>5200</li>\n",
       "\t<li>6600</li>\n",
       "\t<li>5900</li>\n",
       "\t<li>7200</li>\n",
       "\t<li>8300</li>\n",
       "\t<li>6400</li>\n",
       "\t<li>6700</li>\n",
       "\t<li>5500</li>\n",
       "\t<li>5800</li>\n",
       "\t<li>5800</li>\n",
       "\t<li>2300</li>\n",
       "\t<li>2100</li>\n",
       "\t<li>2800</li>\n",
       "\t<li>3100</li>\n",
       "\t<li>2600</li>\n",
       "\t<li>2400</li>\n",
       "\t<li>2700</li>\n",
       "\t<li>2700</li>\n",
       "\t<li>2200</li>\n",
       "\t<li>2300</li>\n",
       "\t<li>2400</li>\n",
       "\t<li>2100</li>\n",
       "</ol>\n"
      ],
      "text/latex": [
       "\\begin{enumerate*}\n",
       "\\item 2600\n",
       "\\item 2400\n",
       "\\item 3300\n",
       "\\item 3200\n",
       "\\item 2600\n",
       "\\item 2400\n",
       "\\item 2200\n",
       "\\item 3300\n",
       "\\item 3300\n",
       "\\item 2600\n",
       "\\item 3800\n",
       "\\item 4400\n",
       "\\item 4100\n",
       "\\item 2800\n",
       "\\item 2300\n",
       "\\item 3300\n",
       "\\item 5100\n",
       "\\item 5100\n",
       "\\item 4900\n",
       "\\item 4500\n",
       "\\item 4400\n",
       "\\item 7700\n",
       "\\item 6600\n",
       "\\item 2700\n",
       "\\item 2800\n",
       "\\item 3600\n",
       "\\item 5500\n",
       "\\item 4500\n",
       "\\item 3400\n",
       "\\item 2900\n",
       "\\item 2200\n",
       "\\item 2300\n",
       "\\item 6300\n",
       "\\item 6200\n",
       "\\item 4100\n",
       "\\item 3000\n",
       "\\item 2600\n",
       "\\item 8100\n",
       "\\item 3300\n",
       "\\item 4400\n",
       "\\item 3400\n",
       "\\item 5100\n",
       "\\item 3800\n",
       "\\item 5800\n",
       "\\item 2500\n",
       "\\item 5200\n",
       "\\item 3400\n",
       "\\item 3100\n",
       "\\item 3800\n",
       "\\item 5800\n",
       "\\item 5200\n",
       "\\item 3400\n",
       "\\item 3100\n",
       "\\item 3900\n",
       "\\item 3400\n",
       "\\item 3500\n",
       "\\item 4400\n",
       "\\item 5000\n",
       "\\item 4400\n",
       "\\item 4100\n",
       "\\item 8700\n",
       "\\item 9500\n",
       "\\item 16000\n",
       "\\item 14000\n",
       "\\item 33000\n",
       "\\item 31000\n",
       "\\item 43000\n",
       "\\item 46000\n",
       "\\item 3600\n",
       "\\item 3800\n",
       "\\item 2100\n",
       "\\item 3800\n",
       "\\item 4000\n",
       "\\item 4900\n",
       "\\item 4200\n",
       "\\item 2400\n",
       "\\item 2400\n",
       "\\item 5300\n",
       "\\item 5200\n",
       "\\item 4100\n",
       "\\item 4200\n",
       "\\item 13000\n",
       "\\item 13000\n",
       "\\item 3900\n",
       "\\item 3400\n",
       "\\item 3500\n",
       "\\item 4400\n",
       "\\item 5000\n",
       "\\item 4400\n",
       "\\item 4100\n",
       "\\item 8700\n",
       "\\item 9500\n",
       "\\item 16000\n",
       "\\item 14000\n",
       "\\item 2500\n",
       "\\item 5100\n",
       "\\item 4600\n",
       "\\item 16000\n",
       "\\item 2400\n",
       "\\item 4900\n",
       "\\item 4100\n",
       "\\item 15000\n",
       "\\item 2700\n",
       "\\item 4600\n",
       "\\item 3400\n",
       "\\item 3600\n",
       "\\item 4900\n",
       "\\item 4400\n",
       "\\item 4100\n",
       "\\item 5100\n",
       "\\item 4100\n",
       "\\item 5900\n",
       "\\item 7100\n",
       "\\item 6500\n",
       "\\item 6700\n",
       "\\item 5200\n",
       "\\item 6600\n",
       "\\item 5900\n",
       "\\item 7200\n",
       "\\item 8300\n",
       "\\item 6400\n",
       "\\item 6700\n",
       "\\item 5500\n",
       "\\item 5800\n",
       "\\item 5800\n",
       "\\item 2300\n",
       "\\item 2100\n",
       "\\item 2800\n",
       "\\item 3100\n",
       "\\item 2600\n",
       "\\item 2400\n",
       "\\item 2700\n",
       "\\item 2700\n",
       "\\item 2200\n",
       "\\item 2300\n",
       "\\item 2400\n",
       "\\item 2100\n",
       "\\end{enumerate*}\n"
      ],
      "text/markdown": [
       "1. 2600\n",
       "2. 2400\n",
       "3. 3300\n",
       "4. 3200\n",
       "5. 2600\n",
       "6. 2400\n",
       "7. 2200\n",
       "8. 3300\n",
       "9. 3300\n",
       "10. 2600\n",
       "11. 3800\n",
       "12. 4400\n",
       "13. 4100\n",
       "14. 2800\n",
       "15. 2300\n",
       "16. 3300\n",
       "17. 5100\n",
       "18. 5100\n",
       "19. 4900\n",
       "20. 4500\n",
       "21. 4400\n",
       "22. 7700\n",
       "23. 6600\n",
       "24. 2700\n",
       "25. 2800\n",
       "26. 3600\n",
       "27. 5500\n",
       "28. 4500\n",
       "29. 3400\n",
       "30. 2900\n",
       "31. 2200\n",
       "32. 2300\n",
       "33. 6300\n",
       "34. 6200\n",
       "35. 4100\n",
       "36. 3000\n",
       "37. 2600\n",
       "38. 8100\n",
       "39. 3300\n",
       "40. 4400\n",
       "41. 3400\n",
       "42. 5100\n",
       "43. 3800\n",
       "44. 5800\n",
       "45. 2500\n",
       "46. 5200\n",
       "47. 3400\n",
       "48. 3100\n",
       "49. 3800\n",
       "50. 5800\n",
       "51. 5200\n",
       "52. 3400\n",
       "53. 3100\n",
       "54. 3900\n",
       "55. 3400\n",
       "56. 3500\n",
       "57. 4400\n",
       "58. 5000\n",
       "59. 4400\n",
       "60. 4100\n",
       "61. 8700\n",
       "62. 9500\n",
       "63. 16000\n",
       "64. 14000\n",
       "65. 33000\n",
       "66. 31000\n",
       "67. 43000\n",
       "68. 46000\n",
       "69. 3600\n",
       "70. 3800\n",
       "71. 2100\n",
       "72. 3800\n",
       "73. 4000\n",
       "74. 4900\n",
       "75. 4200\n",
       "76. 2400\n",
       "77. 2400\n",
       "78. 5300\n",
       "79. 5200\n",
       "80. 4100\n",
       "81. 4200\n",
       "82. 13000\n",
       "83. 13000\n",
       "84. 3900\n",
       "85. 3400\n",
       "86. 3500\n",
       "87. 4400\n",
       "88. 5000\n",
       "89. 4400\n",
       "90. 4100\n",
       "91. 8700\n",
       "92. 9500\n",
       "93. 16000\n",
       "94. 14000\n",
       "95. 2500\n",
       "96. 5100\n",
       "97. 4600\n",
       "98. 16000\n",
       "99. 2400\n",
       "100. 4900\n",
       "101. 4100\n",
       "102. 15000\n",
       "103. 2700\n",
       "104. 4600\n",
       "105. 3400\n",
       "106. 3600\n",
       "107. 4900\n",
       "108. 4400\n",
       "109. 4100\n",
       "110. 5100\n",
       "111. 4100\n",
       "112. 5900\n",
       "113. 7100\n",
       "114. 6500\n",
       "115. 6700\n",
       "116. 5200\n",
       "117. 6600\n",
       "118. 5900\n",
       "119. 7200\n",
       "120. 8300\n",
       "121. 6400\n",
       "122. 6700\n",
       "123. 5500\n",
       "124. 5800\n",
       "125. 5800\n",
       "126. 2300\n",
       "127. 2100\n",
       "128. 2800\n",
       "129. 3100\n",
       "130. 2600\n",
       "131. 2400\n",
       "132. 2700\n",
       "133. 2700\n",
       "134. 2200\n",
       "135. 2300\n",
       "136. 2400\n",
       "137. 2100\n",
       "\n",
       "\n"
      ],
      "text/plain": [
       "  [1]  2600  2400  3300  3200  2600  2400  2200  3300  3300  2600  3800  4400\n",
       " [13]  4100  2800  2300  3300  5100  5100  4900  4500  4400  7700  6600  2700\n",
       " [25]  2800  3600  5500  4500  3400  2900  2200  2300  6300  6200  4100  3000\n",
       " [37]  2600  8100  3300  4400  3400  5100  3800  5800  2500  5200  3400  3100\n",
       " [49]  3800  5800  5200  3400  3100  3900  3400  3500  4400  5000  4400  4100\n",
       " [61]  8700  9500 16000 14000 33000 31000 43000 46000  3600  3800  2100  3800\n",
       " [73]  4000  4900  4200  2400  2400  5300  5200  4100  4200 13000 13000  3900\n",
       " [85]  3400  3500  4400  5000  4400  4100  8700  9500 16000 14000  2500  5100\n",
       " [97]  4600 16000  2400  4900  4100 15000  2700  4600  3400  3600  4900  4400\n",
       "[109]  4100  5100  4100  5900  7100  6500  6700  5200  6600  5900  7200  8300\n",
       "[121]  6400  6700  5500  5800  5800  2300  2100  2800  3100  2600  2400  2700\n",
       "[133]  2700  2200  2300  2400  2100"
      ]
     },
     "metadata": {},
     "output_type": "display_data"
    }
   ],
   "source": [
    "tmp = round(tmp / 100) * 100\n",
    "tmp[tmp > 10000] = round(tmp[tmp > 10000] / 1000) * 1000\n",
    "tmp"
   ]
  },
  {
   "cell_type": "code",
   "execution_count": 17,
   "metadata": {
    "collapsed": false
   },
   "outputs": [
    {
     "data": {
      "text/html": [],
      "text/latex": [],
      "text/markdown": [],
      "text/plain": [
       "integer(0)"
      ]
     },
     "metadata": {},
     "output_type": "display_data"
    }
   ],
   "source": [
    "lam_hat[idx] = tmp\n",
    "which(is.na(match(lam_hat,midprob$V1)))"
   ]
  },
  {
   "cell_type": "markdown",
   "metadata": {},
   "source": [
    "# RTS Coulter"
   ]
  },
  {
   "cell_type": "code",
   "execution_count": 18,
   "metadata": {
    "collapsed": false
   },
   "outputs": [
    {
     "name": "stdout",
     "output_type": "stream",
     "text": [
      "[1] \"number of mean containing triplets in RTS coulter data is: \"\n"
     ]
    },
    {
     "data": {
      "text/html": [
       "176"
      ],
      "text/latex": [
       "176"
      ],
      "text/markdown": [
       "176"
      ],
      "text/plain": [
       "[1] 176"
      ]
     },
     "metadata": {},
     "output_type": "display_data"
    }
   ],
   "source": [
    "print('number of mean containing triplets in RTS coulter data is: ')\n",
    "sum(apply(rts.coulter[3:6],1, function(x) any(round(x[4]) %in% x[1:3])))"
   ]
  },
  {
   "cell_type": "code",
   "execution_count": 19,
   "metadata": {
    "collapsed": false
   },
   "outputs": [
    {
     "name": "stdout",
     "output_type": "stream",
     "text": [
      "[1] \"p-value using poission binomial in RTS coulter data is:\"\n"
     ]
    },
    {
     "data": {
      "text/html": [
       "1.57873714101697e-13"
      ],
      "text/latex": [
       "1.57873714101697e-13"
      ],
      "text/markdown": [
       "1.57873714101697e-13"
      ],
      "text/plain": [
       "[1] 1.578737e-13"
      ]
     },
     "metadata": {},
     "output_type": "display_data"
    }
   ],
   "source": [
    "print('p-value using poission binomial in RTS coulter data is:')\n",
    "\n",
    "lam_hat = round(rts.coulter[,6])\n",
    "idx = which(is.na(match(lam_hat,midprob$V1)))\n",
    "tmp = lam_hat[idx]\n",
    "tmp = round(tmp / 100) * 100\n",
    "tmp[tmp > 10000] = round(tmp[tmp > 10000] / 1000) * 1000\n",
    "lam_hat[idx] = tmp\n",
    "\n",
    "1 - ppoibin(176 - 1,midprob[match(lam_hat, midprob$V1),2])"
   ]
  },
  {
   "cell_type": "markdown",
   "metadata": {},
   "source": [
    "# Others Coulter"
   ]
  },
  {
   "cell_type": "code",
   "execution_count": 20,
   "metadata": {
    "collapsed": false
   },
   "outputs": [
    {
     "name": "stdout",
     "output_type": "stream",
     "text": [
      "[1] \"number of mean containing triplets in others coulter data is: \"\n"
     ]
    },
    {
     "data": {
      "text/html": [
       "36"
      ],
      "text/latex": [
       "36"
      ],
      "text/markdown": [
       "36"
      ],
      "text/plain": [
       "[1] 36"
      ]
     },
     "metadata": {},
     "output_type": "display_data"
    }
   ],
   "source": [
    "print('number of mean containing triplets in others coulter data is: ')\n",
    "sum(apply(others.coulter[3:6],1, function(x) any(round(x[4]) %in% x[1:3])))"
   ]
  },
  {
   "cell_type": "code",
   "execution_count": 21,
   "metadata": {
    "collapsed": false
   },
   "outputs": [
    {
     "name": "stdout",
     "output_type": "stream",
     "text": [
      "[1] \"p-value using poission binomial in others coulter data is:\"\n"
     ]
    },
    {
     "data": {
      "text/html": [
       "0.758275963551517"
      ],
      "text/latex": [
       "0.758275963551517"
      ],
      "text/markdown": [
       "0.758275963551517"
      ],
      "text/plain": [
       "[1] 0.758276"
      ]
     },
     "metadata": {},
     "output_type": "display_data"
    }
   ],
   "source": [
    "print('p-value using poission binomial in others coulter data is:')\n",
    "\n",
    "lam_hat = round(others.coulter[,6])\n",
    "idx = which(is.na(match(lam_hat,midprob$V1)))\n",
    "tmp = lam_hat[idx]\n",
    "tmp = round(tmp / 100) * 100\n",
    "tmp[tmp > 10000] = round(tmp[tmp > 10000] / 1000) * 1000\n",
    "lam_hat[idx] = tmp \n",
    "\n",
    "1 - ppoibin(36 - 1,midprob[match(lam_hat, midprob$V1),2])"
   ]
  },
  {
   "cell_type": "code",
   "execution_count": null,
   "metadata": {
    "collapsed": true
   },
   "outputs": [],
   "source": []
  }
 ],
 "metadata": {
  "kernelspec": {
   "display_name": "Python 3",
   "language": "python",
   "name": "python3"
  },
  "language_info": {
   "codemirror_mode": {
    "name": "ipython",
    "version": 3
   },
   "file_extension": ".py",
   "mimetype": "text/x-python",
   "name": "python",
   "nbconvert_exporter": "python",
   "pygments_lexer": "ipython3",
   "version": "3.4.5"
  }
 },
 "nbformat": 4,
 "nbformat_minor": 0
}
