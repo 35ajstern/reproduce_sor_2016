{
 "cells": [
  {
   "cell_type": "markdown",
   "metadata": {},
   "source": [
    "# Equal digit analysis\n",
    "## Coulter count data\n",
    "\n",
    "### Aaron Stern\n",
    "\n",
    "Summary: this notebook finds overall consistency with the the authors' report. The only exceptions are minute differences (e.g. number of equal digit pairs = 636 vs 644) presmu"
   ]
  },
  {
   "cell_type": "code",
   "execution_count": 2,
   "metadata": {
    "collapsed": false
   },
   "outputs": [],
   "source": [
    "import numpy as np\n",
    "import scipy.stats as stats\n",
    "from __future__ import division, generators, absolute_import, print_function\n",
    "from openpyxl import load_workbook\n",
    "\n",
    "import matplotlib.pyplot as plt\n",
    "\n",
    "%matplotlib inline\n",
    "\n",
    "DATA_DIR = '../data/'"
   ]
  },
  {
   "cell_type": "markdown",
   "metadata": {},
   "source": [
    "RTS"
   ]
  },
  {
   "cell_type": "code",
   "execution_count": 13,
   "metadata": {
    "collapsed": false,
    "scrolled": true
   },
   "outputs": [
    {
     "name": "stdout",
     "output_type": "stream",
     "text": [
      "E 542\n",
      "E 1252\n"
     ]
    },
    {
     "data": {
      "text/plain": [
       "8.1076654279144122e-09"
      ]
     },
     "execution_count": 13,
     "metadata": {},
     "output_type": "execute_result"
    }
   ],
   "source": [
    "DATA_DIR = '../data/'\n",
    "wb = load_workbook(DATA_DIR + 'Bishayee Coulter Counts.10.20.97-7.16.01.xlsx') \n",
    "\n",
    "ws = wb.get_sheet_by_name('Sheet1')\n",
    "rawData = []\n",
    "\n",
    "for i in range(3, 1732):\n",
    "    for col in ['C','D','E']:\n",
    "        try:\n",
    "            rawData.append(float(ws[col + str(i)].value))\n",
    "        except:\n",
    "            # if empty cell, report location in spreadsheet\n",
    "            print(col,i)\n",
    "\n",
    "eq = 0\n",
    "for count in rawData:\n",
    "    if (count - count % 10)/10 % 10  == count % 10:\n",
    "        eq += 1\n",
    "        \n",
    "1 - stats.binom.cdf(eq,len(rawData),0.1)"
   ]
  },
  {
   "cell_type": "markdown",
   "metadata": {},
   "source": [
    "### Other investigators in lab"
   ]
  },
  {
   "cell_type": "code",
   "execution_count": 15,
   "metadata": {
    "collapsed": true
   },
   "outputs": [
    {
     "name": "stdout",
     "output_type": "stream",
     "text": [
      "E 61\n",
      "E 62\n",
      "E 63\n",
      "E 64\n",
      "E 66\n",
      "E 67\n",
      "E 68\n",
      "E 69\n",
      "E 70\n",
      "E 71\n",
      "E 72\n",
      "E 73\n",
      "E 74\n",
      "E 75\n",
      "E 76\n",
      "E 77\n",
      "E 78\n",
      "E 79\n",
      "E 80\n",
      "E 81\n",
      "E 82\n",
      "E 83\n",
      "E 84\n",
      "E 85\n",
      "E 86\n",
      "E 87\n",
      "E 88\n",
      "E 99\n",
      "E 100\n",
      "E 101\n",
      "E 102\n",
      "E 103\n",
      "E 104\n",
      "E 105\n",
      "E 106\n",
      "E 107\n",
      "E 108\n",
      "E 109\n",
      "E 110\n",
      "E 111\n",
      "E 112\n",
      "E 113\n",
      "E 114\n",
      "E 115\n",
      "E 116\n",
      "E 117\n",
      "E 118\n",
      "E 133\n",
      "E 134\n",
      "E 135\n",
      "E 136\n",
      "E 137\n",
      "E 138\n",
      "E 314\n",
      "E 315\n",
      "E 316\n",
      "E 317\n",
      "E 318\n",
      "E 319\n",
      "E 323\n",
      "E 324\n",
      "E 325\n",
      "E 327\n",
      "E 463\n",
      "C 673\n",
      "E 696\n",
      "D 704\n",
      "E 704\n",
      "E 719\n",
      "E 724\n",
      "E 725\n",
      "E 726\n",
      "E 727\n",
      "E 728\n",
      "E 781\n",
      "E 814\n",
      "E 867\n",
      "E 970\n",
      "E 972\n"
     ]
    },
    {
     "data": {
      "text/plain": [
       "0.56274856153791086"
      ]
     },
     "execution_count": 15,
     "metadata": {},
     "output_type": "execute_result"
    }
   ],
   "source": [
    "wb = load_workbook(DATA_DIR + 'Other Investigators in Lab.Coulter Counts.4.15.92-5.21.05.xlsx') \n",
    "\n",
    "ws = wb.get_sheet_by_name('Sheet1')\n",
    "rawData = []\n",
    "\n",
    "for i in range(3, 1010):\n",
    "    for col in ['C','D','E']:\n",
    "        try:\n",
    "            rawData.append(float(ws[col + str(i)].value))\n",
    "        except:\n",
    "            # if empty cell, report location in spreadsheet\n",
    "            print(col,i)\n",
    "            \n",
    "eq = 0\n",
    "for count in rawData:\n",
    "    if (count - count % 10)/10 % 10  == count % 10:\n",
    "        eq += 1"
   ]
  },
  {
   "cell_type": "code",
   "execution_count": 16,
   "metadata": {
    "collapsed": false
   },
   "outputs": [
    {
     "data": {
      "text/plain": [
       "0.56274856153791086"
      ]
     },
     "execution_count": 16,
     "metadata": {},
     "output_type": "execute_result"
    }
   ],
   "source": [
    "1 - stats.binom.cdf(eq,len(rawData),0.1)"
   ]
  },
  {
   "cell_type": "markdown",
   "metadata": {},
   "source": [
    "### Outside labs"
   ]
  },
  {
   "cell_type": "code",
   "execution_count": 17,
   "metadata": {
    "collapsed": true
   },
   "outputs": [
    {
     "name": "stdout",
     "output_type": "stream",
     "text": [
      "D 41\n",
      "D 42\n",
      "D 43\n",
      "D 44\n",
      "D 45\n",
      "D 46\n",
      "D 47\n",
      "D 48\n",
      "D 49\n",
      "D 50\n",
      "D 51\n",
      "D 52\n"
     ]
    }
   ],
   "source": [
    "wb = load_workbook(DATA_DIR + 'Outside Lab 1.Coulter Counts.6.7.91-4.9.99.xlsx') \n",
    "\n",
    "ws = wb.get_sheet_by_name('Sheet1')\n",
    "rawData = []\n",
    "\n",
    "for i in range(2, 111):\n",
    "    for col in ['B','C','D']:\n",
    "        try:\n",
    "            rawData.append(float(ws[col + str(i)].value))\n",
    "        except:\n",
    "            # if empty cell, report location in spreadsheet\n",
    "            print(col,i)\n",
    "\n",
    "eq = 0\n",
    "for count in rawData:\n",
    "    if (count - count % 10)/10 % 10  == count % 10:\n",
    "        eq += 1"
   ]
  },
  {
   "cell_type": "code",
   "execution_count": 18,
   "metadata": {
    "collapsed": false
   },
   "outputs": [
    {
     "data": {
      "text/plain": [
       "0.41608665899966624"
      ]
     },
     "execution_count": 18,
     "metadata": {},
     "output_type": "execute_result"
    }
   ],
   "source": [
    "1 - stats.binom.cdf(eq,len(rawData),0.1)"
   ]
  },
  {
   "cell_type": "code",
   "execution_count": 19,
   "metadata": {
    "collapsed": true
   },
   "outputs": [],
   "source": [
    "wb = load_workbook(DATA_DIR + 'Outside Lab 2.Coulter Counts.6.6.08-7.7.08.xlsx') \n",
    "rawData = []\n",
    "ws = wb.get_sheet_by_name('Sheet1')         \n",
    "            \n",
    "for i in range(3, 123):\n",
    "    for col in ['B','C','D']:\n",
    "        try:\n",
    "            rawData.append(float(ws[col + str(i)].value))\n",
    "        except:\n",
    "            # if empty cell, report location in spreadsheet\n",
    "            print(col,i)"
   ]
  },
  {
   "cell_type": "code",
   "execution_count": 20,
   "metadata": {
    "collapsed": false
   },
   "outputs": [
    {
     "data": {
      "text/plain": [
       "0.72578603959485988"
      ]
     },
     "execution_count": 20,
     "metadata": {},
     "output_type": "execute_result"
    }
   ],
   "source": [
    "1 - stats.binom.cdf(eq,len(rawData),0.1)"
   ]
  },
  {
   "cell_type": "code",
   "execution_count": null,
   "metadata": {
    "collapsed": true
   },
   "outputs": [],
   "source": []
  }
 ],
 "metadata": {
  "kernelspec": {
   "display_name": "Python 3",
   "language": "python",
   "name": "python3"
  },
  "language_info": {
   "codemirror_mode": {
    "name": "ipython",
    "version": 3
   },
   "file_extension": ".py",
   "mimetype": "text/x-python",
   "name": "python",
   "nbconvert_exporter": "python",
   "pygments_lexer": "ipython3",
   "version": "3.5.2"
  }
 },
 "nbformat": 4,
 "nbformat_minor": 1
}
