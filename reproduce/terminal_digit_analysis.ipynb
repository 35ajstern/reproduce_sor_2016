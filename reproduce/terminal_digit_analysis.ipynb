{
 "cells": [
  {
   "cell_type": "markdown",
   "metadata": {},
   "source": [
    "# Terminal digit analysis\n",
    "### Aaron Stern"
   ]
  },
  {
   "cell_type": "markdown",
   "metadata": {},
   "source": [
    "Summary: this notebook is consistent with the findings of the authors.\n",
    "\n",
    "_______"
   ]
  },
  {
   "cell_type": "markdown",
   "metadata": {},
   "source": [
    "The authors claim: *\"[W]e also ran simulations generating data sets of triples of independent identical Poisson random variables with comparable means, and the distributions of terminal digits in these sets were consistent with the hypothesis of uniformity.\"*"
   ]
  },
  {
   "cell_type": "code",
   "execution_count": 19,
   "metadata": {
    "collapsed": true
   },
   "outputs": [],
   "source": [
    "import numpy as np\n",
    "import scipy.stats as stats\n",
    "from __future__ import division, generators, absolute_import, print_function\n",
    "from openpyxl import load_workbook\n",
    "\n",
    "import matplotlib.pyplot as plt\n",
    "\n",
    "%matplotlib inline"
   ]
  },
  {
   "cell_type": "code",
   "execution_count": 42,
   "metadata": {
    "collapsed": false
   },
   "outputs": [],
   "source": [
    "terminal_digit=[]\n",
    "td_se = []\n",
    "for l in np.logspace(0,2,100):\n",
    "    digits = np.mod(np.random.poisson(l,size=10000),10)\n",
    "    terminal_digit.append(np.mean(digits))\n",
    "    td_se.append(np.std(digits))\n",
    "    "
   ]
  },
  {
   "cell_type": "markdown",
   "metadata": {},
   "source": [
    "Somewhat obviously, this is a bad approximation for $\\lambda \\approx 10$. We investigated further by simulating $N=10000$ Pois RVs and calculating their mean terminal digit."
   ]
  },
  {
   "cell_type": "code",
   "execution_count": 49,
   "metadata": {
    "collapsed": false
   },
   "outputs": [
    {
     "data": {
      "text/plain": [
       "<matplotlib.text.Text at 0x12e133890>"
      ]
     },
     "execution_count": 49,
     "metadata": {},
     "output_type": "execute_result"
    },
    {
     "data": {
      "image/png": "[encoded data removed]",
      "text/plain": [
       "<matplotlib.figure.Figure at 0x12d6daf10>"
      ]
     },
     "metadata": {},
     "output_type": "display_data"
    }
   ],
   "source": [
    "plt.semilogx(np.logspace(0,2,100),terminal_digit,'o')\n",
    "plt.ylabel('mean terminal digit')\n",
    "plt.xlabel(r'$\\lambda$')"
   ]
  },
  {
   "cell_type": "markdown",
   "metadata": {},
   "source": [
    "___________\n",
    "\n",
    "\n",
    "## Application of terminal digits analysis to the datasets\n",
    "\n",
    "### Colony counts: RTS"
   ]
  },
  {
   "cell_type": "code",
   "execution_count": 183,
   "metadata": {
    "collapsed": false
   },
   "outputs": [],
   "source": [
    "DATA_DIR = '../data/'\n",
    "wb = load_workbook(DATA_DIR + 'Bishayee Colony Counts 10.27.97-3.8.01.xlsx') "
   ]
  },
  {
   "cell_type": "code",
   "execution_count": 184,
   "metadata": {
    "collapsed": false
   },
   "outputs": [
    {
     "name": "stdout",
     "output_type": "stream",
     "text": [
      "F 23\n"
     ]
    }
   ],
   "source": [
    "# code courtesy of Hue \n",
    "\n",
    "ws = wb.get_sheet_by_name('Sheet1')\n",
    "rawData = []\n",
    "\n",
    "for i in range(4, 1366):\n",
    "    for col in ['D','E','F']:\n",
    "        try:\n",
    "            rawData.append(float(ws[col + str(i)].value))\n",
    "        except:\n",
    "            # if empty cell, report location in spreadsheet\n",
    "            print(col,i)"
   ]
  },
  {
   "cell_type": "code",
   "execution_count": 185,
   "metadata": {
    "collapsed": false
   },
   "outputs": [],
   "source": [
    "terminal_digit = [np.mod(c,10) for c in rawData]"
   ]
  },
  {
   "cell_type": "code",
   "execution_count": 186,
   "metadata": {
    "collapsed": false
   },
   "outputs": [
    {
     "data": {
      "text/plain": [
       "<matplotlib.text.Text at 0x129cde790>"
      ]
     },
     "execution_count": 186,
     "metadata": {},
     "output_type": "execute_result"
    },
    {
     "data": {
      "image/png": "[encoded data removed]",
      "text/plain": [
       "<matplotlib.figure.Figure at 0x128ab7550>"
      ]
     },
     "metadata": {},
     "output_type": "display_data"
    }
   ],
   "source": [
    "counts = plt.hist(terminal_digit)\n",
    "plt.ylabel('counts')\n",
    "plt.xlabel('terminal digit of colony count')"
   ]
  },
  {
   "cell_type": "code",
   "execution_count": 187,
   "metadata": {
    "collapsed": false
   },
   "outputs": [],
   "source": [
    "chisq=0\n",
    "exp = np.sum(counts[0])/10\n",
    "for (i,c) in enumerate(counts[0]):\n",
    "    chisq += (c-exp)**2/exp"
   ]
  },
  {
   "cell_type": "code",
   "execution_count": 188,
   "metadata": {
    "collapsed": false
   },
   "outputs": [
    {
     "name": "stdout",
     "output_type": "stream",
     "text": [
      "200.725826193\n",
      "0.0\n"
     ]
    }
   ],
   "source": [
    "print(chisq)\n",
    "print(1-stats.chi2.cdf(chisq,9))"
   ]
  },
  {
   "cell_type": "markdown",
   "metadata": {},
   "source": [
    "**TODO:** examine mean count. Is it low? High?"
   ]
  },
  {
   "cell_type": "markdown",
   "metadata": {},
   "source": [
    "### Colony counts: Others"
   ]
  },
  {
   "cell_type": "code",
   "execution_count": 189,
   "metadata": {
    "collapsed": true
   },
   "outputs": [
    {
     "name": "stdout",
     "output_type": "stream",
     "text": [
      "F 32\n",
      "F 35\n",
      "F 37\n",
      "F 38\n",
      "F 39\n",
      "F 41\n",
      "F 241\n",
      "E 270\n",
      "F 270\n",
      "F 308\n",
      "F 363\n",
      "F 428\n",
      "F 429\n",
      "F 431\n",
      "F 439\n",
      "F 506\n",
      "F 507\n",
      "E 517\n",
      "F 534\n",
      "F 555\n",
      "F 569\n",
      "E 576\n",
      "F 576\n",
      "E 599\n",
      "F 599\n",
      "E 600\n",
      "F 600\n",
      "E 601\n",
      "F 601\n",
      "D 624\n",
      "E 624\n",
      "F 624\n",
      "D 625\n",
      "E 625\n",
      "F 625\n",
      "1834.0\n"
     ]
    },
    {
     "data": {
      "image/png": "[encoded data removed]",
      "text/plain": [
       "<matplotlib.figure.Figure at 0x129c79350>"
      ]
     },
     "metadata": {},
     "output_type": "display_data"
    }
   ],
   "source": [
    "DATA_DIR = '../data/'\n",
    "wb = load_workbook(DATA_DIR + 'Other Investigators in Lab.Colony Counts.4.23.92-11.27.02.xlsx') \n",
    "\n",
    "ws = wb.get_sheet_by_name('Sheet1')\n",
    "rawData = []\n",
    "\n",
    "for i in range(3, 626):\n",
    "    for col in ['D','E','F']:\n",
    "        try:\n",
    "            rawData.append(float(ws[col + str(i)].value))\n",
    "        except:\n",
    "            # if empty cell, report location in spreadsheet\n",
    "            print(col,i)\n",
    "            \n",
    "terminal_digit = [np.mod(c,10) for c in rawData]\n",
    "counts = plt.hist(terminal_digit)\n",
    "plt.ylabel('counts')\n",
    "plt.xlabel('terminal digit of colony count')\n",
    "\n",
    "chisq=0\n",
    "exp = np.sum(counts[0])/10\n",
    "\n",
    "print(sum(counts[0]))\n",
    "\n",
    "for (i,c) in enumerate(counts[0]):\n",
    "    chisq += (c-exp)**2/exp"
   ]
  },
  {
   "cell_type": "code",
   "execution_count": 190,
   "metadata": {
    "collapsed": false
   },
   "outputs": [
    {
     "name": "stdout",
     "output_type": "stream",
     "text": [
      "1.79062159215\n",
      "0.994362533772\n"
     ]
    }
   ],
   "source": [
    "print(chisq)\n",
    "print(1-stats.chi2.cdf(chisq,9))"
   ]
  },
  {
   "cell_type": "markdown",
   "metadata": {},
   "source": [
    "### Outside lab colony counts"
   ]
  },
  {
   "cell_type": "code",
   "execution_count": 191,
   "metadata": {
    "collapsed": false
   },
   "outputs": [
    {
     "data": {
      "image/png": "[encoded data removed]",
      "text/plain": [
       "<matplotlib.figure.Figure at 0x111b4f9d0>"
      ]
     },
     "metadata": {},
     "output_type": "display_data"
    }
   ],
   "source": [
    "DATA_DIR = '../data/'\n",
    "wb = load_workbook(DATA_DIR + 'Outside Lab 3.Colony Counts.2.4.10-5.21.12.xlsx') \n",
    "\n",
    "ws = wb.get_sheet_by_name('Sheet1')\n",
    "rawData = []\n",
    "\n",
    "for i in range(3, 53):\n",
    "    for col in ['B','C','D']:\n",
    "        try:\n",
    "            rawData.append(float(ws[col + str(i)].value))\n",
    "        except:\n",
    "            # if empty cell, report location in spreadsheet\n",
    "            print(col,i)\n",
    "            \n",
    "terminal_digit = [np.mod(c,10) for c in rawData]\n",
    "counts = plt.hist(terminal_digit)\n",
    "plt.ylabel('counts')\n",
    "plt.xlabel('terminal digit of colony count')\n",
    "\n",
    "chisq=0\n",
    "exp = np.sum(counts[0])/10\n",
    "for (i,c) in enumerate(counts[0]):\n",
    "    chisq += (c-exp)**2/exp"
   ]
  },
  {
   "cell_type": "code",
   "execution_count": 192,
   "metadata": {
    "collapsed": false
   },
   "outputs": [
    {
     "name": "stdout",
     "output_type": "stream",
     "text": [
      "12.1333333333\n",
      "0.205896575103\n"
     ]
    }
   ],
   "source": [
    "print(chisq)\n",
    "print(1-stats.chi2.cdf(chisq,9))"
   ]
  },
  {
   "cell_type": "markdown",
   "metadata": {},
   "source": [
    "### Coulter counts: RTS"
   ]
  },
  {
   "cell_type": "code",
   "execution_count": 193,
   "metadata": {
    "collapsed": true
   },
   "outputs": [
    {
     "name": "stdout",
     "output_type": "stream",
     "text": [
      "E 542\n",
      "E 1252\n"
     ]
    },
    {
     "data": {
      "image/png": "[encoded data removed]",
      "text/plain": [
       "<matplotlib.figure.Figure at 0x111b84850>"
      ]
     },
     "metadata": {},
     "output_type": "display_data"
    }
   ],
   "source": [
    "DATA_DIR = '../data/'\n",
    "wb = load_workbook(DATA_DIR + 'Bishayee Coulter Counts.10.20.97-7.16.01.xlsx') \n",
    "\n",
    "ws = wb.get_sheet_by_name('Sheet1')\n",
    "rawData = []\n",
    "\n",
    "for i in range(3, 1732):\n",
    "    for col in ['C','D','E']:\n",
    "        try:\n",
    "            rawData.append(float(ws[col + str(i)].value))\n",
    "        except:\n",
    "            # if empty cell, report location in spreadsheet\n",
    "            print(col,i)\n",
    "            \n",
    "terminal_digit = [np.mod(c,10) for c in rawData]\n",
    "counts = plt.hist(terminal_digit)\n",
    "plt.ylabel('counts')\n",
    "plt.xlabel('terminal digit of colony count')\n",
    "\n",
    "chisq=0\n",
    "exp = np.sum(counts[0])/10\n",
    "for (i,c) in enumerate(counts[0]):\n",
    "    chisq += (c-exp)**2/exp"
   ]
  },
  {
   "cell_type": "code",
   "execution_count": 194,
   "metadata": {
    "collapsed": false
   },
   "outputs": [
    {
     "name": "stdout",
     "output_type": "stream",
     "text": [
      "466.87463838\n",
      "0.0\n"
     ]
    }
   ],
   "source": [
    "print(chisq)\n",
    "print(1-stats.chi2.cdf(chisq,9))"
   ]
  },
  {
   "cell_type": "markdown",
   "metadata": {},
   "source": [
    "### Coulter counts: Others"
   ]
  },
  {
   "cell_type": "code",
   "execution_count": 195,
   "metadata": {
    "collapsed": true
   },
   "outputs": [
    {
     "name": "stdout",
     "output_type": "stream",
     "text": [
      "E 61\n",
      "E 62\n",
      "E 63\n",
      "E 64\n",
      "E 66\n",
      "E 67\n",
      "E 68\n",
      "E 69\n",
      "E 70\n",
      "E 71\n",
      "E 72\n",
      "E 73\n",
      "E 74\n",
      "E 75\n",
      "E 76\n",
      "E 77\n",
      "E 78\n",
      "E 79\n",
      "E 80\n",
      "E 81\n",
      "E 82\n",
      "E 83\n",
      "E 84\n",
      "E 85\n",
      "E 86\n",
      "E 87\n",
      "E 88\n",
      "E 99\n",
      "E 100\n",
      "E 101\n",
      "E 102\n",
      "E 103\n",
      "E 104\n",
      "E 105\n",
      "E 106\n",
      "E 107\n",
      "E 108\n",
      "E 109\n",
      "E 110\n",
      "E 111\n",
      "E 112\n",
      "E 113\n",
      "E 114\n",
      "E 115\n",
      "E 116\n",
      "E 117\n",
      "E 118\n",
      "E 133\n",
      "E 134\n",
      "E 135\n",
      "E 136\n",
      "E 137\n",
      "E 138\n",
      "E 314\n",
      "E 315\n",
      "E 316\n",
      "E 317\n",
      "E 318\n",
      "E 319\n",
      "E 323\n",
      "E 324\n",
      "E 325\n",
      "E 327\n",
      "E 463\n",
      "C 673\n",
      "E 696\n",
      "D 704\n",
      "E 704\n",
      "E 719\n",
      "E 724\n",
      "E 725\n",
      "E 726\n",
      "E 727\n",
      "E 728\n",
      "E 781\n",
      "E 814\n",
      "E 867\n",
      "E 970\n",
      "E 972\n"
     ]
    },
    {
     "data": {
      "image/png": "[encoded data removed]",
      "text/plain": [
       "<matplotlib.figure.Figure at 0x12d72ed90>"
      ]
     },
     "metadata": {},
     "output_type": "display_data"
    }
   ],
   "source": [
    "DATA_DIR = '../data/'\n",
    "wb = load_workbook(DATA_DIR + 'Other Investigators in Lab.Coulter Counts.4.15.92-5.21.05.xlsx') \n",
    "\n",
    "ws = wb.get_sheet_by_name('Sheet1')\n",
    "rawData = []\n",
    "\n",
    "for i in range(3, 1010):\n",
    "    for col in ['C','D','E']:\n",
    "        try:\n",
    "            rawData.append(float(ws[col + str(i)].value))\n",
    "        except:\n",
    "            # if empty cell, report location in spreadsheet\n",
    "            print(col,i)\n",
    "            \n",
    "terminal_digit = [np.mod(c,10) for c in rawData]\n",
    "counts = plt.hist(terminal_digit)\n",
    "plt.ylabel('counts')\n",
    "plt.xlabel('terminal digit of colony count')\n",
    "\n",
    "chisq=0\n",
    "exp = np.sum(counts[0])/10\n",
    "for (i,c) in enumerate(counts[0]):\n",
    "    chisq += (c-exp)**2/exp"
   ]
  },
  {
   "cell_type": "code",
   "execution_count": 196,
   "metadata": {
    "collapsed": false
   },
   "outputs": [
    {
     "name": "stdout",
     "output_type": "stream",
     "text": [
      "15.9945615228\n",
      "0.0669952442852\n"
     ]
    }
   ],
   "source": [
    "print(chisq)\n",
    "print(1-stats.chi2.cdf(chisq,9))"
   ]
  },
  {
   "cell_type": "markdown",
   "metadata": {},
   "source": [
    "### Coulter counts: Outside lab"
   ]
  },
  {
   "cell_type": "code",
   "execution_count": 163,
   "metadata": {
    "collapsed": true
   },
   "outputs": [
    {
     "name": "stdout",
     "output_type": "stream",
     "text": [
      "D 41\n",
      "D 42\n",
      "D 43\n",
      "D 44\n",
      "D 45\n",
      "D 46\n",
      "D 47\n",
      "D 48\n",
      "D 49\n",
      "D 50\n",
      "D 51\n",
      "D 52\n"
     ]
    },
    {
     "data": {
      "image/png": "[encoded data removed]",
      "text/plain": [
       "<matplotlib.figure.Figure at 0x129f11d10>"
      ]
     },
     "metadata": {},
     "output_type": "display_data"
    }
   ],
   "source": [
    "DATA_DIR = '../data/'\n",
    "wb = load_workbook(DATA_DIR + 'Outside Lab 1.Coulter Counts.6.7.91-4.9.99.xlsx') \n",
    "\n",
    "ws = wb.get_sheet_by_name('Sheet1')\n",
    "rawData = []\n",
    "\n",
    "for i in range(2, 111):\n",
    "    for col in ['B','C','D']:\n",
    "        try:\n",
    "            rawData.append(float(ws[col + str(i)].value))\n",
    "        except:\n",
    "            # if empty cell, report location in spreadsheet\n",
    "            print(col,i)\n",
    "            \n",
    "\n",
    "terminal_digit = [np.mod(c,10) for c in rawData]\n",
    "counts = plt.hist(terminal_digit)\n",
    "plt.ylabel('counts')\n",
    "plt.xlabel('terminal digit of colony count')\n",
    "\n",
    "chisq=0\n",
    "exp = np.sum(counts[0])/10\n",
    "for (i,c) in enumerate(counts[0]):\n",
    "    chisq += (c-exp)**2/exp"
   ]
  },
  {
   "cell_type": "code",
   "execution_count": 182,
   "metadata": {
    "collapsed": false
   },
   "outputs": [
    {
     "name": "stdout",
     "output_type": "stream",
     "text": [
      "9.47619047619\n",
      "0.394527256696\n"
     ]
    }
   ],
   "source": [
    "print(chisq)\n",
    "print(1-stats.chi2.cdf(chisq,9))\n"
   ]
  },
  {
   "cell_type": "code",
   "execution_count": 197,
   "metadata": {
    "collapsed": true
   },
   "outputs": [
    {
     "data": {
      "image/png": "[encoded data removed]",
      "text/plain": [
       "<matplotlib.figure.Figure at 0x11250ab50>"
      ]
     },
     "metadata": {},
     "output_type": "display_data"
    }
   ],
   "source": [
    "wb = load_workbook(DATA_DIR + 'Outside Lab 2.Coulter Counts.6.6.08-7.7.08.xlsx') \n",
    "rawData = []\n",
    "ws = wb.get_sheet_by_name('Sheet1')         \n",
    "            \n",
    "for i in range(3, 123):\n",
    "    for col in ['B','C','D']:\n",
    "        try:\n",
    "            rawData.append(float(ws[col + str(i)].value))\n",
    "        except:\n",
    "            # if empty cell, report location in spreadsheet\n",
    "            print(col,i)\n",
    "            \n",
    "terminal_digit = [np.mod(c,10) for c in rawData]\n",
    "counts = plt.hist(terminal_digit)\n",
    "plt.ylabel('counts')\n",
    "plt.xlabel('terminal digit of colony count')\n",
    "\n",
    "chisq=0\n",
    "exp = np.sum(counts[0])/10\n",
    "for (i,c) in enumerate(counts[0]):\n",
    "    chisq += (c-exp)**2/exp"
   ]
  },
  {
   "cell_type": "code",
   "execution_count": 198,
   "metadata": {
    "collapsed": false
   },
   "outputs": [
    {
     "name": "stdout",
     "output_type": "stream",
     "text": [
      "4.94444444444\n",
      "0.839124024195\n"
     ]
    }
   ],
   "source": [
    "print(chisq)\n",
    "print(1-stats.chi2.cdf(chisq,9))"
   ]
  },
  {
   "cell_type": "code",
   "execution_count": null,
   "metadata": {
    "collapsed": true
   },
   "outputs": [],
   "source": []
  }
 ],
 "metadata": {
  "anaconda-cloud": {},
  "kernelspec": {
   "display_name": "Python [conda root]",
   "language": "python",
   "name": "conda-root-py"
  },
  "language_info": {
   "codemirror_mode": {
    "name": "ipython",
    "version": 2
   },
   "file_extension": ".py",
   "mimetype": "text/x-python",
   "name": "python",
   "nbconvert_exporter": "python",
   "pygments_lexer": "ipython2",
   "version": "2.7.12"
  }
 },
 "nbformat": 4,
 "nbformat_minor": 1
}
